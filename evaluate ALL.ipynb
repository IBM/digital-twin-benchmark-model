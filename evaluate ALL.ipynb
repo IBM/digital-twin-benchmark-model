{
 "cells": [
  {
   "cell_type": "code",
   "execution_count": 22,
   "metadata": {},
   "outputs": [],
   "source": [
    "import xml.etree.ElementTree as ET\n",
    "from collections import defaultdict\n",
    "from glob import glob\n",
    "from numpy import array\n",
    "import pandas as pd\n",
    "import plotly.express as px\n",
    "import plotly.graph_objects as go\n",
    "import json\n",
    "import statistics"
   ]
  },
  {
   "cell_type": "code",
   "execution_count": 23,
   "metadata": {},
   "outputs": [],
   "source": [
    "def plot_usecase_json(experiment):\n",
    "    res = []\n",
    "    for pth in [\"neo4j\",\"blazegraph\",\"virtuoso\",\"graphdb\",\"kitt\"]:#,\"jena\"\n",
    "        for file in glob('{}/{}.*.json'.format(pth, experiment)):\n",
    "            #print(file)\n",
    "            parts = file.split('.')\n",
    "            run = '.'.join(parts[2:-1])\n",
    "            with open(file, 'rt') as fi:\n",
    "                dat=json.load(fi)\n",
    "                for r in dat:\n",
    "                    res.append({\n",
    "                        \"query_id\":r['query'],\n",
    "                        \"query_idc\":str(r['query']),\n",
    "                        \"size\":int(parts[-2]),\n",
    "                        \"parallel\":1,\n",
    "                        \"version\":'.'.join(parts[3:6]),\n",
    "                        \"database\":pth,\n",
    "                        \"bench\":experiment,\n",
    "                        \"run\":run,\n",
    "                        \"executecount\":r.get('executecount',len(r['result_size'])),\n",
    "                        \"aqet\":0,\n",
    "                        \"time_min\":min(r['times']) if r['times'] else 0,\n",
    "                        \"time_avg\":sum(r['times'])/len(r['times']) if r['times'] else 0,\n",
    "                        \"time_med\":statistics.median(r['times']) if r['times'] else 0,\n",
    "                        \"time_max\":max(r['times']) if r['times'] else 0,\n",
    "                        \"minresults\":min(r['result_size']) if r['result_size'] else 0,\n",
    "                        \"maxresults\":sum(r['result_size'])/len(r['result_size']) if r['result_size'] else 0,\n",
    "                        \"results_med\":statistics.median(r['result_size']) if r['result_size'] else 0,\n",
    "                        \"avgresults\":min(r['result_size']) if r['result_size'] else 0,\n",
    "                        \"timeoutcount\":0\n",
    "                    })\n",
    "    return pd.DataFrame(res)\n",
    "\n",
    "\n",
    "def plot_usecase_xml():\n",
    "    res = []\n",
    "    for pth in [\"neo4j\"]:#,\"jena\"\n",
    "        for file in glob(f'{pth}/bsbm.explore.*.json'):\n",
    "            #print(file)\n",
    "            parts = file.split('.')\n",
    "            run = '.'.join(parts[2:-1])\n",
    "            with open(file, 'rt') as fi:\n",
    "                dat=json.load(fi)\n",
    "                for r in dat:\n",
    "                    res.append({\n",
    "                        \"query_id\":r['query'],\n",
    "                        \"query_idc\":str(r['query']),\n",
    "                        \"size\":int(parts[-2]),\n",
    "                        \"parallel\":1,\n",
    "                        \"version\":'.'.join(parts[3:6]),\n",
    "                        \"database\":pth,\n",
    "                        \"bench\":\"bsbm\",\n",
    "                        \"run\":run,\n",
    "                        \"executecount\":r.get('executecount',len(r['result_size'])),\n",
    "                        \"aqet\":0,\n",
    "                        #\"qps\":r.get('qps',int(parts[-2])/r['time_avg']),\n",
    "                        \"time_min\":min(r['times'])/1000.0,\n",
    "                        \"time_avg\":sum(r['times'])/len(r['times'])/1000.0,\n",
    "                        \"time_max\":max(r['times'])/1000.0,\n",
    "                        \"minresults\":min(r['result_size']),\n",
    "                        \"maxresults\":sum(r['result_size'])/len(r['result_size']),\n",
    "                        \"avgresults\":min(r['result_size']),\n",
    "                        \"timeoutcount\":0\n",
    "                    })\n",
    "    for pth in [\"blazegraph\",\"graphdb\",\"virtuoso\"]:\n",
    "        for file in glob('{}/bsbm.{}.*.xml'.format(pth,'explore')):\n",
    "            #print(file)\n",
    "            parts = file.split('.')\n",
    "            run = '.'.join(parts[2:-1])\n",
    "            #print(parts, run)\n",
    "            for query in ET.parse(file).getroot().find('queries').findall('query'):\n",
    "                query_id = int(query.attrib['nr'])\n",
    "                for child in query.iter():\n",
    "                    if child.tag == \"aqet\":\n",
    "                        pass\n",
    "                    elif child.tag == \"avgresults\":\n",
    "                        res.append({\n",
    "                            \"query_id\":query_id,\n",
    "                            \"query_idc\":str(query_id),\n",
    "                            \"size\":int(parts[-3]),\n",
    "                            \"parallel\":int(parts[-2]),\n",
    "                            \"version\":'.'.join(parts[3:6]),\n",
    "                            \"database\":parts[2],\n",
    "                            \"bench\":\"bsbm\",\n",
    "                            \"run\":run,\n",
    "                            \"executecount\":float(query.find('executecount').text),\n",
    "                            \"qps\":float(query.find('qps').text),\n",
    "                            \"aqet\":float(query.find('aqet').text),\n",
    "                            \"time_avg\":float(query.find('aqetg').text),\n",
    "                            \"time_min\":float(query.find('minqet').text),\n",
    "                            \"time_max\":float(query.find('maxqet').text),\n",
    "                            \"minresults\":float(query.find('minresults').text),\n",
    "                            \"maxresults\":float(query.find('maxresults').text),\n",
    "                            \"avgresults\":float(query.find('avgresults').text),\n",
    "                            \"timeoutcount\":float(query.find('timeoutcount').text)\n",
    "                        })\n",
    "    for pth in [\"kitt\"]:\n",
    "        for file in glob(f'{pth}/bsbm.explore.kitt.*.json'):\n",
    "            parts = file.split('.')\n",
    "            run = '.'.join(parts[2:-1])\n",
    "            with open(file, 'rt') as fi:\n",
    "                dat=json.load(fi)\n",
    "                for r in dat:\n",
    "                    res.append({\n",
    "                        \"query_id\":int(r['query'].replace(\"q\",\"\").replace(\"a\",\"\").replace(\"b\",\"\")),\n",
    "                        \"query_idc\":str(r['query']).replace(\"q\",\"\").replace(\"a\",\"\").replace(\"b\",\"\"),\n",
    "                        \"size\":int(parts[-3]),\n",
    "                        \"parallel\":int(parts[-2]),\n",
    "                        \"version\":'.'.join(parts[3:6]),\n",
    "                        \"database\":parts[2],\n",
    "                        \"bench\":\"bsbm\",\n",
    "                        \"run\":run,\n",
    "                        \"executecount\":r.get('executecount',len(r['resizes'])),\n",
    "                        \"aqet\":0,\n",
    "                        #\"qps\":r.get('qps',int(parts[-2])/r['time_avg']),\n",
    "                        \"time_min\":r['time_min'],\n",
    "                        \"time_avg\":r['time_avg'],\n",
    "                        \"time_max\":r['time_min'],\n",
    "                        \"minresults\":r['minresults'],\n",
    "                        \"maxresults\":r['maxresults'],\n",
    "                        \"avgresults\":r['avgresults'],\n",
    "                        \"timeoutcount\":0\n",
    "                    })\n",
    "    return pd.DataFrame(res)"
   ]
  },
  {
   "cell_type": "code",
   "execution_count": 243,
   "metadata": {},
   "outputs": [
    {
     "name": "stderr",
     "output_type": "stream",
     "text": [
      "/var/folders/2b/7vzpxk7n7xxbc61g6nrl55tr0000gn/T/ipykernel_96194/648927977.py:5: SettingWithCopyWarning:\n",
      "\n",
      "\n",
      "A value is trying to be set on a copy of a slice from a DataFrame\n",
      "\n",
      "See the caveats in the documentation: https://pandas.pydata.org/pandas-docs/stable/user_guide/indexing.html#returning-a-view-versus-a-copy\n",
      "\n"
     ]
    },
    {
     "data": {
      "text/html": [
       "<div>\n",
       "<style scoped>\n",
       "    .dataframe tbody tr th:only-of-type {\n",
       "        vertical-align: middle;\n",
       "    }\n",
       "\n",
       "    .dataframe tbody tr th {\n",
       "        vertical-align: top;\n",
       "    }\n",
       "\n",
       "    .dataframe thead th {\n",
       "        text-align: right;\n",
       "    }\n",
       "</style>\n",
       "<table border=\"1\" class=\"dataframe\">\n",
       "  <thead>\n",
       "    <tr style=\"text-align: right;\">\n",
       "      <th></th>\n",
       "      <th>query_id</th>\n",
       "      <th>query_idc</th>\n",
       "      <th>size</th>\n",
       "      <th>parallel</th>\n",
       "      <th>version</th>\n",
       "      <th>database</th>\n",
       "      <th>bench</th>\n",
       "      <th>run</th>\n",
       "      <th>executecount</th>\n",
       "      <th>aqet</th>\n",
       "      <th>time_min</th>\n",
       "      <th>time_avg</th>\n",
       "      <th>time_max</th>\n",
       "      <th>minresults</th>\n",
       "      <th>maxresults</th>\n",
       "      <th>avgresults</th>\n",
       "      <th>timeoutcount</th>\n",
       "      <th>qps</th>\n",
       "      <th>time_med</th>\n",
       "      <th>results_med</th>\n",
       "    </tr>\n",
       "  </thead>\n",
       "  <tbody>\n",
       "    <tr>\n",
       "      <th>12</th>\n",
       "      <td>1</td>\n",
       "      <td>1</td>\n",
       "      <td>2.0</td>\n",
       "      <td>1</td>\n",
       "      <td>4.4.5</td>\n",
       "      <td>neo4j</td>\n",
       "      <td>bsbm</td>\n",
       "      <td>neo4j.4.4.5.2000</td>\n",
       "      <td>500.0</td>\n",
       "      <td>0.000000</td>\n",
       "      <td>0.013587</td>\n",
       "      <td>0.015741</td>\n",
       "      <td>0.387209</td>\n",
       "      <td>1.0</td>\n",
       "      <td>1.0</td>\n",
       "      <td>1.0</td>\n",
       "      <td>0.0</td>\n",
       "      <td>NaN</td>\n",
       "      <td>NaN</td>\n",
       "      <td>NaN</td>\n",
       "    </tr>\n",
       "    <tr>\n",
       "      <th>127</th>\n",
       "      <td>1</td>\n",
       "      <td>1</td>\n",
       "      <td>2.0</td>\n",
       "      <td>16</td>\n",
       "      <td>2.2.0</td>\n",
       "      <td>blazegraph</td>\n",
       "      <td>bsbm</td>\n",
       "      <td>blazegraph.2.2.0.2000.16</td>\n",
       "      <td>500.0</td>\n",
       "      <td>0.037970</td>\n",
       "      <td>0.016602</td>\n",
       "      <td>0.036807</td>\n",
       "      <td>0.152213</td>\n",
       "      <td>0.0</td>\n",
       "      <td>10.0</td>\n",
       "      <td>0.5</td>\n",
       "      <td>0.0</td>\n",
       "      <td>413.83</td>\n",
       "      <td>NaN</td>\n",
       "      <td>NaN</td>\n",
       "    </tr>\n",
       "    <tr>\n",
       "      <th>171</th>\n",
       "      <td>1</td>\n",
       "      <td>1</td>\n",
       "      <td>2.0</td>\n",
       "      <td>16</td>\n",
       "      <td>9.10.0</td>\n",
       "      <td>graphdb</td>\n",
       "      <td>bsbm</td>\n",
       "      <td>graphdb.9.10.0.2000.16</td>\n",
       "      <td>500.0</td>\n",
       "      <td>0.006376</td>\n",
       "      <td>0.001244</td>\n",
       "      <td>0.005833</td>\n",
       "      <td>0.035745</td>\n",
       "      <td>0.0</td>\n",
       "      <td>10.0</td>\n",
       "      <td>0.5</td>\n",
       "      <td>0.0</td>\n",
       "      <td>2412.79</td>\n",
       "      <td>NaN</td>\n",
       "      <td>NaN</td>\n",
       "    </tr>\n",
       "    <tr>\n",
       "      <th>204</th>\n",
       "      <td>1</td>\n",
       "      <td>1</td>\n",
       "      <td>2.0</td>\n",
       "      <td>16</td>\n",
       "      <td>7.2.2</td>\n",
       "      <td>virtuoso</td>\n",
       "      <td>bsbm</td>\n",
       "      <td>virtuoso.7.2.2.2000.16</td>\n",
       "      <td>500.0</td>\n",
       "      <td>0.013962</td>\n",
       "      <td>0.004607</td>\n",
       "      <td>0.013366</td>\n",
       "      <td>0.027007</td>\n",
       "      <td>0.0</td>\n",
       "      <td>10.0</td>\n",
       "      <td>0.5</td>\n",
       "      <td>0.0</td>\n",
       "      <td>1125.24</td>\n",
       "      <td>NaN</td>\n",
       "      <td>NaN</td>\n",
       "    </tr>\n",
       "    <tr>\n",
       "      <th>295</th>\n",
       "      <td>1</td>\n",
       "      <td>1</td>\n",
       "      <td>2.0</td>\n",
       "      <td>16</td>\n",
       "      <td>3.1.0</td>\n",
       "      <td>kitt</td>\n",
       "      <td>bsbm</td>\n",
       "      <td>kitt.3.1.0.2000.16</td>\n",
       "      <td>500.0</td>\n",
       "      <td>0.000000</td>\n",
       "      <td>0.001851</td>\n",
       "      <td>0.003330</td>\n",
       "      <td>0.001851</td>\n",
       "      <td>0.0</td>\n",
       "      <td>10.0</td>\n",
       "      <td>0.0</td>\n",
       "      <td>0.0</td>\n",
       "      <td>NaN</td>\n",
       "      <td>NaN</td>\n",
       "      <td>NaN</td>\n",
       "    </tr>\n",
       "    <tr>\n",
       "      <th>...</th>\n",
       "      <td>...</td>\n",
       "      <td>...</td>\n",
       "      <td>...</td>\n",
       "      <td>...</td>\n",
       "      <td>...</td>\n",
       "      <td>...</td>\n",
       "      <td>...</td>\n",
       "      <td>...</td>\n",
       "      <td>...</td>\n",
       "      <td>...</td>\n",
       "      <td>...</td>\n",
       "      <td>...</td>\n",
       "      <td>...</td>\n",
       "      <td>...</td>\n",
       "      <td>...</td>\n",
       "      <td>...</td>\n",
       "      <td>...</td>\n",
       "      <td>...</td>\n",
       "      <td>...</td>\n",
       "      <td>...</td>\n",
       "    </tr>\n",
       "    <tr>\n",
       "      <th>355</th>\n",
       "      <td>8</td>\n",
       "      <td>8</td>\n",
       "      <td>2.0</td>\n",
       "      <td>1</td>\n",
       "      <td>0.2.json</td>\n",
       "      <td>kitt</td>\n",
       "      <td>dtbm</td>\n",
       "      <td>1.0.2</td>\n",
       "      <td>50.0</td>\n",
       "      <td>0.000000</td>\n",
       "      <td>29.413700</td>\n",
       "      <td>0.030474</td>\n",
       "      <td>32.432556</td>\n",
       "      <td>1000.0</td>\n",
       "      <td>1000.0</td>\n",
       "      <td>1000.0</td>\n",
       "      <td>0.0</td>\n",
       "      <td>NaN</td>\n",
       "      <td>30.353904</td>\n",
       "      <td>1000.0</td>\n",
       "    </tr>\n",
       "    <tr>\n",
       "      <th>356</th>\n",
       "      <td>9</td>\n",
       "      <td>9</td>\n",
       "      <td>2.0</td>\n",
       "      <td>1</td>\n",
       "      <td>0.2.json</td>\n",
       "      <td>kitt</td>\n",
       "      <td>dtbm</td>\n",
       "      <td>1.0.2</td>\n",
       "      <td>50.0</td>\n",
       "      <td>0.000000</td>\n",
       "      <td>21.270037</td>\n",
       "      <td>0.025354</td>\n",
       "      <td>27.169466</td>\n",
       "      <td>1.0</td>\n",
       "      <td>1.0</td>\n",
       "      <td>1.0</td>\n",
       "      <td>0.0</td>\n",
       "      <td>NaN</td>\n",
       "      <td>25.633812</td>\n",
       "      <td>1.0</td>\n",
       "    </tr>\n",
       "    <tr>\n",
       "      <th>357</th>\n",
       "      <td>10</td>\n",
       "      <td>10</td>\n",
       "      <td>2.0</td>\n",
       "      <td>1</td>\n",
       "      <td>0.2.json</td>\n",
       "      <td>kitt</td>\n",
       "      <td>dtbm</td>\n",
       "      <td>1.0.2</td>\n",
       "      <td>50.0</td>\n",
       "      <td>0.000000</td>\n",
       "      <td>44.264555</td>\n",
       "      <td>0.050642</td>\n",
       "      <td>55.842638</td>\n",
       "      <td>1.0</td>\n",
       "      <td>1.0</td>\n",
       "      <td>1.0</td>\n",
       "      <td>0.0</td>\n",
       "      <td>NaN</td>\n",
       "      <td>50.764084</td>\n",
       "      <td>1.0</td>\n",
       "    </tr>\n",
       "    <tr>\n",
       "      <th>358</th>\n",
       "      <td>11</td>\n",
       "      <td>11</td>\n",
       "      <td>2.0</td>\n",
       "      <td>1</td>\n",
       "      <td>0.2.json</td>\n",
       "      <td>kitt</td>\n",
       "      <td>dtbm</td>\n",
       "      <td>1.0.2</td>\n",
       "      <td>50.0</td>\n",
       "      <td>0.000000</td>\n",
       "      <td>14.290094</td>\n",
       "      <td>0.015240</td>\n",
       "      <td>16.248703</td>\n",
       "      <td>1.0</td>\n",
       "      <td>1.0</td>\n",
       "      <td>1.0</td>\n",
       "      <td>0.0</td>\n",
       "      <td>NaN</td>\n",
       "      <td>15.282273</td>\n",
       "      <td>1.0</td>\n",
       "    </tr>\n",
       "    <tr>\n",
       "      <th>359</th>\n",
       "      <td>12</td>\n",
       "      <td>12</td>\n",
       "      <td>2.0</td>\n",
       "      <td>1</td>\n",
       "      <td>0.2.json</td>\n",
       "      <td>kitt</td>\n",
       "      <td>dtbm</td>\n",
       "      <td>1.0.2</td>\n",
       "      <td>50.0</td>\n",
       "      <td>0.000000</td>\n",
       "      <td>2.471447</td>\n",
       "      <td>0.002667</td>\n",
       "      <td>3.148794</td>\n",
       "      <td>1.0</td>\n",
       "      <td>1.0</td>\n",
       "      <td>1.0</td>\n",
       "      <td>0.0</td>\n",
       "      <td>NaN</td>\n",
       "      <td>2.632856</td>\n",
       "      <td>1.0</td>\n",
       "    </tr>\n",
       "  </tbody>\n",
       "</table>\n",
       "<p>1122 rows × 20 columns</p>\n",
       "</div>"
      ],
      "text/plain": [
       "     query_id query_idc  size  parallel   version    database bench  \\\n",
       "12          1         1   2.0         1     4.4.5       neo4j  bsbm   \n",
       "127         1         1   2.0        16     2.2.0  blazegraph  bsbm   \n",
       "171         1         1   2.0        16    9.10.0     graphdb  bsbm   \n",
       "204         1         1   2.0        16     7.2.2    virtuoso  bsbm   \n",
       "295         1         1   2.0        16     3.1.0        kitt  bsbm   \n",
       "..        ...       ...   ...       ...       ...         ...   ...   \n",
       "355         8         8   2.0         1  0.2.json        kitt  dtbm   \n",
       "356         9         9   2.0         1  0.2.json        kitt  dtbm   \n",
       "357        10        10   2.0         1  0.2.json        kitt  dtbm   \n",
       "358        11        11   2.0         1  0.2.json        kitt  dtbm   \n",
       "359        12        12   2.0         1  0.2.json        kitt  dtbm   \n",
       "\n",
       "                          run  executecount      aqet   time_min  time_avg  \\\n",
       "12           neo4j.4.4.5.2000         500.0  0.000000   0.013587  0.015741   \n",
       "127  blazegraph.2.2.0.2000.16         500.0  0.037970   0.016602  0.036807   \n",
       "171    graphdb.9.10.0.2000.16         500.0  0.006376   0.001244  0.005833   \n",
       "204    virtuoso.7.2.2.2000.16         500.0  0.013962   0.004607  0.013366   \n",
       "295        kitt.3.1.0.2000.16         500.0  0.000000   0.001851  0.003330   \n",
       "..                        ...           ...       ...        ...       ...   \n",
       "355                     1.0.2          50.0  0.000000  29.413700  0.030474   \n",
       "356                     1.0.2          50.0  0.000000  21.270037  0.025354   \n",
       "357                     1.0.2          50.0  0.000000  44.264555  0.050642   \n",
       "358                     1.0.2          50.0  0.000000  14.290094  0.015240   \n",
       "359                     1.0.2          50.0  0.000000   2.471447  0.002667   \n",
       "\n",
       "      time_max  minresults  maxresults  avgresults  timeoutcount      qps  \\\n",
       "12    0.387209         1.0         1.0         1.0           0.0      NaN   \n",
       "127   0.152213         0.0        10.0         0.5           0.0   413.83   \n",
       "171   0.035745         0.0        10.0         0.5           0.0  2412.79   \n",
       "204   0.027007         0.0        10.0         0.5           0.0  1125.24   \n",
       "295   0.001851         0.0        10.0         0.0           0.0      NaN   \n",
       "..         ...         ...         ...         ...           ...      ...   \n",
       "355  32.432556      1000.0      1000.0      1000.0           0.0      NaN   \n",
       "356  27.169466         1.0         1.0         1.0           0.0      NaN   \n",
       "357  55.842638         1.0         1.0         1.0           0.0      NaN   \n",
       "358  16.248703         1.0         1.0         1.0           0.0      NaN   \n",
       "359   3.148794         1.0         1.0         1.0           0.0      NaN   \n",
       "\n",
       "      time_med  results_med  \n",
       "12         NaN          NaN  \n",
       "127        NaN          NaN  \n",
       "171        NaN          NaN  \n",
       "204        NaN          NaN  \n",
       "295        NaN          NaN  \n",
       "..         ...          ...  \n",
       "355  30.353904       1000.0  \n",
       "356  25.633812          1.0  \n",
       "357  50.764084          1.0  \n",
       "358  15.282273          1.0  \n",
       "359   2.632856          1.0  \n",
       "\n",
       "[1122 rows x 20 columns]"
      ]
     },
     "execution_count": 243,
     "metadata": {},
     "output_type": "execute_result"
    }
   ],
   "source": [
    "df0 = plot_usecase_xml()\n",
    "df0['size'] = df0['size'] / 1000.0\n",
    "df0 = df0.sort_values(by=[\"size\",\"query_id\"])\n",
    "#df0 = df0[df0['size']!=1000]\n",
    "df0['time_avg'][df0['size']==1.0]=0\n",
    "df1 = plot_usecase_json(\"lubm\")\n",
    "df1['time_avg'] = df1['time_avg'] / 1000.0\n",
    "df2 = plot_usecase_json(\"factory\")\n",
    "df2['time_avg'] = df2['time_avg'] / 1000.0\n",
    "df2['bench'] = \"dtbm\"\n",
    "df = df0.append(df1).append(df2)\n",
    "df = df[df['size']!=1.0]\n",
    "df"
   ]
  },
  {
   "cell_type": "code",
   "execution_count": 244,
   "metadata": {},
   "outputs": [
    {
     "data": {
      "application/vnd.plotly.v1+json": {
       "config": {
        "plotlyServerURL": "https://plot.ly"
       },
       "data": [
        {
         "alignmentgroup": "True",
         "hovertemplate": "Query=1<br>=%{y}<br>size=2.0<extra></extra>",
         "legendgroup": "1",
         "marker": {
          "color": "#636efa",
          "line": {
           "width": 0
          },
          "pattern": {
           "shape": ""
          }
         },
         "name": "1",
         "offsetgroup": "1",
         "orientation": "v",
         "showlegend": true,
         "textposition": "auto",
         "type": "bar",
         "x": [
          "neo4j",
          "blazegraph",
          "graphdb",
          "virtuoso",
          "kitt"
         ],
         "xaxis": "x13",
         "y": [
          0.015741265625,
          0.036807,
          0.005833,
          0.013366,
          0.003330434286
         ],
         "yaxis": "y13"
        },
        {
         "alignmentgroup": "True",
         "hovertemplate": "Query=1<br>=%{y}<br>size=5.0<extra></extra>",
         "legendgroup": "1",
         "marker": {
          "color": "#636efa",
          "line": {
           "width": 0
          },
          "pattern": {
           "shape": ""
          }
         },
         "name": "1",
         "offsetgroup": "1",
         "orientation": "v",
         "showlegend": false,
         "textposition": "auto",
         "type": "bar",
         "x": [
          "neo4j",
          "blazegraph",
          "graphdb",
          "virtuoso",
          "kitt"
         ],
         "xaxis": "x14",
         "y": [
          0.0555723642578125,
          0.024327,
          0.007154,
          0.013085,
          0.004293517914
         ],
         "yaxis": "y14"
        },
        {
         "alignmentgroup": "True",
         "hovertemplate": "Query=1<br>=%{y}<br>size=10.0<extra></extra>",
         "legendgroup": "1",
         "marker": {
          "color": "#636efa",
          "line": {
           "width": 0
          },
          "pattern": {
           "shape": ""
          }
         },
         "name": "1",
         "offsetgroup": "1",
         "orientation": "v",
         "showlegend": false,
         "textposition": "auto",
         "type": "bar",
         "x": [
          "neo4j",
          "blazegraph",
          "graphdb",
          "virtuoso",
          "kitt"
         ],
         "xaxis": "x15",
         "y": [
          0.13372214208984373,
          0.024152,
          0.01104,
          0.013944,
          0.00582592088
         ],
         "yaxis": "y15"
        },
        {
         "alignmentgroup": "True",
         "hovertemplate": "Query=1<br>=%{y}<br>size=20.0<extra></extra>",
         "legendgroup": "1",
         "marker": {
          "color": "#636efa",
          "line": {
           "width": 0
          },
          "pattern": {
           "shape": ""
          }
         },
         "name": "1",
         "offsetgroup": "1",
         "orientation": "v",
         "showlegend": false,
         "textposition": "auto",
         "type": "bar",
         "x": [
          "neo4j",
          "blazegraph",
          "graphdb",
          "virtuoso",
          "kitt"
         ],
         "xaxis": "x16",
         "y": [
          0.202287380859375,
          0.02424,
          0.014842,
          0.015803,
          0.008378241916
         ],
         "yaxis": "y16"
        },
        {
         "alignmentgroup": "True",
         "hovertemplate": "Query=1<br>=%{y}<br>size=50.0<extra></extra>",
         "legendgroup": "1",
         "marker": {
          "color": "#636efa",
          "line": {
           "width": 0
          },
          "pattern": {
           "shape": ""
          }
         },
         "name": "1",
         "offsetgroup": "1",
         "orientation": "v",
         "showlegend": false,
         "textposition": "auto",
         "type": "bar",
         "x": [
          "neo4j",
          "blazegraph",
          "graphdb",
          "virtuoso",
          "kitt"
         ],
         "xaxis": "x17",
         "y": [
          0.7202112177734376,
          0.028805,
          0.015978,
          0.01535,
          0.020728969886000002
         ],
         "yaxis": "y17"
        },
        {
         "alignmentgroup": "True",
         "hovertemplate": "Query=1<br>=%{y}<br>size=100.0<extra></extra>",
         "legendgroup": "1",
         "marker": {
          "color": "#636efa",
          "line": {
           "width": 0
          },
          "pattern": {
           "shape": ""
          }
         },
         "name": "1",
         "offsetgroup": "1",
         "orientation": "v",
         "showlegend": false,
         "textposition": "auto",
         "type": "bar",
         "x": [
          "neo4j",
          "blazegraph",
          "graphdb",
          "virtuoso",
          "kitt"
         ],
         "xaxis": "x18",
         "y": [
          1.4942202578125,
          0.028286,
          0.015606,
          0.019826,
          0.038873284134
         ],
         "yaxis": "y18"
        },
        {
         "alignmentgroup": "True",
         "hovertemplate": "Query=1<br>=%{y}<br>size=2.0<extra></extra>",
         "legendgroup": "1",
         "marker": {
          "color": "#636efa",
          "line": {
           "width": 0
          },
          "pattern": {
           "shape": ""
          }
         },
         "name": "1",
         "offsetgroup": "1",
         "orientation": "v",
         "showlegend": false,
         "textposition": "auto",
         "type": "bar",
         "x": [
          "neo4j",
          "blazegraph",
          "virtuoso",
          "graphdb",
          "kitt"
         ],
         "xaxis": "x7",
         "y": [
          0.009100491699218751,
          0.0149341025390625,
          0.0014744394531250001,
          0.00371251708984375,
          0.0022367782592773435
         ],
         "yaxis": "y7"
        },
        {
         "alignmentgroup": "True",
         "hovertemplate": "Query=1<br>=%{y}<br>size=5.0<extra></extra>",
         "legendgroup": "1",
         "marker": {
          "color": "#636efa",
          "line": {
           "width": 0
          },
          "pattern": {
           "shape": ""
          }
         },
         "name": "1",
         "offsetgroup": "1",
         "orientation": "v",
         "showlegend": false,
         "textposition": "auto",
         "type": "bar",
         "x": [
          "neo4j",
          "blazegraph",
          "virtuoso",
          "graphdb",
          "kitt"
         ],
         "xaxis": "x8",
         "y": [
          0.021516547363281253,
          0.014855982421875,
          0.0013956181640625,
          0.0036991088867187496,
          0.0018474726676940918
         ],
         "yaxis": "y8"
        },
        {
         "alignmentgroup": "True",
         "hovertemplate": "Query=1<br>=%{y}<br>size=10.0<extra></extra>",
         "legendgroup": "1",
         "marker": {
          "color": "#636efa",
          "line": {
           "width": 0
          },
          "pattern": {
           "shape": ""
          }
         },
         "name": "1",
         "offsetgroup": "1",
         "orientation": "v",
         "showlegend": false,
         "textposition": "auto",
         "type": "bar",
         "x": [
          "neo4j",
          "blazegraph",
          "virtuoso",
          "graphdb",
          "kitt"
         ],
         "xaxis": "x9",
         "y": [
          0.04330873828125,
          0.01483575390625,
          0.00143387939453125,
          0.0036673608398437503,
          0.0018397164344787597
         ],
         "yaxis": "y9"
        },
        {
         "alignmentgroup": "True",
         "hovertemplate": "Query=1<br>=%{y}<br>size=20.0<extra></extra>",
         "legendgroup": "1",
         "marker": {
          "color": "#636efa",
          "line": {
           "width": 0
          },
          "pattern": {
           "shape": ""
          }
         },
         "name": "1",
         "offsetgroup": "1",
         "orientation": "v",
         "showlegend": false,
         "textposition": "auto",
         "type": "bar",
         "x": [
          "neo4j",
          "blazegraph",
          "virtuoso",
          "graphdb",
          "kitt"
         ],
         "xaxis": "x10",
         "y": [
          0.08960845654296876,
          0.014894598632812499,
          0.00139517529296875,
          0.0038978125000000002,
          0.0018209285736083985
         ],
         "yaxis": "y10"
        },
        {
         "alignmentgroup": "True",
         "hovertemplate": "Query=1<br>=%{y}<br>size=50.0<extra></extra>",
         "legendgroup": "1",
         "marker": {
          "color": "#636efa",
          "line": {
           "width": 0
          },
          "pattern": {
           "shape": ""
          }
         },
         "name": "1",
         "offsetgroup": "1",
         "orientation": "v",
         "showlegend": false,
         "textposition": "auto",
         "type": "bar",
         "x": [
          "neo4j",
          "blazegraph",
          "virtuoso",
          "graphdb",
          "kitt"
         ],
         "xaxis": "x11",
         "y": [
          0.21680092431640624,
          0.0145234140625,
          0.00145980712890625,
          0.003846908203125,
          0.0016732473373413086
         ],
         "yaxis": "y11"
        },
        {
         "alignmentgroup": "True",
         "hovertemplate": "Query=1<br>=%{y}<br>size=100.0<extra></extra>",
         "legendgroup": "1",
         "marker": {
          "color": "#636efa",
          "line": {
           "width": 0
          },
          "pattern": {
           "shape": ""
          }
         },
         "name": "1",
         "offsetgroup": "1",
         "orientation": "v",
         "showlegend": false,
         "textposition": "auto",
         "type": "bar",
         "x": [
          "neo4j",
          "blazegraph",
          "virtuoso",
          "graphdb",
          "kitt"
         ],
         "xaxis": "x12",
         "y": [
          0.44487723925781253,
          0.01538190185546875,
          0.0012012119140625,
          0.004080625,
          0.0019875288009643553
         ],
         "yaxis": "y12"
        },
        {
         "alignmentgroup": "True",
         "hovertemplate": "Query=1<br>=%{y}<br>size=2.0<extra></extra>",
         "legendgroup": "1",
         "marker": {
          "color": "#636efa",
          "line": {
           "width": 0
          },
          "pattern": {
           "shape": ""
          }
         },
         "name": "1",
         "offsetgroup": "1",
         "orientation": "v",
         "showlegend": false,
         "textposition": "auto",
         "type": "bar",
         "x": [
          "neo4j",
          "blazegraph",
          "virtuoso",
          "graphdb",
          "kitt"
         ],
         "xaxis": "x",
         "y": [
          0.08895180517578125,
          0.023825727539062497,
          0.02471337890625,
          0.0242131201171875,
          0.032431726455688474
         ],
         "yaxis": "y"
        },
        {
         "alignmentgroup": "True",
         "hovertemplate": "Query=1<br>=%{y}<br>size=5.0<extra></extra>",
         "legendgroup": "1",
         "marker": {
          "color": "#636efa",
          "line": {
           "width": 0
          },
          "pattern": {
           "shape": ""
          }
         },
         "name": "1",
         "offsetgroup": "1",
         "orientation": "v",
         "showlegend": false,
         "textposition": "auto",
         "type": "bar",
         "x": [
          "neo4j",
          "blazegraph",
          "virtuoso",
          "graphdb",
          "kitt"
         ],
         "xaxis": "x2",
         "y": [
          0.08953201123046875,
          0.0241469873046875,
          0.02522482421875,
          0.0245729443359375,
          0.03554289340972901
         ],
         "yaxis": "y2"
        },
        {
         "alignmentgroup": "True",
         "hovertemplate": "Query=1<br>=%{y}<br>size=10.0<extra></extra>",
         "legendgroup": "1",
         "marker": {
          "color": "#636efa",
          "line": {
           "width": 0
          },
          "pattern": {
           "shape": ""
          }
         },
         "name": "1",
         "offsetgroup": "1",
         "orientation": "v",
         "showlegend": false,
         "textposition": "auto",
         "type": "bar",
         "x": [
          "neo4j",
          "blazegraph",
          "virtuoso",
          "graphdb",
          "kitt"
         ],
         "xaxis": "x3",
         "y": [
          0.089540013671875,
          0.026212221679687498,
          0.026366059570312503,
          0.0237267041015625,
          0.03480334758758545
         ],
         "yaxis": "y3"
        },
        {
         "alignmentgroup": "True",
         "hovertemplate": "Query=1<br>=%{y}<br>size=20.0<extra></extra>",
         "legendgroup": "1",
         "marker": {
          "color": "#636efa",
          "line": {
           "width": 0
          },
          "pattern": {
           "shape": ""
          }
         },
         "name": "1",
         "offsetgroup": "1",
         "orientation": "v",
         "showlegend": false,
         "textposition": "auto",
         "type": "bar",
         "x": [
          "neo4j",
          "blazegraph",
          "virtuoso",
          "graphdb",
          "kitt"
         ],
         "xaxis": "x4",
         "y": [
          0.09263939746093751,
          0.0232531884765625,
          0.028532724609374997,
          0.0253224365234375,
          0.03878109931945801
         ],
         "yaxis": "y4"
        },
        {
         "alignmentgroup": "True",
         "hovertemplate": "Query=1<br>=%{y}<br>size=50.0<extra></extra>",
         "legendgroup": "1",
         "marker": {
          "color": "#636efa",
          "line": {
           "width": 0
          },
          "pattern": {
           "shape": ""
          }
         },
         "name": "1",
         "offsetgroup": "1",
         "orientation": "v",
         "showlegend": false,
         "textposition": "auto",
         "type": "bar",
         "x": [
          "neo4j",
          "blazegraph",
          "virtuoso",
          "graphdb",
          "kitt"
         ],
         "xaxis": "x5",
         "y": [
          0.09199915087890626,
          0.024580405273437498,
          0.030499086914062497,
          0.023959975585937498,
          0.05167287826538086
         ],
         "yaxis": "y5"
        },
        {
         "alignmentgroup": "True",
         "hovertemplate": "Query=1<br>=%{y}<br>size=100.0<extra></extra>",
         "legendgroup": "1",
         "marker": {
          "color": "#636efa",
          "line": {
           "width": 0
          },
          "pattern": {
           "shape": ""
          }
         },
         "name": "1",
         "offsetgroup": "1",
         "orientation": "v",
         "showlegend": false,
         "textposition": "auto",
         "type": "bar",
         "x": [
          "neo4j",
          "blazegraph",
          "virtuoso",
          "graphdb",
          "kitt"
         ],
         "xaxis": "x6",
         "y": [
          0.09607605468750001,
          0.023829702148437503,
          0.085605322265625,
          0.025165708007812503,
          0.07537221431732177
         ],
         "yaxis": "y6"
        },
        {
         "alignmentgroup": "True",
         "hovertemplate": "Query=2<br>=%{y}<br>size=2.0<extra></extra>",
         "legendgroup": "2",
         "marker": {
          "color": "#EF553B",
          "line": {
           "width": 0
          },
          "pattern": {
           "shape": ""
          }
         },
         "name": "2",
         "offsetgroup": "2",
         "orientation": "v",
         "showlegend": true,
         "textposition": "auto",
         "type": "bar",
         "x": [
          "neo4j",
          "blazegraph",
          "graphdb",
          "virtuoso",
          "kitt"
         ],
         "xaxis": "x13",
         "y": [
          0.00370122265625,
          0.032153,
          0.007207,
          0.019127,
          0.004028640212333333
         ],
         "yaxis": "y13"
        },
        {
         "alignmentgroup": "True",
         "hovertemplate": "Query=2<br>=%{y}<br>size=5.0<extra></extra>",
         "legendgroup": "2",
         "marker": {
          "color": "#EF553B",
          "line": {
           "width": 0
          },
          "pattern": {
           "shape": ""
          }
         },
         "name": "2",
         "offsetgroup": "2",
         "orientation": "v",
         "showlegend": false,
         "textposition": "auto",
         "type": "bar",
         "x": [
          "neo4j",
          "blazegraph",
          "graphdb",
          "virtuoso",
          "kitt"
         ],
         "xaxis": "x14",
         "y": [
          0.00458393115234375,
          0.050248,
          0.010479,
          0.019605,
          0.005668908768333334
         ],
         "yaxis": "y14"
        },
        {
         "alignmentgroup": "True",
         "hovertemplate": "Query=2<br>=%{y}<br>size=10.0<extra></extra>",
         "legendgroup": "2",
         "marker": {
          "color": "#EF553B",
          "line": {
           "width": 0
          },
          "pattern": {
           "shape": ""
          }
         },
         "name": "2",
         "offsetgroup": "2",
         "orientation": "v",
         "showlegend": false,
         "textposition": "auto",
         "type": "bar",
         "x": [
          "neo4j",
          "blazegraph",
          "graphdb",
          "virtuoso",
          "kitt"
         ],
         "xaxis": "x15",
         "y": [
          0.0086688232421875,
          0.035906,
          0.014336,
          0.020952,
          0.009142378627666667
         ],
         "yaxis": "y15"
        },
        {
         "alignmentgroup": "True",
         "hovertemplate": "Query=2<br>=%{y}<br>size=20.0<extra></extra>",
         "legendgroup": "2",
         "marker": {
          "color": "#EF553B",
          "line": {
           "width": 0
          },
          "pattern": {
           "shape": ""
          }
         },
         "name": "2",
         "offsetgroup": "2",
         "orientation": "v",
         "showlegend": false,
         "textposition": "auto",
         "type": "bar",
         "x": [
          "neo4j",
          "blazegraph",
          "graphdb",
          "virtuoso",
          "kitt"
         ],
         "xaxis": "x16",
         "y": [
          0.0168399365234375,
          0.032,
          0.019971,
          0.023734,
          0.015729716870666665
         ],
         "yaxis": "y16"
        },
        {
         "alignmentgroup": "True",
         "hovertemplate": "Query=2<br>=%{y}<br>size=50.0<extra></extra>",
         "legendgroup": "2",
         "marker": {
          "color": "#EF553B",
          "line": {
           "width": 0
          },
          "pattern": {
           "shape": ""
          }
         },
         "name": "2",
         "offsetgroup": "2",
         "orientation": "v",
         "showlegend": false,
         "textposition": "auto",
         "type": "bar",
         "x": [
          "neo4j",
          "blazegraph",
          "graphdb",
          "virtuoso",
          "kitt"
         ],
         "xaxis": "x17",
         "y": [
          0.043098587402343756,
          0.031684,
          0.02377,
          0.022718,
          0.029710936538333333
         ],
         "yaxis": "y17"
        },
        {
         "alignmentgroup": "True",
         "hovertemplate": "Query=2<br>=%{y}<br>size=100.0<extra></extra>",
         "legendgroup": "2",
         "marker": {
          "color": "#EF553B",
          "line": {
           "width": 0
          },
          "pattern": {
           "shape": ""
          }
         },
         "name": "2",
         "offsetgroup": "2",
         "orientation": "v",
         "showlegend": false,
         "textposition": "auto",
         "type": "bar",
         "x": [
          "neo4j",
          "blazegraph",
          "graphdb",
          "virtuoso",
          "kitt"
         ],
         "xaxis": "x18",
         "y": [
          0.086270869140625,
          0.033106,
          0.024901,
          0.022701,
          0.03731465093466667
         ],
         "yaxis": "y18"
        },
        {
         "alignmentgroup": "True",
         "hovertemplate": "Query=2<br>=%{y}<br>size=2.0<extra></extra>",
         "legendgroup": "2",
         "marker": {
          "color": "#EF553B",
          "line": {
           "width": 0
          },
          "pattern": {
           "shape": ""
          }
         },
         "name": "2",
         "offsetgroup": "2",
         "orientation": "v",
         "showlegend": false,
         "textposition": "auto",
         "type": "bar",
         "x": [
          "neo4j",
          "blazegraph",
          "virtuoso",
          "graphdb",
          "kitt"
         ],
         "xaxis": "x7",
         "y": [
          0.0013407968750000002,
          0.022153683105468752,
          0.00175512548828125,
          0.00317000341796875,
          0.010469590187072754
         ],
         "yaxis": "y7"
        },
        {
         "alignmentgroup": "True",
         "hovertemplate": "Query=2<br>=%{y}<br>size=5.0<extra></extra>",
         "legendgroup": "2",
         "marker": {
          "color": "#EF553B",
          "line": {
           "width": 0
          },
          "pattern": {
           "shape": ""
          }
         },
         "name": "2",
         "offsetgroup": "2",
         "orientation": "v",
         "showlegend": false,
         "textposition": "auto",
         "type": "bar",
         "x": [
          "neo4j",
          "blazegraph",
          "virtuoso",
          "graphdb",
          "kitt"
         ],
         "xaxis": "x8",
         "y": [
          0.003976182128906249,
          0.021790481445312503,
          0.00248417578125,
          0.004046825195312499,
          0.015339503288269043
         ],
         "yaxis": "y8"
        },
        {
         "alignmentgroup": "True",
         "hovertemplate": "Query=2<br>=%{y}<br>size=10.0<extra></extra>",
         "legendgroup": "2",
         "marker": {
          "color": "#EF553B",
          "line": {
           "width": 0
          },
          "pattern": {
           "shape": ""
          }
         },
         "name": "2",
         "offsetgroup": "2",
         "orientation": "v",
         "showlegend": false,
         "textposition": "auto",
         "type": "bar",
         "x": [
          "neo4j",
          "blazegraph",
          "virtuoso",
          "graphdb",
          "kitt"
         ],
         "xaxis": "x9",
         "y": [
          0.01427393212890625,
          0.0198281982421875,
          0.00450111474609375,
          0.009482208007812501,
          0.025580451011657714
         ],
         "yaxis": "y9"
        },
        {
         "alignmentgroup": "True",
         "hovertemplate": "Query=2<br>=%{y}<br>size=20.0<extra></extra>",
         "legendgroup": "2",
         "marker": {
          "color": "#EF553B",
          "line": {
           "width": 0
          },
          "pattern": {
           "shape": ""
          }
         },
         "name": "2",
         "offsetgroup": "2",
         "orientation": "v",
         "showlegend": false,
         "textposition": "auto",
         "type": "bar",
         "x": [
          "neo4j",
          "blazegraph",
          "virtuoso",
          "graphdb",
          "kitt"
         ],
         "xaxis": "x10",
         "y": [
          0.041973585937499995,
          0.05801337548828125,
          0.01315715234375,
          0.030371470703125,
          0.0528911600112915
         ],
         "yaxis": "y10"
        },
        {
         "alignmentgroup": "True",
         "hovertemplate": "Query=2<br>=%{y}<br>size=50.0<extra></extra>",
         "legendgroup": "2",
         "marker": {
          "color": "#EF553B",
          "line": {
           "width": 0
          },
          "pattern": {
           "shape": ""
          }
         },
         "name": "2",
         "offsetgroup": "2",
         "orientation": "v",
         "showlegend": false,
         "textposition": "auto",
         "type": "bar",
         "x": [
          "neo4j",
          "blazegraph",
          "virtuoso",
          "graphdb",
          "kitt"
         ],
         "xaxis": "x11",
         "y": [
          0.26363683251953124,
          0.2555188291015625,
          0.06961165673828125,
          0.2165671357421875,
          0.11383852291107177
         ],
         "yaxis": "y11"
        },
        {
         "alignmentgroup": "True",
         "hovertemplate": "Query=2<br>=%{y}<br>size=100.0<extra></extra>",
         "legendgroup": "2",
         "marker": {
          "color": "#EF553B",
          "line": {
           "width": 0
          },
          "pattern": {
           "shape": ""
          }
         },
         "name": "2",
         "offsetgroup": "2",
         "orientation": "v",
         "showlegend": false,
         "textposition": "auto",
         "type": "bar",
         "x": [
          "neo4j",
          "blazegraph",
          "virtuoso",
          "graphdb",
          "kitt"
         ],
         "xaxis": "x12",
         "y": [
          0.5352271474609376,
          1.042155240234375,
          0.13990564208984374,
          0.48778658642578127,
          0.2654448218345642
         ],
         "yaxis": "y12"
        },
        {
         "alignmentgroup": "True",
         "hovertemplate": "Query=2<br>=%{y}<br>size=2.0<extra></extra>",
         "legendgroup": "2",
         "marker": {
          "color": "#EF553B",
          "line": {
           "width": 0
          },
          "pattern": {
           "shape": ""
          }
         },
         "name": "2",
         "offsetgroup": "2",
         "orientation": "v",
         "showlegend": false,
         "textposition": "auto",
         "type": "bar",
         "x": [
          "neo4j",
          "blazegraph",
          "virtuoso",
          "graphdb",
          "kitt"
         ],
         "xaxis": "x",
         "y": [
          0.0214430302734375,
          0.01280064453125,
          0.0042330322265625,
          0.00863146484375,
          0.01048147201538086
         ],
         "yaxis": "y"
        },
        {
         "alignmentgroup": "True",
         "hovertemplate": "Query=2<br>=%{y}<br>size=5.0<extra></extra>",
         "legendgroup": "2",
         "marker": {
          "color": "#EF553B",
          "line": {
           "width": 0
          },
          "pattern": {
           "shape": ""
          }
         },
         "name": "2",
         "offsetgroup": "2",
         "orientation": "v",
         "showlegend": false,
         "textposition": "auto",
         "type": "bar",
         "x": [
          "neo4j",
          "blazegraph",
          "virtuoso",
          "graphdb",
          "kitt"
         ],
         "xaxis": "x2",
         "y": [
          0.048382621093749995,
          0.01703544921875,
          0.0078560888671875,
          0.0135926416015625,
          0.01220829963684082
         ],
         "yaxis": "y2"
        },
        {
         "alignmentgroup": "True",
         "hovertemplate": "Query=2<br>=%{y}<br>size=10.0<extra></extra>",
         "legendgroup": "2",
         "marker": {
          "color": "#EF553B",
          "line": {
           "width": 0
          },
          "pattern": {
           "shape": ""
          }
         },
         "name": "2",
         "offsetgroup": "2",
         "orientation": "v",
         "showlegend": false,
         "textposition": "auto",
         "type": "bar",
         "x": [
          "neo4j",
          "blazegraph",
          "virtuoso",
          "graphdb",
          "kitt"
         ],
         "xaxis": "x3",
         "y": [
          0.09199162255859375,
          0.029801005859375,
          0.0149220361328125,
          0.020540107421875,
          0.011076884269714355
         ],
         "yaxis": "y3"
        },
        {
         "alignmentgroup": "True",
         "hovertemplate": "Query=2<br>=%{y}<br>size=20.0<extra></extra>",
         "legendgroup": "2",
         "marker": {
          "color": "#EF553B",
          "line": {
           "width": 0
          },
          "pattern": {
           "shape": ""
          }
         },
         "name": "2",
         "offsetgroup": "2",
         "orientation": "v",
         "showlegend": false,
         "textposition": "auto",
         "type": "bar",
         "x": [
          "neo4j",
          "blazegraph",
          "virtuoso",
          "graphdb",
          "kitt"
         ],
         "xaxis": "x4",
         "y": [
          0.09597072802734376,
          0.031340927734375,
          0.0164286328125,
          0.019848955078125,
          0.01171323299407959
         ],
         "yaxis": "y4"
        },
        {
         "alignmentgroup": "True",
         "hovertemplate": "Query=2<br>=%{y}<br>size=50.0<extra></extra>",
         "legendgroup": "2",
         "marker": {
          "color": "#EF553B",
          "line": {
           "width": 0
          },
          "pattern": {
           "shape": ""
          }
         },
         "name": "2",
         "offsetgroup": "2",
         "orientation": "v",
         "showlegend": false,
         "textposition": "auto",
         "type": "bar",
         "x": [
          "neo4j",
          "blazegraph",
          "virtuoso",
          "graphdb",
          "kitt"
         ],
         "xaxis": "x5",
         "y": [
          0.0943238193359375,
          0.030355205078125,
          0.014896347656250001,
          0.0208323291015625,
          0.012889628410339355
         ],
         "yaxis": "y5"
        },
        {
         "alignmentgroup": "True",
         "hovertemplate": "Query=2<br>=%{y}<br>size=100.0<extra></extra>",
         "legendgroup": "2",
         "marker": {
          "color": "#EF553B",
          "line": {
           "width": 0
          },
          "pattern": {
           "shape": ""
          }
         },
         "name": "2",
         "offsetgroup": "2",
         "orientation": "v",
         "showlegend": false,
         "textposition": "auto",
         "type": "bar",
         "x": [
          "neo4j",
          "blazegraph",
          "virtuoso",
          "graphdb",
          "kitt"
         ],
         "xaxis": "x6",
         "y": [
          0.09804486328125,
          0.031558349609375,
          0.019003271484374997,
          0.022111123046875,
          0.018128695487976073
         ],
         "yaxis": "y6"
        },
        {
         "alignmentgroup": "True",
         "hovertemplate": "Query=3<br>=%{y}<br>size=2.0<extra></extra>",
         "legendgroup": "3",
         "marker": {
          "color": "#00cc96",
          "line": {
           "width": 0
          },
          "pattern": {
           "shape": ""
          }
         },
         "name": "3",
         "offsetgroup": "3",
         "orientation": "v",
         "showlegend": true,
         "textposition": "auto",
         "type": "bar",
         "x": [
          "neo4j",
          "blazegraph",
          "graphdb",
          "virtuoso",
          "kitt"
         ],
         "xaxis": "x13",
         "y": [
          0.007113554199218749,
          0.037863,
          0.006798,
          0.01207,
          0.003492487804
         ],
         "yaxis": "y13"
        },
        {
         "alignmentgroup": "True",
         "hovertemplate": "Query=3<br>=%{y}<br>size=5.0<extra></extra>",
         "legendgroup": "3",
         "marker": {
          "color": "#00cc96",
          "line": {
           "width": 0
          },
          "pattern": {
           "shape": ""
          }
         },
         "name": "3",
         "offsetgroup": "3",
         "orientation": "v",
         "showlegend": false,
         "textposition": "auto",
         "type": "bar",
         "x": [
          "neo4j",
          "blazegraph",
          "graphdb",
          "virtuoso",
          "kitt"
         ],
         "xaxis": "x14",
         "y": [
          0.0116257138671875,
          0.026894,
          0.008845,
          0.011768,
          0.00487140614
         ],
         "yaxis": "y14"
        },
        {
         "alignmentgroup": "True",
         "hovertemplate": "Query=3<br>=%{y}<br>size=10.0<extra></extra>",
         "legendgroup": "3",
         "marker": {
          "color": "#00cc96",
          "line": {
           "width": 0
          },
          "pattern": {
           "shape": ""
          }
         },
         "name": "3",
         "offsetgroup": "3",
         "orientation": "v",
         "showlegend": false,
         "textposition": "auto",
         "type": "bar",
         "x": [
          "neo4j",
          "blazegraph",
          "graphdb",
          "virtuoso",
          "kitt"
         ],
         "xaxis": "x15",
         "y": [
          0.0200560654296875,
          0.025893,
          0.012605,
          0.013042,
          0.00711414072
         ],
         "yaxis": "y15"
        },
        {
         "alignmentgroup": "True",
         "hovertemplate": "Query=3<br>=%{y}<br>size=20.0<extra></extra>",
         "legendgroup": "3",
         "marker": {
          "color": "#00cc96",
          "line": {
           "width": 0
          },
          "pattern": {
           "shape": ""
          }
         },
         "name": "3",
         "offsetgroup": "3",
         "orientation": "v",
         "showlegend": false,
         "textposition": "auto",
         "type": "bar",
         "x": [
          "neo4j",
          "blazegraph",
          "graphdb",
          "virtuoso",
          "kitt"
         ],
         "xaxis": "x16",
         "y": [
          0.030728765625,
          0.029315,
          0.016453,
          0.016158,
          0.010423540948
         ],
         "yaxis": "y16"
        },
        {
         "alignmentgroup": "True",
         "hovertemplate": "Query=3<br>=%{y}<br>size=50.0<extra></extra>",
         "legendgroup": "3",
         "marker": {
          "color": "#00cc96",
          "line": {
           "width": 0
          },
          "pattern": {
           "shape": ""
          }
         },
         "name": "3",
         "offsetgroup": "3",
         "orientation": "v",
         "showlegend": false,
         "textposition": "auto",
         "type": "bar",
         "x": [
          "neo4j",
          "blazegraph",
          "graphdb",
          "virtuoso",
          "kitt"
         ],
         "xaxis": "x17",
         "y": [
          0.07172113916015625,
          0.032648,
          0.018804,
          0.016,
          0.02453803582
         ],
         "yaxis": "y17"
        },
        {
         "alignmentgroup": "True",
         "hovertemplate": "Query=3<br>=%{y}<br>size=100.0<extra></extra>",
         "legendgroup": "3",
         "marker": {
          "color": "#00cc96",
          "line": {
           "width": 0
          },
          "pattern": {
           "shape": ""
          }
         },
         "name": "3",
         "offsetgroup": "3",
         "orientation": "v",
         "showlegend": false,
         "textposition": "auto",
         "type": "bar",
         "x": [
          "neo4j",
          "blazegraph",
          "graphdb",
          "virtuoso",
          "kitt"
         ],
         "xaxis": "x18",
         "y": [
          0.186166001953125,
          0.033078,
          0.019394,
          0.015604,
          0.053276746928
         ],
         "yaxis": "y18"
        },
        {
         "alignmentgroup": "True",
         "hovertemplate": "Query=3<br>=%{y}<br>size=2.0<extra></extra>",
         "legendgroup": "3",
         "marker": {
          "color": "#00cc96",
          "line": {
           "width": 0
          },
          "pattern": {
           "shape": ""
          }
         },
         "name": "3",
         "offsetgroup": "3",
         "orientation": "v",
         "showlegend": false,
         "textposition": "auto",
         "type": "bar",
         "x": [
          "neo4j",
          "blazegraph",
          "virtuoso",
          "graphdb",
          "kitt"
         ],
         "xaxis": "x7",
         "y": [
          0.018069666015625,
          0.0129873974609375,
          0.001387890625,
          0.00237948828125,
          0.0013708524703979492
         ],
         "yaxis": "y7"
        },
        {
         "alignmentgroup": "True",
         "hovertemplate": "Query=3<br>=%{y}<br>size=5.0<extra></extra>",
         "legendgroup": "3",
         "marker": {
          "color": "#00cc96",
          "line": {
           "width": 0
          },
          "pattern": {
           "shape": ""
          }
         },
         "name": "3",
         "offsetgroup": "3",
         "orientation": "v",
         "showlegend": false,
         "textposition": "auto",
         "type": "bar",
         "x": [
          "neo4j",
          "blazegraph",
          "virtuoso",
          "graphdb",
          "kitt"
         ],
         "xaxis": "x8",
         "y": [
          0.050273056152343745,
          0.01298199365234375,
          0.00137385986328125,
          0.00200204736328125,
          0.0011725292205810548
         ],
         "yaxis": "y8"
        },
        {
         "alignmentgroup": "True",
         "hovertemplate": "Query=3<br>=%{y}<br>size=10.0<extra></extra>",
         "legendgroup": "3",
         "marker": {
          "color": "#00cc96",
          "line": {
           "width": 0
          },
          "pattern": {
           "shape": ""
          }
         },
         "name": "3",
         "offsetgroup": "3",
         "orientation": "v",
         "showlegend": false,
         "textposition": "auto",
         "type": "bar",
         "x": [
          "neo4j",
          "blazegraph",
          "virtuoso",
          "graphdb",
          "kitt"
         ],
         "xaxis": "x9",
         "y": [
          0.10132908935546875,
          0.01274114892578125,
          0.00097841259765625,
          0.00226211376953125,
          0.001180687427520752
         ],
         "yaxis": "y9"
        },
        {
         "alignmentgroup": "True",
         "hovertemplate": "Query=3<br>=%{y}<br>size=20.0<extra></extra>",
         "legendgroup": "3",
         "marker": {
          "color": "#00cc96",
          "line": {
           "width": 0
          },
          "pattern": {
           "shape": ""
          }
         },
         "name": "3",
         "offsetgroup": "3",
         "orientation": "v",
         "showlegend": false,
         "textposition": "auto",
         "type": "bar",
         "x": [
          "neo4j",
          "blazegraph",
          "virtuoso",
          "graphdb",
          "kitt"
         ],
         "xaxis": "x10",
         "y": [
          0.21317272705078125,
          0.01271565576171875,
          0.00098728076171875,
          0.00245265576171875,
          0.0010745134353637696
         ],
         "yaxis": "y10"
        },
        {
         "alignmentgroup": "True",
         "hovertemplate": "Query=3<br>=%{y}<br>size=50.0<extra></extra>",
         "legendgroup": "3",
         "marker": {
          "color": "#00cc96",
          "line": {
           "width": 0
          },
          "pattern": {
           "shape": ""
          }
         },
         "name": "3",
         "offsetgroup": "3",
         "orientation": "v",
         "showlegend": false,
         "textposition": "auto",
         "type": "bar",
         "x": [
          "neo4j",
          "blazegraph",
          "virtuoso",
          "graphdb",
          "kitt"
         ],
         "xaxis": "x11",
         "y": [
          0.5119317998046875,
          0.013016302734374999,
          0.001069583984375,
          0.002184107421875,
          0.0009246692657470703
         ],
         "yaxis": "y11"
        },
        {
         "alignmentgroup": "True",
         "hovertemplate": "Query=3<br>=%{y}<br>size=100.0<extra></extra>",
         "legendgroup": "3",
         "marker": {
          "color": "#00cc96",
          "line": {
           "width": 0
          },
          "pattern": {
           "shape": ""
          }
         },
         "name": "3",
         "offsetgroup": "3",
         "orientation": "v",
         "showlegend": false,
         "textposition": "auto",
         "type": "bar",
         "x": [
          "neo4j",
          "blazegraph",
          "virtuoso",
          "graphdb",
          "kitt"
         ],
         "xaxis": "x12",
         "y": [
          1.0320538364257814,
          0.0125688037109375,
          0.0014015068359375,
          0.00222626416015625,
          0.0010208625793457031
         ],
         "yaxis": "y12"
        },
        {
         "alignmentgroup": "True",
         "hovertemplate": "Query=3<br>=%{y}<br>size=2.0<extra></extra>",
         "legendgroup": "3",
         "marker": {
          "color": "#00cc96",
          "line": {
           "width": 0
          },
          "pattern": {
           "shape": ""
          }
         },
         "name": "3",
         "offsetgroup": "3",
         "orientation": "v",
         "showlegend": false,
         "textposition": "auto",
         "type": "bar",
         "x": [
          "neo4j",
          "blazegraph",
          "virtuoso",
          "graphdb",
          "kitt"
         ],
         "xaxis": "x",
         "y": [
          0.089077359375,
          0.082132158203125,
          0.025133955078125,
          0.013886083984375,
          0.027978925704956054
         ],
         "yaxis": "y"
        },
        {
         "alignmentgroup": "True",
         "hovertemplate": "Query=3<br>=%{y}<br>size=5.0<extra></extra>",
         "legendgroup": "3",
         "marker": {
          "color": "#00cc96",
          "line": {
           "width": 0
          },
          "pattern": {
           "shape": ""
          }
         },
         "name": "3",
         "offsetgroup": "3",
         "orientation": "v",
         "showlegend": false,
         "textposition": "auto",
         "type": "bar",
         "x": [
          "neo4j",
          "blazegraph",
          "virtuoso",
          "graphdb",
          "kitt"
         ],
         "xaxis": "x2",
         "y": [
          0.0873689853515625,
          0.0767848388671875,
          0.023603789062499998,
          0.01379634765625,
          0.04829245090484619
         ],
         "yaxis": "y2"
        },
        {
         "alignmentgroup": "True",
         "hovertemplate": "Query=3<br>=%{y}<br>size=10.0<extra></extra>",
         "legendgroup": "3",
         "marker": {
          "color": "#00cc96",
          "line": {
           "width": 0
          },
          "pattern": {
           "shape": ""
          }
         },
         "name": "3",
         "offsetgroup": "3",
         "orientation": "v",
         "showlegend": false,
         "textposition": "auto",
         "type": "bar",
         "x": [
          "neo4j",
          "blazegraph",
          "virtuoso",
          "graphdb",
          "kitt"
         ],
         "xaxis": "x3",
         "y": [
          0.0867000126953125,
          0.07147752441406251,
          0.0250645166015625,
          0.0141730615234375,
          0.08109146595001221
         ],
         "yaxis": "y3"
        },
        {
         "alignmentgroup": "True",
         "hovertemplate": "Query=3<br>=%{y}<br>size=20.0<extra></extra>",
         "legendgroup": "3",
         "marker": {
          "color": "#00cc96",
          "line": {
           "width": 0
          },
          "pattern": {
           "shape": ""
          }
         },
         "name": "3",
         "offsetgroup": "3",
         "orientation": "v",
         "showlegend": false,
         "textposition": "auto",
         "type": "bar",
         "x": [
          "neo4j",
          "blazegraph",
          "virtuoso",
          "graphdb",
          "kitt"
         ],
         "xaxis": "x4",
         "y": [
          0.0909982470703125,
          0.075784228515625,
          0.0274548681640625,
          0.014146630859375,
          0.15226576328277588
         ],
         "yaxis": "y4"
        },
        {
         "alignmentgroup": "True",
         "hovertemplate": "Query=3<br>=%{y}<br>size=50.0<extra></extra>",
         "legendgroup": "3",
         "marker": {
          "color": "#00cc96",
          "line": {
           "width": 0
          },
          "pattern": {
           "shape": ""
          }
         },
         "name": "3",
         "offsetgroup": "3",
         "orientation": "v",
         "showlegend": false,
         "textposition": "auto",
         "type": "bar",
         "x": [
          "neo4j",
          "blazegraph",
          "virtuoso",
          "graphdb",
          "kitt"
         ],
         "xaxis": "x5",
         "y": [
          0.08903121826171875,
          0.06785943359375,
          0.028995634765625,
          0.0137798779296875,
          0.3649528360366821
         ],
         "yaxis": "y5"
        },
        {
         "alignmentgroup": "True",
         "hovertemplate": "Query=3<br>=%{y}<br>size=100.0<extra></extra>",
         "legendgroup": "3",
         "marker": {
          "color": "#00cc96",
          "line": {
           "width": 0
          },
          "pattern": {
           "shape": ""
          }
         },
         "name": "3",
         "offsetgroup": "3",
         "orientation": "v",
         "showlegend": false,
         "textposition": "auto",
         "type": "bar",
         "x": [
          "neo4j",
          "blazegraph",
          "virtuoso",
          "graphdb",
          "kitt"
         ],
         "xaxis": "x6",
         "y": [
          0.090142060546875,
          0.0752853564453125,
          0.050909082031250004,
          0.014162451171875,
          0.7155788516998292
         ],
         "yaxis": "y6"
        },
        {
         "alignmentgroup": "True",
         "hovertemplate": "Query=4<br>=%{y}<br>size=2.0<extra></extra>",
         "legendgroup": "4",
         "marker": {
          "color": "#ab63fa",
          "line": {
           "width": 0
          },
          "pattern": {
           "shape": ""
          }
         },
         "name": "4",
         "offsetgroup": "4",
         "orientation": "v",
         "showlegend": true,
         "textposition": "auto",
         "type": "bar",
         "x": [
          "neo4j",
          "blazegraph",
          "graphdb",
          "virtuoso",
          "kitt",
          "kitt"
         ],
         "xaxis": "x13",
         "y": [
          0.01654358642578125,
          0.039896,
          0.007124,
          0.029077,
          0.00425795515,
          0.003830217564
         ],
         "yaxis": "y13"
        },
        {
         "alignmentgroup": "True",
         "hovertemplate": "Query=4<br>=%{y}<br>size=5.0<extra></extra>",
         "legendgroup": "4",
         "marker": {
          "color": "#ab63fa",
          "line": {
           "width": 0
          },
          "pattern": {
           "shape": ""
          }
         },
         "name": "4",
         "offsetgroup": "4",
         "orientation": "v",
         "showlegend": false,
         "textposition": "auto",
         "type": "bar",
         "x": [
          "neo4j",
          "blazegraph",
          "graphdb",
          "virtuoso",
          "kitt",
          "kitt"
         ],
         "xaxis": "x14",
         "y": [
          0.07194590283203126,
          0.028449,
          0.010928,
          0.028491,
          0.006475266506,
          0.0057408406999999995
         ],
         "yaxis": "y14"
        },
        {
         "alignmentgroup": "True",
         "hovertemplate": "Query=4<br>=%{y}<br>size=10.0<extra></extra>",
         "legendgroup": "4",
         "marker": {
          "color": "#ab63fa",
          "line": {
           "width": 0
          },
          "pattern": {
           "shape": ""
          }
         },
         "name": "4",
         "offsetgroup": "4",
         "orientation": "v",
         "showlegend": false,
         "textposition": "auto",
         "type": "bar",
         "x": [
          "neo4j",
          "blazegraph",
          "graphdb",
          "virtuoso",
          "kitt",
          "kitt"
         ],
         "xaxis": "x15",
         "y": [
          0.16136658203125,
          0.028108,
          0.014961,
          0.03308,
          0.01296025316,
          0.009976157556
         ],
         "yaxis": "y15"
        },
        {
         "alignmentgroup": "True",
         "hovertemplate": "Query=4<br>=%{y}<br>size=20.0<extra></extra>",
         "legendgroup": "4",
         "marker": {
          "color": "#ab63fa",
          "line": {
           "width": 0
          },
          "pattern": {
           "shape": ""
          }
         },
         "name": "4",
         "offsetgroup": "4",
         "orientation": "v",
         "showlegend": false,
         "textposition": "auto",
         "type": "bar",
         "x": [
          "neo4j",
          "blazegraph",
          "graphdb",
          "virtuoso",
          "kitt",
          "kitt"
         ],
         "xaxis": "x16",
         "y": [
          0.33321697216796875,
          0.030683,
          0.021079,
          0.041386,
          0.01968909432,
          0.016854987546
         ],
         "yaxis": "y16"
        },
        {
         "alignmentgroup": "True",
         "hovertemplate": "Query=4<br>=%{y}<br>size=50.0<extra></extra>",
         "legendgroup": "4",
         "marker": {
          "color": "#ab63fa",
          "line": {
           "width": 0
          },
          "pattern": {
           "shape": ""
          }
         },
         "name": "4",
         "offsetgroup": "4",
         "orientation": "v",
         "showlegend": false,
         "textposition": "auto",
         "type": "bar",
         "x": [
          "neo4j",
          "blazegraph",
          "graphdb",
          "virtuoso",
          "kitt",
          "kitt"
         ],
         "xaxis": "x17",
         "y": [
          0.9394219873046875,
          0.034785,
          0.024676,
          0.026107,
          0.045484472463999996,
          0.039387605074
         ],
         "yaxis": "y17"
        },
        {
         "alignmentgroup": "True",
         "hovertemplate": "Query=4<br>=%{y}<br>size=100.0<extra></extra>",
         "legendgroup": "4",
         "marker": {
          "color": "#ab63fa",
          "line": {
           "width": 0
          },
          "pattern": {
           "shape": ""
          }
         },
         "name": "4",
         "offsetgroup": "4",
         "orientation": "v",
         "showlegend": false,
         "textposition": "auto",
         "type": "bar",
         "x": [
          "neo4j",
          "blazegraph",
          "graphdb",
          "virtuoso",
          "kitt",
          "kitt"
         ],
         "xaxis": "x18",
         "y": [
          2.000600736816406,
          0.036124,
          0.025979,
          0.029732,
          0.0166708145,
          0.041841090478
         ],
         "yaxis": "y18"
        },
        {
         "alignmentgroup": "True",
         "hovertemplate": "Query=4<br>=%{y}<br>size=2.0<extra></extra>",
         "legendgroup": "4",
         "marker": {
          "color": "#ab63fa",
          "line": {
           "width": 0
          },
          "pattern": {
           "shape": ""
          }
         },
         "name": "4",
         "offsetgroup": "4",
         "orientation": "v",
         "showlegend": false,
         "textposition": "auto",
         "type": "bar",
         "x": [
          "neo4j",
          "blazegraph",
          "virtuoso",
          "graphdb",
          "kitt"
         ],
         "xaxis": "x7",
         "y": [
          0.00966650244140625,
          0.01496077392578125,
          0.00471695458984375,
          0.0029578344726562504,
          0.001562030792236328
         ],
         "yaxis": "y7"
        },
        {
         "alignmentgroup": "True",
         "hovertemplate": "Query=4<br>=%{y}<br>size=5.0<extra></extra>",
         "legendgroup": "4",
         "marker": {
          "color": "#ab63fa",
          "line": {
           "width": 0
          },
          "pattern": {
           "shape": ""
          }
         },
         "name": "4",
         "offsetgroup": "4",
         "orientation": "v",
         "showlegend": false,
         "textposition": "auto",
         "type": "bar",
         "x": [
          "neo4j",
          "blazegraph",
          "virtuoso",
          "graphdb",
          "kitt"
         ],
         "xaxis": "x8",
         "y": [
          0.01225701953125,
          0.014650969726562501,
          0.00482704638671875,
          0.0029205107421875,
          0.0015750675201416015
         ],
         "yaxis": "y8"
        },
        {
         "alignmentgroup": "True",
         "hovertemplate": "Query=4<br>=%{y}<br>size=10.0<extra></extra>",
         "legendgroup": "4",
         "marker": {
          "color": "#ab63fa",
          "line": {
           "width": 0
          },
          "pattern": {
           "shape": ""
          }
         },
         "name": "4",
         "offsetgroup": "4",
         "orientation": "v",
         "showlegend": false,
         "textposition": "auto",
         "type": "bar",
         "x": [
          "neo4j",
          "blazegraph",
          "virtuoso",
          "graphdb",
          "kitt"
         ],
         "xaxis": "x9",
         "y": [
          0.021515294921875,
          0.014543399414062502,
          0.004628922363281249,
          0.0031236591796875,
          0.001524808406829834
         ],
         "yaxis": "y9"
        },
        {
         "alignmentgroup": "True",
         "hovertemplate": "Query=4<br>=%{y}<br>size=20.0<extra></extra>",
         "legendgroup": "4",
         "marker": {
          "color": "#ab63fa",
          "line": {
           "width": 0
          },
          "pattern": {
           "shape": ""
          }
         },
         "name": "4",
         "offsetgroup": "4",
         "orientation": "v",
         "showlegend": false,
         "textposition": "auto",
         "type": "bar",
         "x": [
          "neo4j",
          "blazegraph",
          "virtuoso",
          "graphdb",
          "kitt"
         ],
         "xaxis": "x10",
         "y": [
          0.042210667968750004,
          0.01454602197265625,
          0.00456372509765625,
          0.00324747509765625,
          0.001459890365600586
         ],
         "yaxis": "y10"
        },
        {
         "alignmentgroup": "True",
         "hovertemplate": "Query=4<br>=%{y}<br>size=50.0<extra></extra>",
         "legendgroup": "4",
         "marker": {
          "color": "#ab63fa",
          "line": {
           "width": 0
          },
          "pattern": {
           "shape": ""
          }
         },
         "name": "4",
         "offsetgroup": "4",
         "orientation": "v",
         "showlegend": false,
         "textposition": "auto",
         "type": "bar",
         "x": [
          "neo4j",
          "blazegraph",
          "virtuoso",
          "graphdb",
          "kitt"
         ],
         "xaxis": "x11",
         "y": [
          0.09279389990234375,
          0.014606138183593749,
          0.00512536279296875,
          0.0024920703125,
          0.001607698440551758
         ],
         "yaxis": "y11"
        },
        {
         "alignmentgroup": "True",
         "hovertemplate": "Query=4<br>=%{y}<br>size=100.0<extra></extra>",
         "legendgroup": "4",
         "marker": {
          "color": "#ab63fa",
          "line": {
           "width": 0
          },
          "pattern": {
           "shape": ""
          }
         },
         "name": "4",
         "offsetgroup": "4",
         "orientation": "v",
         "showlegend": false,
         "textposition": "auto",
         "type": "bar",
         "x": [
          "neo4j",
          "blazegraph",
          "virtuoso",
          "graphdb",
          "kitt"
         ],
         "xaxis": "x12",
         "y": [
          0.183694404296875,
          0.0142849912109375,
          0.005015154296875,
          0.0030170590820312497,
          0.0013446431159973144
         ],
         "yaxis": "y12"
        },
        {
         "alignmentgroup": "True",
         "hovertemplate": "Query=4<br>=%{y}<br>size=2.0<extra></extra>",
         "legendgroup": "4",
         "marker": {
          "color": "#ab63fa",
          "line": {
           "width": 0
          },
          "pattern": {
           "shape": ""
          }
         },
         "name": "4",
         "offsetgroup": "4",
         "orientation": "v",
         "showlegend": false,
         "textposition": "auto",
         "type": "bar",
         "x": [
          "neo4j",
          "blazegraph",
          "virtuoso",
          "graphdb",
          "kitt"
         ],
         "xaxis": "x",
         "y": [
          0.00125119091796875,
          0.0146262744140625,
          0.0014465966796875002,
          0.004407495117187499,
          0.001751103401184082
         ],
         "yaxis": "y"
        },
        {
         "alignmentgroup": "True",
         "hovertemplate": "Query=4<br>=%{y}<br>size=5.0<extra></extra>",
         "legendgroup": "4",
         "marker": {
          "color": "#ab63fa",
          "line": {
           "width": 0
          },
          "pattern": {
           "shape": ""
          }
         },
         "name": "4",
         "offsetgroup": "4",
         "orientation": "v",
         "showlegend": false,
         "textposition": "auto",
         "type": "bar",
         "x": [
          "neo4j",
          "blazegraph",
          "virtuoso",
          "graphdb",
          "kitt"
         ],
         "xaxis": "x2",
         "y": [
          0.00208225830078125,
          0.0147747705078125,
          0.0014002441406249999,
          0.0042021923828125,
          0.0016682004928588866
         ],
         "yaxis": "y2"
        },
        {
         "alignmentgroup": "True",
         "hovertemplate": "Query=4<br>=%{y}<br>size=10.0<extra></extra>",
         "legendgroup": "4",
         "marker": {
          "color": "#ab63fa",
          "line": {
           "width": 0
          },
          "pattern": {
           "shape": ""
          }
         },
         "name": "4",
         "offsetgroup": "4",
         "orientation": "v",
         "showlegend": false,
         "textposition": "auto",
         "type": "bar",
         "x": [
          "neo4j",
          "blazegraph",
          "virtuoso",
          "graphdb",
          "kitt"
         ],
         "xaxis": "x3",
         "y": [
          0.0034390791015625,
          0.0147488037109375,
          0.001144677734375,
          0.0043194189453125,
          0.0017689704895019532
         ],
         "yaxis": "y3"
        },
        {
         "alignmentgroup": "True",
         "hovertemplate": "Query=4<br>=%{y}<br>size=20.0<extra></extra>",
         "legendgroup": "4",
         "marker": {
          "color": "#ab63fa",
          "line": {
           "width": 0
          },
          "pattern": {
           "shape": ""
          }
         },
         "name": "4",
         "offsetgroup": "4",
         "orientation": "v",
         "showlegend": false,
         "textposition": "auto",
         "type": "bar",
         "x": [
          "neo4j",
          "blazegraph",
          "virtuoso",
          "graphdb",
          "kitt"
         ],
         "xaxis": "x4",
         "y": [
          0.0068174423828124995,
          0.014749462890625,
          0.001173095703125,
          0.004073676757812499,
          0.0021967267990112304
         ],
         "yaxis": "y4"
        },
        {
         "alignmentgroup": "True",
         "hovertemplate": "Query=4<br>=%{y}<br>size=50.0<extra></extra>",
         "legendgroup": "4",
         "marker": {
          "color": "#ab63fa",
          "line": {
           "width": 0
          },
          "pattern": {
           "shape": ""
          }
         },
         "name": "4",
         "offsetgroup": "4",
         "orientation": "v",
         "showlegend": false,
         "textposition": "auto",
         "type": "bar",
         "x": [
          "neo4j",
          "blazegraph",
          "virtuoso",
          "graphdb",
          "kitt"
         ],
         "xaxis": "x5",
         "y": [
          0.0171514423828125,
          0.0147057421875,
          0.0013304101562499999,
          0.0044320556640625,
          0.0011741924285888672
         ],
         "yaxis": "y5"
        },
        {
         "alignmentgroup": "True",
         "hovertemplate": "Query=4<br>=%{y}<br>size=100.0<extra></extra>",
         "legendgroup": "4",
         "marker": {
          "color": "#ab63fa",
          "line": {
           "width": 0
          },
          "pattern": {
           "shape": ""
          }
         },
         "name": "4",
         "offsetgroup": "4",
         "orientation": "v",
         "showlegend": false,
         "textposition": "auto",
         "type": "bar",
         "x": [
          "neo4j",
          "blazegraph",
          "virtuoso",
          "graphdb",
          "kitt"
         ],
         "xaxis": "x6",
         "y": [
          0.0411284326171875,
          0.0142946875,
          0.0017108886718750001,
          0.0041119580078125,
          0.0018620538711547853
         ],
         "yaxis": "y6"
        },
        {
         "alignmentgroup": "True",
         "hovertemplate": "Query=5<br>=%{y}<br>size=2.0<extra></extra>",
         "legendgroup": "5",
         "marker": {
          "color": "#FFA15A",
          "line": {
           "width": 0
          },
          "pattern": {
           "shape": ""
          }
         },
         "name": "5",
         "offsetgroup": "5",
         "orientation": "v",
         "showlegend": true,
         "textposition": "auto",
         "type": "bar",
         "x": [
          "neo4j",
          "blazegraph",
          "graphdb",
          "virtuoso",
          "kitt"
         ],
         "xaxis": "x13",
         "y": [
          0.0016101381835937501,
          0.038,
          0.007642,
          0.014155,
          0.005800005568
         ],
         "yaxis": "y13"
        },
        {
         "alignmentgroup": "True",
         "hovertemplate": "Query=5<br>=%{y}<br>size=5.0<extra></extra>",
         "legendgroup": "5",
         "marker": {
          "color": "#FFA15A",
          "line": {
           "width": 0
          },
          "pattern": {
           "shape": ""
          }
         },
         "name": "5",
         "offsetgroup": "5",
         "orientation": "v",
         "showlegend": false,
         "textposition": "auto",
         "type": "bar",
         "x": [
          "neo4j",
          "blazegraph",
          "graphdb",
          "virtuoso",
          "kitt"
         ],
         "xaxis": "x14",
         "y": [
          0.00394049462890625,
          0.065059,
          0.01723,
          0.014217,
          0.010226204638000001
         ],
         "yaxis": "y14"
        },
        {
         "alignmentgroup": "True",
         "hovertemplate": "Query=5<br>=%{y}<br>size=10.0<extra></extra>",
         "legendgroup": "5",
         "marker": {
          "color": "#FFA15A",
          "line": {
           "width": 0
          },
          "pattern": {
           "shape": ""
          }
         },
         "name": "5",
         "offsetgroup": "5",
         "orientation": "v",
         "showlegend": false,
         "textposition": "auto",
         "type": "bar",
         "x": [
          "neo4j",
          "blazegraph",
          "graphdb",
          "virtuoso",
          "kitt"
         ],
         "xaxis": "x15",
         "y": [
          0.00779182275390625,
          0.096724,
          0.030789,
          0.016537,
          0.02217376681
         ],
         "yaxis": "y15"
        },
        {
         "alignmentgroup": "True",
         "hovertemplate": "Query=5<br>=%{y}<br>size=20.0<extra></extra>",
         "legendgroup": "5",
         "marker": {
          "color": "#FFA15A",
          "line": {
           "width": 0
          },
          "pattern": {
           "shape": ""
          }
         },
         "name": "5",
         "offsetgroup": "5",
         "orientation": "v",
         "showlegend": false,
         "textposition": "auto",
         "type": "bar",
         "x": [
          "neo4j",
          "blazegraph",
          "graphdb",
          "virtuoso",
          "kitt"
         ],
         "xaxis": "x16",
         "y": [
          0.0117007685546875,
          0.156436,
          0.058432,
          0.02691,
          0.041876519375000004
         ],
         "yaxis": "y16"
        },
        {
         "alignmentgroup": "True",
         "hovertemplate": "Query=5<br>=%{y}<br>size=50.0<extra></extra>",
         "legendgroup": "5",
         "marker": {
          "color": "#FFA15A",
          "line": {
           "width": 0
          },
          "pattern": {
           "shape": ""
          }
         },
         "name": "5",
         "offsetgroup": "5",
         "orientation": "v",
         "showlegend": false,
         "textposition": "auto",
         "type": "bar",
         "x": [
          "neo4j",
          "blazegraph",
          "graphdb",
          "virtuoso",
          "kitt"
         ],
         "xaxis": "x17",
         "y": [
          0.03064184033203125,
          0.208533,
          0.103165,
          0.026574,
          0.029857399705
         ],
         "yaxis": "y17"
        },
        {
         "alignmentgroup": "True",
         "hovertemplate": "Query=5<br>=%{y}<br>size=100.0<extra></extra>",
         "legendgroup": "5",
         "marker": {
          "color": "#FFA15A",
          "line": {
           "width": 0
          },
          "pattern": {
           "shape": ""
          }
         },
         "name": "5",
         "offsetgroup": "5",
         "orientation": "v",
         "showlegend": false,
         "textposition": "auto",
         "type": "bar",
         "x": [
          "neo4j",
          "blazegraph",
          "graphdb",
          "virtuoso",
          "kitt"
         ],
         "xaxis": "x18",
         "y": [
          0.072188517578125,
          0.277608,
          0.116826,
          0.032639,
          0.0029177128809999998
         ],
         "yaxis": "y18"
        },
        {
         "alignmentgroup": "True",
         "hovertemplate": "Query=5<br>=%{y}<br>size=2.0<extra></extra>",
         "legendgroup": "5",
         "marker": {
          "color": "#FFA15A",
          "line": {
           "width": 0
          },
          "pattern": {
           "shape": ""
          }
         },
         "name": "5",
         "offsetgroup": "5",
         "orientation": "v",
         "showlegend": false,
         "textposition": "auto",
         "type": "bar",
         "x": [
          "neo4j",
          "blazegraph",
          "virtuoso",
          "graphdb",
          "kitt"
         ],
         "xaxis": "x7",
         "y": [
          0.03616986279296875,
          0.00657356396484375,
          0.010493841796875,
          0.00337686865234375,
          0.003059166431427002
         ],
         "yaxis": "y7"
        },
        {
         "alignmentgroup": "True",
         "hovertemplate": "Query=5<br>=%{y}<br>size=5.0<extra></extra>",
         "legendgroup": "5",
         "marker": {
          "color": "#FFA15A",
          "line": {
           "width": 0
          },
          "pattern": {
           "shape": ""
          }
         },
         "name": "5",
         "offsetgroup": "5",
         "orientation": "v",
         "showlegend": false,
         "textposition": "auto",
         "type": "bar",
         "x": [
          "neo4j",
          "blazegraph",
          "virtuoso",
          "graphdb",
          "kitt"
         ],
         "xaxis": "x8",
         "y": [
          0.037044771484374996,
          0.00695392919921875,
          0.01082742529296875,
          0.0032943339843750003,
          0.0030997705459594725
         ],
         "yaxis": "y8"
        },
        {
         "alignmentgroup": "True",
         "hovertemplate": "Query=5<br>=%{y}<br>size=10.0<extra></extra>",
         "legendgroup": "5",
         "marker": {
          "color": "#FFA15A",
          "line": {
           "width": 0
          },
          "pattern": {
           "shape": ""
          }
         },
         "name": "5",
         "offsetgroup": "5",
         "orientation": "v",
         "showlegend": false,
         "textposition": "auto",
         "type": "bar",
         "x": [
          "neo4j",
          "blazegraph",
          "virtuoso",
          "graphdb",
          "kitt"
         ],
         "xaxis": "x9",
         "y": [
          0.037351158203125005,
          0.00678666357421875,
          0.0108174150390625,
          0.0032512177734374996,
          0.0029692506790161134
         ],
         "yaxis": "y9"
        },
        {
         "alignmentgroup": "True",
         "hovertemplate": "Query=5<br>=%{y}<br>size=20.0<extra></extra>",
         "legendgroup": "5",
         "marker": {
          "color": "#FFA15A",
          "line": {
           "width": 0
          },
          "pattern": {
           "shape": ""
          }
         },
         "name": "5",
         "offsetgroup": "5",
         "orientation": "v",
         "showlegend": false,
         "textposition": "auto",
         "type": "bar",
         "x": [
          "neo4j",
          "blazegraph",
          "virtuoso",
          "graphdb",
          "kitt"
         ],
         "xaxis": "x10",
         "y": [
          0.03673888818359375,
          0.0066539057617187505,
          0.01108065234375,
          0.00335975,
          0.002809980869293213
         ],
         "yaxis": "y10"
        },
        {
         "alignmentgroup": "True",
         "hovertemplate": "Query=5<br>=%{y}<br>size=50.0<extra></extra>",
         "legendgroup": "5",
         "marker": {
          "color": "#FFA15A",
          "line": {
           "width": 0
          },
          "pattern": {
           "shape": ""
          }
         },
         "name": "5",
         "offsetgroup": "5",
         "orientation": "v",
         "showlegend": false,
         "textposition": "auto",
         "type": "bar",
         "x": [
          "neo4j",
          "blazegraph",
          "virtuoso",
          "graphdb",
          "kitt"
         ],
         "xaxis": "x11",
         "y": [
          0.0371806748046875,
          0.00640950537109375,
          0.0109682568359375,
          0.00218542626953125,
          0.0031919565200805664
         ],
         "yaxis": "y11"
        },
        {
         "alignmentgroup": "True",
         "hovertemplate": "Query=5<br>=%{y}<br>size=100.0<extra></extra>",
         "legendgroup": "5",
         "marker": {
          "color": "#FFA15A",
          "line": {
           "width": 0
          },
          "pattern": {
           "shape": ""
          }
         },
         "name": "5",
         "offsetgroup": "5",
         "orientation": "v",
         "showlegend": false,
         "textposition": "auto",
         "type": "bar",
         "x": [
          "neo4j",
          "blazegraph",
          "virtuoso",
          "graphdb",
          "kitt"
         ],
         "xaxis": "x12",
         "y": [
          0.037242515625,
          0.0061137109375,
          0.0107138779296875,
          0.00334847607421875,
          0.0034275922775268554
         ],
         "yaxis": "y12"
        },
        {
         "alignmentgroup": "True",
         "hovertemplate": "Query=5<br>=%{y}<br>size=2.0<extra></extra>",
         "legendgroup": "5",
         "marker": {
          "color": "#FFA15A",
          "line": {
           "width": 0
          },
          "pattern": {
           "shape": ""
          }
         },
         "name": "5",
         "offsetgroup": "5",
         "orientation": "v",
         "showlegend": false,
         "textposition": "auto",
         "type": "bar",
         "x": [
          "neo4j",
          "blazegraph",
          "virtuoso",
          "graphdb",
          "kitt"
         ],
         "xaxis": "x",
         "y": [
          0.00944224462890625,
          0.2349881591796875,
          0.37774697265625,
          0.0063965820312500005,
          0.0019390678405761719
         ],
         "yaxis": "y"
        },
        {
         "alignmentgroup": "True",
         "hovertemplate": "Query=5<br>=%{y}<br>size=5.0<extra></extra>",
         "legendgroup": "5",
         "marker": {
          "color": "#FFA15A",
          "line": {
           "width": 0
          },
          "pattern": {
           "shape": ""
          }
         },
         "name": "5",
         "offsetgroup": "5",
         "orientation": "v",
         "showlegend": false,
         "textposition": "auto",
         "type": "bar",
         "x": [
          "neo4j",
          "blazegraph",
          "virtuoso",
          "graphdb",
          "kitt"
         ],
         "xaxis": "x2",
         "y": [
          0.022936330566406253,
          0.23464157226562501,
          0.35223420410156253,
          0.0058872412109375,
          0.0017046833038330078
         ],
         "yaxis": "y2"
        },
        {
         "alignmentgroup": "True",
         "hovertemplate": "Query=5<br>=%{y}<br>size=10.0<extra></extra>",
         "legendgroup": "5",
         "marker": {
          "color": "#FFA15A",
          "line": {
           "width": 0
          },
          "pattern": {
           "shape": ""
          }
         },
         "name": "5",
         "offsetgroup": "5",
         "orientation": "v",
         "showlegend": false,
         "textposition": "auto",
         "type": "bar",
         "x": [
          "neo4j",
          "blazegraph",
          "virtuoso",
          "graphdb",
          "kitt"
         ],
         "xaxis": "x3",
         "y": [
          0.047567861328124995,
          0.23491503417968748,
          0.35525361816406253,
          0.0061981298828125,
          0.0016115522384643555
         ],
         "yaxis": "y3"
        },
        {
         "alignmentgroup": "True",
         "hovertemplate": "Query=5<br>=%{y}<br>size=20.0<extra></extra>",
         "legendgroup": "5",
         "marker": {
          "color": "#FFA15A",
          "line": {
           "width": 0
          },
          "pattern": {
           "shape": ""
          }
         },
         "name": "5",
         "offsetgroup": "5",
         "orientation": "v",
         "showlegend": false,
         "textposition": "auto",
         "type": "bar",
         "x": [
          "neo4j",
          "blazegraph",
          "virtuoso",
          "graphdb",
          "kitt"
         ],
         "xaxis": "x4",
         "y": [
          0.09559440625,
          0.23482447265625,
          0.406324755859375,
          0.006372817382812501,
          0.001569375991821289
         ],
         "yaxis": "y4"
        },
        {
         "alignmentgroup": "True",
         "hovertemplate": "Query=5<br>=%{y}<br>size=50.0<extra></extra>",
         "legendgroup": "5",
         "marker": {
          "color": "#FFA15A",
          "line": {
           "width": 0
          },
          "pattern": {
           "shape": ""
          }
         },
         "name": "5",
         "offsetgroup": "5",
         "orientation": "v",
         "showlegend": false,
         "textposition": "auto",
         "type": "bar",
         "x": [
          "neo4j",
          "blazegraph",
          "virtuoso",
          "graphdb",
          "kitt"
         ],
         "xaxis": "x5",
         "y": [
          0.22911582568359376,
          0.23473332519531248,
          0.37493808105468746,
          0.0065018701171875,
          0.0015219688415527345
         ],
         "yaxis": "y5"
        },
        {
         "alignmentgroup": "True",
         "hovertemplate": "Query=5<br>=%{y}<br>size=100.0<extra></extra>",
         "legendgroup": "5",
         "marker": {
          "color": "#FFA15A",
          "line": {
           "width": 0
          },
          "pattern": {
           "shape": ""
          }
         },
         "name": "5",
         "offsetgroup": "5",
         "orientation": "v",
         "showlegend": false,
         "textposition": "auto",
         "type": "bar",
         "x": [
          "neo4j",
          "blazegraph",
          "virtuoso",
          "graphdb",
          "kitt"
         ],
         "xaxis": "x6",
         "y": [
          0.44932798828125,
          0.2312431103515625,
          0.374286083984375,
          0.0061441552734375,
          0.001675114631652832
         ],
         "yaxis": "y6"
        },
        {
         "alignmentgroup": "True",
         "hovertemplate": "Query=6<br>=%{y}<br>size=2.0<extra></extra>",
         "legendgroup": "6",
         "marker": {
          "color": "#19d3f3",
          "line": {
           "width": 0
          },
          "pattern": {
           "shape": ""
          }
         },
         "name": "6",
         "offsetgroup": "6",
         "orientation": "v",
         "showlegend": true,
         "textposition": "auto",
         "type": "bar",
         "x": [
          "neo4j"
         ],
         "xaxis": "x13",
         "y": [
          0.00172523486328125
         ],
         "yaxis": "y13"
        },
        {
         "alignmentgroup": "True",
         "hovertemplate": "Query=6<br>=%{y}<br>size=5.0<extra></extra>",
         "legendgroup": "6",
         "marker": {
          "color": "#19d3f3",
          "line": {
           "width": 0
          },
          "pattern": {
           "shape": ""
          }
         },
         "name": "6",
         "offsetgroup": "6",
         "orientation": "v",
         "showlegend": false,
         "textposition": "auto",
         "type": "bar",
         "x": [
          "neo4j"
         ],
         "xaxis": "x14",
         "y": [
          0.00524486376953125
         ],
         "yaxis": "y14"
        },
        {
         "alignmentgroup": "True",
         "hovertemplate": "Query=6<br>=%{y}<br>size=10.0<extra></extra>",
         "legendgroup": "6",
         "marker": {
          "color": "#19d3f3",
          "line": {
           "width": 0
          },
          "pattern": {
           "shape": ""
          }
         },
         "name": "6",
         "offsetgroup": "6",
         "orientation": "v",
         "showlegend": false,
         "textposition": "auto",
         "type": "bar",
         "x": [
          "neo4j"
         ],
         "xaxis": "x15",
         "y": [
          0.01207870068359375
         ],
         "yaxis": "y15"
        },
        {
         "alignmentgroup": "True",
         "hovertemplate": "Query=6<br>=%{y}<br>size=20.0<extra></extra>",
         "legendgroup": "6",
         "marker": {
          "color": "#19d3f3",
          "line": {
           "width": 0
          },
          "pattern": {
           "shape": ""
          }
         },
         "name": "6",
         "offsetgroup": "6",
         "orientation": "v",
         "showlegend": false,
         "textposition": "auto",
         "type": "bar",
         "x": [
          "neo4j"
         ],
         "xaxis": "x16",
         "y": [
          0.02280136474609375
         ],
         "yaxis": "y16"
        },
        {
         "alignmentgroup": "True",
         "hovertemplate": "Query=6<br>=%{y}<br>size=50.0<extra></extra>",
         "legendgroup": "6",
         "marker": {
          "color": "#19d3f3",
          "line": {
           "width": 0
          },
          "pattern": {
           "shape": ""
          }
         },
         "name": "6",
         "offsetgroup": "6",
         "orientation": "v",
         "showlegend": false,
         "textposition": "auto",
         "type": "bar",
         "x": [
          "neo4j"
         ],
         "xaxis": "x17",
         "y": [
          0.05871576318359375
         ],
         "yaxis": "y17"
        },
        {
         "alignmentgroup": "True",
         "hovertemplate": "Query=6<br>=%{y}<br>size=100.0<extra></extra>",
         "legendgroup": "6",
         "marker": {
          "color": "#19d3f3",
          "line": {
           "width": 0
          },
          "pattern": {
           "shape": ""
          }
         },
         "name": "6",
         "offsetgroup": "6",
         "orientation": "v",
         "showlegend": false,
         "textposition": "auto",
         "type": "bar",
         "x": [
          "neo4j"
         ],
         "xaxis": "x18",
         "y": [
          0.12165290869140626
         ],
         "yaxis": "y18"
        },
        {
         "alignmentgroup": "True",
         "hovertemplate": "Query=6<br>=%{y}<br>size=2.0<extra></extra>",
         "legendgroup": "6",
         "marker": {
          "color": "#19d3f3",
          "line": {
           "width": 0
          },
          "pattern": {
           "shape": ""
          }
         },
         "name": "6",
         "offsetgroup": "6",
         "orientation": "v",
         "showlegend": false,
         "textposition": "auto",
         "type": "bar",
         "x": [
          "neo4j",
          "blazegraph",
          "virtuoso",
          "graphdb",
          "kitt"
         ],
         "xaxis": "x7",
         "y": [
          0.050171763671875,
          0.00583709619140625,
          0.00633684423828125,
          0.00631432373046875,
          0.005308908462524414
         ],
         "yaxis": "y7"
        },
        {
         "alignmentgroup": "True",
         "hovertemplate": "Query=6<br>=%{y}<br>size=5.0<extra></extra>",
         "legendgroup": "6",
         "marker": {
          "color": "#19d3f3",
          "line": {
           "width": 0
          },
          "pattern": {
           "shape": ""
          }
         },
         "name": "6",
         "offsetgroup": "6",
         "orientation": "v",
         "showlegend": false,
         "textposition": "auto",
         "type": "bar",
         "x": [
          "neo4j",
          "blazegraph",
          "virtuoso",
          "graphdb",
          "kitt"
         ],
         "xaxis": "x8",
         "y": [
          0.050798341796875,
          0.0066068291015625,
          0.00639726806640625,
          0.005348456054687501,
          0.008044015884399415
         ],
         "yaxis": "y8"
        },
        {
         "alignmentgroup": "True",
         "hovertemplate": "Query=6<br>=%{y}<br>size=10.0<extra></extra>",
         "legendgroup": "6",
         "marker": {
          "color": "#19d3f3",
          "line": {
           "width": 0
          },
          "pattern": {
           "shape": ""
          }
         },
         "name": "6",
         "offsetgroup": "6",
         "orientation": "v",
         "showlegend": false,
         "textposition": "auto",
         "type": "bar",
         "x": [
          "neo4j",
          "blazegraph",
          "virtuoso",
          "graphdb",
          "kitt"
         ],
         "xaxis": "x9",
         "y": [
          0.051208537597656256,
          0.0066043916015625,
          0.0066292363281249995,
          0.00649656884765625,
          0.013265433311462403
         ],
         "yaxis": "y9"
        },
        {
         "alignmentgroup": "True",
         "hovertemplate": "Query=6<br>=%{y}<br>size=20.0<extra></extra>",
         "legendgroup": "6",
         "marker": {
          "color": "#19d3f3",
          "line": {
           "width": 0
          },
          "pattern": {
           "shape": ""
          }
         },
         "name": "6",
         "offsetgroup": "6",
         "orientation": "v",
         "showlegend": false,
         "textposition": "auto",
         "type": "bar",
         "x": [
          "neo4j",
          "blazegraph",
          "virtuoso",
          "graphdb",
          "kitt"
         ],
         "xaxis": "x10",
         "y": [
          0.05101693408203125,
          0.006259263671875,
          0.0063506083984375,
          0.00644281787109375,
          0.025243589878082274
         ],
         "yaxis": "y10"
        },
        {
         "alignmentgroup": "True",
         "hovertemplate": "Query=6<br>=%{y}<br>size=50.0<extra></extra>",
         "legendgroup": "6",
         "marker": {
          "color": "#19d3f3",
          "line": {
           "width": 0
          },
          "pattern": {
           "shape": ""
          }
         },
         "name": "6",
         "offsetgroup": "6",
         "orientation": "v",
         "showlegend": false,
         "textposition": "auto",
         "type": "bar",
         "x": [
          "neo4j",
          "blazegraph",
          "virtuoso",
          "graphdb",
          "kitt"
         ],
         "xaxis": "x11",
         "y": [
          0.04979778076171875,
          0.0063705361328125,
          0.00685202880859375,
          0.005288232910156249,
          0.052501327991485595
         ],
         "yaxis": "y11"
        },
        {
         "alignmentgroup": "True",
         "hovertemplate": "Query=6<br>=%{y}<br>size=100.0<extra></extra>",
         "legendgroup": "6",
         "marker": {
          "color": "#19d3f3",
          "line": {
           "width": 0
          },
          "pattern": {
           "shape": ""
          }
         },
         "name": "6",
         "offsetgroup": "6",
         "orientation": "v",
         "showlegend": false,
         "textposition": "auto",
         "type": "bar",
         "x": [
          "neo4j",
          "blazegraph",
          "virtuoso",
          "graphdb",
          "kitt"
         ],
         "xaxis": "x12",
         "y": [
          0.05155469677734375,
          0.0058711396484375,
          0.0064977495117187496,
          0.00649930908203125,
          0.1057906494140625
         ],
         "yaxis": "y12"
        },
        {
         "alignmentgroup": "True",
         "hovertemplate": "Query=6<br>=%{y}<br>size=2.0<extra></extra>",
         "legendgroup": "6",
         "marker": {
          "color": "#19d3f3",
          "line": {
           "width": 0
          },
          "pattern": {
           "shape": ""
          }
         },
         "name": "6",
         "offsetgroup": "6",
         "orientation": "v",
         "showlegend": false,
         "textposition": "auto",
         "type": "bar",
         "x": [
          "neo4j",
          "blazegraph",
          "virtuoso",
          "graphdb",
          "kitt"
         ],
         "xaxis": "x",
         "y": [
          0.018856283203124997,
          0.0522836669921875,
          0.065485283203125,
          0.037866181640625,
          0.022872219085693358
         ],
         "yaxis": "y"
        },
        {
         "alignmentgroup": "True",
         "hovertemplate": "Query=6<br>=%{y}<br>size=5.0<extra></extra>",
         "legendgroup": "6",
         "marker": {
          "color": "#19d3f3",
          "line": {
           "width": 0
          },
          "pattern": {
           "shape": ""
          }
         },
         "name": "6",
         "offsetgroup": "6",
         "orientation": "v",
         "showlegend": false,
         "textposition": "auto",
         "type": "bar",
         "x": [
          "neo4j",
          "blazegraph",
          "virtuoso",
          "graphdb",
          "kitt"
         ],
         "xaxis": "x2",
         "y": [
          0.01846093603515625,
          0.08263982910156249,
          0.080251865234375,
          0.05462841796875,
          0.021404690742492676
         ],
         "yaxis": "y2"
        },
        {
         "alignmentgroup": "True",
         "hovertemplate": "Query=6<br>=%{y}<br>size=10.0<extra></extra>",
         "legendgroup": "6",
         "marker": {
          "color": "#19d3f3",
          "line": {
           "width": 0
          },
          "pattern": {
           "shape": ""
          }
         },
         "name": "6",
         "offsetgroup": "6",
         "orientation": "v",
         "showlegend": false,
         "textposition": "auto",
         "type": "bar",
         "x": [
          "neo4j",
          "blazegraph",
          "virtuoso",
          "graphdb",
          "kitt"
         ],
         "xaxis": "x3",
         "y": [
          0.018516433593750003,
          0.1299904248046875,
          0.132887333984375,
          0.093939951171875,
          0.02207866668701172
         ],
         "yaxis": "y3"
        },
        {
         "alignmentgroup": "True",
         "hovertemplate": "Query=6<br>=%{y}<br>size=20.0<extra></extra>",
         "legendgroup": "6",
         "marker": {
          "color": "#19d3f3",
          "line": {
           "width": 0
          },
          "pattern": {
           "shape": ""
          }
         },
         "name": "6",
         "offsetgroup": "6",
         "orientation": "v",
         "showlegend": false,
         "textposition": "auto",
         "type": "bar",
         "x": [
          "neo4j",
          "blazegraph",
          "virtuoso",
          "graphdb",
          "kitt"
         ],
         "xaxis": "x4",
         "y": [
          0.019125613769531247,
          0.22845275390625,
          0.230466494140625,
          0.15436127929687501,
          0.026288256645202637
         ],
         "yaxis": "y4"
        },
        {
         "alignmentgroup": "True",
         "hovertemplate": "Query=6<br>=%{y}<br>size=50.0<extra></extra>",
         "legendgroup": "6",
         "marker": {
          "color": "#19d3f3",
          "line": {
           "width": 0
          },
          "pattern": {
           "shape": ""
          }
         },
         "name": "6",
         "offsetgroup": "6",
         "orientation": "v",
         "showlegend": false,
         "textposition": "auto",
         "type": "bar",
         "x": [
          "neo4j",
          "blazegraph",
          "virtuoso",
          "graphdb",
          "kitt"
         ],
         "xaxis": "x5",
         "y": [
          0.0190259501953125,
          0.514454765625,
          0.399458564453125,
          0.3200590185546875,
          0.02954525947570801
         ],
         "yaxis": "y5"
        },
        {
         "alignmentgroup": "True",
         "hovertemplate": "Query=6<br>=%{y}<br>size=100.0<extra></extra>",
         "legendgroup": "6",
         "marker": {
          "color": "#19d3f3",
          "line": {
           "width": 0
          },
          "pattern": {
           "shape": ""
          }
         },
         "name": "6",
         "offsetgroup": "6",
         "orientation": "v",
         "showlegend": false,
         "textposition": "auto",
         "type": "bar",
         "x": [
          "neo4j",
          "blazegraph",
          "virtuoso",
          "graphdb",
          "kitt"
         ],
         "xaxis": "x6",
         "y": [
          0.0199757421875,
          1.0748172998046874,
          1.4820894287109374,
          0.6335266503906251,
          0.035335140228271486
         ],
         "yaxis": "y6"
        },
        {
         "alignmentgroup": "True",
         "hovertemplate": "Query=7<br>=%{y}<br>size=2.0<extra></extra>",
         "legendgroup": "7",
         "marker": {
          "color": "#FF6692",
          "line": {
           "width": 0
          },
          "pattern": {
           "shape": ""
          }
         },
         "name": "7",
         "offsetgroup": "7",
         "orientation": "v",
         "showlegend": true,
         "textposition": "auto",
         "type": "bar",
         "x": [
          "neo4j",
          "blazegraph",
          "graphdb",
          "virtuoso",
          "kitt"
         ],
         "xaxis": "x13",
         "y": [
          0.0012128955078125,
          0.032358,
          0.007281,
          0.024475,
          0.005548145018
         ],
         "yaxis": "y13"
        },
        {
         "alignmentgroup": "True",
         "hovertemplate": "Query=7<br>=%{y}<br>size=5.0<extra></extra>",
         "legendgroup": "7",
         "marker": {
          "color": "#FF6692",
          "line": {
           "width": 0
          },
          "pattern": {
           "shape": ""
          }
         },
         "name": "7",
         "offsetgroup": "7",
         "orientation": "v",
         "showlegend": false,
         "textposition": "auto",
         "type": "bar",
         "x": [
          "neo4j",
          "blazegraph",
          "graphdb",
          "virtuoso",
          "kitt"
         ],
         "xaxis": "x14",
         "y": [
          0.0026823798828125,
          0.028974,
          0.01389,
          0.022867,
          0.0084441143665
         ],
         "yaxis": "y14"
        },
        {
         "alignmentgroup": "True",
         "hovertemplate": "Query=7<br>=%{y}<br>size=10.0<extra></extra>",
         "legendgroup": "7",
         "marker": {
          "color": "#FF6692",
          "line": {
           "width": 0
          },
          "pattern": {
           "shape": ""
          }
         },
         "name": "7",
         "offsetgroup": "7",
         "orientation": "v",
         "showlegend": false,
         "textposition": "auto",
         "type": "bar",
         "x": [
          "neo4j",
          "blazegraph",
          "graphdb",
          "virtuoso",
          "kitt"
         ],
         "xaxis": "x15",
         "y": [
          0.00505084326171875,
          0.032822,
          0.020802,
          0.031855,
          0.016213112274
         ],
         "yaxis": "y15"
        },
        {
         "alignmentgroup": "True",
         "hovertemplate": "Query=7<br>=%{y}<br>size=20.0<extra></extra>",
         "legendgroup": "7",
         "marker": {
          "color": "#FF6692",
          "line": {
           "width": 0
          },
          "pattern": {
           "shape": ""
          }
         },
         "name": "7",
         "offsetgroup": "7",
         "orientation": "v",
         "showlegend": false,
         "textposition": "auto",
         "type": "bar",
         "x": [
          "neo4j",
          "blazegraph",
          "graphdb",
          "virtuoso",
          "kitt"
         ],
         "xaxis": "x16",
         "y": [
          0.0113630625,
          0.038222,
          0.032137,
          0.047551,
          0.032014247315500004
         ],
         "yaxis": "y16"
        },
        {
         "alignmentgroup": "True",
         "hovertemplate": "Query=7<br>=%{y}<br>size=50.0<extra></extra>",
         "legendgroup": "7",
         "marker": {
          "color": "#FF6692",
          "line": {
           "width": 0
          },
          "pattern": {
           "shape": ""
          }
         },
         "name": "7",
         "offsetgroup": "7",
         "orientation": "v",
         "showlegend": false,
         "textposition": "auto",
         "type": "bar",
         "x": [
          "neo4j",
          "blazegraph",
          "graphdb",
          "virtuoso",
          "kitt"
         ],
         "xaxis": "x17",
         "y": [
          0.029782461914062502,
          0.038694,
          0.051065,
          0.046066,
          0.027880217029
         ],
         "yaxis": "y17"
        },
        {
         "alignmentgroup": "True",
         "hovertemplate": "Query=7<br>=%{y}<br>size=100.0<extra></extra>",
         "legendgroup": "7",
         "marker": {
          "color": "#FF6692",
          "line": {
           "width": 0
          },
          "pattern": {
           "shape": ""
          }
         },
         "name": "7",
         "offsetgroup": "7",
         "orientation": "v",
         "showlegend": false,
         "textposition": "auto",
         "type": "bar",
         "x": [
          "neo4j",
          "blazegraph",
          "graphdb",
          "virtuoso",
          "kitt"
         ],
         "xaxis": "x18",
         "y": [
          0.0595012490234375,
          0.047097,
          0.05525,
          0.05266,
          0.0003448418715
         ],
         "yaxis": "y18"
        },
        {
         "alignmentgroup": "True",
         "hovertemplate": "Query=7<br>=%{y}<br>size=2.0<extra></extra>",
         "legendgroup": "7",
         "marker": {
          "color": "#FF6692",
          "line": {
           "width": 0
          },
          "pattern": {
           "shape": ""
          }
         },
         "name": "7",
         "offsetgroup": "7",
         "orientation": "v",
         "showlegend": false,
         "textposition": "auto",
         "type": "bar",
         "x": [
          "neo4j",
          "blazegraph",
          "virtuoso",
          "graphdb",
          "kitt"
         ],
         "xaxis": "x7",
         "y": [
          0.0063045302734375,
          0.01360681103515625,
          0.00430751513671875,
          0.0027043564453124998,
          0.0015172739028930665
         ],
         "yaxis": "y7"
        },
        {
         "alignmentgroup": "True",
         "hovertemplate": "Query=7<br>=%{y}<br>size=5.0<extra></extra>",
         "legendgroup": "7",
         "marker": {
          "color": "#FF6692",
          "line": {
           "width": 0
          },
          "pattern": {
           "shape": ""
          }
         },
         "name": "7",
         "offsetgroup": "7",
         "orientation": "v",
         "showlegend": false,
         "textposition": "auto",
         "type": "bar",
         "x": [
          "neo4j",
          "blazegraph",
          "virtuoso",
          "graphdb",
          "kitt"
         ],
         "xaxis": "x8",
         "y": [
          0.006525734375,
          0.013902861328125,
          0.0039650224609375,
          0.0024787568359374997,
          0.0013246808052062987
         ],
         "yaxis": "y8"
        },
        {
         "alignmentgroup": "True",
         "hovertemplate": "Query=7<br>=%{y}<br>size=10.0<extra></extra>",
         "legendgroup": "7",
         "marker": {
          "color": "#FF6692",
          "line": {
           "width": 0
          },
          "pattern": {
           "shape": ""
          }
         },
         "name": "7",
         "offsetgroup": "7",
         "orientation": "v",
         "showlegend": false,
         "textposition": "auto",
         "type": "bar",
         "x": [
          "neo4j",
          "blazegraph",
          "virtuoso",
          "graphdb",
          "kitt"
         ],
         "xaxis": "x9",
         "y": [
          0.00716941943359375,
          0.01341032275390625,
          0.00411781982421875,
          0.00274949462890625,
          0.0013334102630615235
         ],
         "yaxis": "y9"
        },
        {
         "alignmentgroup": "True",
         "hovertemplate": "Query=7<br>=%{y}<br>size=20.0<extra></extra>",
         "legendgroup": "7",
         "marker": {
          "color": "#FF6692",
          "line": {
           "width": 0
          },
          "pattern": {
           "shape": ""
          }
         },
         "name": "7",
         "offsetgroup": "7",
         "orientation": "v",
         "showlegend": false,
         "textposition": "auto",
         "type": "bar",
         "x": [
          "neo4j",
          "blazegraph",
          "virtuoso",
          "graphdb",
          "kitt"
         ],
         "xaxis": "x10",
         "y": [
          0.00935549560546875,
          0.013531313476562501,
          0.0039908515625,
          0.00276481689453125,
          0.0014205741882324218
         ],
         "yaxis": "y10"
        },
        {
         "alignmentgroup": "True",
         "hovertemplate": "Query=7<br>=%{y}<br>size=50.0<extra></extra>",
         "legendgroup": "7",
         "marker": {
          "color": "#FF6692",
          "line": {
           "width": 0
          },
          "pattern": {
           "shape": ""
          }
         },
         "name": "7",
         "offsetgroup": "7",
         "orientation": "v",
         "showlegend": false,
         "textposition": "auto",
         "type": "bar",
         "x": [
          "neo4j",
          "blazegraph",
          "virtuoso",
          "graphdb",
          "kitt"
         ],
         "xaxis": "x11",
         "y": [
          0.0103019306640625,
          0.013427076660156249,
          0.0039323359375,
          0.00249236962890625,
          0.0012198753356933594
         ],
         "yaxis": "y11"
        },
        {
         "alignmentgroup": "True",
         "hovertemplate": "Query=7<br>=%{y}<br>size=100.0<extra></extra>",
         "legendgroup": "7",
         "marker": {
          "color": "#FF6692",
          "line": {
           "width": 0
          },
          "pattern": {
           "shape": ""
          }
         },
         "name": "7",
         "offsetgroup": "7",
         "orientation": "v",
         "showlegend": false,
         "textposition": "auto",
         "type": "bar",
         "x": [
          "neo4j",
          "blazegraph",
          "virtuoso",
          "graphdb",
          "kitt"
         ],
         "xaxis": "x12",
         "y": [
          0.0202579169921875,
          0.01300172705078125,
          0.0042926982421875,
          0.00281813525390625,
          0.0012625198364257812
         ],
         "yaxis": "y12"
        },
        {
         "alignmentgroup": "True",
         "hovertemplate": "Query=7<br>=%{y}<br>size=2.0<extra></extra>",
         "legendgroup": "7",
         "marker": {
          "color": "#FF6692",
          "line": {
           "width": 0
          },
          "pattern": {
           "shape": ""
          }
         },
         "name": "7",
         "offsetgroup": "7",
         "orientation": "v",
         "showlegend": false,
         "textposition": "auto",
         "type": "bar",
         "x": [
          "neo4j",
          "blazegraph",
          "virtuoso",
          "graphdb",
          "kitt"
         ],
         "xaxis": "x",
         "y": [
          0.02651404638671875,
          0.1391286669921875,
          0.1648693994140625,
          0.06686744140624999,
          0.05090576171875
         ],
         "yaxis": "y"
        },
        {
         "alignmentgroup": "True",
         "hovertemplate": "Query=7<br>=%{y}<br>size=5.0<extra></extra>",
         "legendgroup": "7",
         "marker": {
          "color": "#FF6692",
          "line": {
           "width": 0
          },
          "pattern": {
           "shape": ""
          }
         },
         "name": "7",
         "offsetgroup": "7",
         "orientation": "v",
         "showlegend": false,
         "textposition": "auto",
         "type": "bar",
         "x": [
          "neo4j",
          "blazegraph",
          "virtuoso",
          "graphdb",
          "kitt"
         ],
         "xaxis": "x2",
         "y": [
          0.026102701660156248,
          0.26103619140625,
          0.38049862792968747,
          0.140645283203125,
          0.04753302097320557
         ],
         "yaxis": "y2"
        },
        {
         "alignmentgroup": "True",
         "hovertemplate": "Query=7<br>=%{y}<br>size=10.0<extra></extra>",
         "legendgroup": "7",
         "marker": {
          "color": "#FF6692",
          "line": {
           "width": 0
          },
          "pattern": {
           "shape": ""
          }
         },
         "name": "7",
         "offsetgroup": "7",
         "orientation": "v",
         "showlegend": false,
         "textposition": "auto",
         "type": "bar",
         "x": [
          "neo4j",
          "blazegraph",
          "virtuoso",
          "graphdb",
          "kitt"
         ],
         "xaxis": "x3",
         "y": [
          0.0264479130859375,
          0.5023494921875,
          0.8421447412109375,
          0.2661665673828125,
          0.0480682373046875
         ],
         "yaxis": "y3"
        },
        {
         "alignmentgroup": "True",
         "hovertemplate": "Query=7<br>=%{y}<br>size=20.0<extra></extra>",
         "legendgroup": "7",
         "marker": {
          "color": "#FF6692",
          "line": {
           "width": 0
          },
          "pattern": {
           "shape": ""
          }
         },
         "name": "7",
         "offsetgroup": "7",
         "orientation": "v",
         "showlegend": false,
         "textposition": "auto",
         "type": "bar",
         "x": [
          "neo4j",
          "blazegraph",
          "virtuoso",
          "graphdb",
          "kitt"
         ],
         "xaxis": "x4",
         "y": [
          0.029067832031249997,
          0.96010556640625,
          1.4838418505859374,
          0.5234089404296876,
          0.05351992607116699
         ],
         "yaxis": "y4"
        },
        {
         "alignmentgroup": "True",
         "hovertemplate": "Query=7<br>=%{y}<br>size=50.0<extra></extra>",
         "legendgroup": "7",
         "marker": {
          "color": "#FF6692",
          "line": {
           "width": 0
          },
          "pattern": {
           "shape": ""
          }
         },
         "name": "7",
         "offsetgroup": "7",
         "orientation": "v",
         "showlegend": false,
         "textposition": "auto",
         "type": "bar",
         "x": [
          "neo4j",
          "blazegraph",
          "virtuoso",
          "graphdb",
          "kitt"
         ],
         "xaxis": "x5",
         "y": [
          0.029197163085937502,
          2.293020478515625,
          2.0657670751953123,
          1.1989897119140627,
          0.05642919540405274
         ],
         "yaxis": "y5"
        },
        {
         "alignmentgroup": "True",
         "hovertemplate": "Query=7<br>=%{y}<br>size=100.0<extra></extra>",
         "legendgroup": "7",
         "marker": {
          "color": "#FF6692",
          "line": {
           "width": 0
          },
          "pattern": {
           "shape": ""
          }
         },
         "name": "7",
         "offsetgroup": "7",
         "orientation": "v",
         "showlegend": false,
         "textposition": "auto",
         "type": "bar",
         "x": [
          "neo4j",
          "blazegraph",
          "virtuoso",
          "graphdb",
          "kitt"
         ],
         "xaxis": "x6",
         "y": [
          0.028096562500000002,
          5.2271497656250006,
          6.823150268554688,
          2.3815288720703123,
          0.06565342426300048
         ],
         "yaxis": "y6"
        },
        {
         "alignmentgroup": "True",
         "hovertemplate": "Query=8<br>=%{y}<br>size=2.0<extra></extra>",
         "legendgroup": "8",
         "marker": {
          "color": "#B6E880",
          "line": {
           "width": 0
          },
          "pattern": {
           "shape": ""
          }
         },
         "name": "8",
         "offsetgroup": "8",
         "orientation": "v",
         "showlegend": true,
         "textposition": "auto",
         "type": "bar",
         "x": [
          "neo4j",
          "blazegraph",
          "graphdb",
          "virtuoso",
          "kitt"
         ],
         "xaxis": "x13",
         "y": [
          0.000439775390625,
          0.03708,
          0.006172,
          0.015355,
          0.0036653436639999997
         ],
         "yaxis": "y13"
        },
        {
         "alignmentgroup": "True",
         "hovertemplate": "Query=8<br>=%{y}<br>size=5.0<extra></extra>",
         "legendgroup": "8",
         "marker": {
          "color": "#B6E880",
          "line": {
           "width": 0
          },
          "pattern": {
           "shape": ""
          }
         },
         "name": "8",
         "offsetgroup": "8",
         "orientation": "v",
         "showlegend": false,
         "textposition": "auto",
         "type": "bar",
         "x": [
          "neo4j",
          "blazegraph",
          "graphdb",
          "virtuoso",
          "kitt"
         ],
         "xaxis": "x14",
         "y": [
          0.0005257973632812501,
          0.028208,
          0.009406,
          0.01396,
          0.004802181327000001
         ],
         "yaxis": "y14"
        },
        {
         "alignmentgroup": "True",
         "hovertemplate": "Query=8<br>=%{y}<br>size=10.0<extra></extra>",
         "legendgroup": "8",
         "marker": {
          "color": "#B6E880",
          "line": {
           "width": 0
          },
          "pattern": {
           "shape": ""
          }
         },
         "name": "8",
         "offsetgroup": "8",
         "orientation": "v",
         "showlegend": false,
         "textposition": "auto",
         "type": "bar",
         "x": [
          "neo4j",
          "blazegraph",
          "graphdb",
          "virtuoso",
          "kitt"
         ],
         "xaxis": "x15",
         "y": [
          0.0005838095703125,
          0.029522,
          0.014221,
          0.017472,
          0.006770041658
         ],
         "yaxis": "y15"
        },
        {
         "alignmentgroup": "True",
         "hovertemplate": "Query=8<br>=%{y}<br>size=20.0<extra></extra>",
         "legendgroup": "8",
         "marker": {
          "color": "#B6E880",
          "line": {
           "width": 0
          },
          "pattern": {
           "shape": ""
          }
         },
         "name": "8",
         "offsetgroup": "8",
         "orientation": "v",
         "showlegend": false,
         "textposition": "auto",
         "type": "bar",
         "x": [
          "neo4j",
          "blazegraph",
          "graphdb",
          "virtuoso",
          "kitt"
         ],
         "xaxis": "x16",
         "y": [
          0.00051548095703125,
          0.032169,
          0.020049,
          0.023984,
          0.012015840223
         ],
         "yaxis": "y16"
        },
        {
         "alignmentgroup": "True",
         "hovertemplate": "Query=8<br>=%{y}<br>size=50.0<extra></extra>",
         "legendgroup": "8",
         "marker": {
          "color": "#B6E880",
          "line": {
           "width": 0
          },
          "pattern": {
           "shape": ""
          }
         },
         "name": "8",
         "offsetgroup": "8",
         "orientation": "v",
         "showlegend": false,
         "textposition": "auto",
         "type": "bar",
         "x": [
          "neo4j",
          "blazegraph",
          "graphdb",
          "virtuoso",
          "kitt"
         ],
         "xaxis": "x17",
         "y": [
          0.00055193212890625,
          0.032394,
          0.026214,
          0.021289,
          0.018635539093
         ],
         "yaxis": "y17"
        },
        {
         "alignmentgroup": "True",
         "hovertemplate": "Query=8<br>=%{y}<br>size=100.0<extra></extra>",
         "legendgroup": "8",
         "marker": {
          "color": "#B6E880",
          "line": {
           "width": 0
          },
          "pattern": {
           "shape": ""
          }
         },
         "name": "8",
         "offsetgroup": "8",
         "orientation": "v",
         "showlegend": false,
         "textposition": "auto",
         "type": "bar",
         "x": [
          "neo4j",
          "blazegraph",
          "graphdb",
          "virtuoso",
          "kitt"
         ],
         "xaxis": "x18",
         "y": [
          0.0004070751953125,
          0.034574,
          0.023178,
          0.03047,
          0.000005658057
         ],
         "yaxis": "y18"
        },
        {
         "alignmentgroup": "True",
         "hovertemplate": "Query=8<br>=%{y}<br>size=2.0<extra></extra>",
         "legendgroup": "8",
         "marker": {
          "color": "#B6E880",
          "line": {
           "width": 0
          },
          "pattern": {
           "shape": ""
          }
         },
         "name": "8",
         "offsetgroup": "8",
         "orientation": "v",
         "showlegend": false,
         "textposition": "auto",
         "type": "bar",
         "x": [
          "neo4j",
          "blazegraph",
          "virtuoso",
          "graphdb",
          "kitt"
         ],
         "xaxis": "x7",
         "y": [
          0.09005758935546875,
          0.015009995117187501,
          0.02304861962890625,
          0.014993043945312501,
          0.0109798002243042
         ],
         "yaxis": "y7"
        },
        {
         "alignmentgroup": "True",
         "hovertemplate": "Query=8<br>=%{y}<br>size=5.0<extra></extra>",
         "legendgroup": "8",
         "marker": {
          "color": "#B6E880",
          "line": {
           "width": 0
          },
          "pattern": {
           "shape": ""
          }
         },
         "name": "8",
         "offsetgroup": "8",
         "orientation": "v",
         "showlegend": false,
         "textposition": "auto",
         "type": "bar",
         "x": [
          "neo4j",
          "blazegraph",
          "virtuoso",
          "graphdb",
          "kitt"
         ],
         "xaxis": "x8",
         "y": [
          0.09136579052734375,
          0.01569793212890625,
          0.02262981787109375,
          0.015619986328125,
          0.010890613555908204
         ],
         "yaxis": "y8"
        },
        {
         "alignmentgroup": "True",
         "hovertemplate": "Query=8<br>=%{y}<br>size=10.0<extra></extra>",
         "legendgroup": "8",
         "marker": {
          "color": "#B6E880",
          "line": {
           "width": 0
          },
          "pattern": {
           "shape": ""
          }
         },
         "name": "8",
         "offsetgroup": "8",
         "orientation": "v",
         "showlegend": false,
         "textposition": "auto",
         "type": "bar",
         "x": [
          "neo4j",
          "blazegraph",
          "virtuoso",
          "graphdb",
          "kitt"
         ],
         "xaxis": "x9",
         "y": [
          0.09119689794921876,
          0.01592657958984375,
          0.02275629150390625,
          0.01550540625,
          0.011366172790527344
         ],
         "yaxis": "y9"
        },
        {
         "alignmentgroup": "True",
         "hovertemplate": "Query=8<br>=%{y}<br>size=20.0<extra></extra>",
         "legendgroup": "8",
         "marker": {
          "color": "#B6E880",
          "line": {
           "width": 0
          },
          "pattern": {
           "shape": ""
          }
         },
         "name": "8",
         "offsetgroup": "8",
         "orientation": "v",
         "showlegend": false,
         "textposition": "auto",
         "type": "bar",
         "x": [
          "neo4j",
          "blazegraph",
          "virtuoso",
          "graphdb",
          "kitt"
         ],
         "xaxis": "x10",
         "y": [
          0.09047864990234375,
          0.0153261630859375,
          0.022486357421875,
          0.015075333984375,
          0.01193366813659668
         ],
         "yaxis": "y10"
        },
        {
         "alignmentgroup": "True",
         "hovertemplate": "Query=8<br>=%{y}<br>size=50.0<extra></extra>",
         "legendgroup": "8",
         "marker": {
          "color": "#B6E880",
          "line": {
           "width": 0
          },
          "pattern": {
           "shape": ""
          }
         },
         "name": "8",
         "offsetgroup": "8",
         "orientation": "v",
         "showlegend": false,
         "textposition": "auto",
         "type": "bar",
         "x": [
          "neo4j",
          "blazegraph",
          "virtuoso",
          "graphdb",
          "kitt"
         ],
         "xaxis": "x11",
         "y": [
          0.09262683544921875,
          0.0153372626953125,
          0.02278046484375,
          0.01529805224609375,
          0.012215533256530763
         ],
         "yaxis": "y11"
        },
        {
         "alignmentgroup": "True",
         "hovertemplate": "Query=8<br>=%{y}<br>size=100.0<extra></extra>",
         "legendgroup": "8",
         "marker": {
          "color": "#B6E880",
          "line": {
           "width": 0
          },
          "pattern": {
           "shape": ""
          }
         },
         "name": "8",
         "offsetgroup": "8",
         "orientation": "v",
         "showlegend": false,
         "textposition": "auto",
         "type": "bar",
         "x": [
          "neo4j",
          "blazegraph",
          "virtuoso",
          "graphdb",
          "kitt"
         ],
         "xaxis": "x12",
         "y": [
          0.09201343066406249,
          0.014822759765624999,
          0.0227393271484375,
          0.01568822900390625,
          0.011780798435211182
         ],
         "yaxis": "y12"
        },
        {
         "alignmentgroup": "True",
         "hovertemplate": "Query=8<br>=%{y}<br>size=2.0<extra></extra>",
         "legendgroup": "8",
         "marker": {
          "color": "#B6E880",
          "line": {
           "width": 0
          },
          "pattern": {
           "shape": ""
          }
         },
         "name": "8",
         "offsetgroup": "8",
         "orientation": "v",
         "showlegend": false,
         "textposition": "auto",
         "type": "bar",
         "x": [
          "neo4j",
          "blazegraph",
          "virtuoso",
          "graphdb",
          "kitt"
         ],
         "xaxis": "x",
         "y": [
          0.02480823095703125,
          0.246167353515625,
          0.0389496728515625,
          0.1097410205078125,
          0.030473837852478026
         ],
         "yaxis": "y"
        },
        {
         "alignmentgroup": "True",
         "hovertemplate": "Query=8<br>=%{y}<br>size=5.0<extra></extra>",
         "legendgroup": "8",
         "marker": {
          "color": "#B6E880",
          "line": {
           "width": 0
          },
          "pattern": {
           "shape": ""
          }
         },
         "name": "8",
         "offsetgroup": "8",
         "orientation": "v",
         "showlegend": false,
         "textposition": "auto",
         "type": "bar",
         "x": [
          "neo4j",
          "blazegraph",
          "virtuoso",
          "graphdb",
          "kitt"
         ],
         "xaxis": "x2",
         "y": [
          0.02448820849609375,
          0.4768802734375,
          0.058488041992187496,
          0.256169345703125,
          0.030531301498413085
         ],
         "yaxis": "y2"
        },
        {
         "alignmentgroup": "True",
         "hovertemplate": "Query=8<br>=%{y}<br>size=10.0<extra></extra>",
         "legendgroup": "8",
         "marker": {
          "color": "#B6E880",
          "line": {
           "width": 0
          },
          "pattern": {
           "shape": ""
          }
         },
         "name": "8",
         "offsetgroup": "8",
         "orientation": "v",
         "showlegend": false,
         "textposition": "auto",
         "type": "bar",
         "x": [
          "neo4j",
          "blazegraph",
          "virtuoso",
          "graphdb",
          "kitt"
         ],
         "xaxis": "x3",
         "y": [
          0.024764216796875002,
          0.8521339550781251,
          0.09638214843750001,
          0.4903986376953125,
          0.032290897369384765
         ],
         "yaxis": "y3"
        },
        {
         "alignmentgroup": "True",
         "hovertemplate": "Query=8<br>=%{y}<br>size=20.0<extra></extra>",
         "legendgroup": "8",
         "marker": {
          "color": "#B6E880",
          "line": {
           "width": 0
          },
          "pattern": {
           "shape": ""
          }
         },
         "name": "8",
         "offsetgroup": "8",
         "orientation": "v",
         "showlegend": false,
         "textposition": "auto",
         "type": "bar",
         "x": [
          "neo4j",
          "blazegraph",
          "virtuoso",
          "graphdb",
          "kitt"
         ],
         "xaxis": "x4",
         "y": [
          0.0253486455078125,
          1.5929312451171875,
          0.17310673339843752,
          1.0420071533203124,
          0.032796592712402345
         ],
         "yaxis": "y4"
        },
        {
         "alignmentgroup": "True",
         "hovertemplate": "Query=8<br>=%{y}<br>size=50.0<extra></extra>",
         "legendgroup": "8",
         "marker": {
          "color": "#B6E880",
          "line": {
           "width": 0
          },
          "pattern": {
           "shape": ""
          }
         },
         "name": "8",
         "offsetgroup": "8",
         "orientation": "v",
         "showlegend": false,
         "textposition": "auto",
         "type": "bar",
         "x": [
          "neo4j",
          "blazegraph",
          "virtuoso",
          "graphdb",
          "kitt"
         ],
         "xaxis": "x5",
         "y": [
          0.02722842822265625,
          3.6185332568359376,
          0.150252353515625,
          2.47564609375,
          0.03814999103546143
         ],
         "yaxis": "y5"
        },
        {
         "alignmentgroup": "True",
         "hovertemplate": "Query=8<br>=%{y}<br>size=100.0<extra></extra>",
         "legendgroup": "8",
         "marker": {
          "color": "#B6E880",
          "line": {
           "width": 0
          },
          "pattern": {
           "shape": ""
          }
         },
         "name": "8",
         "offsetgroup": "8",
         "orientation": "v",
         "showlegend": false,
         "textposition": "auto",
         "type": "bar",
         "x": [
          "neo4j",
          "blazegraph",
          "virtuoso",
          "graphdb",
          "kitt"
         ],
         "xaxis": "x6",
         "y": [
          0.026704941406250002,
          7.485180581054688,
          1.9657243896484373,
          4.955689956054687,
          0.04457639694213867
         ],
         "yaxis": "y6"
        },
        {
         "alignmentgroup": "True",
         "hovertemplate": "Query=9<br>=%{y}<br>size=2.0<extra></extra>",
         "legendgroup": "9",
         "marker": {
          "color": "#FF97FF",
          "line": {
           "width": 0
          },
          "pattern": {
           "shape": ""
          }
         },
         "name": "9",
         "offsetgroup": "9",
         "orientation": "v",
         "showlegend": true,
         "textposition": "auto",
         "type": "bar",
         "x": [
          "neo4j",
          "blazegraph",
          "graphdb",
          "virtuoso",
          "kitt"
         ],
         "xaxis": "x13",
         "y": [
          0.0004252861328125,
          0.030421,
          0.005215,
          0.00688,
          0.0030565354195
         ],
         "yaxis": "y13"
        },
        {
         "alignmentgroup": "True",
         "hovertemplate": "Query=9<br>=%{y}<br>size=5.0<extra></extra>",
         "legendgroup": "9",
         "marker": {
          "color": "#FF97FF",
          "line": {
           "width": 0
          },
          "pattern": {
           "shape": ""
          }
         },
         "name": "9",
         "offsetgroup": "9",
         "orientation": "v",
         "showlegend": false,
         "textposition": "auto",
         "type": "bar",
         "x": [
          "neo4j",
          "blazegraph",
          "graphdb",
          "virtuoso",
          "kitt"
         ],
         "xaxis": "x14",
         "y": [
          0.0005592114257812501,
          0.016379,
          0.007484,
          0.00668,
          0.0038182680750000002
         ],
         "yaxis": "y14"
        },
        {
         "alignmentgroup": "True",
         "hovertemplate": "Query=9<br>=%{y}<br>size=10.0<extra></extra>",
         "legendgroup": "9",
         "marker": {
          "color": "#FF97FF",
          "line": {
           "width": 0
          },
          "pattern": {
           "shape": ""
          }
         },
         "name": "9",
         "offsetgroup": "9",
         "orientation": "v",
         "showlegend": false,
         "textposition": "auto",
         "type": "bar",
         "x": [
          "neo4j",
          "blazegraph",
          "graphdb",
          "virtuoso",
          "kitt"
         ],
         "xaxis": "x15",
         "y": [
          0.00058818701171875,
          0.016763,
          0.012102,
          0.007844,
          0.0045696744355
         ],
         "yaxis": "y15"
        },
        {
         "alignmentgroup": "True",
         "hovertemplate": "Query=9<br>=%{y}<br>size=20.0<extra></extra>",
         "legendgroup": "9",
         "marker": {
          "color": "#FF97FF",
          "line": {
           "width": 0
          },
          "pattern": {
           "shape": ""
          }
         },
         "name": "9",
         "offsetgroup": "9",
         "orientation": "v",
         "showlegend": false,
         "textposition": "auto",
         "type": "bar",
         "x": [
          "neo4j",
          "blazegraph",
          "graphdb",
          "virtuoso",
          "kitt"
         ],
         "xaxis": "x16",
         "y": [
          0.00061089599609375,
          0.0192,
          0.016358,
          0.009804,
          0.0077624531125000005
         ],
         "yaxis": "y16"
        },
        {
         "alignmentgroup": "True",
         "hovertemplate": "Query=9<br>=%{y}<br>size=50.0<extra></extra>",
         "legendgroup": "9",
         "marker": {
          "color": "#FF97FF",
          "line": {
           "width": 0
          },
          "pattern": {
           "shape": ""
          }
         },
         "name": "9",
         "offsetgroup": "9",
         "orientation": "v",
         "showlegend": false,
         "textposition": "auto",
         "type": "bar",
         "x": [
          "neo4j",
          "blazegraph",
          "graphdb",
          "virtuoso",
          "kitt"
         ],
         "xaxis": "x17",
         "y": [
          0.00051770068359375,
          0.022338,
          0.019972,
          0.010962,
          0.012659105613
         ],
         "yaxis": "y17"
        },
        {
         "alignmentgroup": "True",
         "hovertemplate": "Query=9<br>=%{y}<br>size=100.0<extra></extra>",
         "legendgroup": "9",
         "marker": {
          "color": "#FF97FF",
          "line": {
           "width": 0
          },
          "pattern": {
           "shape": ""
          }
         },
         "name": "9",
         "offsetgroup": "9",
         "orientation": "v",
         "showlegend": false,
         "textposition": "auto",
         "type": "bar",
         "x": [
          "neo4j",
          "blazegraph",
          "graphdb",
          "virtuoso",
          "kitt"
         ],
         "xaxis": "x18",
         "y": [
          0.0005036015625,
          0.020872,
          0.018109,
          0.015699,
          0.0001202240285
         ],
         "yaxis": "y18"
        },
        {
         "alignmentgroup": "True",
         "hovertemplate": "Query=9<br>=%{y}<br>size=2.0<extra></extra>",
         "legendgroup": "9",
         "marker": {
          "color": "#FF97FF",
          "line": {
           "width": 0
          },
          "pattern": {
           "shape": ""
          }
         },
         "name": "9",
         "offsetgroup": "9",
         "orientation": "v",
         "showlegend": false,
         "textposition": "auto",
         "type": "bar",
         "x": [
          "neo4j",
          "blazegraph",
          "virtuoso",
          "graphdb",
          "kitt"
         ],
         "xaxis": "x7",
         "y": [
          0.09373708447265625,
          0.040849508300781254,
          0.09391793994140625,
          0.027551377929687502,
          0.009754980564117431
         ],
         "yaxis": "y7"
        },
        {
         "alignmentgroup": "True",
         "hovertemplate": "Query=9<br>=%{y}<br>size=5.0<extra></extra>",
         "legendgroup": "9",
         "marker": {
          "color": "#FF97FF",
          "line": {
           "width": 0
          },
          "pattern": {
           "shape": ""
          }
         },
         "name": "9",
         "offsetgroup": "9",
         "orientation": "v",
         "showlegend": false,
         "textposition": "auto",
         "type": "bar",
         "x": [
          "neo4j",
          "blazegraph",
          "virtuoso",
          "graphdb",
          "kitt"
         ],
         "xaxis": "x8",
         "y": [
          0.19509501269531251,
          0.10199876708984375,
          0.16554968847656248,
          0.04468570556640625,
          0.01044476556777954
         ],
         "yaxis": "y8"
        },
        {
         "alignmentgroup": "True",
         "hovertemplate": "Query=9<br>=%{y}<br>size=10.0<extra></extra>",
         "legendgroup": "9",
         "marker": {
          "color": "#FF97FF",
          "line": {
           "width": 0
          },
          "pattern": {
           "shape": ""
          }
         },
         "name": "9",
         "offsetgroup": "9",
         "orientation": "v",
         "showlegend": false,
         "textposition": "auto",
         "type": "bar",
         "x": [
          "neo4j",
          "blazegraph",
          "virtuoso",
          "graphdb",
          "kitt"
         ],
         "xaxis": "x9",
         "y": [
          0.19545162939453123,
          0.10925841210937501,
          0.1403359609375,
          0.06858475537109375,
          0.012382551670074463
         ],
         "yaxis": "y9"
        },
        {
         "alignmentgroup": "True",
         "hovertemplate": "Query=9<br>=%{y}<br>size=20.0<extra></extra>",
         "legendgroup": "9",
         "marker": {
          "color": "#FF97FF",
          "line": {
           "width": 0
          },
          "pattern": {
           "shape": ""
          }
         },
         "name": "9",
         "offsetgroup": "9",
         "orientation": "v",
         "showlegend": false,
         "textposition": "auto",
         "type": "bar",
         "x": [
          "neo4j",
          "blazegraph",
          "virtuoso",
          "graphdb",
          "kitt"
         ],
         "xaxis": "x10",
         "y": [
          0.19384682275390624,
          0.10618833740234375,
          0.17878455712890623,
          0.06930883154296874,
          0.015242101192474366
         ],
         "yaxis": "y10"
        },
        {
         "alignmentgroup": "True",
         "hovertemplate": "Query=9<br>=%{y}<br>size=50.0<extra></extra>",
         "legendgroup": "9",
         "marker": {
          "color": "#FF97FF",
          "line": {
           "width": 0
          },
          "pattern": {
           "shape": ""
          }
         },
         "name": "9",
         "offsetgroup": "9",
         "orientation": "v",
         "showlegend": false,
         "textposition": "auto",
         "type": "bar",
         "x": [
          "neo4j",
          "blazegraph",
          "virtuoso",
          "graphdb",
          "kitt"
         ],
         "xaxis": "x11",
         "y": [
          0.19798203662109376,
          0.10799207666015624,
          0.28034896875,
          0.07326789111328125,
          0.021628630638122558
         ],
         "yaxis": "y11"
        },
        {
         "alignmentgroup": "True",
         "hovertemplate": "Query=9<br>=%{y}<br>size=100.0<extra></extra>",
         "legendgroup": "9",
         "marker": {
          "color": "#FF97FF",
          "line": {
           "width": 0
          },
          "pattern": {
           "shape": ""
          }
         },
         "name": "9",
         "offsetgroup": "9",
         "orientation": "v",
         "showlegend": false,
         "textposition": "auto",
         "type": "bar",
         "x": [
          "neo4j",
          "blazegraph",
          "virtuoso",
          "graphdb",
          "kitt"
         ],
         "xaxis": "x12",
         "y": [
          0.19817098779296877,
          0.11763439794921875,
          0.4870319443359375,
          0.074526568359375,
          0.032471858501434324
         ],
         "yaxis": "y12"
        },
        {
         "alignmentgroup": "True",
         "hovertemplate": "Query=9<br>=%{y}<br>size=2.0<extra></extra>",
         "legendgroup": "9",
         "marker": {
          "color": "#FF97FF",
          "line": {
           "width": 0
          },
          "pattern": {
           "shape": ""
          }
         },
         "name": "9",
         "offsetgroup": "9",
         "orientation": "v",
         "showlegend": false,
         "textposition": "auto",
         "type": "bar",
         "x": [
          "neo4j",
          "blazegraph",
          "virtuoso",
          "graphdb",
          "kitt"
         ],
         "xaxis": "x",
         "y": [
          0.057089667480468745,
          0.1653545361328125,
          0.0862795751953125,
          0.0426369677734375,
          0.025354447364807128
         ],
         "yaxis": "y"
        },
        {
         "alignmentgroup": "True",
         "hovertemplate": "Query=9<br>=%{y}<br>size=5.0<extra></extra>",
         "legendgroup": "9",
         "marker": {
          "color": "#FF97FF",
          "line": {
           "width": 0
          },
          "pattern": {
           "shape": ""
          }
         },
         "name": "9",
         "offsetgroup": "9",
         "orientation": "v",
         "showlegend": false,
         "textposition": "auto",
         "type": "bar",
         "x": [
          "neo4j",
          "blazegraph",
          "virtuoso",
          "graphdb",
          "kitt"
         ],
         "xaxis": "x2",
         "y": [
          0.14000609033203124,
          0.2298763427734375,
          0.1735768701171875,
          0.061343505859375,
          0.05195803642272949
         ],
         "yaxis": "y2"
        },
        {
         "alignmentgroup": "True",
         "hovertemplate": "Query=9<br>=%{y}<br>size=10.0<extra></extra>",
         "legendgroup": "9",
         "marker": {
          "color": "#FF97FF",
          "line": {
           "width": 0
          },
          "pattern": {
           "shape": ""
          }
         },
         "name": "9",
         "offsetgroup": "9",
         "orientation": "v",
         "showlegend": false,
         "textposition": "auto",
         "type": "bar",
         "x": [
          "neo4j",
          "blazegraph",
          "virtuoso",
          "graphdb",
          "kitt"
         ],
         "xaxis": "x3",
         "y": [
          0.33667014404296874,
          0.3061548486328125,
          0.48479837890625,
          0.105924013671875,
          0.09516302585601806
         ],
         "yaxis": "y3"
        },
        {
         "alignmentgroup": "True",
         "hovertemplate": "Query=9<br>=%{y}<br>size=20.0<extra></extra>",
         "legendgroup": "9",
         "marker": {
          "color": "#FF97FF",
          "line": {
           "width": 0
          },
          "pattern": {
           "shape": ""
          }
         },
         "name": "9",
         "offsetgroup": "9",
         "orientation": "v",
         "showlegend": false,
         "textposition": "auto",
         "type": "bar",
         "x": [
          "neo4j",
          "blazegraph",
          "virtuoso",
          "graphdb",
          "kitt"
         ],
         "xaxis": "x4",
         "y": [
          0.5553302958984375,
          0.4687085498046875,
          1.0134654199218749,
          0.20705381835937497,
          0.19059299945831298
         ],
         "yaxis": "y4"
        },
        {
         "alignmentgroup": "True",
         "hovertemplate": "Query=9<br>=%{y}<br>size=50.0<extra></extra>",
         "legendgroup": "9",
         "marker": {
          "color": "#FF97FF",
          "line": {
           "width": 0
          },
          "pattern": {
           "shape": ""
          }
         },
         "name": "9",
         "offsetgroup": "9",
         "orientation": "v",
         "showlegend": false,
         "textposition": "auto",
         "type": "bar",
         "x": [
          "neo4j",
          "blazegraph",
          "virtuoso",
          "graphdb",
          "kitt"
         ],
         "xaxis": "x5",
         "y": [
          1.4461881948242188,
          0.8125494042968749,
          2.6262172900390626,
          0.46901537109374997,
          0.4713496255874634
         ],
         "yaxis": "y5"
        },
        {
         "alignmentgroup": "True",
         "hovertemplate": "Query=9<br>=%{y}<br>size=100.0<extra></extra>",
         "legendgroup": "9",
         "marker": {
          "color": "#FF97FF",
          "line": {
           "width": 0
          },
          "pattern": {
           "shape": ""
          }
         },
         "name": "9",
         "offsetgroup": "9",
         "orientation": "v",
         "showlegend": false,
         "textposition": "auto",
         "type": "bar",
         "x": [
          "neo4j",
          "blazegraph",
          "virtuoso",
          "graphdb",
          "kitt"
         ],
         "xaxis": "x6",
         "y": [
          2.750894541015625,
          1.5125308837890625,
          5.040213110351562,
          0.94241087890625,
          0.9543888235092163
         ],
         "yaxis": "y6"
        },
        {
         "alignmentgroup": "True",
         "hovertemplate": "Query=10<br>=%{y}<br>size=2.0<extra></extra>",
         "legendgroup": "10",
         "marker": {
          "color": "#FECB52",
          "line": {
           "width": 0
          },
          "pattern": {
           "shape": ""
          }
         },
         "name": "10",
         "offsetgroup": "10",
         "orientation": "v",
         "showlegend": true,
         "textposition": "auto",
         "type": "bar",
         "x": [
          "neo4j",
          "blazegraph",
          "graphdb",
          "virtuoso",
          "kitt"
         ],
         "xaxis": "x13",
         "y": [
          0.00108934326171875,
          0.036988,
          0.006001,
          0.028594,
          0.002950705464
         ],
         "yaxis": "y13"
        },
        {
         "alignmentgroup": "True",
         "hovertemplate": "Query=10<br>=%{y}<br>size=5.0<extra></extra>",
         "legendgroup": "10",
         "marker": {
          "color": "#FECB52",
          "line": {
           "width": 0
          },
          "pattern": {
           "shape": ""
          }
         },
         "name": "10",
         "offsetgroup": "10",
         "orientation": "v",
         "showlegend": false,
         "textposition": "auto",
         "type": "bar",
         "x": [
          "neo4j",
          "blazegraph",
          "graphdb",
          "virtuoso",
          "kitt"
         ],
         "xaxis": "x14",
         "y": [
          0.0023183886718750003,
          0.025994,
          0.007514,
          0.024201,
          0.0035386817920000004
         ],
         "yaxis": "y14"
        },
        {
         "alignmentgroup": "True",
         "hovertemplate": "Query=10<br>=%{y}<br>size=10.0<extra></extra>",
         "legendgroup": "10",
         "marker": {
          "color": "#FECB52",
          "line": {
           "width": 0
          },
          "pattern": {
           "shape": ""
          }
         },
         "name": "10",
         "offsetgroup": "10",
         "orientation": "v",
         "showlegend": false,
         "textposition": "auto",
         "type": "bar",
         "x": [
          "neo4j",
          "blazegraph",
          "graphdb",
          "virtuoso",
          "kitt"
         ],
         "xaxis": "x15",
         "y": [
          0.00443209326171875,
          0.027159,
          0.012014,
          0.032265,
          0.003292903163
         ],
         "yaxis": "y15"
        },
        {
         "alignmentgroup": "True",
         "hovertemplate": "Query=10<br>=%{y}<br>size=20.0<extra></extra>",
         "legendgroup": "10",
         "marker": {
          "color": "#FECB52",
          "line": {
           "width": 0
          },
          "pattern": {
           "shape": ""
          }
         },
         "name": "10",
         "offsetgroup": "10",
         "orientation": "v",
         "showlegend": false,
         "textposition": "auto",
         "type": "bar",
         "x": [
          "neo4j",
          "blazegraph",
          "graphdb",
          "virtuoso",
          "kitt"
         ],
         "xaxis": "x16",
         "y": [
          0.00948617041015625,
          0.03017,
          0.01563,
          0.035921,
          0.004883395441
         ],
         "yaxis": "y16"
        },
        {
         "alignmentgroup": "True",
         "hovertemplate": "Query=10<br>=%{y}<br>size=50.0<extra></extra>",
         "legendgroup": "10",
         "marker": {
          "color": "#FECB52",
          "line": {
           "width": 0
          },
          "pattern": {
           "shape": ""
          }
         },
         "name": "10",
         "offsetgroup": "10",
         "orientation": "v",
         "showlegend": false,
         "textposition": "auto",
         "type": "bar",
         "x": [
          "neo4j",
          "blazegraph",
          "graphdb",
          "virtuoso",
          "kitt"
         ],
         "xaxis": "x17",
         "y": [
          0.02619769580078125,
          0.032803,
          0.017033,
          0.044058,
          0.0051626811669999995
         ],
         "yaxis": "y17"
        },
        {
         "alignmentgroup": "True",
         "hovertemplate": "Query=10<br>=%{y}<br>size=100.0<extra></extra>",
         "legendgroup": "10",
         "marker": {
          "color": "#FECB52",
          "line": {
           "width": 0
          },
          "pattern": {
           "shape": ""
          }
         },
         "name": "10",
         "offsetgroup": "10",
         "orientation": "v",
         "showlegend": false,
         "textposition": "auto",
         "type": "bar",
         "x": [
          "neo4j",
          "blazegraph",
          "graphdb",
          "virtuoso",
          "kitt"
         ],
         "xaxis": "x18",
         "y": [
          0.05257647412109375,
          0.035909,
          0.015921,
          0.063996,
          0.0027084347339999997
         ],
         "yaxis": "y18"
        },
        {
         "alignmentgroup": "True",
         "hovertemplate": "Query=10<br>=%{y}<br>size=2.0<extra></extra>",
         "legendgroup": "10",
         "marker": {
          "color": "#FECB52",
          "line": {
           "width": 0
          },
          "pattern": {
           "shape": ""
          }
         },
         "name": "10",
         "offsetgroup": "10",
         "orientation": "v",
         "showlegend": false,
         "textposition": "auto",
         "type": "bar",
         "x": [
          "neo4j",
          "blazegraph",
          "virtuoso",
          "graphdb",
          "kitt"
         ],
         "xaxis": "x7",
         "y": [
          0.03234889453125,
          0.012368669921875,
          0.0013591416015625,
          0.00217083984375,
          0.0009556212425231934
         ],
         "yaxis": "y7"
        },
        {
         "alignmentgroup": "True",
         "hovertemplate": "Query=10<br>=%{y}<br>size=5.0<extra></extra>",
         "legendgroup": "10",
         "marker": {
          "color": "#FECB52",
          "line": {
           "width": 0
          },
          "pattern": {
           "shape": ""
          }
         },
         "name": "10",
         "offsetgroup": "10",
         "orientation": "v",
         "showlegend": false,
         "textposition": "auto",
         "type": "bar",
         "x": [
          "neo4j",
          "blazegraph",
          "virtuoso",
          "graphdb",
          "kitt"
         ],
         "xaxis": "x8",
         "y": [
          0.08497178955078125,
          0.012694324218749999,
          0.0013128369140625001,
          0.00201182080078125,
          0.0010752739906311035
         ],
         "yaxis": "y8"
        },
        {
         "alignmentgroup": "True",
         "hovertemplate": "Query=10<br>=%{y}<br>size=10.0<extra></extra>",
         "legendgroup": "10",
         "marker": {
          "color": "#FECB52",
          "line": {
           "width": 0
          },
          "pattern": {
           "shape": ""
          }
         },
         "name": "10",
         "offsetgroup": "10",
         "orientation": "v",
         "showlegend": false,
         "textposition": "auto",
         "type": "bar",
         "x": [
          "neo4j",
          "blazegraph",
          "virtuoso",
          "graphdb",
          "kitt"
         ],
         "xaxis": "x9",
         "y": [
          0.18351250830078125,
          0.012631639648437502,
          0.00150995751953125,
          0.00209153271484375,
          0.0009802937507629394
         ],
         "yaxis": "y9"
        },
        {
         "alignmentgroup": "True",
         "hovertemplate": "Query=10<br>=%{y}<br>size=20.0<extra></extra>",
         "legendgroup": "10",
         "marker": {
          "color": "#FECB52",
          "line": {
           "width": 0
          },
          "pattern": {
           "shape": ""
          }
         },
         "name": "10",
         "offsetgroup": "10",
         "orientation": "v",
         "showlegend": false,
         "textposition": "auto",
         "type": "bar",
         "x": [
          "neo4j",
          "blazegraph",
          "virtuoso",
          "graphdb",
          "kitt"
         ],
         "xaxis": "x10",
         "y": [
          0.3652303447265625,
          0.012713066406250001,
          0.00132382470703125,
          0.0021332919921875,
          0.0009555778503417969
         ],
         "yaxis": "y10"
        },
        {
         "alignmentgroup": "True",
         "hovertemplate": "Query=10<br>=%{y}<br>size=50.0<extra></extra>",
         "legendgroup": "10",
         "marker": {
          "color": "#FECB52",
          "line": {
           "width": 0
          },
          "pattern": {
           "shape": ""
          }
         },
         "name": "10",
         "offsetgroup": "10",
         "orientation": "v",
         "showlegend": false,
         "textposition": "auto",
         "type": "bar",
         "x": [
          "neo4j",
          "blazegraph",
          "virtuoso",
          "graphdb",
          "kitt"
         ],
         "xaxis": "x11",
         "y": [
          0.9712278359375,
          0.01276344677734375,
          0.00137787109375,
          0.0021316250000000003,
          0.0009155511856079101
         ],
         "yaxis": "y11"
        },
        {
         "alignmentgroup": "True",
         "hovertemplate": "Query=10<br>=%{y}<br>size=100.0<extra></extra>",
         "legendgroup": "10",
         "marker": {
          "color": "#FECB52",
          "line": {
           "width": 0
          },
          "pattern": {
           "shape": ""
          }
         },
         "name": "10",
         "offsetgroup": "10",
         "orientation": "v",
         "showlegend": false,
         "textposition": "auto",
         "type": "bar",
         "x": [
          "neo4j",
          "blazegraph",
          "virtuoso",
          "graphdb",
          "kitt"
         ],
         "xaxis": "x12",
         "y": [
          2.0217374375,
          0.012315197265625001,
          0.00153172021484375,
          0.00206764697265625,
          0.0007764315605163575
         ],
         "yaxis": "y12"
        },
        {
         "alignmentgroup": "True",
         "hovertemplate": "Query=10<br>=%{y}<br>size=2.0<extra></extra>",
         "legendgroup": "10",
         "marker": {
          "color": "#FECB52",
          "line": {
           "width": 0
          },
          "pattern": {
           "shape": ""
          }
         },
         "name": "10",
         "offsetgroup": "10",
         "orientation": "v",
         "showlegend": false,
         "textposition": "auto",
         "type": "bar",
         "x": [
          "neo4j",
          "blazegraph",
          "virtuoso",
          "graphdb",
          "kitt"
         ],
         "xaxis": "x",
         "y": [
          0.0362792041015625,
          0.37241415527343746,
          0.5702774169921875,
          0.11185010253906251,
          0.05064208984375
         ],
         "yaxis": "y"
        },
        {
         "alignmentgroup": "True",
         "hovertemplate": "Query=10<br>=%{y}<br>size=5.0<extra></extra>",
         "legendgroup": "10",
         "marker": {
          "color": "#FECB52",
          "line": {
           "width": 0
          },
          "pattern": {
           "shape": ""
          }
         },
         "name": "10",
         "offsetgroup": "10",
         "orientation": "v",
         "showlegend": false,
         "textposition": "auto",
         "type": "bar",
         "x": [
          "neo4j",
          "blazegraph",
          "virtuoso",
          "graphdb",
          "kitt"
         ],
         "xaxis": "x2",
         "y": [
          0.09011182031250001,
          0.697943857421875,
          1.223346787109375,
          0.25632529296874995,
          0.12310946941375732
         ],
         "yaxis": "y2"
        },
        {
         "alignmentgroup": "True",
         "hovertemplate": "Query=10<br>=%{y}<br>size=10.0<extra></extra>",
         "legendgroup": "10",
         "marker": {
          "color": "#FECB52",
          "line": {
           "width": 0
          },
          "pattern": {
           "shape": ""
          }
         },
         "name": "10",
         "offsetgroup": "10",
         "orientation": "v",
         "showlegend": false,
         "textposition": "auto",
         "type": "bar",
         "x": [
          "neo4j",
          "blazegraph",
          "virtuoso",
          "graphdb",
          "kitt"
         ],
         "xaxis": "x3",
         "y": [
          0.18841846435546875,
          1.2607089013671875,
          2.62812947265625,
          0.487150810546875,
          0.2440137767791748
         ],
         "yaxis": "y3"
        },
        {
         "alignmentgroup": "True",
         "hovertemplate": "Query=10<br>=%{y}<br>size=20.0<extra></extra>",
         "legendgroup": "10",
         "marker": {
          "color": "#FECB52",
          "line": {
           "width": 0
          },
          "pattern": {
           "shape": ""
          }
         },
         "name": "10",
         "offsetgroup": "10",
         "orientation": "v",
         "showlegend": false,
         "textposition": "auto",
         "type": "bar",
         "x": [
          "neo4j",
          "blazegraph",
          "virtuoso",
          "graphdb",
          "kitt"
         ],
         "xaxis": "x4",
         "y": [
          0.5585815717773437,
          2.48047701171875,
          6.918550327148438,
          1.0322960253906248,
          0.48870526790618896
         ],
         "yaxis": "y4"
        },
        {
         "alignmentgroup": "True",
         "hovertemplate": "Query=10<br>=%{y}<br>size=50.0<extra></extra>",
         "legendgroup": "10",
         "marker": {
          "color": "#FECB52",
          "line": {
           "width": 0
          },
          "pattern": {
           "shape": ""
          }
         },
         "name": "10",
         "offsetgroup": "10",
         "orientation": "v",
         "showlegend": false,
         "textposition": "auto",
         "type": "bar",
         "x": [
          "neo4j",
          "blazegraph",
          "virtuoso",
          "graphdb",
          "kitt"
         ],
         "xaxis": "x5",
         "y": [
          1.5428618427734375,
          6.523783286132812,
          21.111778823242187,
          2.443519907226562,
          1.2159829330444336
         ],
         "yaxis": "y5"
        },
        {
         "alignmentgroup": "True",
         "hovertemplate": "Query=10<br>=%{y}<br>size=100.0<extra></extra>",
         "legendgroup": "10",
         "marker": {
          "color": "#FECB52",
          "line": {
           "width": 0
          },
          "pattern": {
           "shape": ""
          }
         },
         "name": "10",
         "offsetgroup": "10",
         "orientation": "v",
         "showlegend": false,
         "textposition": "auto",
         "type": "bar",
         "x": [
          "neo4j",
          "blazegraph",
          "virtuoso",
          "graphdb",
          "kitt"
         ],
         "xaxis": "x6",
         "y": [
          3.0480766162109374,
          13.78299671875,
          33.99585988769531,
          5.069831577148437,
          2.492834186553955
         ],
         "yaxis": "y6"
        },
        {
         "alignmentgroup": "True",
         "hovertemplate": "Query=11<br>=%{y}<br>size=2.0<extra></extra>",
         "legendgroup": "11",
         "marker": {
          "color": "#636efa",
          "line": {
           "width": 0
          },
          "pattern": {
           "shape": ""
          }
         },
         "name": "11",
         "offsetgroup": "11",
         "orientation": "v",
         "showlegend": true,
         "textposition": "auto",
         "type": "bar",
         "x": [
          "neo4j",
          "blazegraph",
          "graphdb",
          "virtuoso",
          "kitt"
         ],
         "xaxis": "x13",
         "y": [
          0.0015974443359375,
          0.029793,
          0.005368,
          0.006057,
          0.002971460738
         ],
         "yaxis": "y13"
        },
        {
         "alignmentgroup": "True",
         "hovertemplate": "Query=11<br>=%{y}<br>size=5.0<extra></extra>",
         "legendgroup": "11",
         "marker": {
          "color": "#636efa",
          "line": {
           "width": 0
          },
          "pattern": {
           "shape": ""
          }
         },
         "name": "11",
         "offsetgroup": "11",
         "orientation": "v",
         "showlegend": false,
         "textposition": "auto",
         "type": "bar",
         "x": [
          "neo4j",
          "blazegraph",
          "graphdb",
          "virtuoso",
          "kitt"
         ],
         "xaxis": "x14",
         "y": [
          0.0016172255859375,
          0.016196,
          0.006703,
          0.005873,
          0.003817727026
         ],
         "yaxis": "y14"
        },
        {
         "alignmentgroup": "True",
         "hovertemplate": "Query=11<br>=%{y}<br>size=10.0<extra></extra>",
         "legendgroup": "11",
         "marker": {
          "color": "#636efa",
          "line": {
           "width": 0
          },
          "pattern": {
           "shape": ""
          }
         },
         "name": "11",
         "offsetgroup": "11",
         "orientation": "v",
         "showlegend": false,
         "textposition": "auto",
         "type": "bar",
         "x": [
          "neo4j",
          "blazegraph",
          "graphdb",
          "virtuoso",
          "kitt"
         ],
         "xaxis": "x15",
         "y": [
          0.0015789565429687499,
          0.016869,
          0.010603,
          0.006354,
          0.00374276522
         ],
         "yaxis": "y15"
        },
        {
         "alignmentgroup": "True",
         "hovertemplate": "Query=11<br>=%{y}<br>size=20.0<extra></extra>",
         "legendgroup": "11",
         "marker": {
          "color": "#636efa",
          "line": {
           "width": 0
          },
          "pattern": {
           "shape": ""
          }
         },
         "name": "11",
         "offsetgroup": "11",
         "orientation": "v",
         "showlegend": false,
         "textposition": "auto",
         "type": "bar",
         "x": [
          "neo4j",
          "blazegraph",
          "graphdb",
          "virtuoso",
          "kitt"
         ],
         "xaxis": "x16",
         "y": [
          0.00149454150390625,
          0.019122,
          0.014554,
          0.007943,
          0.005475979736
         ],
         "yaxis": "y16"
        },
        {
         "alignmentgroup": "True",
         "hovertemplate": "Query=11<br>=%{y}<br>size=50.0<extra></extra>",
         "legendgroup": "11",
         "marker": {
          "color": "#636efa",
          "line": {
           "width": 0
          },
          "pattern": {
           "shape": ""
          }
         },
         "name": "11",
         "offsetgroup": "11",
         "orientation": "v",
         "showlegend": false,
         "textposition": "auto",
         "type": "bar",
         "x": [
          "neo4j",
          "blazegraph",
          "graphdb",
          "virtuoso",
          "kitt"
         ],
         "xaxis": "x17",
         "y": [
          0.0014871406250000002,
          0.022655,
          0.015189,
          0.012613,
          0.00845331959
         ],
         "yaxis": "y17"
        },
        {
         "alignmentgroup": "True",
         "hovertemplate": "Query=11<br>=%{y}<br>size=100.0<extra></extra>",
         "legendgroup": "11",
         "marker": {
          "color": "#636efa",
          "line": {
           "width": 0
          },
          "pattern": {
           "shape": ""
          }
         },
         "name": "11",
         "offsetgroup": "11",
         "orientation": "v",
         "showlegend": false,
         "textposition": "auto",
         "type": "bar",
         "x": [
          "neo4j",
          "blazegraph",
          "graphdb",
          "virtuoso",
          "kitt"
         ],
         "xaxis": "x18",
         "y": [
          0.00163731982421875,
          0.021258,
          0.015306,
          0.020702,
          0.011360786966
         ],
         "yaxis": "y18"
        },
        {
         "alignmentgroup": "True",
         "hovertemplate": "Query=11<br>=%{y}<br>size=2.0<extra></extra>",
         "legendgroup": "11",
         "marker": {
          "color": "#636efa",
          "line": {
           "width": 0
          },
          "pattern": {
           "shape": ""
          }
         },
         "name": "11",
         "offsetgroup": "11",
         "orientation": "v",
         "showlegend": false,
         "textposition": "auto",
         "type": "bar",
         "x": [
          "neo4j",
          "blazegraph",
          "virtuoso",
          "graphdb",
          "kitt"
         ],
         "xaxis": "x7",
         "y": [
          0.01138451513671875,
          0.0043393037109375,
          0.0021957138671875,
          0.0039466904296875,
          0.0019078292846679687
         ],
         "yaxis": "y7"
        },
        {
         "alignmentgroup": "True",
         "hovertemplate": "Query=11<br>=%{y}<br>size=5.0<extra></extra>",
         "legendgroup": "11",
         "marker": {
          "color": "#636efa",
          "line": {
           "width": 0
          },
          "pattern": {
           "shape": ""
          }
         },
         "name": "11",
         "offsetgroup": "11",
         "orientation": "v",
         "showlegend": false,
         "textposition": "auto",
         "type": "bar",
         "x": [
          "neo4j",
          "blazegraph",
          "virtuoso",
          "graphdb",
          "kitt"
         ],
         "xaxis": "x8",
         "y": [
          0.010151517089843751,
          0.00475858154296875,
          0.002360908203125,
          0.0053309384765625,
          0.002098409652709961
         ],
         "yaxis": "y8"
        },
        {
         "alignmentgroup": "True",
         "hovertemplate": "Query=11<br>=%{y}<br>size=10.0<extra></extra>",
         "legendgroup": "11",
         "marker": {
          "color": "#636efa",
          "line": {
           "width": 0
          },
          "pattern": {
           "shape": ""
          }
         },
         "name": "11",
         "offsetgroup": "11",
         "orientation": "v",
         "showlegend": false,
         "textposition": "auto",
         "type": "bar",
         "x": [
          "neo4j",
          "blazegraph",
          "virtuoso",
          "graphdb",
          "kitt"
         ],
         "xaxis": "x9",
         "y": [
          0.0100738076171875,
          0.0045693837890625,
          0.00233320849609375,
          0.0078476572265625,
          0.002379678726196289
         ],
         "yaxis": "y9"
        },
        {
         "alignmentgroup": "True",
         "hovertemplate": "Query=11<br>=%{y}<br>size=20.0<extra></extra>",
         "legendgroup": "11",
         "marker": {
          "color": "#636efa",
          "line": {
           "width": 0
          },
          "pattern": {
           "shape": ""
          }
         },
         "name": "11",
         "offsetgroup": "11",
         "orientation": "v",
         "showlegend": false,
         "textposition": "auto",
         "type": "bar",
         "x": [
          "neo4j",
          "blazegraph",
          "virtuoso",
          "graphdb",
          "kitt"
         ],
         "xaxis": "x10",
         "y": [
          0.010137447265624999,
          0.0043882265625,
          0.002315771484375,
          0.00329136474609375,
          0.0021084208488464356
         ],
         "yaxis": "y10"
        },
        {
         "alignmentgroup": "True",
         "hovertemplate": "Query=11<br>=%{y}<br>size=50.0<extra></extra>",
         "legendgroup": "11",
         "marker": {
          "color": "#636efa",
          "line": {
           "width": 0
          },
          "pattern": {
           "shape": ""
          }
         },
         "name": "11",
         "offsetgroup": "11",
         "orientation": "v",
         "showlegend": false,
         "textposition": "auto",
         "type": "bar",
         "x": [
          "neo4j",
          "blazegraph",
          "virtuoso",
          "graphdb",
          "kitt"
         ],
         "xaxis": "x11",
         "y": [
          0.01040157861328125,
          0.00478116552734375,
          0.002313662109375,
          0.00335644384765625,
          0.0019946050643920897
         ],
         "yaxis": "y11"
        },
        {
         "alignmentgroup": "True",
         "hovertemplate": "Query=11<br>=%{y}<br>size=100.0<extra></extra>",
         "legendgroup": "11",
         "marker": {
          "color": "#636efa",
          "line": {
           "width": 0
          },
          "pattern": {
           "shape": ""
          }
         },
         "name": "11",
         "offsetgroup": "11",
         "orientation": "v",
         "showlegend": false,
         "textposition": "auto",
         "type": "bar",
         "x": [
          "neo4j",
          "blazegraph",
          "virtuoso",
          "graphdb",
          "kitt"
         ],
         "xaxis": "x12",
         "y": [
          0.00991717138671875,
          0.00432633984375,
          0.002201244140625,
          0.00302557861328125,
          0.0020308804512023924
         ],
         "yaxis": "y12"
        },
        {
         "alignmentgroup": "True",
         "hovertemplate": "Query=11<br>=%{y}<br>size=2.0<extra></extra>",
         "legendgroup": "11",
         "marker": {
          "color": "#636efa",
          "line": {
           "width": 0
          },
          "pattern": {
           "shape": ""
          }
         },
         "name": "11",
         "offsetgroup": "11",
         "orientation": "v",
         "showlegend": false,
         "textposition": "auto",
         "type": "bar",
         "x": [
          "neo4j",
          "blazegraph",
          "virtuoso",
          "graphdb",
          "kitt"
         ],
         "xaxis": "x",
         "y": [
          0.02852245263671875,
          0.3740580419921875,
          0.0592233447265625,
          0.11839650390625,
          0.015240111351013184
         ],
         "yaxis": "y"
        },
        {
         "alignmentgroup": "True",
         "hovertemplate": "Query=11<br>=%{y}<br>size=5.0<extra></extra>",
         "legendgroup": "11",
         "marker": {
          "color": "#636efa",
          "line": {
           "width": 0
          },
          "pattern": {
           "shape": ""
          }
         },
         "name": "11",
         "offsetgroup": "11",
         "orientation": "v",
         "showlegend": false,
         "textposition": "auto",
         "type": "bar",
         "x": [
          "neo4j",
          "blazegraph",
          "virtuoso",
          "graphdb",
          "kitt"
         ],
         "xaxis": "x2",
         "y": [
          0.07214077783203125,
          0.64635203125,
          0.166503359375,
          0.2801059912109375,
          0.015619535446166993
         ],
         "yaxis": "y2"
        },
        {
         "alignmentgroup": "True",
         "hovertemplate": "Query=11<br>=%{y}<br>size=10.0<extra></extra>",
         "legendgroup": "11",
         "marker": {
          "color": "#636efa",
          "line": {
           "width": 0
          },
          "pattern": {
           "shape": ""
          }
         },
         "name": "11",
         "offsetgroup": "11",
         "orientation": "v",
         "showlegend": false,
         "textposition": "auto",
         "type": "bar",
         "x": [
          "neo4j",
          "blazegraph",
          "virtuoso",
          "graphdb",
          "kitt"
         ],
         "xaxis": "x3",
         "y": [
          0.14773521923828126,
          1.0786342578124999,
          0.361420693359375,
          0.5422411962890625,
          0.016587767601013183
         ],
         "yaxis": "y3"
        },
        {
         "alignmentgroup": "True",
         "hovertemplate": "Query=11<br>=%{y}<br>size=20.0<extra></extra>",
         "legendgroup": "11",
         "marker": {
          "color": "#636efa",
          "line": {
           "width": 0
          },
          "pattern": {
           "shape": ""
          }
         },
         "name": "11",
         "offsetgroup": "11",
         "orientation": "v",
         "showlegend": false,
         "textposition": "auto",
         "type": "bar",
         "x": [
          "neo4j",
          "blazegraph",
          "virtuoso",
          "graphdb",
          "kitt"
         ],
         "xaxis": "x4",
         "y": [
          0.288483822265625,
          1.7471290527343748,
          0.8118735888671875,
          1.1747374267578126,
          0.01795107364654541
         ],
         "yaxis": "y4"
        },
        {
         "alignmentgroup": "True",
         "hovertemplate": "Query=11<br>=%{y}<br>size=50.0<extra></extra>",
         "legendgroup": "11",
         "marker": {
          "color": "#636efa",
          "line": {
           "width": 0
          },
          "pattern": {
           "shape": ""
          }
         },
         "name": "11",
         "offsetgroup": "11",
         "orientation": "v",
         "showlegend": false,
         "textposition": "auto",
         "type": "bar",
         "x": [
          "neo4j",
          "blazegraph",
          "virtuoso",
          "graphdb",
          "kitt"
         ],
         "xaxis": "x5",
         "y": [
          0.7681767294921875,
          4.215135703125,
          1.9628787011718751,
          2.743919677734375,
          0.023108391761779784
         ],
         "yaxis": "y5"
        },
        {
         "alignmentgroup": "True",
         "hovertemplate": "Query=11<br>=%{y}<br>size=100.0<extra></extra>",
         "legendgroup": "11",
         "marker": {
          "color": "#636efa",
          "line": {
           "width": 0
          },
          "pattern": {
           "shape": ""
          }
         },
         "name": "11",
         "offsetgroup": "11",
         "orientation": "v",
         "showlegend": false,
         "textposition": "auto",
         "type": "bar",
         "x": [
          "neo4j",
          "blazegraph",
          "virtuoso",
          "graphdb",
          "kitt"
         ],
         "xaxis": "x6",
         "y": [
          1.4899823291015626,
          9.070161918945312,
          3.9368251953125,
          5.610664340820312,
          0.03316752910614014
         ],
         "yaxis": "y6"
        },
        {
         "alignmentgroup": "True",
         "hovertemplate": "Query=12<br>=%{y}<br>size=2.0<extra></extra>",
         "legendgroup": "12",
         "marker": {
          "color": "#EF553B",
          "line": {
           "width": 0
          },
          "pattern": {
           "shape": ""
          }
         },
         "name": "12",
         "offsetgroup": "12",
         "orientation": "v",
         "showlegend": true,
         "textposition": "auto",
         "type": "bar",
         "x": [
          "neo4j",
          "blazegraph",
          "graphdb",
          "virtuoso",
          "kitt"
         ],
         "xaxis": "x13",
         "y": [
          0.0106442587890625,
          0.031063,
          0.005939,
          0.01619,
          0.0030281514299999998
         ],
         "yaxis": "y13"
        },
        {
         "alignmentgroup": "True",
         "hovertemplate": "Query=12<br>=%{y}<br>size=5.0<extra></extra>",
         "legendgroup": "12",
         "marker": {
          "color": "#EF553B",
          "line": {
           "width": 0
          },
          "pattern": {
           "shape": ""
          }
         },
         "name": "12",
         "offsetgroup": "12",
         "orientation": "v",
         "showlegend": false,
         "textposition": "auto",
         "type": "bar",
         "x": [
          "neo4j",
          "blazegraph",
          "graphdb",
          "virtuoso",
          "kitt"
         ],
         "xaxis": "x14",
         "y": [
          0.04428638134765625,
          0.019887,
          0.007398,
          0.013635,
          0.003888914338
         ],
         "yaxis": "y14"
        },
        {
         "alignmentgroup": "True",
         "hovertemplate": "Query=12<br>=%{y}<br>size=10.0<extra></extra>",
         "legendgroup": "12",
         "marker": {
          "color": "#EF553B",
          "line": {
           "width": 0
          },
          "pattern": {
           "shape": ""
          }
         },
         "name": "12",
         "offsetgroup": "12",
         "orientation": "v",
         "showlegend": false,
         "textposition": "auto",
         "type": "bar",
         "x": [
          "neo4j",
          "blazegraph",
          "graphdb",
          "virtuoso",
          "kitt"
         ],
         "xaxis": "x15",
         "y": [
          0.09574904931640625,
          0.020323,
          0.010976,
          0.013839,
          0.004183891282
         ],
         "yaxis": "y15"
        },
        {
         "alignmentgroup": "True",
         "hovertemplate": "Query=12<br>=%{y}<br>size=20.0<extra></extra>",
         "legendgroup": "12",
         "marker": {
          "color": "#EF553B",
          "line": {
           "width": 0
          },
          "pattern": {
           "shape": ""
          }
         },
         "name": "12",
         "offsetgroup": "12",
         "orientation": "v",
         "showlegend": false,
         "textposition": "auto",
         "type": "bar",
         "x": [
          "neo4j",
          "blazegraph",
          "graphdb",
          "virtuoso",
          "kitt"
         ],
         "xaxis": "x16",
         "y": [
          0.1963464013671875,
          0.021931,
          0.01581,
          0.016511,
          0.006317575502
         ],
         "yaxis": "y16"
        },
        {
         "alignmentgroup": "True",
         "hovertemplate": "Query=12<br>=%{y}<br>size=50.0<extra></extra>",
         "legendgroup": "12",
         "marker": {
          "color": "#EF553B",
          "line": {
           "width": 0
          },
          "pattern": {
           "shape": ""
          }
         },
         "name": "12",
         "offsetgroup": "12",
         "orientation": "v",
         "showlegend": false,
         "textposition": "auto",
         "type": "bar",
         "x": [
          "neo4j",
          "blazegraph",
          "graphdb",
          "virtuoso",
          "kitt"
         ],
         "xaxis": "x17",
         "y": [
          0.487009296875,
          0.02757,
          0.016077,
          0.016366,
          0.010995135372
         ],
         "yaxis": "y17"
        },
        {
         "alignmentgroup": "True",
         "hovertemplate": "Query=12<br>=%{y}<br>size=100.0<extra></extra>",
         "legendgroup": "12",
         "marker": {
          "color": "#EF553B",
          "line": {
           "width": 0
          },
          "pattern": {
           "shape": ""
          }
         },
         "name": "12",
         "offsetgroup": "12",
         "orientation": "v",
         "showlegend": false,
         "textposition": "auto",
         "type": "bar",
         "x": [
          "neo4j",
          "blazegraph",
          "graphdb",
          "virtuoso",
          "kitt"
         ],
         "xaxis": "x18",
         "y": [
          1.0978873666992188,
          0.026359,
          0.016211,
          0.021186,
          0.023741129588
         ],
         "yaxis": "y18"
        },
        {
         "alignmentgroup": "True",
         "hovertemplate": "Query=12<br>=%{y}<br>size=2.0<extra></extra>",
         "legendgroup": "12",
         "marker": {
          "color": "#EF553B",
          "line": {
           "width": 0
          },
          "pattern": {
           "shape": ""
          }
         },
         "name": "12",
         "offsetgroup": "12",
         "orientation": "v",
         "showlegend": false,
         "textposition": "auto",
         "type": "bar",
         "x": [
          "neo4j",
          "blazegraph",
          "virtuoso",
          "graphdb",
          "kitt"
         ],
         "xaxis": "x7",
         "y": [
          0.0015833320312500002,
          0.012844800292968752,
          0.00230299853515625,
          0.00222753515625,
          0.001250246524810791
         ],
         "yaxis": "y7"
        },
        {
         "alignmentgroup": "True",
         "hovertemplate": "Query=12<br>=%{y}<br>size=5.0<extra></extra>",
         "legendgroup": "12",
         "marker": {
          "color": "#EF553B",
          "line": {
           "width": 0
          },
          "pattern": {
           "shape": ""
          }
         },
         "name": "12",
         "offsetgroup": "12",
         "orientation": "v",
         "showlegend": false,
         "textposition": "auto",
         "type": "bar",
         "x": [
          "neo4j",
          "blazegraph",
          "virtuoso",
          "graphdb",
          "kitt"
         ],
         "xaxis": "x8",
         "y": [
          0.00216731298828125,
          0.013091408203125,
          0.0022922221679687496,
          0.00236466455078125,
          0.00123745059967041
         ],
         "yaxis": "y8"
        },
        {
         "alignmentgroup": "True",
         "hovertemplate": "Query=12<br>=%{y}<br>size=10.0<extra></extra>",
         "legendgroup": "12",
         "marker": {
          "color": "#EF553B",
          "line": {
           "width": 0
          },
          "pattern": {
           "shape": ""
          }
         },
         "name": "12",
         "offsetgroup": "12",
         "orientation": "v",
         "showlegend": false,
         "textposition": "auto",
         "type": "bar",
         "x": [
          "neo4j",
          "blazegraph",
          "virtuoso",
          "graphdb",
          "kitt"
         ],
         "xaxis": "x9",
         "y": [
          0.0029544521484375,
          0.01297122119140625,
          0.00223873291015625,
          0.00249465869140625,
          0.0013017563819885255
         ],
         "yaxis": "y9"
        },
        {
         "alignmentgroup": "True",
         "hovertemplate": "Query=12<br>=%{y}<br>size=20.0<extra></extra>",
         "legendgroup": "12",
         "marker": {
          "color": "#EF553B",
          "line": {
           "width": 0
          },
          "pattern": {
           "shape": ""
          }
         },
         "name": "12",
         "offsetgroup": "12",
         "orientation": "v",
         "showlegend": false,
         "textposition": "auto",
         "type": "bar",
         "x": [
          "neo4j",
          "blazegraph",
          "virtuoso",
          "graphdb",
          "kitt"
         ],
         "xaxis": "x10",
         "y": [
          0.00395521240234375,
          0.01324932666015625,
          0.002317296875,
          0.002448181640625,
          0.0012933549880981446
         ],
         "yaxis": "y10"
        },
        {
         "alignmentgroup": "True",
         "hovertemplate": "Query=12<br>=%{y}<br>size=50.0<extra></extra>",
         "legendgroup": "12",
         "marker": {
          "color": "#EF553B",
          "line": {
           "width": 0
          },
          "pattern": {
           "shape": ""
          }
         },
         "name": "12",
         "offsetgroup": "12",
         "orientation": "v",
         "showlegend": false,
         "textposition": "auto",
         "type": "bar",
         "x": [
          "neo4j",
          "blazegraph",
          "virtuoso",
          "graphdb",
          "kitt"
         ],
         "xaxis": "x11",
         "y": [
          0.00282910888671875,
          0.01330148583984375,
          0.00240716259765625,
          0.00231900537109375,
          0.001485684871673584
         ],
         "yaxis": "y11"
        },
        {
         "alignmentgroup": "True",
         "hovertemplate": "Query=12<br>=%{y}<br>size=100.0<extra></extra>",
         "legendgroup": "12",
         "marker": {
          "color": "#EF553B",
          "line": {
           "width": 0
          },
          "pattern": {
           "shape": ""
          }
         },
         "name": "12",
         "offsetgroup": "12",
         "orientation": "v",
         "showlegend": false,
         "textposition": "auto",
         "type": "bar",
         "x": [
          "neo4j",
          "blazegraph",
          "virtuoso",
          "graphdb",
          "kitt"
         ],
         "xaxis": "x12",
         "y": [
          0.00285056103515625,
          0.01275531640625,
          0.0023232309570312497,
          0.00241843701171875,
          0.0011875672340393066
         ],
         "yaxis": "y12"
        },
        {
         "alignmentgroup": "True",
         "hovertemplate": "Query=12<br>=%{y}<br>size=2.0<extra></extra>",
         "legendgroup": "12",
         "marker": {
          "color": "#EF553B",
          "line": {
           "width": 0
          },
          "pattern": {
           "shape": ""
          }
         },
         "name": "12",
         "offsetgroup": "12",
         "orientation": "v",
         "showlegend": false,
         "textposition": "auto",
         "type": "bar",
         "x": [
          "neo4j",
          "blazegraph",
          "virtuoso",
          "graphdb",
          "kitt"
         ],
         "xaxis": "x",
         "y": [
          0.00114169384765625,
          0.0155751513671875,
          0.0039264990234375,
          0.0032070751953125,
          0.002667121887207031
         ],
         "yaxis": "y"
        },
        {
         "alignmentgroup": "True",
         "hovertemplate": "Query=12<br>=%{y}<br>size=5.0<extra></extra>",
         "legendgroup": "12",
         "marker": {
          "color": "#EF553B",
          "line": {
           "width": 0
          },
          "pattern": {
           "shape": ""
          }
         },
         "name": "12",
         "offsetgroup": "12",
         "orientation": "v",
         "showlegend": false,
         "textposition": "auto",
         "type": "bar",
         "x": [
          "neo4j",
          "blazegraph",
          "virtuoso",
          "graphdb",
          "kitt"
         ],
         "xaxis": "x2",
         "y": [
          0.00120302685546875,
          0.01621060546875,
          0.0053337158203125,
          0.00265189453125,
          0.003144516944885254
         ],
         "yaxis": "y2"
        },
        {
         "alignmentgroup": "True",
         "hovertemplate": "Query=12<br>=%{y}<br>size=10.0<extra></extra>",
         "legendgroup": "12",
         "marker": {
          "color": "#EF553B",
          "line": {
           "width": 0
          },
          "pattern": {
           "shape": ""
          }
         },
         "name": "12",
         "offsetgroup": "12",
         "orientation": "v",
         "showlegend": false,
         "textposition": "auto",
         "type": "bar",
         "x": [
          "neo4j",
          "blazegraph",
          "virtuoso",
          "graphdb",
          "kitt"
         ],
         "xaxis": "x3",
         "y": [
          0.0005225581054687501,
          0.0159367041015625,
          0.0053587939453125,
          0.0030915673828125,
          0.0034101390838623047
         ],
         "yaxis": "y3"
        },
        {
         "alignmentgroup": "True",
         "hovertemplate": "Query=12<br>=%{y}<br>size=20.0<extra></extra>",
         "legendgroup": "12",
         "marker": {
          "color": "#EF553B",
          "line": {
           "width": 0
          },
          "pattern": {
           "shape": ""
          }
         },
         "name": "12",
         "offsetgroup": "12",
         "orientation": "v",
         "showlegend": false,
         "textposition": "auto",
         "type": "bar",
         "x": [
          "neo4j",
          "blazegraph",
          "virtuoso",
          "graphdb",
          "kitt"
         ],
         "xaxis": "x4",
         "y": [
          0.00042449267578124997,
          0.016358930664062497,
          0.0077302294921875,
          0.0033608056640625,
          0.002975301742553711
         ],
         "yaxis": "y4"
        },
        {
         "alignmentgroup": "True",
         "hovertemplate": "Query=12<br>=%{y}<br>size=50.0<extra></extra>",
         "legendgroup": "12",
         "marker": {
          "color": "#EF553B",
          "line": {
           "width": 0
          },
          "pattern": {
           "shape": ""
          }
         },
         "name": "12",
         "offsetgroup": "12",
         "orientation": "v",
         "showlegend": false,
         "textposition": "auto",
         "type": "bar",
         "x": [
          "neo4j",
          "blazegraph",
          "virtuoso",
          "graphdb",
          "kitt"
         ],
         "xaxis": "x5",
         "y": [
          0.0005450595703125,
          0.015155009765625,
          0.0069974072265625,
          0.0032261767578125,
          0.0045973253250122074
         ],
         "yaxis": "y5"
        },
        {
         "alignmentgroup": "True",
         "hovertemplate": "Query=12<br>=%{y}<br>size=100.0<extra></extra>",
         "legendgroup": "12",
         "marker": {
          "color": "#EF553B",
          "line": {
           "width": 0
          },
          "pattern": {
           "shape": ""
          }
         },
         "name": "12",
         "offsetgroup": "12",
         "orientation": "v",
         "showlegend": false,
         "textposition": "auto",
         "type": "bar",
         "x": [
          "neo4j",
          "blazegraph",
          "virtuoso",
          "graphdb",
          "kitt"
         ],
         "xaxis": "x6",
         "y": [
          0.001402060546875,
          0.013077988281250001,
          0.017611376953125,
          0.003512490234375,
          0.008098645210266113
         ],
         "yaxis": "y6"
        },
        {
         "alignmentgroup": "True",
         "hovertemplate": "Query=13<br>=%{y}<br>size=2.0<extra></extra>",
         "legendgroup": "13",
         "marker": {
          "color": "#00cc96",
          "line": {
           "width": 0
          },
          "pattern": {
           "shape": ""
          }
         },
         "name": "13",
         "offsetgroup": "13",
         "orientation": "v",
         "showlegend": true,
         "textposition": "auto",
         "type": "bar",
         "x": [
          "neo4j",
          "blazegraph",
          "virtuoso",
          "graphdb",
          "kitt"
         ],
         "xaxis": "x7",
         "y": [
          0.02323381494140625,
          0.021758365234375,
          0.0061649521484375,
          0.00195515478515625,
          0.0009241552352905274
         ],
         "yaxis": "y7"
        },
        {
         "alignmentgroup": "True",
         "hovertemplate": "Query=13<br>=%{y}<br>size=5.0<extra></extra>",
         "legendgroup": "13",
         "marker": {
          "color": "#00cc96",
          "line": {
           "width": 0
          },
          "pattern": {
           "shape": ""
          }
         },
         "name": "13",
         "offsetgroup": "13",
         "orientation": "v",
         "showlegend": false,
         "textposition": "auto",
         "type": "bar",
         "x": [
          "neo4j",
          "blazegraph",
          "virtuoso",
          "graphdb",
          "kitt"
         ],
         "xaxis": "x8",
         "y": [
          0.05913269677734375,
          0.021656032226562497,
          0.00671582275390625,
          0.0018491762695312499,
          0.0009971656799316407
         ],
         "yaxis": "y8"
        },
        {
         "alignmentgroup": "True",
         "hovertemplate": "Query=13<br>=%{y}<br>size=10.0<extra></extra>",
         "legendgroup": "13",
         "marker": {
          "color": "#00cc96",
          "line": {
           "width": 0
          },
          "pattern": {
           "shape": ""
          }
         },
         "name": "13",
         "offsetgroup": "13",
         "orientation": "v",
         "showlegend": false,
         "textposition": "auto",
         "type": "bar",
         "x": [
          "neo4j",
          "blazegraph",
          "virtuoso",
          "graphdb",
          "kitt"
         ],
         "xaxis": "x9",
         "y": [
          0.12612647802734375,
          0.02041063720703125,
          0.0065472773437500005,
          0.0019375478515625,
          0.0010831704139709472
         ],
         "yaxis": "y9"
        },
        {
         "alignmentgroup": "True",
         "hovertemplate": "Query=13<br>=%{y}<br>size=20.0<extra></extra>",
         "legendgroup": "13",
         "marker": {
          "color": "#00cc96",
          "line": {
           "width": 0
          },
          "pattern": {
           "shape": ""
          }
         },
         "name": "13",
         "offsetgroup": "13",
         "orientation": "v",
         "showlegend": false,
         "textposition": "auto",
         "type": "bar",
         "x": [
          "neo4j",
          "blazegraph",
          "virtuoso",
          "graphdb",
          "kitt"
         ],
         "xaxis": "x10",
         "y": [
          0.26006029345703124,
          0.02203978076171875,
          0.0079936279296875,
          0.0023060361328124997,
          0.0013532962799072267
         ],
         "yaxis": "y10"
        },
        {
         "alignmentgroup": "True",
         "hovertemplate": "Query=13<br>=%{y}<br>size=50.0<extra></extra>",
         "legendgroup": "13",
         "marker": {
          "color": "#00cc96",
          "line": {
           "width": 0
          },
          "pattern": {
           "shape": ""
          }
         },
         "name": "13",
         "offsetgroup": "13",
         "orientation": "v",
         "showlegend": false,
         "textposition": "auto",
         "type": "bar",
         "x": [
          "neo4j",
          "blazegraph",
          "virtuoso",
          "graphdb",
          "kitt"
         ],
         "xaxis": "x11",
         "y": [
          0.671137078125,
          0.021970329101562498,
          0.011815244140625,
          0.0029558789062500003,
          0.0021412615776062014
         ],
         "yaxis": "y11"
        },
        {
         "alignmentgroup": "True",
         "hovertemplate": "Query=13<br>=%{y}<br>size=100.0<extra></extra>",
         "legendgroup": "13",
         "marker": {
          "color": "#00cc96",
          "line": {
           "width": 0
          },
          "pattern": {
           "shape": ""
          }
         },
         "name": "13",
         "offsetgroup": "13",
         "orientation": "v",
         "showlegend": false,
         "textposition": "auto",
         "type": "bar",
         "x": [
          "neo4j",
          "blazegraph",
          "virtuoso",
          "graphdb",
          "kitt"
         ],
         "xaxis": "x12",
         "y": [
          1.3374018632812499,
          0.0210286171875,
          0.012370580078125,
          0.004020521484375,
          0.0047212295532226565
         ],
         "yaxis": "y12"
        },
        {
         "alignmentgroup": "True",
         "hovertemplate": "Query=14<br>=%{y}<br>size=2.0<extra></extra>",
         "legendgroup": "14",
         "marker": {
          "color": "#ab63fa",
          "line": {
           "width": 0
          },
          "pattern": {
           "shape": ""
          }
         },
         "name": "14",
         "offsetgroup": "14",
         "orientation": "v",
         "showlegend": true,
         "textposition": "auto",
         "type": "bar",
         "x": [
          "neo4j",
          "blazegraph",
          "virtuoso",
          "graphdb",
          "kitt"
         ],
         "xaxis": "x7",
         "y": [
          0.05028695068359375,
          0.0048057241210937495,
          0.006359328125,
          0.00626527978515625,
          0.004150991439819336
         ],
         "yaxis": "y7"
        },
        {
         "alignmentgroup": "True",
         "hovertemplate": "Query=14<br>=%{y}<br>size=5.0<extra></extra>",
         "legendgroup": "14",
         "marker": {
          "color": "#ab63fa",
          "line": {
           "width": 0
          },
          "pattern": {
           "shape": ""
          }
         },
         "name": "14",
         "offsetgroup": "14",
         "orientation": "v",
         "showlegend": false,
         "textposition": "auto",
         "type": "bar",
         "x": [
          "neo4j",
          "blazegraph",
          "virtuoso",
          "graphdb",
          "kitt"
         ],
         "xaxis": "x8",
         "y": [
          0.04973188330078125,
          0.00499055224609375,
          0.0060557421875,
          0.00622514794921875,
          0.005913183212280273
         ],
         "yaxis": "y8"
        },
        {
         "alignmentgroup": "True",
         "hovertemplate": "Query=14<br>=%{y}<br>size=10.0<extra></extra>",
         "legendgroup": "14",
         "marker": {
          "color": "#ab63fa",
          "line": {
           "width": 0
          },
          "pattern": {
           "shape": ""
          }
         },
         "name": "14",
         "offsetgroup": "14",
         "orientation": "v",
         "showlegend": false,
         "textposition": "auto",
         "type": "bar",
         "x": [
          "neo4j",
          "blazegraph",
          "virtuoso",
          "graphdb",
          "kitt"
         ],
         "xaxis": "x9",
         "y": [
          0.050754949707031254,
          0.005098916015625,
          0.006391837890625,
          0.0062702705078125,
          0.01082896375656128
         ],
         "yaxis": "y9"
        },
        {
         "alignmentgroup": "True",
         "hovertemplate": "Query=14<br>=%{y}<br>size=20.0<extra></extra>",
         "legendgroup": "14",
         "marker": {
          "color": "#ab63fa",
          "line": {
           "width": 0
          },
          "pattern": {
           "shape": ""
          }
         },
         "name": "14",
         "offsetgroup": "14",
         "orientation": "v",
         "showlegend": false,
         "textposition": "auto",
         "type": "bar",
         "x": [
          "neo4j",
          "blazegraph",
          "virtuoso",
          "graphdb",
          "kitt"
         ],
         "xaxis": "x10",
         "y": [
          0.05031946337890625,
          0.005445750488281251,
          0.00599652685546875,
          0.00582983544921875,
          0.01963018798828125
         ],
         "yaxis": "y10"
        },
        {
         "alignmentgroup": "True",
         "hovertemplate": "Query=14<br>=%{y}<br>size=50.0<extra></extra>",
         "legendgroup": "14",
         "marker": {
          "color": "#ab63fa",
          "line": {
           "width": 0
          },
          "pattern": {
           "shape": ""
          }
         },
         "name": "14",
         "offsetgroup": "14",
         "orientation": "v",
         "showlegend": false,
         "textposition": "auto",
         "type": "bar",
         "x": [
          "neo4j",
          "blazegraph",
          "virtuoso",
          "graphdb",
          "kitt"
         ],
         "xaxis": "x11",
         "y": [
          0.0504821572265625,
          0.00528228857421875,
          0.00636885693359375,
          0.00611714453125,
          0.042324004173278806
         ],
         "yaxis": "y11"
        },
        {
         "alignmentgroup": "True",
         "hovertemplate": "Query=14<br>=%{y}<br>size=100.0<extra></extra>",
         "legendgroup": "14",
         "marker": {
          "color": "#ab63fa",
          "line": {
           "width": 0
          },
          "pattern": {
           "shape": ""
          }
         },
         "name": "14",
         "offsetgroup": "14",
         "orientation": "v",
         "showlegend": false,
         "textposition": "auto",
         "type": "bar",
         "x": [
          "neo4j",
          "blazegraph",
          "virtuoso",
          "graphdb",
          "kitt"
         ],
         "xaxis": "x12",
         "y": [
          0.050316993164062504,
          0.0054394130859375,
          0.0070285029296875,
          0.00620108935546875,
          0.0006041526794433594
         ],
         "yaxis": "y12"
        }
       ],
       "layout": {
        "annotations": [
         {
          "font": {},
          "showarrow": false,
          "text": "2.0",
          "x": 0.0725,
          "xanchor": "center",
          "xref": "paper",
          "y": 0.9999999999999999,
          "yanchor": "bottom",
          "yref": "paper"
         },
         {
          "font": {},
          "showarrow": false,
          "text": "5.0",
          "x": 0.23949999999999996,
          "xanchor": "center",
          "xref": "paper",
          "y": 0.9999999999999999,
          "yanchor": "bottom",
          "yref": "paper"
         },
         {
          "font": {},
          "showarrow": false,
          "text": "10.0",
          "x": 0.4065,
          "xanchor": "center",
          "xref": "paper",
          "y": 0.9999999999999999,
          "yanchor": "bottom",
          "yref": "paper"
         },
         {
          "font": {},
          "showarrow": false,
          "text": "20.0",
          "x": 0.5734999999999999,
          "xanchor": "center",
          "xref": "paper",
          "y": 0.9999999999999999,
          "yanchor": "bottom",
          "yref": "paper"
         },
         {
          "font": {},
          "showarrow": false,
          "text": "50.0",
          "x": 0.7404999999999999,
          "xanchor": "center",
          "xref": "paper",
          "y": 0.9999999999999999,
          "yanchor": "bottom",
          "yref": "paper"
         },
         {
          "font": {},
          "showarrow": false,
          "text": "100.0",
          "x": 0.9075,
          "xanchor": "center",
          "xref": "paper",
          "y": 0.9999999999999999,
          "yanchor": "bottom",
          "yref": "paper"
         },
         {
          "font": {},
          "showarrow": false,
          "text": "dtbm",
          "textangle": 90,
          "x": 0.98,
          "xanchor": "left",
          "xref": "paper",
          "y": 0.15333333333333332,
          "yanchor": "middle",
          "yref": "paper"
         },
         {
          "font": {},
          "showarrow": false,
          "text": "lubm",
          "textangle": 90,
          "x": 0.98,
          "xanchor": "left",
          "xref": "paper",
          "y": 0.5,
          "yanchor": "middle",
          "yref": "paper"
         },
         {
          "font": {},
          "showarrow": false,
          "text": "bsbm",
          "textangle": 90,
          "x": 0.98,
          "xanchor": "left",
          "xref": "paper",
          "y": 0.8466666666666666,
          "yanchor": "middle",
          "yref": "paper"
         }
        ],
        "barmode": "relative",
        "legend": {
         "orientation": "h",
         "title": {
          "text": "Query"
         },
         "tracegroupgap": 0,
         "x": 1,
         "xanchor": "right",
         "y": 1.05,
         "yanchor": "bottom"
        },
        "margin": {
         "t": 60
        },
        "template": {
         "data": {
          "bar": [
           {
            "error_x": {
             "color": "#2a3f5f"
            },
            "error_y": {
             "color": "#2a3f5f"
            },
            "marker": {
             "line": {
              "color": "white",
              "width": 0.5
             },
             "pattern": {
              "fillmode": "overlay",
              "size": 10,
              "solidity": 0.2
             }
            },
            "type": "bar"
           }
          ],
          "barpolar": [
           {
            "marker": {
             "line": {
              "color": "white",
              "width": 0.5
             },
             "pattern": {
              "fillmode": "overlay",
              "size": 10,
              "solidity": 0.2
             }
            },
            "type": "barpolar"
           }
          ],
          "carpet": [
           {
            "aaxis": {
             "endlinecolor": "#2a3f5f",
             "gridcolor": "#C8D4E3",
             "linecolor": "#C8D4E3",
             "minorgridcolor": "#C8D4E3",
             "startlinecolor": "#2a3f5f"
            },
            "baxis": {
             "endlinecolor": "#2a3f5f",
             "gridcolor": "#C8D4E3",
             "linecolor": "#C8D4E3",
             "minorgridcolor": "#C8D4E3",
             "startlinecolor": "#2a3f5f"
            },
            "type": "carpet"
           }
          ],
          "choropleth": [
           {
            "colorbar": {
             "outlinewidth": 0,
             "ticks": ""
            },
            "type": "choropleth"
           }
          ],
          "contour": [
           {
            "colorbar": {
             "outlinewidth": 0,
             "ticks": ""
            },
            "colorscale": [
             [
              0,
              "#0d0887"
             ],
             [
              0.1111111111111111,
              "#46039f"
             ],
             [
              0.2222222222222222,
              "#7201a8"
             ],
             [
              0.3333333333333333,
              "#9c179e"
             ],
             [
              0.4444444444444444,
              "#bd3786"
             ],
             [
              0.5555555555555556,
              "#d8576b"
             ],
             [
              0.6666666666666666,
              "#ed7953"
             ],
             [
              0.7777777777777778,
              "#fb9f3a"
             ],
             [
              0.8888888888888888,
              "#fdca26"
             ],
             [
              1,
              "#f0f921"
             ]
            ],
            "type": "contour"
           }
          ],
          "contourcarpet": [
           {
            "colorbar": {
             "outlinewidth": 0,
             "ticks": ""
            },
            "type": "contourcarpet"
           }
          ],
          "heatmap": [
           {
            "colorbar": {
             "outlinewidth": 0,
             "ticks": ""
            },
            "colorscale": [
             [
              0,
              "#0d0887"
             ],
             [
              0.1111111111111111,
              "#46039f"
             ],
             [
              0.2222222222222222,
              "#7201a8"
             ],
             [
              0.3333333333333333,
              "#9c179e"
             ],
             [
              0.4444444444444444,
              "#bd3786"
             ],
             [
              0.5555555555555556,
              "#d8576b"
             ],
             [
              0.6666666666666666,
              "#ed7953"
             ],
             [
              0.7777777777777778,
              "#fb9f3a"
             ],
             [
              0.8888888888888888,
              "#fdca26"
             ],
             [
              1,
              "#f0f921"
             ]
            ],
            "type": "heatmap"
           }
          ],
          "heatmapgl": [
           {
            "colorbar": {
             "outlinewidth": 0,
             "ticks": ""
            },
            "colorscale": [
             [
              0,
              "#0d0887"
             ],
             [
              0.1111111111111111,
              "#46039f"
             ],
             [
              0.2222222222222222,
              "#7201a8"
             ],
             [
              0.3333333333333333,
              "#9c179e"
             ],
             [
              0.4444444444444444,
              "#bd3786"
             ],
             [
              0.5555555555555556,
              "#d8576b"
             ],
             [
              0.6666666666666666,
              "#ed7953"
             ],
             [
              0.7777777777777778,
              "#fb9f3a"
             ],
             [
              0.8888888888888888,
              "#fdca26"
             ],
             [
              1,
              "#f0f921"
             ]
            ],
            "type": "heatmapgl"
           }
          ],
          "histogram": [
           {
            "marker": {
             "pattern": {
              "fillmode": "overlay",
              "size": 10,
              "solidity": 0.2
             }
            },
            "type": "histogram"
           }
          ],
          "histogram2d": [
           {
            "colorbar": {
             "outlinewidth": 0,
             "ticks": ""
            },
            "colorscale": [
             [
              0,
              "#0d0887"
             ],
             [
              0.1111111111111111,
              "#46039f"
             ],
             [
              0.2222222222222222,
              "#7201a8"
             ],
             [
              0.3333333333333333,
              "#9c179e"
             ],
             [
              0.4444444444444444,
              "#bd3786"
             ],
             [
              0.5555555555555556,
              "#d8576b"
             ],
             [
              0.6666666666666666,
              "#ed7953"
             ],
             [
              0.7777777777777778,
              "#fb9f3a"
             ],
             [
              0.8888888888888888,
              "#fdca26"
             ],
             [
              1,
              "#f0f921"
             ]
            ],
            "type": "histogram2d"
           }
          ],
          "histogram2dcontour": [
           {
            "colorbar": {
             "outlinewidth": 0,
             "ticks": ""
            },
            "colorscale": [
             [
              0,
              "#0d0887"
             ],
             [
              0.1111111111111111,
              "#46039f"
             ],
             [
              0.2222222222222222,
              "#7201a8"
             ],
             [
              0.3333333333333333,
              "#9c179e"
             ],
             [
              0.4444444444444444,
              "#bd3786"
             ],
             [
              0.5555555555555556,
              "#d8576b"
             ],
             [
              0.6666666666666666,
              "#ed7953"
             ],
             [
              0.7777777777777778,
              "#fb9f3a"
             ],
             [
              0.8888888888888888,
              "#fdca26"
             ],
             [
              1,
              "#f0f921"
             ]
            ],
            "type": "histogram2dcontour"
           }
          ],
          "mesh3d": [
           {
            "colorbar": {
             "outlinewidth": 0,
             "ticks": ""
            },
            "type": "mesh3d"
           }
          ],
          "parcoords": [
           {
            "line": {
             "colorbar": {
              "outlinewidth": 0,
              "ticks": ""
             }
            },
            "type": "parcoords"
           }
          ],
          "pie": [
           {
            "automargin": true,
            "type": "pie"
           }
          ],
          "scatter": [
           {
            "marker": {
             "colorbar": {
              "outlinewidth": 0,
              "ticks": ""
             }
            },
            "type": "scatter"
           }
          ],
          "scatter3d": [
           {
            "line": {
             "colorbar": {
              "outlinewidth": 0,
              "ticks": ""
             }
            },
            "marker": {
             "colorbar": {
              "outlinewidth": 0,
              "ticks": ""
             }
            },
            "type": "scatter3d"
           }
          ],
          "scattercarpet": [
           {
            "marker": {
             "colorbar": {
              "outlinewidth": 0,
              "ticks": ""
             }
            },
            "type": "scattercarpet"
           }
          ],
          "scattergeo": [
           {
            "marker": {
             "colorbar": {
              "outlinewidth": 0,
              "ticks": ""
             }
            },
            "type": "scattergeo"
           }
          ],
          "scattergl": [
           {
            "marker": {
             "colorbar": {
              "outlinewidth": 0,
              "ticks": ""
             }
            },
            "type": "scattergl"
           }
          ],
          "scattermapbox": [
           {
            "marker": {
             "colorbar": {
              "outlinewidth": 0,
              "ticks": ""
             }
            },
            "type": "scattermapbox"
           }
          ],
          "scatterpolar": [
           {
            "marker": {
             "colorbar": {
              "outlinewidth": 0,
              "ticks": ""
             }
            },
            "type": "scatterpolar"
           }
          ],
          "scatterpolargl": [
           {
            "marker": {
             "colorbar": {
              "outlinewidth": 0,
              "ticks": ""
             }
            },
            "type": "scatterpolargl"
           }
          ],
          "scatterternary": [
           {
            "marker": {
             "colorbar": {
              "outlinewidth": 0,
              "ticks": ""
             }
            },
            "type": "scatterternary"
           }
          ],
          "surface": [
           {
            "colorbar": {
             "outlinewidth": 0,
             "ticks": ""
            },
            "colorscale": [
             [
              0,
              "#0d0887"
             ],
             [
              0.1111111111111111,
              "#46039f"
             ],
             [
              0.2222222222222222,
              "#7201a8"
             ],
             [
              0.3333333333333333,
              "#9c179e"
             ],
             [
              0.4444444444444444,
              "#bd3786"
             ],
             [
              0.5555555555555556,
              "#d8576b"
             ],
             [
              0.6666666666666666,
              "#ed7953"
             ],
             [
              0.7777777777777778,
              "#fb9f3a"
             ],
             [
              0.8888888888888888,
              "#fdca26"
             ],
             [
              1,
              "#f0f921"
             ]
            ],
            "type": "surface"
           }
          ],
          "table": [
           {
            "cells": {
             "fill": {
              "color": "#EBF0F8"
             },
             "line": {
              "color": "white"
             }
            },
            "header": {
             "fill": {
              "color": "#C8D4E3"
             },
             "line": {
              "color": "white"
             }
            },
            "type": "table"
           }
          ]
         },
         "layout": {
          "annotationdefaults": {
           "arrowcolor": "#2a3f5f",
           "arrowhead": 0,
           "arrowwidth": 1
          },
          "autotypenumbers": "strict",
          "coloraxis": {
           "colorbar": {
            "outlinewidth": 0,
            "ticks": ""
           }
          },
          "colorscale": {
           "diverging": [
            [
             0,
             "#8e0152"
            ],
            [
             0.1,
             "#c51b7d"
            ],
            [
             0.2,
             "#de77ae"
            ],
            [
             0.3,
             "#f1b6da"
            ],
            [
             0.4,
             "#fde0ef"
            ],
            [
             0.5,
             "#f7f7f7"
            ],
            [
             0.6,
             "#e6f5d0"
            ],
            [
             0.7,
             "#b8e186"
            ],
            [
             0.8,
             "#7fbc41"
            ],
            [
             0.9,
             "#4d9221"
            ],
            [
             1,
             "#276419"
            ]
           ],
           "sequential": [
            [
             0,
             "#0d0887"
            ],
            [
             0.1111111111111111,
             "#46039f"
            ],
            [
             0.2222222222222222,
             "#7201a8"
            ],
            [
             0.3333333333333333,
             "#9c179e"
            ],
            [
             0.4444444444444444,
             "#bd3786"
            ],
            [
             0.5555555555555556,
             "#d8576b"
            ],
            [
             0.6666666666666666,
             "#ed7953"
            ],
            [
             0.7777777777777778,
             "#fb9f3a"
            ],
            [
             0.8888888888888888,
             "#fdca26"
            ],
            [
             1,
             "#f0f921"
            ]
           ],
           "sequentialminus": [
            [
             0,
             "#0d0887"
            ],
            [
             0.1111111111111111,
             "#46039f"
            ],
            [
             0.2222222222222222,
             "#7201a8"
            ],
            [
             0.3333333333333333,
             "#9c179e"
            ],
            [
             0.4444444444444444,
             "#bd3786"
            ],
            [
             0.5555555555555556,
             "#d8576b"
            ],
            [
             0.6666666666666666,
             "#ed7953"
            ],
            [
             0.7777777777777778,
             "#fb9f3a"
            ],
            [
             0.8888888888888888,
             "#fdca26"
            ],
            [
             1,
             "#f0f921"
            ]
           ]
          },
          "colorway": [
           "#636efa",
           "#EF553B",
           "#00cc96",
           "#ab63fa",
           "#FFA15A",
           "#19d3f3",
           "#FF6692",
           "#B6E880",
           "#FF97FF",
           "#FECB52"
          ],
          "font": {
           "color": "#2a3f5f"
          },
          "geo": {
           "bgcolor": "white",
           "lakecolor": "white",
           "landcolor": "white",
           "showlakes": true,
           "showland": true,
           "subunitcolor": "#C8D4E3"
          },
          "hoverlabel": {
           "align": "left"
          },
          "hovermode": "closest",
          "mapbox": {
           "style": "light"
          },
          "paper_bgcolor": "white",
          "plot_bgcolor": "white",
          "polar": {
           "angularaxis": {
            "gridcolor": "#EBF0F8",
            "linecolor": "#EBF0F8",
            "ticks": ""
           },
           "bgcolor": "white",
           "radialaxis": {
            "gridcolor": "#EBF0F8",
            "linecolor": "#EBF0F8",
            "ticks": ""
           }
          },
          "scene": {
           "xaxis": {
            "backgroundcolor": "white",
            "gridcolor": "#DFE8F3",
            "gridwidth": 2,
            "linecolor": "#EBF0F8",
            "showbackground": true,
            "ticks": "",
            "zerolinecolor": "#EBF0F8"
           },
           "yaxis": {
            "backgroundcolor": "white",
            "gridcolor": "#DFE8F3",
            "gridwidth": 2,
            "linecolor": "#EBF0F8",
            "showbackground": true,
            "ticks": "",
            "zerolinecolor": "#EBF0F8"
           },
           "zaxis": {
            "backgroundcolor": "white",
            "gridcolor": "#DFE8F3",
            "gridwidth": 2,
            "linecolor": "#EBF0F8",
            "showbackground": true,
            "ticks": "",
            "zerolinecolor": "#EBF0F8"
           }
          },
          "shapedefaults": {
           "line": {
            "color": "#2a3f5f"
           }
          },
          "ternary": {
           "aaxis": {
            "gridcolor": "#DFE8F3",
            "linecolor": "#A2B1C6",
            "ticks": ""
           },
           "baxis": {
            "gridcolor": "#DFE8F3",
            "linecolor": "#A2B1C6",
            "ticks": ""
           },
           "bgcolor": "white",
           "caxis": {
            "gridcolor": "#DFE8F3",
            "linecolor": "#A2B1C6",
            "ticks": ""
           }
          },
          "title": {
           "x": 0.05
          },
          "xaxis": {
           "automargin": true,
           "gridcolor": "#EBF0F8",
           "linecolor": "#EBF0F8",
           "ticks": "",
           "title": {
            "standoff": 15
           },
           "zerolinecolor": "#EBF0F8",
           "zerolinewidth": 2
          },
          "yaxis": {
           "automargin": true,
           "gridcolor": "#EBF0F8",
           "linecolor": "#EBF0F8",
           "ticks": "",
           "title": {
            "standoff": 15
           },
           "zerolinecolor": "#EBF0F8",
           "zerolinewidth": 2
          }
         }
        },
        "xaxis": {
         "anchor": "y",
         "domain": [
          0,
          0.145
         ],
         "title": {
          "text": ""
         }
        },
        "xaxis10": {
         "anchor": "y10",
         "domain": [
          0.5009999999999999,
          0.6459999999999999
         ],
         "matches": "x",
         "showticklabels": false
        },
        "xaxis11": {
         "anchor": "y11",
         "domain": [
          0.6679999999999999,
          0.813
         ],
         "matches": "x",
         "showticklabels": false
        },
        "xaxis12": {
         "anchor": "y12",
         "domain": [
          0.835,
          0.98
         ],
         "matches": "x",
         "showticklabels": false
        },
        "xaxis13": {
         "anchor": "y13",
         "domain": [
          0,
          0.145
         ],
         "matches": "x",
         "showticklabels": false
        },
        "xaxis14": {
         "anchor": "y14",
         "domain": [
          0.16699999999999998,
          0.31199999999999994
         ],
         "matches": "x",
         "showticklabels": false
        },
        "xaxis15": {
         "anchor": "y15",
         "domain": [
          0.33399999999999996,
          0.479
         ],
         "matches": "x",
         "showticklabels": false
        },
        "xaxis16": {
         "anchor": "y16",
         "domain": [
          0.5009999999999999,
          0.6459999999999999
         ],
         "matches": "x",
         "showticklabels": false
        },
        "xaxis17": {
         "anchor": "y17",
         "domain": [
          0.6679999999999999,
          0.813
         ],
         "matches": "x",
         "showticklabels": false
        },
        "xaxis18": {
         "anchor": "y18",
         "domain": [
          0.835,
          0.98
         ],
         "matches": "x",
         "showticklabels": false
        },
        "xaxis2": {
         "anchor": "y2",
         "domain": [
          0.16699999999999998,
          0.31199999999999994
         ],
         "matches": "x",
         "title": {
          "text": ""
         }
        },
        "xaxis3": {
         "anchor": "y3",
         "domain": [
          0.33399999999999996,
          0.479
         ],
         "matches": "x",
         "title": {
          "text": "backend type"
         }
        },
        "xaxis4": {
         "anchor": "y4",
         "domain": [
          0.5009999999999999,
          0.6459999999999999
         ],
         "matches": "x",
         "title": {
          "text": ""
         }
        },
        "xaxis5": {
         "anchor": "y5",
         "domain": [
          0.6679999999999999,
          0.813
         ],
         "matches": "x",
         "title": {
          "text": ""
         }
        },
        "xaxis6": {
         "anchor": "y6",
         "domain": [
          0.835,
          0.98
         ],
         "matches": "x",
         "title": {
          "text": ""
         }
        },
        "xaxis7": {
         "anchor": "y7",
         "domain": [
          0,
          0.145
         ],
         "matches": "x",
         "showticklabels": false
        },
        "xaxis8": {
         "anchor": "y8",
         "domain": [
          0.16699999999999998,
          0.31199999999999994
         ],
         "matches": "x",
         "showticklabels": false
        },
        "xaxis9": {
         "anchor": "y9",
         "domain": [
          0.33399999999999996,
          0.479
         ],
         "matches": "x",
         "showticklabels": false
        },
        "yaxis": {
         "anchor": "x",
         "domain": [
          0,
          0.30666666666666664
         ],
         "showticklabels": true,
         "title": {
          "text": ""
         }
        },
        "yaxis10": {
         "anchor": "x10",
         "domain": [
          0.3466666666666666,
          0.6533333333333333
         ],
         "showticklabels": true
        },
        "yaxis11": {
         "anchor": "x11",
         "domain": [
          0.3466666666666666,
          0.6533333333333333
         ],
         "showticklabels": true
        },
        "yaxis12": {
         "anchor": "x12",
         "domain": [
          0.3466666666666666,
          0.6533333333333333
         ],
         "showticklabels": true
        },
        "yaxis13": {
         "anchor": "x13",
         "domain": [
          0.6933333333333332,
          0.9999999999999999
         ],
         "showticklabels": true,
         "title": {
          "text": ""
         }
        },
        "yaxis14": {
         "anchor": "x14",
         "domain": [
          0.6933333333333332,
          0.9999999999999999
         ],
         "showticklabels": true
        },
        "yaxis15": {
         "anchor": "x15",
         "domain": [
          0.6933333333333332,
          0.9999999999999999
         ],
         "showticklabels": true
        },
        "yaxis16": {
         "anchor": "x16",
         "domain": [
          0.6933333333333332,
          0.9999999999999999
         ],
         "showticklabels": true
        },
        "yaxis17": {
         "anchor": "x17",
         "domain": [
          0.6933333333333332,
          0.9999999999999999
         ],
         "showticklabels": true
        },
        "yaxis18": {
         "anchor": "x18",
         "domain": [
          0.6933333333333332,
          0.9999999999999999
         ],
         "showticklabels": true
        },
        "yaxis2": {
         "anchor": "x2",
         "domain": [
          0,
          0.30666666666666664
         ],
         "showticklabels": true
        },
        "yaxis3": {
         "anchor": "x3",
         "domain": [
          0,
          0.30666666666666664
         ],
         "showticklabels": true
        },
        "yaxis4": {
         "anchor": "x4",
         "domain": [
          0,
          0.30666666666666664
         ],
         "showticklabels": true
        },
        "yaxis5": {
         "anchor": "x5",
         "domain": [
          0,
          0.30666666666666664
         ],
         "showticklabels": true
        },
        "yaxis6": {
         "anchor": "x6",
         "domain": [
          0,
          0.30666666666666664
         ],
         "showticklabels": true
        },
        "yaxis7": {
         "anchor": "x7",
         "domain": [
          0.3466666666666666,
          0.6533333333333333
         ],
         "showticklabels": true,
         "title": {
          "text": "response time in seconds"
         }
        },
        "yaxis8": {
         "anchor": "x8",
         "domain": [
          0.3466666666666666,
          0.6533333333333333
         ],
         "showticklabels": true
        },
        "yaxis9": {
         "anchor": "x9",
         "domain": [
          0.3466666666666666,
          0.6533333333333333
         ],
         "showticklabels": true
        }
       }
      }
     },
     "metadata": {},
     "output_type": "display_data"
    }
   ],
   "source": [
    "fig=px.bar(data_frame=df, x='database', y='time_avg', color='query_idc', facet_col='size', facet_row='bench',facet_row_spacing=0.04, facet_col_spacing=0.022,\n",
    "    labels = {'database': '', 'time_avg': '', 'query_idc': 'Query', 'bench': ''}, template = 'plotly_white')\n",
    "fig.update_layout(legend=dict(orientation=\"h\", yanchor=\"bottom\", xanchor=\"right\", x=1, y=1.05))\n",
    "fig.for_each_annotation(lambda a: a.update(text=a.text.split(\"=\")[-1]))\n",
    "fig.update_yaxes(matches=None, showticklabels=True)\n",
    "fig.update_traces(marker_line_width=0)\n",
    "fig.layout.yaxis7.title.text = 'response time in seconds'\n",
    "fig.layout.xaxis3.title.text = 'backend type'\n",
    "fig"
   ]
  },
  {
   "cell_type": "code",
   "execution_count": 245,
   "metadata": {},
   "outputs": [],
   "source": [
    "#fig.write_image(\"all_time_avg.pdf\", width=1200, height=500)"
   ]
  },
  {
   "cell_type": "code",
   "execution_count": 246,
   "metadata": {},
   "outputs": [
    {
     "data": {
      "application/vnd.plotly.v1+json": {
       "config": {
        "plotlyServerURL": "https://plot.ly"
       },
       "data": [
        {
         "alignmentgroup": "True",
         "hovertemplate": "Query=1<br>=%{y}<br>size=2.0<extra></extra>",
         "legendgroup": "1",
         "marker": {
          "color": "#636efa",
          "line": {
           "width": 0
          },
          "pattern": {
           "shape": ""
          }
         },
         "name": "1",
         "offsetgroup": "1",
         "orientation": "v",
         "showlegend": true,
         "textposition": "auto",
         "type": "bar",
         "x": [
          "neo4j",
          "blazegraph",
          "graphdb",
          "virtuoso",
          "kitt"
         ],
         "xaxis": "x13",
         "y": [
          0.015741265625,
          0.036807,
          0.005833,
          0.013366,
          0.003330434286
         ],
         "yaxis": "y13"
        },
        {
         "alignmentgroup": "True",
         "hovertemplate": "Query=1<br>=%{y}<br>size=5.0<extra></extra>",
         "legendgroup": "1",
         "marker": {
          "color": "#636efa",
          "line": {
           "width": 0
          },
          "pattern": {
           "shape": ""
          }
         },
         "name": "1",
         "offsetgroup": "1",
         "orientation": "v",
         "showlegend": false,
         "textposition": "auto",
         "type": "bar",
         "x": [
          "neo4j",
          "blazegraph",
          "graphdb",
          "virtuoso",
          "kitt"
         ],
         "xaxis": "x14",
         "y": [
          0.0555723642578125,
          0.024327,
          0.007154,
          0.013085,
          0.004293517914
         ],
         "yaxis": "y14"
        },
        {
         "alignmentgroup": "True",
         "hovertemplate": "Query=1<br>=%{y}<br>size=10.0<extra></extra>",
         "legendgroup": "1",
         "marker": {
          "color": "#636efa",
          "line": {
           "width": 0
          },
          "pattern": {
           "shape": ""
          }
         },
         "name": "1",
         "offsetgroup": "1",
         "orientation": "v",
         "showlegend": false,
         "textposition": "auto",
         "type": "bar",
         "x": [
          "neo4j",
          "blazegraph",
          "graphdb",
          "virtuoso",
          "kitt"
         ],
         "xaxis": "x15",
         "y": [
          0.13372214208984373,
          0.024152,
          0.01104,
          0.013944,
          0.00582592088
         ],
         "yaxis": "y15"
        },
        {
         "alignmentgroup": "True",
         "hovertemplate": "Query=1<br>=%{y}<br>size=20.0<extra></extra>",
         "legendgroup": "1",
         "marker": {
          "color": "#636efa",
          "line": {
           "width": 0
          },
          "pattern": {
           "shape": ""
          }
         },
         "name": "1",
         "offsetgroup": "1",
         "orientation": "v",
         "showlegend": false,
         "textposition": "auto",
         "type": "bar",
         "x": [
          "neo4j",
          "blazegraph",
          "graphdb",
          "virtuoso",
          "kitt"
         ],
         "xaxis": "x16",
         "y": [
          0.202287380859375,
          0.02424,
          0.014842,
          0.015803,
          0.008378241916
         ],
         "yaxis": "y16"
        },
        {
         "alignmentgroup": "True",
         "hovertemplate": "Query=1<br>=%{y}<br>size=50.0<extra></extra>",
         "legendgroup": "1",
         "marker": {
          "color": "#636efa",
          "line": {
           "width": 0
          },
          "pattern": {
           "shape": ""
          }
         },
         "name": "1",
         "offsetgroup": "1",
         "orientation": "v",
         "showlegend": false,
         "textposition": "auto",
         "type": "bar",
         "x": [
          "neo4j",
          "blazegraph",
          "graphdb",
          "virtuoso",
          "kitt"
         ],
         "xaxis": "x17",
         "y": [
          0.7202112177734376,
          0.028805,
          0.015978,
          0.01535,
          0.020728969886000002
         ],
         "yaxis": "y17"
        },
        {
         "alignmentgroup": "True",
         "hovertemplate": "Query=1<br>=%{y}<br>size=100.0<extra></extra>",
         "legendgroup": "1",
         "marker": {
          "color": "#636efa",
          "line": {
           "width": 0
          },
          "pattern": {
           "shape": ""
          }
         },
         "name": "1",
         "offsetgroup": "1",
         "orientation": "v",
         "showlegend": false,
         "textposition": "auto",
         "type": "bar",
         "x": [
          "neo4j",
          "blazegraph",
          "graphdb",
          "virtuoso",
          "kitt"
         ],
         "xaxis": "x18",
         "y": [
          1.4942202578125,
          0.028286,
          0.015606,
          0.019826,
          0.038873284134
         ],
         "yaxis": "y18"
        },
        {
         "alignmentgroup": "True",
         "hovertemplate": "Query=1<br>=%{y}<br>size=2.0<extra></extra>",
         "legendgroup": "1",
         "marker": {
          "color": "#636efa",
          "line": {
           "width": 0
          },
          "pattern": {
           "shape": ""
          }
         },
         "name": "1",
         "offsetgroup": "1",
         "orientation": "v",
         "showlegend": false,
         "textposition": "auto",
         "type": "bar",
         "x": [
          "neo4j",
          "blazegraph",
          "virtuoso",
          "graphdb",
          "kitt"
         ],
         "xaxis": "x7",
         "y": [
          0.009100491699218751,
          0.0149341025390625,
          0.0014744394531250001,
          0.00371251708984375,
          0.0022367782592773435
         ],
         "yaxis": "y7"
        },
        {
         "alignmentgroup": "True",
         "hovertemplate": "Query=1<br>=%{y}<br>size=5.0<extra></extra>",
         "legendgroup": "1",
         "marker": {
          "color": "#636efa",
          "line": {
           "width": 0
          },
          "pattern": {
           "shape": ""
          }
         },
         "name": "1",
         "offsetgroup": "1",
         "orientation": "v",
         "showlegend": false,
         "textposition": "auto",
         "type": "bar",
         "x": [
          "neo4j",
          "blazegraph",
          "virtuoso",
          "graphdb",
          "kitt"
         ],
         "xaxis": "x8",
         "y": [
          0.021516547363281253,
          0.014855982421875,
          0.0013956181640625,
          0.0036991088867187496,
          0.0018474726676940918
         ],
         "yaxis": "y8"
        },
        {
         "alignmentgroup": "True",
         "hovertemplate": "Query=1<br>=%{y}<br>size=10.0<extra></extra>",
         "legendgroup": "1",
         "marker": {
          "color": "#636efa",
          "line": {
           "width": 0
          },
          "pattern": {
           "shape": ""
          }
         },
         "name": "1",
         "offsetgroup": "1",
         "orientation": "v",
         "showlegend": false,
         "textposition": "auto",
         "type": "bar",
         "x": [
          "neo4j",
          "blazegraph",
          "virtuoso",
          "graphdb",
          "kitt"
         ],
         "xaxis": "x9",
         "y": [
          0.04330873828125,
          0.01483575390625,
          0.00143387939453125,
          0.0036673608398437503,
          0.0018397164344787597
         ],
         "yaxis": "y9"
        },
        {
         "alignmentgroup": "True",
         "hovertemplate": "Query=1<br>=%{y}<br>size=20.0<extra></extra>",
         "legendgroup": "1",
         "marker": {
          "color": "#636efa",
          "line": {
           "width": 0
          },
          "pattern": {
           "shape": ""
          }
         },
         "name": "1",
         "offsetgroup": "1",
         "orientation": "v",
         "showlegend": false,
         "textposition": "auto",
         "type": "bar",
         "x": [
          "neo4j",
          "blazegraph",
          "virtuoso",
          "graphdb",
          "kitt"
         ],
         "xaxis": "x10",
         "y": [
          0.08960845654296876,
          0.014894598632812499,
          0.00139517529296875,
          0.0038978125000000002,
          0.0018209285736083985
         ],
         "yaxis": "y10"
        },
        {
         "alignmentgroup": "True",
         "hovertemplate": "Query=1<br>=%{y}<br>size=50.0<extra></extra>",
         "legendgroup": "1",
         "marker": {
          "color": "#636efa",
          "line": {
           "width": 0
          },
          "pattern": {
           "shape": ""
          }
         },
         "name": "1",
         "offsetgroup": "1",
         "orientation": "v",
         "showlegend": false,
         "textposition": "auto",
         "type": "bar",
         "x": [
          "neo4j",
          "blazegraph",
          "virtuoso",
          "graphdb",
          "kitt"
         ],
         "xaxis": "x11",
         "y": [
          0.21680092431640624,
          0.0145234140625,
          0.00145980712890625,
          0.003846908203125,
          0.0016732473373413086
         ],
         "yaxis": "y11"
        },
        {
         "alignmentgroup": "True",
         "hovertemplate": "Query=1<br>=%{y}<br>size=100.0<extra></extra>",
         "legendgroup": "1",
         "marker": {
          "color": "#636efa",
          "line": {
           "width": 0
          },
          "pattern": {
           "shape": ""
          }
         },
         "name": "1",
         "offsetgroup": "1",
         "orientation": "v",
         "showlegend": false,
         "textposition": "auto",
         "type": "bar",
         "x": [
          "neo4j",
          "blazegraph",
          "virtuoso",
          "graphdb",
          "kitt"
         ],
         "xaxis": "x12",
         "y": [
          0.44487723925781253,
          0.01538190185546875,
          0.0012012119140625,
          0.004080625,
          0.0019875288009643553
         ],
         "yaxis": "y12"
        },
        {
         "alignmentgroup": "True",
         "hovertemplate": "Query=1<br>=%{y}<br>size=2.0<extra></extra>",
         "legendgroup": "1",
         "marker": {
          "color": "#636efa",
          "line": {
           "width": 0
          },
          "pattern": {
           "shape": ""
          }
         },
         "name": "1",
         "offsetgroup": "1",
         "orientation": "v",
         "showlegend": false,
         "textposition": "auto",
         "type": "bar",
         "x": [
          "neo4j",
          "blazegraph",
          "virtuoso",
          "graphdb",
          "kitt"
         ],
         "xaxis": "x",
         "y": [
          0.08895180517578125,
          0.023825727539062497,
          0.02471337890625,
          0.0242131201171875,
          0.032431726455688474
         ],
         "yaxis": "y"
        },
        {
         "alignmentgroup": "True",
         "hovertemplate": "Query=1<br>=%{y}<br>size=5.0<extra></extra>",
         "legendgroup": "1",
         "marker": {
          "color": "#636efa",
          "line": {
           "width": 0
          },
          "pattern": {
           "shape": ""
          }
         },
         "name": "1",
         "offsetgroup": "1",
         "orientation": "v",
         "showlegend": false,
         "textposition": "auto",
         "type": "bar",
         "x": [
          "neo4j",
          "blazegraph",
          "virtuoso",
          "graphdb",
          "kitt"
         ],
         "xaxis": "x2",
         "y": [
          0.08953201123046875,
          0.0241469873046875,
          0.02522482421875,
          0.0245729443359375,
          0.03554289340972901
         ],
         "yaxis": "y2"
        },
        {
         "alignmentgroup": "True",
         "hovertemplate": "Query=1<br>=%{y}<br>size=10.0<extra></extra>",
         "legendgroup": "1",
         "marker": {
          "color": "#636efa",
          "line": {
           "width": 0
          },
          "pattern": {
           "shape": ""
          }
         },
         "name": "1",
         "offsetgroup": "1",
         "orientation": "v",
         "showlegend": false,
         "textposition": "auto",
         "type": "bar",
         "x": [
          "neo4j",
          "blazegraph",
          "virtuoso",
          "graphdb",
          "kitt"
         ],
         "xaxis": "x3",
         "y": [
          0.089540013671875,
          0.026212221679687498,
          0.026366059570312503,
          0.0237267041015625,
          0.03480334758758545
         ],
         "yaxis": "y3"
        },
        {
         "alignmentgroup": "True",
         "hovertemplate": "Query=1<br>=%{y}<br>size=20.0<extra></extra>",
         "legendgroup": "1",
         "marker": {
          "color": "#636efa",
          "line": {
           "width": 0
          },
          "pattern": {
           "shape": ""
          }
         },
         "name": "1",
         "offsetgroup": "1",
         "orientation": "v",
         "showlegend": false,
         "textposition": "auto",
         "type": "bar",
         "x": [
          "neo4j",
          "blazegraph",
          "virtuoso",
          "graphdb",
          "kitt"
         ],
         "xaxis": "x4",
         "y": [
          0.09263939746093751,
          0.0232531884765625,
          0.028532724609374997,
          0.0253224365234375,
          0.03878109931945801
         ],
         "yaxis": "y4"
        },
        {
         "alignmentgroup": "True",
         "hovertemplate": "Query=1<br>=%{y}<br>size=50.0<extra></extra>",
         "legendgroup": "1",
         "marker": {
          "color": "#636efa",
          "line": {
           "width": 0
          },
          "pattern": {
           "shape": ""
          }
         },
         "name": "1",
         "offsetgroup": "1",
         "orientation": "v",
         "showlegend": false,
         "textposition": "auto",
         "type": "bar",
         "x": [
          "neo4j",
          "blazegraph",
          "virtuoso",
          "graphdb",
          "kitt"
         ],
         "xaxis": "x5",
         "y": [
          0.09199915087890626,
          0.024580405273437498,
          0.030499086914062497,
          0.023959975585937498,
          0.05167287826538086
         ],
         "yaxis": "y5"
        },
        {
         "alignmentgroup": "True",
         "hovertemplate": "Query=1<br>=%{y}<br>size=100.0<extra></extra>",
         "legendgroup": "1",
         "marker": {
          "color": "#636efa",
          "line": {
           "width": 0
          },
          "pattern": {
           "shape": ""
          }
         },
         "name": "1",
         "offsetgroup": "1",
         "orientation": "v",
         "showlegend": false,
         "textposition": "auto",
         "type": "bar",
         "x": [
          "neo4j",
          "blazegraph",
          "virtuoso",
          "graphdb",
          "kitt"
         ],
         "xaxis": "x6",
         "y": [
          0.09607605468750001,
          0.023829702148437503,
          0.085605322265625,
          0.025165708007812503,
          0.07537221431732177
         ],
         "yaxis": "y6"
        },
        {
         "alignmentgroup": "True",
         "hovertemplate": "Query=2<br>=%{y}<br>size=2.0<extra></extra>",
         "legendgroup": "2",
         "marker": {
          "color": "#EF553B",
          "line": {
           "width": 0
          },
          "pattern": {
           "shape": ""
          }
         },
         "name": "2",
         "offsetgroup": "2",
         "orientation": "v",
         "showlegend": true,
         "textposition": "auto",
         "type": "bar",
         "x": [
          "neo4j",
          "blazegraph",
          "graphdb",
          "virtuoso",
          "kitt"
         ],
         "xaxis": "x13",
         "y": [
          0.00370122265625,
          0.032153,
          0.007207,
          0.019127,
          0.004028640212333333
         ],
         "yaxis": "y13"
        },
        {
         "alignmentgroup": "True",
         "hovertemplate": "Query=2<br>=%{y}<br>size=5.0<extra></extra>",
         "legendgroup": "2",
         "marker": {
          "color": "#EF553B",
          "line": {
           "width": 0
          },
          "pattern": {
           "shape": ""
          }
         },
         "name": "2",
         "offsetgroup": "2",
         "orientation": "v",
         "showlegend": false,
         "textposition": "auto",
         "type": "bar",
         "x": [
          "neo4j",
          "blazegraph",
          "graphdb",
          "virtuoso",
          "kitt"
         ],
         "xaxis": "x14",
         "y": [
          0.00458393115234375,
          0.050248,
          0.010479,
          0.019605,
          0.005668908768333334
         ],
         "yaxis": "y14"
        },
        {
         "alignmentgroup": "True",
         "hovertemplate": "Query=2<br>=%{y}<br>size=10.0<extra></extra>",
         "legendgroup": "2",
         "marker": {
          "color": "#EF553B",
          "line": {
           "width": 0
          },
          "pattern": {
           "shape": ""
          }
         },
         "name": "2",
         "offsetgroup": "2",
         "orientation": "v",
         "showlegend": false,
         "textposition": "auto",
         "type": "bar",
         "x": [
          "neo4j",
          "blazegraph",
          "graphdb",
          "virtuoso",
          "kitt"
         ],
         "xaxis": "x15",
         "y": [
          0.0086688232421875,
          0.035906,
          0.014336,
          0.020952,
          0.009142378627666667
         ],
         "yaxis": "y15"
        },
        {
         "alignmentgroup": "True",
         "hovertemplate": "Query=2<br>=%{y}<br>size=20.0<extra></extra>",
         "legendgroup": "2",
         "marker": {
          "color": "#EF553B",
          "line": {
           "width": 0
          },
          "pattern": {
           "shape": ""
          }
         },
         "name": "2",
         "offsetgroup": "2",
         "orientation": "v",
         "showlegend": false,
         "textposition": "auto",
         "type": "bar",
         "x": [
          "neo4j",
          "blazegraph",
          "graphdb",
          "virtuoso",
          "kitt"
         ],
         "xaxis": "x16",
         "y": [
          0.0168399365234375,
          0.032,
          0.019971,
          0.023734,
          0.015729716870666665
         ],
         "yaxis": "y16"
        },
        {
         "alignmentgroup": "True",
         "hovertemplate": "Query=2<br>=%{y}<br>size=50.0<extra></extra>",
         "legendgroup": "2",
         "marker": {
          "color": "#EF553B",
          "line": {
           "width": 0
          },
          "pattern": {
           "shape": ""
          }
         },
         "name": "2",
         "offsetgroup": "2",
         "orientation": "v",
         "showlegend": false,
         "textposition": "auto",
         "type": "bar",
         "x": [
          "neo4j",
          "blazegraph",
          "graphdb",
          "virtuoso",
          "kitt"
         ],
         "xaxis": "x17",
         "y": [
          0.043098587402343756,
          0.031684,
          0.02377,
          0.022718,
          0.029710936538333333
         ],
         "yaxis": "y17"
        },
        {
         "alignmentgroup": "True",
         "hovertemplate": "Query=2<br>=%{y}<br>size=100.0<extra></extra>",
         "legendgroup": "2",
         "marker": {
          "color": "#EF553B",
          "line": {
           "width": 0
          },
          "pattern": {
           "shape": ""
          }
         },
         "name": "2",
         "offsetgroup": "2",
         "orientation": "v",
         "showlegend": false,
         "textposition": "auto",
         "type": "bar",
         "x": [
          "neo4j",
          "blazegraph",
          "graphdb",
          "virtuoso",
          "kitt"
         ],
         "xaxis": "x18",
         "y": [
          0.086270869140625,
          0.033106,
          0.024901,
          0.022701,
          0.03731465093466667
         ],
         "yaxis": "y18"
        },
        {
         "alignmentgroup": "True",
         "hovertemplate": "Query=2<br>=%{y}<br>size=2.0<extra></extra>",
         "legendgroup": "2",
         "marker": {
          "color": "#EF553B",
          "line": {
           "width": 0
          },
          "pattern": {
           "shape": ""
          }
         },
         "name": "2",
         "offsetgroup": "2",
         "orientation": "v",
         "showlegend": false,
         "textposition": "auto",
         "type": "bar",
         "x": [
          "neo4j",
          "blazegraph",
          "virtuoso",
          "graphdb",
          "kitt"
         ],
         "xaxis": "x7",
         "y": [
          0.0013407968750000002,
          0.022153683105468752,
          0.00175512548828125,
          0.00317000341796875,
          0.010469590187072754
         ],
         "yaxis": "y7"
        },
        {
         "alignmentgroup": "True",
         "hovertemplate": "Query=2<br>=%{y}<br>size=5.0<extra></extra>",
         "legendgroup": "2",
         "marker": {
          "color": "#EF553B",
          "line": {
           "width": 0
          },
          "pattern": {
           "shape": ""
          }
         },
         "name": "2",
         "offsetgroup": "2",
         "orientation": "v",
         "showlegend": false,
         "textposition": "auto",
         "type": "bar",
         "x": [
          "neo4j",
          "blazegraph",
          "virtuoso",
          "graphdb",
          "kitt"
         ],
         "xaxis": "x8",
         "y": [
          0.003976182128906249,
          0.021790481445312503,
          0.00248417578125,
          0.004046825195312499,
          0.015339503288269043
         ],
         "yaxis": "y8"
        },
        {
         "alignmentgroup": "True",
         "hovertemplate": "Query=2<br>=%{y}<br>size=10.0<extra></extra>",
         "legendgroup": "2",
         "marker": {
          "color": "#EF553B",
          "line": {
           "width": 0
          },
          "pattern": {
           "shape": ""
          }
         },
         "name": "2",
         "offsetgroup": "2",
         "orientation": "v",
         "showlegend": false,
         "textposition": "auto",
         "type": "bar",
         "x": [
          "neo4j",
          "blazegraph",
          "virtuoso",
          "graphdb",
          "kitt"
         ],
         "xaxis": "x9",
         "y": [
          0.01427393212890625,
          0.0198281982421875,
          0.00450111474609375,
          0.009482208007812501,
          0.025580451011657714
         ],
         "yaxis": "y9"
        },
        {
         "alignmentgroup": "True",
         "hovertemplate": "Query=2<br>=%{y}<br>size=20.0<extra></extra>",
         "legendgroup": "2",
         "marker": {
          "color": "#EF553B",
          "line": {
           "width": 0
          },
          "pattern": {
           "shape": ""
          }
         },
         "name": "2",
         "offsetgroup": "2",
         "orientation": "v",
         "showlegend": false,
         "textposition": "auto",
         "type": "bar",
         "x": [
          "neo4j",
          "blazegraph",
          "virtuoso",
          "graphdb",
          "kitt"
         ],
         "xaxis": "x10",
         "y": [
          0.041973585937499995,
          0.05801337548828125,
          0.01315715234375,
          0.030371470703125,
          0.0528911600112915
         ],
         "yaxis": "y10"
        },
        {
         "alignmentgroup": "True",
         "hovertemplate": "Query=2<br>=%{y}<br>size=50.0<extra></extra>",
         "legendgroup": "2",
         "marker": {
          "color": "#EF553B",
          "line": {
           "width": 0
          },
          "pattern": {
           "shape": ""
          }
         },
         "name": "2",
         "offsetgroup": "2",
         "orientation": "v",
         "showlegend": false,
         "textposition": "auto",
         "type": "bar",
         "x": [
          "neo4j",
          "blazegraph",
          "virtuoso",
          "graphdb",
          "kitt"
         ],
         "xaxis": "x11",
         "y": [
          0.26363683251953124,
          0.2555188291015625,
          0.06961165673828125,
          0.2165671357421875,
          0.11383852291107177
         ],
         "yaxis": "y11"
        },
        {
         "alignmentgroup": "True",
         "hovertemplate": "Query=2<br>=%{y}<br>size=100.0<extra></extra>",
         "legendgroup": "2",
         "marker": {
          "color": "#EF553B",
          "line": {
           "width": 0
          },
          "pattern": {
           "shape": ""
          }
         },
         "name": "2",
         "offsetgroup": "2",
         "orientation": "v",
         "showlegend": false,
         "textposition": "auto",
         "type": "bar",
         "x": [
          "neo4j",
          "blazegraph",
          "virtuoso",
          "graphdb",
          "kitt"
         ],
         "xaxis": "x12",
         "y": [
          0.5352271474609376,
          1.042155240234375,
          0.13990564208984374,
          0.48778658642578127,
          0.2654448218345642
         ],
         "yaxis": "y12"
        },
        {
         "alignmentgroup": "True",
         "hovertemplate": "Query=2<br>=%{y}<br>size=2.0<extra></extra>",
         "legendgroup": "2",
         "marker": {
          "color": "#EF553B",
          "line": {
           "width": 0
          },
          "pattern": {
           "shape": ""
          }
         },
         "name": "2",
         "offsetgroup": "2",
         "orientation": "v",
         "showlegend": false,
         "textposition": "auto",
         "type": "bar",
         "x": [
          "neo4j",
          "blazegraph",
          "virtuoso",
          "graphdb",
          "kitt"
         ],
         "xaxis": "x",
         "y": [
          0.0214430302734375,
          0.01280064453125,
          0.0042330322265625,
          0.00863146484375,
          0.01048147201538086
         ],
         "yaxis": "y"
        },
        {
         "alignmentgroup": "True",
         "hovertemplate": "Query=2<br>=%{y}<br>size=5.0<extra></extra>",
         "legendgroup": "2",
         "marker": {
          "color": "#EF553B",
          "line": {
           "width": 0
          },
          "pattern": {
           "shape": ""
          }
         },
         "name": "2",
         "offsetgroup": "2",
         "orientation": "v",
         "showlegend": false,
         "textposition": "auto",
         "type": "bar",
         "x": [
          "neo4j",
          "blazegraph",
          "virtuoso",
          "graphdb",
          "kitt"
         ],
         "xaxis": "x2",
         "y": [
          0.048382621093749995,
          0.01703544921875,
          0.0078560888671875,
          0.0135926416015625,
          0.01220829963684082
         ],
         "yaxis": "y2"
        },
        {
         "alignmentgroup": "True",
         "hovertemplate": "Query=2<br>=%{y}<br>size=10.0<extra></extra>",
         "legendgroup": "2",
         "marker": {
          "color": "#EF553B",
          "line": {
           "width": 0
          },
          "pattern": {
           "shape": ""
          }
         },
         "name": "2",
         "offsetgroup": "2",
         "orientation": "v",
         "showlegend": false,
         "textposition": "auto",
         "type": "bar",
         "x": [
          "neo4j",
          "blazegraph",
          "virtuoso",
          "graphdb",
          "kitt"
         ],
         "xaxis": "x3",
         "y": [
          0.09199162255859375,
          0.029801005859375,
          0.0149220361328125,
          0.020540107421875,
          0.011076884269714355
         ],
         "yaxis": "y3"
        },
        {
         "alignmentgroup": "True",
         "hovertemplate": "Query=2<br>=%{y}<br>size=20.0<extra></extra>",
         "legendgroup": "2",
         "marker": {
          "color": "#EF553B",
          "line": {
           "width": 0
          },
          "pattern": {
           "shape": ""
          }
         },
         "name": "2",
         "offsetgroup": "2",
         "orientation": "v",
         "showlegend": false,
         "textposition": "auto",
         "type": "bar",
         "x": [
          "neo4j",
          "blazegraph",
          "virtuoso",
          "graphdb",
          "kitt"
         ],
         "xaxis": "x4",
         "y": [
          0.09597072802734376,
          0.031340927734375,
          0.0164286328125,
          0.019848955078125,
          0.01171323299407959
         ],
         "yaxis": "y4"
        },
        {
         "alignmentgroup": "True",
         "hovertemplate": "Query=2<br>=%{y}<br>size=50.0<extra></extra>",
         "legendgroup": "2",
         "marker": {
          "color": "#EF553B",
          "line": {
           "width": 0
          },
          "pattern": {
           "shape": ""
          }
         },
         "name": "2",
         "offsetgroup": "2",
         "orientation": "v",
         "showlegend": false,
         "textposition": "auto",
         "type": "bar",
         "x": [
          "neo4j",
          "blazegraph",
          "virtuoso",
          "graphdb",
          "kitt"
         ],
         "xaxis": "x5",
         "y": [
          0.0943238193359375,
          0.030355205078125,
          0.014896347656250001,
          0.0208323291015625,
          0.012889628410339355
         ],
         "yaxis": "y5"
        },
        {
         "alignmentgroup": "True",
         "hovertemplate": "Query=2<br>=%{y}<br>size=100.0<extra></extra>",
         "legendgroup": "2",
         "marker": {
          "color": "#EF553B",
          "line": {
           "width": 0
          },
          "pattern": {
           "shape": ""
          }
         },
         "name": "2",
         "offsetgroup": "2",
         "orientation": "v",
         "showlegend": false,
         "textposition": "auto",
         "type": "bar",
         "x": [
          "neo4j",
          "blazegraph",
          "virtuoso",
          "graphdb",
          "kitt"
         ],
         "xaxis": "x6",
         "y": [
          0.09804486328125,
          0.031558349609375,
          0.019003271484374997,
          0.022111123046875,
          0.018128695487976073
         ],
         "yaxis": "y6"
        },
        {
         "alignmentgroup": "True",
         "hovertemplate": "Query=3<br>=%{y}<br>size=2.0<extra></extra>",
         "legendgroup": "3",
         "marker": {
          "color": "#00cc96",
          "line": {
           "width": 0
          },
          "pattern": {
           "shape": ""
          }
         },
         "name": "3",
         "offsetgroup": "3",
         "orientation": "v",
         "showlegend": true,
         "textposition": "auto",
         "type": "bar",
         "x": [
          "neo4j",
          "blazegraph",
          "graphdb",
          "virtuoso",
          "kitt"
         ],
         "xaxis": "x13",
         "y": [
          0.007113554199218749,
          0.037863,
          0.006798,
          0.01207,
          0.003492487804
         ],
         "yaxis": "y13"
        },
        {
         "alignmentgroup": "True",
         "hovertemplate": "Query=3<br>=%{y}<br>size=5.0<extra></extra>",
         "legendgroup": "3",
         "marker": {
          "color": "#00cc96",
          "line": {
           "width": 0
          },
          "pattern": {
           "shape": ""
          }
         },
         "name": "3",
         "offsetgroup": "3",
         "orientation": "v",
         "showlegend": false,
         "textposition": "auto",
         "type": "bar",
         "x": [
          "neo4j",
          "blazegraph",
          "graphdb",
          "virtuoso",
          "kitt"
         ],
         "xaxis": "x14",
         "y": [
          0.0116257138671875,
          0.026894,
          0.008845,
          0.011768,
          0.00487140614
         ],
         "yaxis": "y14"
        },
        {
         "alignmentgroup": "True",
         "hovertemplate": "Query=3<br>=%{y}<br>size=10.0<extra></extra>",
         "legendgroup": "3",
         "marker": {
          "color": "#00cc96",
          "line": {
           "width": 0
          },
          "pattern": {
           "shape": ""
          }
         },
         "name": "3",
         "offsetgroup": "3",
         "orientation": "v",
         "showlegend": false,
         "textposition": "auto",
         "type": "bar",
         "x": [
          "neo4j",
          "blazegraph",
          "graphdb",
          "virtuoso",
          "kitt"
         ],
         "xaxis": "x15",
         "y": [
          0.0200560654296875,
          0.025893,
          0.012605,
          0.013042,
          0.00711414072
         ],
         "yaxis": "y15"
        },
        {
         "alignmentgroup": "True",
         "hovertemplate": "Query=3<br>=%{y}<br>size=20.0<extra></extra>",
         "legendgroup": "3",
         "marker": {
          "color": "#00cc96",
          "line": {
           "width": 0
          },
          "pattern": {
           "shape": ""
          }
         },
         "name": "3",
         "offsetgroup": "3",
         "orientation": "v",
         "showlegend": false,
         "textposition": "auto",
         "type": "bar",
         "x": [
          "neo4j",
          "blazegraph",
          "graphdb",
          "virtuoso",
          "kitt"
         ],
         "xaxis": "x16",
         "y": [
          0.030728765625,
          0.029315,
          0.016453,
          0.016158,
          0.010423540948
         ],
         "yaxis": "y16"
        },
        {
         "alignmentgroup": "True",
         "hovertemplate": "Query=3<br>=%{y}<br>size=50.0<extra></extra>",
         "legendgroup": "3",
         "marker": {
          "color": "#00cc96",
          "line": {
           "width": 0
          },
          "pattern": {
           "shape": ""
          }
         },
         "name": "3",
         "offsetgroup": "3",
         "orientation": "v",
         "showlegend": false,
         "textposition": "auto",
         "type": "bar",
         "x": [
          "neo4j",
          "blazegraph",
          "graphdb",
          "virtuoso",
          "kitt"
         ],
         "xaxis": "x17",
         "y": [
          0.07172113916015625,
          0.032648,
          0.018804,
          0.016,
          0.02453803582
         ],
         "yaxis": "y17"
        },
        {
         "alignmentgroup": "True",
         "hovertemplate": "Query=3<br>=%{y}<br>size=100.0<extra></extra>",
         "legendgroup": "3",
         "marker": {
          "color": "#00cc96",
          "line": {
           "width": 0
          },
          "pattern": {
           "shape": ""
          }
         },
         "name": "3",
         "offsetgroup": "3",
         "orientation": "v",
         "showlegend": false,
         "textposition": "auto",
         "type": "bar",
         "x": [
          "neo4j",
          "blazegraph",
          "graphdb",
          "virtuoso",
          "kitt"
         ],
         "xaxis": "x18",
         "y": [
          0.186166001953125,
          0.033078,
          0.019394,
          0.015604,
          0.053276746928
         ],
         "yaxis": "y18"
        },
        {
         "alignmentgroup": "True",
         "hovertemplate": "Query=3<br>=%{y}<br>size=2.0<extra></extra>",
         "legendgroup": "3",
         "marker": {
          "color": "#00cc96",
          "line": {
           "width": 0
          },
          "pattern": {
           "shape": ""
          }
         },
         "name": "3",
         "offsetgroup": "3",
         "orientation": "v",
         "showlegend": false,
         "textposition": "auto",
         "type": "bar",
         "x": [
          "neo4j",
          "blazegraph",
          "virtuoso",
          "graphdb",
          "kitt"
         ],
         "xaxis": "x7",
         "y": [
          0.018069666015625,
          0.0129873974609375,
          0.001387890625,
          0.00237948828125,
          0.0013708524703979492
         ],
         "yaxis": "y7"
        },
        {
         "alignmentgroup": "True",
         "hovertemplate": "Query=3<br>=%{y}<br>size=5.0<extra></extra>",
         "legendgroup": "3",
         "marker": {
          "color": "#00cc96",
          "line": {
           "width": 0
          },
          "pattern": {
           "shape": ""
          }
         },
         "name": "3",
         "offsetgroup": "3",
         "orientation": "v",
         "showlegend": false,
         "textposition": "auto",
         "type": "bar",
         "x": [
          "neo4j",
          "blazegraph",
          "virtuoso",
          "graphdb",
          "kitt"
         ],
         "xaxis": "x8",
         "y": [
          0.050273056152343745,
          0.01298199365234375,
          0.00137385986328125,
          0.00200204736328125,
          0.0011725292205810548
         ],
         "yaxis": "y8"
        },
        {
         "alignmentgroup": "True",
         "hovertemplate": "Query=3<br>=%{y}<br>size=10.0<extra></extra>",
         "legendgroup": "3",
         "marker": {
          "color": "#00cc96",
          "line": {
           "width": 0
          },
          "pattern": {
           "shape": ""
          }
         },
         "name": "3",
         "offsetgroup": "3",
         "orientation": "v",
         "showlegend": false,
         "textposition": "auto",
         "type": "bar",
         "x": [
          "neo4j",
          "blazegraph",
          "virtuoso",
          "graphdb",
          "kitt"
         ],
         "xaxis": "x9",
         "y": [
          0.10132908935546875,
          0.01274114892578125,
          0.00097841259765625,
          0.00226211376953125,
          0.001180687427520752
         ],
         "yaxis": "y9"
        },
        {
         "alignmentgroup": "True",
         "hovertemplate": "Query=3<br>=%{y}<br>size=20.0<extra></extra>",
         "legendgroup": "3",
         "marker": {
          "color": "#00cc96",
          "line": {
           "width": 0
          },
          "pattern": {
           "shape": ""
          }
         },
         "name": "3",
         "offsetgroup": "3",
         "orientation": "v",
         "showlegend": false,
         "textposition": "auto",
         "type": "bar",
         "x": [
          "neo4j",
          "blazegraph",
          "virtuoso",
          "graphdb",
          "kitt"
         ],
         "xaxis": "x10",
         "y": [
          0.21317272705078125,
          0.01271565576171875,
          0.00098728076171875,
          0.00245265576171875,
          0.0010745134353637696
         ],
         "yaxis": "y10"
        },
        {
         "alignmentgroup": "True",
         "hovertemplate": "Query=3<br>=%{y}<br>size=50.0<extra></extra>",
         "legendgroup": "3",
         "marker": {
          "color": "#00cc96",
          "line": {
           "width": 0
          },
          "pattern": {
           "shape": ""
          }
         },
         "name": "3",
         "offsetgroup": "3",
         "orientation": "v",
         "showlegend": false,
         "textposition": "auto",
         "type": "bar",
         "x": [
          "neo4j",
          "blazegraph",
          "virtuoso",
          "graphdb",
          "kitt"
         ],
         "xaxis": "x11",
         "y": [
          0.5119317998046875,
          0.013016302734374999,
          0.001069583984375,
          0.002184107421875,
          0.0009246692657470703
         ],
         "yaxis": "y11"
        },
        {
         "alignmentgroup": "True",
         "hovertemplate": "Query=3<br>=%{y}<br>size=100.0<extra></extra>",
         "legendgroup": "3",
         "marker": {
          "color": "#00cc96",
          "line": {
           "width": 0
          },
          "pattern": {
           "shape": ""
          }
         },
         "name": "3",
         "offsetgroup": "3",
         "orientation": "v",
         "showlegend": false,
         "textposition": "auto",
         "type": "bar",
         "x": [
          "neo4j",
          "blazegraph",
          "virtuoso",
          "graphdb",
          "kitt"
         ],
         "xaxis": "x12",
         "y": [
          1.0320538364257814,
          0.0125688037109375,
          0.0014015068359375,
          0.00222626416015625,
          0.0010208625793457031
         ],
         "yaxis": "y12"
        },
        {
         "alignmentgroup": "True",
         "hovertemplate": "Query=3<br>=%{y}<br>size=2.0<extra></extra>",
         "legendgroup": "3",
         "marker": {
          "color": "#00cc96",
          "line": {
           "width": 0
          },
          "pattern": {
           "shape": ""
          }
         },
         "name": "3",
         "offsetgroup": "3",
         "orientation": "v",
         "showlegend": false,
         "textposition": "auto",
         "type": "bar",
         "x": [
          "neo4j",
          "blazegraph",
          "virtuoso",
          "graphdb",
          "kitt"
         ],
         "xaxis": "x",
         "y": [
          0.089077359375,
          0.082132158203125,
          0.025133955078125,
          0.013886083984375,
          0.027978925704956054
         ],
         "yaxis": "y"
        },
        {
         "alignmentgroup": "True",
         "hovertemplate": "Query=3<br>=%{y}<br>size=5.0<extra></extra>",
         "legendgroup": "3",
         "marker": {
          "color": "#00cc96",
          "line": {
           "width": 0
          },
          "pattern": {
           "shape": ""
          }
         },
         "name": "3",
         "offsetgroup": "3",
         "orientation": "v",
         "showlegend": false,
         "textposition": "auto",
         "type": "bar",
         "x": [
          "neo4j",
          "blazegraph",
          "virtuoso",
          "graphdb",
          "kitt"
         ],
         "xaxis": "x2",
         "y": [
          0.0873689853515625,
          0.0767848388671875,
          0.023603789062499998,
          0.01379634765625,
          0.04829245090484619
         ],
         "yaxis": "y2"
        },
        {
         "alignmentgroup": "True",
         "hovertemplate": "Query=3<br>=%{y}<br>size=10.0<extra></extra>",
         "legendgroup": "3",
         "marker": {
          "color": "#00cc96",
          "line": {
           "width": 0
          },
          "pattern": {
           "shape": ""
          }
         },
         "name": "3",
         "offsetgroup": "3",
         "orientation": "v",
         "showlegend": false,
         "textposition": "auto",
         "type": "bar",
         "x": [
          "neo4j",
          "blazegraph",
          "virtuoso",
          "graphdb",
          "kitt"
         ],
         "xaxis": "x3",
         "y": [
          0.0867000126953125,
          0.07147752441406251,
          0.0250645166015625,
          0.0141730615234375,
          0.08109146595001221
         ],
         "yaxis": "y3"
        },
        {
         "alignmentgroup": "True",
         "hovertemplate": "Query=3<br>=%{y}<br>size=20.0<extra></extra>",
         "legendgroup": "3",
         "marker": {
          "color": "#00cc96",
          "line": {
           "width": 0
          },
          "pattern": {
           "shape": ""
          }
         },
         "name": "3",
         "offsetgroup": "3",
         "orientation": "v",
         "showlegend": false,
         "textposition": "auto",
         "type": "bar",
         "x": [
          "neo4j",
          "blazegraph",
          "virtuoso",
          "graphdb",
          "kitt"
         ],
         "xaxis": "x4",
         "y": [
          0.0909982470703125,
          0.075784228515625,
          0.0274548681640625,
          0.014146630859375,
          0.15226576328277588
         ],
         "yaxis": "y4"
        },
        {
         "alignmentgroup": "True",
         "hovertemplate": "Query=3<br>=%{y}<br>size=50.0<extra></extra>",
         "legendgroup": "3",
         "marker": {
          "color": "#00cc96",
          "line": {
           "width": 0
          },
          "pattern": {
           "shape": ""
          }
         },
         "name": "3",
         "offsetgroup": "3",
         "orientation": "v",
         "showlegend": false,
         "textposition": "auto",
         "type": "bar",
         "x": [
          "neo4j",
          "blazegraph",
          "virtuoso",
          "graphdb",
          "kitt"
         ],
         "xaxis": "x5",
         "y": [
          0.08903121826171875,
          0.06785943359375,
          0.028995634765625,
          0.0137798779296875,
          0.3649528360366821
         ],
         "yaxis": "y5"
        },
        {
         "alignmentgroup": "True",
         "hovertemplate": "Query=3<br>=%{y}<br>size=100.0<extra></extra>",
         "legendgroup": "3",
         "marker": {
          "color": "#00cc96",
          "line": {
           "width": 0
          },
          "pattern": {
           "shape": ""
          }
         },
         "name": "3",
         "offsetgroup": "3",
         "orientation": "v",
         "showlegend": false,
         "textposition": "auto",
         "type": "bar",
         "x": [
          "neo4j",
          "blazegraph",
          "virtuoso",
          "graphdb",
          "kitt"
         ],
         "xaxis": "x6",
         "y": [
          0.090142060546875,
          0.0752853564453125,
          0.050909082031250004,
          0.014162451171875,
          0.7155788516998292
         ],
         "yaxis": "y6"
        },
        {
         "alignmentgroup": "True",
         "hovertemplate": "Query=4<br>=%{y}<br>size=2.0<extra></extra>",
         "legendgroup": "4",
         "marker": {
          "color": "#ab63fa",
          "line": {
           "width": 0
          },
          "pattern": {
           "shape": ""
          }
         },
         "name": "4",
         "offsetgroup": "4",
         "orientation": "v",
         "showlegend": true,
         "textposition": "auto",
         "type": "bar",
         "x": [
          "neo4j",
          "blazegraph",
          "graphdb",
          "virtuoso",
          "kitt",
          "kitt"
         ],
         "xaxis": "x13",
         "y": [
          0.01654358642578125,
          0.039896,
          0.007124,
          0.029077,
          0.00425795515,
          0.003830217564
         ],
         "yaxis": "y13"
        },
        {
         "alignmentgroup": "True",
         "hovertemplate": "Query=4<br>=%{y}<br>size=5.0<extra></extra>",
         "legendgroup": "4",
         "marker": {
          "color": "#ab63fa",
          "line": {
           "width": 0
          },
          "pattern": {
           "shape": ""
          }
         },
         "name": "4",
         "offsetgroup": "4",
         "orientation": "v",
         "showlegend": false,
         "textposition": "auto",
         "type": "bar",
         "x": [
          "neo4j",
          "blazegraph",
          "graphdb",
          "virtuoso",
          "kitt",
          "kitt"
         ],
         "xaxis": "x14",
         "y": [
          0.07194590283203126,
          0.028449,
          0.010928,
          0.028491,
          0.006475266506,
          0.0057408406999999995
         ],
         "yaxis": "y14"
        },
        {
         "alignmentgroup": "True",
         "hovertemplate": "Query=4<br>=%{y}<br>size=10.0<extra></extra>",
         "legendgroup": "4",
         "marker": {
          "color": "#ab63fa",
          "line": {
           "width": 0
          },
          "pattern": {
           "shape": ""
          }
         },
         "name": "4",
         "offsetgroup": "4",
         "orientation": "v",
         "showlegend": false,
         "textposition": "auto",
         "type": "bar",
         "x": [
          "neo4j",
          "blazegraph",
          "graphdb",
          "virtuoso",
          "kitt",
          "kitt"
         ],
         "xaxis": "x15",
         "y": [
          0.16136658203125,
          0.028108,
          0.014961,
          0.03308,
          0.01296025316,
          0.009976157556
         ],
         "yaxis": "y15"
        },
        {
         "alignmentgroup": "True",
         "hovertemplate": "Query=4<br>=%{y}<br>size=20.0<extra></extra>",
         "legendgroup": "4",
         "marker": {
          "color": "#ab63fa",
          "line": {
           "width": 0
          },
          "pattern": {
           "shape": ""
          }
         },
         "name": "4",
         "offsetgroup": "4",
         "orientation": "v",
         "showlegend": false,
         "textposition": "auto",
         "type": "bar",
         "x": [
          "neo4j",
          "blazegraph",
          "graphdb",
          "virtuoso",
          "kitt",
          "kitt"
         ],
         "xaxis": "x16",
         "y": [
          0.33321697216796875,
          0.030683,
          0.021079,
          0.041386,
          0.01968909432,
          0.016854987546
         ],
         "yaxis": "y16"
        },
        {
         "alignmentgroup": "True",
         "hovertemplate": "Query=4<br>=%{y}<br>size=50.0<extra></extra>",
         "legendgroup": "4",
         "marker": {
          "color": "#ab63fa",
          "line": {
           "width": 0
          },
          "pattern": {
           "shape": ""
          }
         },
         "name": "4",
         "offsetgroup": "4",
         "orientation": "v",
         "showlegend": false,
         "textposition": "auto",
         "type": "bar",
         "x": [
          "neo4j",
          "blazegraph",
          "graphdb",
          "virtuoso",
          "kitt",
          "kitt"
         ],
         "xaxis": "x17",
         "y": [
          0.9394219873046875,
          0.034785,
          0.024676,
          0.026107,
          0.045484472463999996,
          0.039387605074
         ],
         "yaxis": "y17"
        },
        {
         "alignmentgroup": "True",
         "hovertemplate": "Query=4<br>=%{y}<br>size=100.0<extra></extra>",
         "legendgroup": "4",
         "marker": {
          "color": "#ab63fa",
          "line": {
           "width": 0
          },
          "pattern": {
           "shape": ""
          }
         },
         "name": "4",
         "offsetgroup": "4",
         "orientation": "v",
         "showlegend": false,
         "textposition": "auto",
         "type": "bar",
         "x": [
          "neo4j",
          "blazegraph",
          "graphdb",
          "virtuoso",
          "kitt",
          "kitt"
         ],
         "xaxis": "x18",
         "y": [
          2.000600736816406,
          0.036124,
          0.025979,
          0.029732,
          0.0166708145,
          0.041841090478
         ],
         "yaxis": "y18"
        },
        {
         "alignmentgroup": "True",
         "hovertemplate": "Query=4<br>=%{y}<br>size=2.0<extra></extra>",
         "legendgroup": "4",
         "marker": {
          "color": "#ab63fa",
          "line": {
           "width": 0
          },
          "pattern": {
           "shape": ""
          }
         },
         "name": "4",
         "offsetgroup": "4",
         "orientation": "v",
         "showlegend": false,
         "textposition": "auto",
         "type": "bar",
         "x": [
          "neo4j",
          "blazegraph",
          "virtuoso",
          "graphdb",
          "kitt"
         ],
         "xaxis": "x7",
         "y": [
          0.00966650244140625,
          0.01496077392578125,
          0.00471695458984375,
          0.0029578344726562504,
          0.001562030792236328
         ],
         "yaxis": "y7"
        },
        {
         "alignmentgroup": "True",
         "hovertemplate": "Query=4<br>=%{y}<br>size=5.0<extra></extra>",
         "legendgroup": "4",
         "marker": {
          "color": "#ab63fa",
          "line": {
           "width": 0
          },
          "pattern": {
           "shape": ""
          }
         },
         "name": "4",
         "offsetgroup": "4",
         "orientation": "v",
         "showlegend": false,
         "textposition": "auto",
         "type": "bar",
         "x": [
          "neo4j",
          "blazegraph",
          "virtuoso",
          "graphdb",
          "kitt"
         ],
         "xaxis": "x8",
         "y": [
          0.01225701953125,
          0.014650969726562501,
          0.00482704638671875,
          0.0029205107421875,
          0.0015750675201416015
         ],
         "yaxis": "y8"
        },
        {
         "alignmentgroup": "True",
         "hovertemplate": "Query=4<br>=%{y}<br>size=10.0<extra></extra>",
         "legendgroup": "4",
         "marker": {
          "color": "#ab63fa",
          "line": {
           "width": 0
          },
          "pattern": {
           "shape": ""
          }
         },
         "name": "4",
         "offsetgroup": "4",
         "orientation": "v",
         "showlegend": false,
         "textposition": "auto",
         "type": "bar",
         "x": [
          "neo4j",
          "blazegraph",
          "virtuoso",
          "graphdb",
          "kitt"
         ],
         "xaxis": "x9",
         "y": [
          0.021515294921875,
          0.014543399414062502,
          0.004628922363281249,
          0.0031236591796875,
          0.001524808406829834
         ],
         "yaxis": "y9"
        },
        {
         "alignmentgroup": "True",
         "hovertemplate": "Query=4<br>=%{y}<br>size=20.0<extra></extra>",
         "legendgroup": "4",
         "marker": {
          "color": "#ab63fa",
          "line": {
           "width": 0
          },
          "pattern": {
           "shape": ""
          }
         },
         "name": "4",
         "offsetgroup": "4",
         "orientation": "v",
         "showlegend": false,
         "textposition": "auto",
         "type": "bar",
         "x": [
          "neo4j",
          "blazegraph",
          "virtuoso",
          "graphdb",
          "kitt"
         ],
         "xaxis": "x10",
         "y": [
          0.042210667968750004,
          0.01454602197265625,
          0.00456372509765625,
          0.00324747509765625,
          0.001459890365600586
         ],
         "yaxis": "y10"
        },
        {
         "alignmentgroup": "True",
         "hovertemplate": "Query=4<br>=%{y}<br>size=50.0<extra></extra>",
         "legendgroup": "4",
         "marker": {
          "color": "#ab63fa",
          "line": {
           "width": 0
          },
          "pattern": {
           "shape": ""
          }
         },
         "name": "4",
         "offsetgroup": "4",
         "orientation": "v",
         "showlegend": false,
         "textposition": "auto",
         "type": "bar",
         "x": [
          "neo4j",
          "blazegraph",
          "virtuoso",
          "graphdb",
          "kitt"
         ],
         "xaxis": "x11",
         "y": [
          0.09279389990234375,
          0.014606138183593749,
          0.00512536279296875,
          0.0024920703125,
          0.001607698440551758
         ],
         "yaxis": "y11"
        },
        {
         "alignmentgroup": "True",
         "hovertemplate": "Query=4<br>=%{y}<br>size=100.0<extra></extra>",
         "legendgroup": "4",
         "marker": {
          "color": "#ab63fa",
          "line": {
           "width": 0
          },
          "pattern": {
           "shape": ""
          }
         },
         "name": "4",
         "offsetgroup": "4",
         "orientation": "v",
         "showlegend": false,
         "textposition": "auto",
         "type": "bar",
         "x": [
          "neo4j",
          "blazegraph",
          "virtuoso",
          "graphdb",
          "kitt"
         ],
         "xaxis": "x12",
         "y": [
          0.183694404296875,
          0.0142849912109375,
          0.005015154296875,
          0.0030170590820312497,
          0.0013446431159973144
         ],
         "yaxis": "y12"
        },
        {
         "alignmentgroup": "True",
         "hovertemplate": "Query=4<br>=%{y}<br>size=2.0<extra></extra>",
         "legendgroup": "4",
         "marker": {
          "color": "#ab63fa",
          "line": {
           "width": 0
          },
          "pattern": {
           "shape": ""
          }
         },
         "name": "4",
         "offsetgroup": "4",
         "orientation": "v",
         "showlegend": false,
         "textposition": "auto",
         "type": "bar",
         "x": [
          "neo4j",
          "blazegraph",
          "virtuoso",
          "graphdb",
          "kitt"
         ],
         "xaxis": "x",
         "y": [
          0.00125119091796875,
          0.0146262744140625,
          0.0014465966796875002,
          0.004407495117187499,
          0.001751103401184082
         ],
         "yaxis": "y"
        },
        {
         "alignmentgroup": "True",
         "hovertemplate": "Query=4<br>=%{y}<br>size=5.0<extra></extra>",
         "legendgroup": "4",
         "marker": {
          "color": "#ab63fa",
          "line": {
           "width": 0
          },
          "pattern": {
           "shape": ""
          }
         },
         "name": "4",
         "offsetgroup": "4",
         "orientation": "v",
         "showlegend": false,
         "textposition": "auto",
         "type": "bar",
         "x": [
          "neo4j",
          "blazegraph",
          "virtuoso",
          "graphdb",
          "kitt"
         ],
         "xaxis": "x2",
         "y": [
          0.00208225830078125,
          0.0147747705078125,
          0.0014002441406249999,
          0.0042021923828125,
          0.0016682004928588866
         ],
         "yaxis": "y2"
        },
        {
         "alignmentgroup": "True",
         "hovertemplate": "Query=4<br>=%{y}<br>size=10.0<extra></extra>",
         "legendgroup": "4",
         "marker": {
          "color": "#ab63fa",
          "line": {
           "width": 0
          },
          "pattern": {
           "shape": ""
          }
         },
         "name": "4",
         "offsetgroup": "4",
         "orientation": "v",
         "showlegend": false,
         "textposition": "auto",
         "type": "bar",
         "x": [
          "neo4j",
          "blazegraph",
          "virtuoso",
          "graphdb",
          "kitt"
         ],
         "xaxis": "x3",
         "y": [
          0.0034390791015625,
          0.0147488037109375,
          0.001144677734375,
          0.0043194189453125,
          0.0017689704895019532
         ],
         "yaxis": "y3"
        },
        {
         "alignmentgroup": "True",
         "hovertemplate": "Query=4<br>=%{y}<br>size=20.0<extra></extra>",
         "legendgroup": "4",
         "marker": {
          "color": "#ab63fa",
          "line": {
           "width": 0
          },
          "pattern": {
           "shape": ""
          }
         },
         "name": "4",
         "offsetgroup": "4",
         "orientation": "v",
         "showlegend": false,
         "textposition": "auto",
         "type": "bar",
         "x": [
          "neo4j",
          "blazegraph",
          "virtuoso",
          "graphdb",
          "kitt"
         ],
         "xaxis": "x4",
         "y": [
          0.0068174423828124995,
          0.014749462890625,
          0.001173095703125,
          0.004073676757812499,
          0.0021967267990112304
         ],
         "yaxis": "y4"
        },
        {
         "alignmentgroup": "True",
         "hovertemplate": "Query=4<br>=%{y}<br>size=50.0<extra></extra>",
         "legendgroup": "4",
         "marker": {
          "color": "#ab63fa",
          "line": {
           "width": 0
          },
          "pattern": {
           "shape": ""
          }
         },
         "name": "4",
         "offsetgroup": "4",
         "orientation": "v",
         "showlegend": false,
         "textposition": "auto",
         "type": "bar",
         "x": [
          "neo4j",
          "blazegraph",
          "virtuoso",
          "graphdb",
          "kitt"
         ],
         "xaxis": "x5",
         "y": [
          0.0171514423828125,
          0.0147057421875,
          0.0013304101562499999,
          0.0044320556640625,
          0.0011741924285888672
         ],
         "yaxis": "y5"
        },
        {
         "alignmentgroup": "True",
         "hovertemplate": "Query=4<br>=%{y}<br>size=100.0<extra></extra>",
         "legendgroup": "4",
         "marker": {
          "color": "#ab63fa",
          "line": {
           "width": 0
          },
          "pattern": {
           "shape": ""
          }
         },
         "name": "4",
         "offsetgroup": "4",
         "orientation": "v",
         "showlegend": false,
         "textposition": "auto",
         "type": "bar",
         "x": [
          "neo4j",
          "blazegraph",
          "virtuoso",
          "graphdb",
          "kitt"
         ],
         "xaxis": "x6",
         "y": [
          0.0411284326171875,
          0.0142946875,
          0.0017108886718750001,
          0.0041119580078125,
          0.0018620538711547853
         ],
         "yaxis": "y6"
        },
        {
         "alignmentgroup": "True",
         "hovertemplate": "Query=5<br>=%{y}<br>size=2.0<extra></extra>",
         "legendgroup": "5",
         "marker": {
          "color": "#FFA15A",
          "line": {
           "width": 0
          },
          "pattern": {
           "shape": ""
          }
         },
         "name": "5",
         "offsetgroup": "5",
         "orientation": "v",
         "showlegend": true,
         "textposition": "auto",
         "type": "bar",
         "x": [
          "neo4j",
          "blazegraph",
          "graphdb",
          "virtuoso",
          "kitt"
         ],
         "xaxis": "x13",
         "y": [
          0.0016101381835937501,
          0.038,
          0.007642,
          0.014155,
          0.005800005568
         ],
         "yaxis": "y13"
        },
        {
         "alignmentgroup": "True",
         "hovertemplate": "Query=5<br>=%{y}<br>size=5.0<extra></extra>",
         "legendgroup": "5",
         "marker": {
          "color": "#FFA15A",
          "line": {
           "width": 0
          },
          "pattern": {
           "shape": ""
          }
         },
         "name": "5",
         "offsetgroup": "5",
         "orientation": "v",
         "showlegend": false,
         "textposition": "auto",
         "type": "bar",
         "x": [
          "neo4j",
          "blazegraph",
          "graphdb",
          "virtuoso",
          "kitt"
         ],
         "xaxis": "x14",
         "y": [
          0.00394049462890625,
          0.065059,
          0.01723,
          0.014217,
          0.010226204638000001
         ],
         "yaxis": "y14"
        },
        {
         "alignmentgroup": "True",
         "hovertemplate": "Query=5<br>=%{y}<br>size=10.0<extra></extra>",
         "legendgroup": "5",
         "marker": {
          "color": "#FFA15A",
          "line": {
           "width": 0
          },
          "pattern": {
           "shape": ""
          }
         },
         "name": "5",
         "offsetgroup": "5",
         "orientation": "v",
         "showlegend": false,
         "textposition": "auto",
         "type": "bar",
         "x": [
          "neo4j",
          "blazegraph",
          "graphdb",
          "virtuoso",
          "kitt"
         ],
         "xaxis": "x15",
         "y": [
          0.00779182275390625,
          0.096724,
          0.030789,
          0.016537,
          0.02217376681
         ],
         "yaxis": "y15"
        },
        {
         "alignmentgroup": "True",
         "hovertemplate": "Query=5<br>=%{y}<br>size=20.0<extra></extra>",
         "legendgroup": "5",
         "marker": {
          "color": "#FFA15A",
          "line": {
           "width": 0
          },
          "pattern": {
           "shape": ""
          }
         },
         "name": "5",
         "offsetgroup": "5",
         "orientation": "v",
         "showlegend": false,
         "textposition": "auto",
         "type": "bar",
         "x": [
          "neo4j",
          "blazegraph",
          "graphdb",
          "virtuoso",
          "kitt"
         ],
         "xaxis": "x16",
         "y": [
          0.0117007685546875,
          0.156436,
          0.058432,
          0.02691,
          0.041876519375000004
         ],
         "yaxis": "y16"
        },
        {
         "alignmentgroup": "True",
         "hovertemplate": "Query=5<br>=%{y}<br>size=50.0<extra></extra>",
         "legendgroup": "5",
         "marker": {
          "color": "#FFA15A",
          "line": {
           "width": 0
          },
          "pattern": {
           "shape": ""
          }
         },
         "name": "5",
         "offsetgroup": "5",
         "orientation": "v",
         "showlegend": false,
         "textposition": "auto",
         "type": "bar",
         "x": [
          "neo4j",
          "blazegraph",
          "graphdb",
          "virtuoso",
          "kitt"
         ],
         "xaxis": "x17",
         "y": [
          0.03064184033203125,
          0.208533,
          0.103165,
          0.026574,
          0.029857399705
         ],
         "yaxis": "y17"
        },
        {
         "alignmentgroup": "True",
         "hovertemplate": "Query=5<br>=%{y}<br>size=100.0<extra></extra>",
         "legendgroup": "5",
         "marker": {
          "color": "#FFA15A",
          "line": {
           "width": 0
          },
          "pattern": {
           "shape": ""
          }
         },
         "name": "5",
         "offsetgroup": "5",
         "orientation": "v",
         "showlegend": false,
         "textposition": "auto",
         "type": "bar",
         "x": [
          "neo4j",
          "blazegraph",
          "graphdb",
          "virtuoso",
          "kitt"
         ],
         "xaxis": "x18",
         "y": [
          0.072188517578125,
          0.277608,
          0.116826,
          0.032639,
          0.0029177128809999998
         ],
         "yaxis": "y18"
        },
        {
         "alignmentgroup": "True",
         "hovertemplate": "Query=5<br>=%{y}<br>size=2.0<extra></extra>",
         "legendgroup": "5",
         "marker": {
          "color": "#FFA15A",
          "line": {
           "width": 0
          },
          "pattern": {
           "shape": ""
          }
         },
         "name": "5",
         "offsetgroup": "5",
         "orientation": "v",
         "showlegend": false,
         "textposition": "auto",
         "type": "bar",
         "x": [
          "neo4j",
          "blazegraph",
          "virtuoso",
          "graphdb",
          "kitt"
         ],
         "xaxis": "x7",
         "y": [
          0.03616986279296875,
          0.00657356396484375,
          0.010493841796875,
          0.00337686865234375,
          0.003059166431427002
         ],
         "yaxis": "y7"
        },
        {
         "alignmentgroup": "True",
         "hovertemplate": "Query=5<br>=%{y}<br>size=5.0<extra></extra>",
         "legendgroup": "5",
         "marker": {
          "color": "#FFA15A",
          "line": {
           "width": 0
          },
          "pattern": {
           "shape": ""
          }
         },
         "name": "5",
         "offsetgroup": "5",
         "orientation": "v",
         "showlegend": false,
         "textposition": "auto",
         "type": "bar",
         "x": [
          "neo4j",
          "blazegraph",
          "virtuoso",
          "graphdb",
          "kitt"
         ],
         "xaxis": "x8",
         "y": [
          0.037044771484374996,
          0.00695392919921875,
          0.01082742529296875,
          0.0032943339843750003,
          0.0030997705459594725
         ],
         "yaxis": "y8"
        },
        {
         "alignmentgroup": "True",
         "hovertemplate": "Query=5<br>=%{y}<br>size=10.0<extra></extra>",
         "legendgroup": "5",
         "marker": {
          "color": "#FFA15A",
          "line": {
           "width": 0
          },
          "pattern": {
           "shape": ""
          }
         },
         "name": "5",
         "offsetgroup": "5",
         "orientation": "v",
         "showlegend": false,
         "textposition": "auto",
         "type": "bar",
         "x": [
          "neo4j",
          "blazegraph",
          "virtuoso",
          "graphdb",
          "kitt"
         ],
         "xaxis": "x9",
         "y": [
          0.037351158203125005,
          0.00678666357421875,
          0.0108174150390625,
          0.0032512177734374996,
          0.0029692506790161134
         ],
         "yaxis": "y9"
        },
        {
         "alignmentgroup": "True",
         "hovertemplate": "Query=5<br>=%{y}<br>size=20.0<extra></extra>",
         "legendgroup": "5",
         "marker": {
          "color": "#FFA15A",
          "line": {
           "width": 0
          },
          "pattern": {
           "shape": ""
          }
         },
         "name": "5",
         "offsetgroup": "5",
         "orientation": "v",
         "showlegend": false,
         "textposition": "auto",
         "type": "bar",
         "x": [
          "neo4j",
          "blazegraph",
          "virtuoso",
          "graphdb",
          "kitt"
         ],
         "xaxis": "x10",
         "y": [
          0.03673888818359375,
          0.0066539057617187505,
          0.01108065234375,
          0.00335975,
          0.002809980869293213
         ],
         "yaxis": "y10"
        },
        {
         "alignmentgroup": "True",
         "hovertemplate": "Query=5<br>=%{y}<br>size=50.0<extra></extra>",
         "legendgroup": "5",
         "marker": {
          "color": "#FFA15A",
          "line": {
           "width": 0
          },
          "pattern": {
           "shape": ""
          }
         },
         "name": "5",
         "offsetgroup": "5",
         "orientation": "v",
         "showlegend": false,
         "textposition": "auto",
         "type": "bar",
         "x": [
          "neo4j",
          "blazegraph",
          "virtuoso",
          "graphdb",
          "kitt"
         ],
         "xaxis": "x11",
         "y": [
          0.0371806748046875,
          0.00640950537109375,
          0.0109682568359375,
          0.00218542626953125,
          0.0031919565200805664
         ],
         "yaxis": "y11"
        },
        {
         "alignmentgroup": "True",
         "hovertemplate": "Query=5<br>=%{y}<br>size=100.0<extra></extra>",
         "legendgroup": "5",
         "marker": {
          "color": "#FFA15A",
          "line": {
           "width": 0
          },
          "pattern": {
           "shape": ""
          }
         },
         "name": "5",
         "offsetgroup": "5",
         "orientation": "v",
         "showlegend": false,
         "textposition": "auto",
         "type": "bar",
         "x": [
          "neo4j",
          "blazegraph",
          "virtuoso",
          "graphdb",
          "kitt"
         ],
         "xaxis": "x12",
         "y": [
          0.037242515625,
          0.0061137109375,
          0.0107138779296875,
          0.00334847607421875,
          0.0034275922775268554
         ],
         "yaxis": "y12"
        },
        {
         "alignmentgroup": "True",
         "hovertemplate": "Query=5<br>=%{y}<br>size=2.0<extra></extra>",
         "legendgroup": "5",
         "marker": {
          "color": "#FFA15A",
          "line": {
           "width": 0
          },
          "pattern": {
           "shape": ""
          }
         },
         "name": "5",
         "offsetgroup": "5",
         "orientation": "v",
         "showlegend": false,
         "textposition": "auto",
         "type": "bar",
         "x": [
          "neo4j",
          "blazegraph",
          "virtuoso",
          "graphdb",
          "kitt"
         ],
         "xaxis": "x",
         "y": [
          0.00944224462890625,
          0.2349881591796875,
          0.37774697265625,
          0.0063965820312500005,
          0.0019390678405761719
         ],
         "yaxis": "y"
        },
        {
         "alignmentgroup": "True",
         "hovertemplate": "Query=5<br>=%{y}<br>size=5.0<extra></extra>",
         "legendgroup": "5",
         "marker": {
          "color": "#FFA15A",
          "line": {
           "width": 0
          },
          "pattern": {
           "shape": ""
          }
         },
         "name": "5",
         "offsetgroup": "5",
         "orientation": "v",
         "showlegend": false,
         "textposition": "auto",
         "type": "bar",
         "x": [
          "neo4j",
          "blazegraph",
          "virtuoso",
          "graphdb",
          "kitt"
         ],
         "xaxis": "x2",
         "y": [
          0.022936330566406253,
          0.23464157226562501,
          0.35223420410156253,
          0.0058872412109375,
          0.0017046833038330078
         ],
         "yaxis": "y2"
        },
        {
         "alignmentgroup": "True",
         "hovertemplate": "Query=5<br>=%{y}<br>size=10.0<extra></extra>",
         "legendgroup": "5",
         "marker": {
          "color": "#FFA15A",
          "line": {
           "width": 0
          },
          "pattern": {
           "shape": ""
          }
         },
         "name": "5",
         "offsetgroup": "5",
         "orientation": "v",
         "showlegend": false,
         "textposition": "auto",
         "type": "bar",
         "x": [
          "neo4j",
          "blazegraph",
          "virtuoso",
          "graphdb",
          "kitt"
         ],
         "xaxis": "x3",
         "y": [
          0.047567861328124995,
          0.23491503417968748,
          0.35525361816406253,
          0.0061981298828125,
          0.0016115522384643555
         ],
         "yaxis": "y3"
        },
        {
         "alignmentgroup": "True",
         "hovertemplate": "Query=5<br>=%{y}<br>size=20.0<extra></extra>",
         "legendgroup": "5",
         "marker": {
          "color": "#FFA15A",
          "line": {
           "width": 0
          },
          "pattern": {
           "shape": ""
          }
         },
         "name": "5",
         "offsetgroup": "5",
         "orientation": "v",
         "showlegend": false,
         "textposition": "auto",
         "type": "bar",
         "x": [
          "neo4j",
          "blazegraph",
          "virtuoso",
          "graphdb",
          "kitt"
         ],
         "xaxis": "x4",
         "y": [
          0.09559440625,
          0.23482447265625,
          0.406324755859375,
          0.006372817382812501,
          0.001569375991821289
         ],
         "yaxis": "y4"
        },
        {
         "alignmentgroup": "True",
         "hovertemplate": "Query=5<br>=%{y}<br>size=50.0<extra></extra>",
         "legendgroup": "5",
         "marker": {
          "color": "#FFA15A",
          "line": {
           "width": 0
          },
          "pattern": {
           "shape": ""
          }
         },
         "name": "5",
         "offsetgroup": "5",
         "orientation": "v",
         "showlegend": false,
         "textposition": "auto",
         "type": "bar",
         "x": [
          "neo4j",
          "blazegraph",
          "virtuoso",
          "graphdb",
          "kitt"
         ],
         "xaxis": "x5",
         "y": [
          0.22911582568359376,
          0.23473332519531248,
          0.37493808105468746,
          0.0065018701171875,
          0.0015219688415527345
         ],
         "yaxis": "y5"
        },
        {
         "alignmentgroup": "True",
         "hovertemplate": "Query=5<br>=%{y}<br>size=100.0<extra></extra>",
         "legendgroup": "5",
         "marker": {
          "color": "#FFA15A",
          "line": {
           "width": 0
          },
          "pattern": {
           "shape": ""
          }
         },
         "name": "5",
         "offsetgroup": "5",
         "orientation": "v",
         "showlegend": false,
         "textposition": "auto",
         "type": "bar",
         "x": [
          "neo4j",
          "blazegraph",
          "virtuoso",
          "graphdb",
          "kitt"
         ],
         "xaxis": "x6",
         "y": [
          0.44932798828125,
          0.2312431103515625,
          0.374286083984375,
          0.0061441552734375,
          0.001675114631652832
         ],
         "yaxis": "y6"
        },
        {
         "alignmentgroup": "True",
         "hovertemplate": "Query=6<br>=%{y}<br>size=2.0<extra></extra>",
         "legendgroup": "6",
         "marker": {
          "color": "#19d3f3",
          "line": {
           "width": 0
          },
          "pattern": {
           "shape": ""
          }
         },
         "name": "6",
         "offsetgroup": "6",
         "orientation": "v",
         "showlegend": true,
         "textposition": "auto",
         "type": "bar",
         "x": [
          "neo4j"
         ],
         "xaxis": "x13",
         "y": [
          0.00172523486328125
         ],
         "yaxis": "y13"
        },
        {
         "alignmentgroup": "True",
         "hovertemplate": "Query=6<br>=%{y}<br>size=5.0<extra></extra>",
         "legendgroup": "6",
         "marker": {
          "color": "#19d3f3",
          "line": {
           "width": 0
          },
          "pattern": {
           "shape": ""
          }
         },
         "name": "6",
         "offsetgroup": "6",
         "orientation": "v",
         "showlegend": false,
         "textposition": "auto",
         "type": "bar",
         "x": [
          "neo4j"
         ],
         "xaxis": "x14",
         "y": [
          0.00524486376953125
         ],
         "yaxis": "y14"
        },
        {
         "alignmentgroup": "True",
         "hovertemplate": "Query=6<br>=%{y}<br>size=10.0<extra></extra>",
         "legendgroup": "6",
         "marker": {
          "color": "#19d3f3",
          "line": {
           "width": 0
          },
          "pattern": {
           "shape": ""
          }
         },
         "name": "6",
         "offsetgroup": "6",
         "orientation": "v",
         "showlegend": false,
         "textposition": "auto",
         "type": "bar",
         "x": [
          "neo4j"
         ],
         "xaxis": "x15",
         "y": [
          0.01207870068359375
         ],
         "yaxis": "y15"
        },
        {
         "alignmentgroup": "True",
         "hovertemplate": "Query=6<br>=%{y}<br>size=20.0<extra></extra>",
         "legendgroup": "6",
         "marker": {
          "color": "#19d3f3",
          "line": {
           "width": 0
          },
          "pattern": {
           "shape": ""
          }
         },
         "name": "6",
         "offsetgroup": "6",
         "orientation": "v",
         "showlegend": false,
         "textposition": "auto",
         "type": "bar",
         "x": [
          "neo4j"
         ],
         "xaxis": "x16",
         "y": [
          0.02280136474609375
         ],
         "yaxis": "y16"
        },
        {
         "alignmentgroup": "True",
         "hovertemplate": "Query=6<br>=%{y}<br>size=50.0<extra></extra>",
         "legendgroup": "6",
         "marker": {
          "color": "#19d3f3",
          "line": {
           "width": 0
          },
          "pattern": {
           "shape": ""
          }
         },
         "name": "6",
         "offsetgroup": "6",
         "orientation": "v",
         "showlegend": false,
         "textposition": "auto",
         "type": "bar",
         "x": [
          "neo4j"
         ],
         "xaxis": "x17",
         "y": [
          0.05871576318359375
         ],
         "yaxis": "y17"
        },
        {
         "alignmentgroup": "True",
         "hovertemplate": "Query=6<br>=%{y}<br>size=100.0<extra></extra>",
         "legendgroup": "6",
         "marker": {
          "color": "#19d3f3",
          "line": {
           "width": 0
          },
          "pattern": {
           "shape": ""
          }
         },
         "name": "6",
         "offsetgroup": "6",
         "orientation": "v",
         "showlegend": false,
         "textposition": "auto",
         "type": "bar",
         "x": [
          "neo4j"
         ],
         "xaxis": "x18",
         "y": [
          0.12165290869140626
         ],
         "yaxis": "y18"
        },
        {
         "alignmentgroup": "True",
         "hovertemplate": "Query=6<br>=%{y}<br>size=2.0<extra></extra>",
         "legendgroup": "6",
         "marker": {
          "color": "#19d3f3",
          "line": {
           "width": 0
          },
          "pattern": {
           "shape": ""
          }
         },
         "name": "6",
         "offsetgroup": "6",
         "orientation": "v",
         "showlegend": false,
         "textposition": "auto",
         "type": "bar",
         "x": [
          "neo4j",
          "blazegraph",
          "virtuoso",
          "graphdb",
          "kitt"
         ],
         "xaxis": "x7",
         "y": [
          0.050171763671875,
          0.00583709619140625,
          0.00633684423828125,
          0.00631432373046875,
          0.005308908462524414
         ],
         "yaxis": "y7"
        },
        {
         "alignmentgroup": "True",
         "hovertemplate": "Query=6<br>=%{y}<br>size=5.0<extra></extra>",
         "legendgroup": "6",
         "marker": {
          "color": "#19d3f3",
          "line": {
           "width": 0
          },
          "pattern": {
           "shape": ""
          }
         },
         "name": "6",
         "offsetgroup": "6",
         "orientation": "v",
         "showlegend": false,
         "textposition": "auto",
         "type": "bar",
         "x": [
          "neo4j",
          "blazegraph",
          "virtuoso",
          "graphdb",
          "kitt"
         ],
         "xaxis": "x8",
         "y": [
          0.050798341796875,
          0.0066068291015625,
          0.00639726806640625,
          0.005348456054687501,
          0.008044015884399415
         ],
         "yaxis": "y8"
        },
        {
         "alignmentgroup": "True",
         "hovertemplate": "Query=6<br>=%{y}<br>size=10.0<extra></extra>",
         "legendgroup": "6",
         "marker": {
          "color": "#19d3f3",
          "line": {
           "width": 0
          },
          "pattern": {
           "shape": ""
          }
         },
         "name": "6",
         "offsetgroup": "6",
         "orientation": "v",
         "showlegend": false,
         "textposition": "auto",
         "type": "bar",
         "x": [
          "neo4j",
          "blazegraph",
          "virtuoso",
          "graphdb",
          "kitt"
         ],
         "xaxis": "x9",
         "y": [
          0.051208537597656256,
          0.0066043916015625,
          0.0066292363281249995,
          0.00649656884765625,
          0.013265433311462403
         ],
         "yaxis": "y9"
        },
        {
         "alignmentgroup": "True",
         "hovertemplate": "Query=6<br>=%{y}<br>size=20.0<extra></extra>",
         "legendgroup": "6",
         "marker": {
          "color": "#19d3f3",
          "line": {
           "width": 0
          },
          "pattern": {
           "shape": ""
          }
         },
         "name": "6",
         "offsetgroup": "6",
         "orientation": "v",
         "showlegend": false,
         "textposition": "auto",
         "type": "bar",
         "x": [
          "neo4j",
          "blazegraph",
          "virtuoso",
          "graphdb",
          "kitt"
         ],
         "xaxis": "x10",
         "y": [
          0.05101693408203125,
          0.006259263671875,
          0.0063506083984375,
          0.00644281787109375,
          0.025243589878082274
         ],
         "yaxis": "y10"
        },
        {
         "alignmentgroup": "True",
         "hovertemplate": "Query=6<br>=%{y}<br>size=50.0<extra></extra>",
         "legendgroup": "6",
         "marker": {
          "color": "#19d3f3",
          "line": {
           "width": 0
          },
          "pattern": {
           "shape": ""
          }
         },
         "name": "6",
         "offsetgroup": "6",
         "orientation": "v",
         "showlegend": false,
         "textposition": "auto",
         "type": "bar",
         "x": [
          "neo4j",
          "blazegraph",
          "virtuoso",
          "graphdb",
          "kitt"
         ],
         "xaxis": "x11",
         "y": [
          0.04979778076171875,
          0.0063705361328125,
          0.00685202880859375,
          0.005288232910156249,
          0.052501327991485595
         ],
         "yaxis": "y11"
        },
        {
         "alignmentgroup": "True",
         "hovertemplate": "Query=6<br>=%{y}<br>size=100.0<extra></extra>",
         "legendgroup": "6",
         "marker": {
          "color": "#19d3f3",
          "line": {
           "width": 0
          },
          "pattern": {
           "shape": ""
          }
         },
         "name": "6",
         "offsetgroup": "6",
         "orientation": "v",
         "showlegend": false,
         "textposition": "auto",
         "type": "bar",
         "x": [
          "neo4j",
          "blazegraph",
          "virtuoso",
          "graphdb",
          "kitt"
         ],
         "xaxis": "x12",
         "y": [
          0.05155469677734375,
          0.0058711396484375,
          0.0064977495117187496,
          0.00649930908203125,
          0.1057906494140625
         ],
         "yaxis": "y12"
        },
        {
         "alignmentgroup": "True",
         "hovertemplate": "Query=6<br>=%{y}<br>size=2.0<extra></extra>",
         "legendgroup": "6",
         "marker": {
          "color": "#19d3f3",
          "line": {
           "width": 0
          },
          "pattern": {
           "shape": ""
          }
         },
         "name": "6",
         "offsetgroup": "6",
         "orientation": "v",
         "showlegend": false,
         "textposition": "auto",
         "type": "bar",
         "x": [
          "neo4j",
          "blazegraph",
          "virtuoso",
          "graphdb",
          "kitt"
         ],
         "xaxis": "x",
         "y": [
          0.018856283203124997,
          0.0522836669921875,
          0.065485283203125,
          0.037866181640625,
          0.022872219085693358
         ],
         "yaxis": "y"
        },
        {
         "alignmentgroup": "True",
         "hovertemplate": "Query=6<br>=%{y}<br>size=5.0<extra></extra>",
         "legendgroup": "6",
         "marker": {
          "color": "#19d3f3",
          "line": {
           "width": 0
          },
          "pattern": {
           "shape": ""
          }
         },
         "name": "6",
         "offsetgroup": "6",
         "orientation": "v",
         "showlegend": false,
         "textposition": "auto",
         "type": "bar",
         "x": [
          "neo4j",
          "blazegraph",
          "virtuoso",
          "graphdb",
          "kitt"
         ],
         "xaxis": "x2",
         "y": [
          0.01846093603515625,
          0.08263982910156249,
          0.080251865234375,
          0.05462841796875,
          0.021404690742492676
         ],
         "yaxis": "y2"
        },
        {
         "alignmentgroup": "True",
         "hovertemplate": "Query=6<br>=%{y}<br>size=10.0<extra></extra>",
         "legendgroup": "6",
         "marker": {
          "color": "#19d3f3",
          "line": {
           "width": 0
          },
          "pattern": {
           "shape": ""
          }
         },
         "name": "6",
         "offsetgroup": "6",
         "orientation": "v",
         "showlegend": false,
         "textposition": "auto",
         "type": "bar",
         "x": [
          "neo4j",
          "blazegraph",
          "virtuoso",
          "graphdb",
          "kitt"
         ],
         "xaxis": "x3",
         "y": [
          0.018516433593750003,
          0.1299904248046875,
          0.132887333984375,
          0.093939951171875,
          0.02207866668701172
         ],
         "yaxis": "y3"
        },
        {
         "alignmentgroup": "True",
         "hovertemplate": "Query=6<br>=%{y}<br>size=20.0<extra></extra>",
         "legendgroup": "6",
         "marker": {
          "color": "#19d3f3",
          "line": {
           "width": 0
          },
          "pattern": {
           "shape": ""
          }
         },
         "name": "6",
         "offsetgroup": "6",
         "orientation": "v",
         "showlegend": false,
         "textposition": "auto",
         "type": "bar",
         "x": [
          "neo4j",
          "blazegraph",
          "virtuoso",
          "graphdb",
          "kitt"
         ],
         "xaxis": "x4",
         "y": [
          0.019125613769531247,
          0.22845275390625,
          0.230466494140625,
          0.15436127929687501,
          0.026288256645202637
         ],
         "yaxis": "y4"
        },
        {
         "alignmentgroup": "True",
         "hovertemplate": "Query=6<br>=%{y}<br>size=50.0<extra></extra>",
         "legendgroup": "6",
         "marker": {
          "color": "#19d3f3",
          "line": {
           "width": 0
          },
          "pattern": {
           "shape": ""
          }
         },
         "name": "6",
         "offsetgroup": "6",
         "orientation": "v",
         "showlegend": false,
         "textposition": "auto",
         "type": "bar",
         "x": [
          "neo4j",
          "blazegraph",
          "virtuoso",
          "graphdb",
          "kitt"
         ],
         "xaxis": "x5",
         "y": [
          0.0190259501953125,
          0.514454765625,
          0.399458564453125,
          0.3200590185546875,
          0.02954525947570801
         ],
         "yaxis": "y5"
        },
        {
         "alignmentgroup": "True",
         "hovertemplate": "Query=6<br>=%{y}<br>size=100.0<extra></extra>",
         "legendgroup": "6",
         "marker": {
          "color": "#19d3f3",
          "line": {
           "width": 0
          },
          "pattern": {
           "shape": ""
          }
         },
         "name": "6",
         "offsetgroup": "6",
         "orientation": "v",
         "showlegend": false,
         "textposition": "auto",
         "type": "bar",
         "x": [
          "neo4j",
          "blazegraph",
          "virtuoso",
          "graphdb",
          "kitt"
         ],
         "xaxis": "x6",
         "y": [
          0.0199757421875,
          1.0748172998046874,
          1.4820894287109374,
          0.6335266503906251,
          0.035335140228271486
         ],
         "yaxis": "y6"
        },
        {
         "alignmentgroup": "True",
         "hovertemplate": "Query=7<br>=%{y}<br>size=2.0<extra></extra>",
         "legendgroup": "7",
         "marker": {
          "color": "#FF6692",
          "line": {
           "width": 0
          },
          "pattern": {
           "shape": ""
          }
         },
         "name": "7",
         "offsetgroup": "7",
         "orientation": "v",
         "showlegend": true,
         "textposition": "auto",
         "type": "bar",
         "x": [
          "neo4j",
          "blazegraph",
          "graphdb",
          "virtuoso",
          "kitt"
         ],
         "xaxis": "x13",
         "y": [
          0.0012128955078125,
          0.032358,
          0.007281,
          0.024475,
          0.005548145018
         ],
         "yaxis": "y13"
        },
        {
         "alignmentgroup": "True",
         "hovertemplate": "Query=7<br>=%{y}<br>size=5.0<extra></extra>",
         "legendgroup": "7",
         "marker": {
          "color": "#FF6692",
          "line": {
           "width": 0
          },
          "pattern": {
           "shape": ""
          }
         },
         "name": "7",
         "offsetgroup": "7",
         "orientation": "v",
         "showlegend": false,
         "textposition": "auto",
         "type": "bar",
         "x": [
          "neo4j",
          "blazegraph",
          "graphdb",
          "virtuoso",
          "kitt"
         ],
         "xaxis": "x14",
         "y": [
          0.0026823798828125,
          0.028974,
          0.01389,
          0.022867,
          0.0084441143665
         ],
         "yaxis": "y14"
        },
        {
         "alignmentgroup": "True",
         "hovertemplate": "Query=7<br>=%{y}<br>size=10.0<extra></extra>",
         "legendgroup": "7",
         "marker": {
          "color": "#FF6692",
          "line": {
           "width": 0
          },
          "pattern": {
           "shape": ""
          }
         },
         "name": "7",
         "offsetgroup": "7",
         "orientation": "v",
         "showlegend": false,
         "textposition": "auto",
         "type": "bar",
         "x": [
          "neo4j",
          "blazegraph",
          "graphdb",
          "virtuoso",
          "kitt"
         ],
         "xaxis": "x15",
         "y": [
          0.00505084326171875,
          0.032822,
          0.020802,
          0.031855,
          0.016213112274
         ],
         "yaxis": "y15"
        },
        {
         "alignmentgroup": "True",
         "hovertemplate": "Query=7<br>=%{y}<br>size=20.0<extra></extra>",
         "legendgroup": "7",
         "marker": {
          "color": "#FF6692",
          "line": {
           "width": 0
          },
          "pattern": {
           "shape": ""
          }
         },
         "name": "7",
         "offsetgroup": "7",
         "orientation": "v",
         "showlegend": false,
         "textposition": "auto",
         "type": "bar",
         "x": [
          "neo4j",
          "blazegraph",
          "graphdb",
          "virtuoso",
          "kitt"
         ],
         "xaxis": "x16",
         "y": [
          0.0113630625,
          0.038222,
          0.032137,
          0.047551,
          0.032014247315500004
         ],
         "yaxis": "y16"
        },
        {
         "alignmentgroup": "True",
         "hovertemplate": "Query=7<br>=%{y}<br>size=50.0<extra></extra>",
         "legendgroup": "7",
         "marker": {
          "color": "#FF6692",
          "line": {
           "width": 0
          },
          "pattern": {
           "shape": ""
          }
         },
         "name": "7",
         "offsetgroup": "7",
         "orientation": "v",
         "showlegend": false,
         "textposition": "auto",
         "type": "bar",
         "x": [
          "neo4j",
          "blazegraph",
          "graphdb",
          "virtuoso",
          "kitt"
         ],
         "xaxis": "x17",
         "y": [
          0.029782461914062502,
          0.038694,
          0.051065,
          0.046066,
          0.027880217029
         ],
         "yaxis": "y17"
        },
        {
         "alignmentgroup": "True",
         "hovertemplate": "Query=7<br>=%{y}<br>size=100.0<extra></extra>",
         "legendgroup": "7",
         "marker": {
          "color": "#FF6692",
          "line": {
           "width": 0
          },
          "pattern": {
           "shape": ""
          }
         },
         "name": "7",
         "offsetgroup": "7",
         "orientation": "v",
         "showlegend": false,
         "textposition": "auto",
         "type": "bar",
         "x": [
          "neo4j",
          "blazegraph",
          "graphdb",
          "virtuoso",
          "kitt"
         ],
         "xaxis": "x18",
         "y": [
          0.0595012490234375,
          0.047097,
          0.05525,
          0.05266,
          0.0003448418715
         ],
         "yaxis": "y18"
        },
        {
         "alignmentgroup": "True",
         "hovertemplate": "Query=7<br>=%{y}<br>size=2.0<extra></extra>",
         "legendgroup": "7",
         "marker": {
          "color": "#FF6692",
          "line": {
           "width": 0
          },
          "pattern": {
           "shape": ""
          }
         },
         "name": "7",
         "offsetgroup": "7",
         "orientation": "v",
         "showlegend": false,
         "textposition": "auto",
         "type": "bar",
         "x": [
          "neo4j",
          "blazegraph",
          "virtuoso",
          "graphdb",
          "kitt"
         ],
         "xaxis": "x7",
         "y": [
          0.0063045302734375,
          0.01360681103515625,
          0.00430751513671875,
          0.0027043564453124998,
          0.0015172739028930665
         ],
         "yaxis": "y7"
        },
        {
         "alignmentgroup": "True",
         "hovertemplate": "Query=7<br>=%{y}<br>size=5.0<extra></extra>",
         "legendgroup": "7",
         "marker": {
          "color": "#FF6692",
          "line": {
           "width": 0
          },
          "pattern": {
           "shape": ""
          }
         },
         "name": "7",
         "offsetgroup": "7",
         "orientation": "v",
         "showlegend": false,
         "textposition": "auto",
         "type": "bar",
         "x": [
          "neo4j",
          "blazegraph",
          "virtuoso",
          "graphdb",
          "kitt"
         ],
         "xaxis": "x8",
         "y": [
          0.006525734375,
          0.013902861328125,
          0.0039650224609375,
          0.0024787568359374997,
          0.0013246808052062987
         ],
         "yaxis": "y8"
        },
        {
         "alignmentgroup": "True",
         "hovertemplate": "Query=7<br>=%{y}<br>size=10.0<extra></extra>",
         "legendgroup": "7",
         "marker": {
          "color": "#FF6692",
          "line": {
           "width": 0
          },
          "pattern": {
           "shape": ""
          }
         },
         "name": "7",
         "offsetgroup": "7",
         "orientation": "v",
         "showlegend": false,
         "textposition": "auto",
         "type": "bar",
         "x": [
          "neo4j",
          "blazegraph",
          "virtuoso",
          "graphdb",
          "kitt"
         ],
         "xaxis": "x9",
         "y": [
          0.00716941943359375,
          0.01341032275390625,
          0.00411781982421875,
          0.00274949462890625,
          0.0013334102630615235
         ],
         "yaxis": "y9"
        },
        {
         "alignmentgroup": "True",
         "hovertemplate": "Query=7<br>=%{y}<br>size=20.0<extra></extra>",
         "legendgroup": "7",
         "marker": {
          "color": "#FF6692",
          "line": {
           "width": 0
          },
          "pattern": {
           "shape": ""
          }
         },
         "name": "7",
         "offsetgroup": "7",
         "orientation": "v",
         "showlegend": false,
         "textposition": "auto",
         "type": "bar",
         "x": [
          "neo4j",
          "blazegraph",
          "virtuoso",
          "graphdb",
          "kitt"
         ],
         "xaxis": "x10",
         "y": [
          0.00935549560546875,
          0.013531313476562501,
          0.0039908515625,
          0.00276481689453125,
          0.0014205741882324218
         ],
         "yaxis": "y10"
        },
        {
         "alignmentgroup": "True",
         "hovertemplate": "Query=7<br>=%{y}<br>size=50.0<extra></extra>",
         "legendgroup": "7",
         "marker": {
          "color": "#FF6692",
          "line": {
           "width": 0
          },
          "pattern": {
           "shape": ""
          }
         },
         "name": "7",
         "offsetgroup": "7",
         "orientation": "v",
         "showlegend": false,
         "textposition": "auto",
         "type": "bar",
         "x": [
          "neo4j",
          "blazegraph",
          "virtuoso",
          "graphdb",
          "kitt"
         ],
         "xaxis": "x11",
         "y": [
          0.0103019306640625,
          0.013427076660156249,
          0.0039323359375,
          0.00249236962890625,
          0.0012198753356933594
         ],
         "yaxis": "y11"
        },
        {
         "alignmentgroup": "True",
         "hovertemplate": "Query=7<br>=%{y}<br>size=100.0<extra></extra>",
         "legendgroup": "7",
         "marker": {
          "color": "#FF6692",
          "line": {
           "width": 0
          },
          "pattern": {
           "shape": ""
          }
         },
         "name": "7",
         "offsetgroup": "7",
         "orientation": "v",
         "showlegend": false,
         "textposition": "auto",
         "type": "bar",
         "x": [
          "neo4j",
          "blazegraph",
          "virtuoso",
          "graphdb",
          "kitt"
         ],
         "xaxis": "x12",
         "y": [
          0.0202579169921875,
          0.01300172705078125,
          0.0042926982421875,
          0.00281813525390625,
          0.0012625198364257812
         ],
         "yaxis": "y12"
        },
        {
         "alignmentgroup": "True",
         "hovertemplate": "Query=7<br>=%{y}<br>size=2.0<extra></extra>",
         "legendgroup": "7",
         "marker": {
          "color": "#FF6692",
          "line": {
           "width": 0
          },
          "pattern": {
           "shape": ""
          }
         },
         "name": "7",
         "offsetgroup": "7",
         "orientation": "v",
         "showlegend": false,
         "textposition": "auto",
         "type": "bar",
         "x": [
          "neo4j",
          "blazegraph",
          "virtuoso",
          "graphdb",
          "kitt"
         ],
         "xaxis": "x",
         "y": [
          0.02651404638671875,
          0.1391286669921875,
          0.1648693994140625,
          0.06686744140624999,
          0.05090576171875
         ],
         "yaxis": "y"
        },
        {
         "alignmentgroup": "True",
         "hovertemplate": "Query=7<br>=%{y}<br>size=5.0<extra></extra>",
         "legendgroup": "7",
         "marker": {
          "color": "#FF6692",
          "line": {
           "width": 0
          },
          "pattern": {
           "shape": ""
          }
         },
         "name": "7",
         "offsetgroup": "7",
         "orientation": "v",
         "showlegend": false,
         "textposition": "auto",
         "type": "bar",
         "x": [
          "neo4j",
          "blazegraph",
          "virtuoso",
          "graphdb",
          "kitt"
         ],
         "xaxis": "x2",
         "y": [
          0.026102701660156248,
          0.26103619140625,
          0.38049862792968747,
          0.140645283203125,
          0.04753302097320557
         ],
         "yaxis": "y2"
        },
        {
         "alignmentgroup": "True",
         "hovertemplate": "Query=7<br>=%{y}<br>size=10.0<extra></extra>",
         "legendgroup": "7",
         "marker": {
          "color": "#FF6692",
          "line": {
           "width": 0
          },
          "pattern": {
           "shape": ""
          }
         },
         "name": "7",
         "offsetgroup": "7",
         "orientation": "v",
         "showlegend": false,
         "textposition": "auto",
         "type": "bar",
         "x": [
          "neo4j",
          "blazegraph",
          "virtuoso",
          "graphdb",
          "kitt"
         ],
         "xaxis": "x3",
         "y": [
          0.0264479130859375,
          0.5023494921875,
          0.8421447412109375,
          0.2661665673828125,
          0.0480682373046875
         ],
         "yaxis": "y3"
        },
        {
         "alignmentgroup": "True",
         "hovertemplate": "Query=7<br>=%{y}<br>size=20.0<extra></extra>",
         "legendgroup": "7",
         "marker": {
          "color": "#FF6692",
          "line": {
           "width": 0
          },
          "pattern": {
           "shape": ""
          }
         },
         "name": "7",
         "offsetgroup": "7",
         "orientation": "v",
         "showlegend": false,
         "textposition": "auto",
         "type": "bar",
         "x": [
          "neo4j",
          "blazegraph",
          "virtuoso",
          "graphdb",
          "kitt"
         ],
         "xaxis": "x4",
         "y": [
          0.029067832031249997,
          0.96010556640625,
          1.4838418505859374,
          0.5234089404296876,
          0.05351992607116699
         ],
         "yaxis": "y4"
        },
        {
         "alignmentgroup": "True",
         "hovertemplate": "Query=7<br>=%{y}<br>size=50.0<extra></extra>",
         "legendgroup": "7",
         "marker": {
          "color": "#FF6692",
          "line": {
           "width": 0
          },
          "pattern": {
           "shape": ""
          }
         },
         "name": "7",
         "offsetgroup": "7",
         "orientation": "v",
         "showlegend": false,
         "textposition": "auto",
         "type": "bar",
         "x": [
          "neo4j",
          "blazegraph",
          "virtuoso",
          "graphdb",
          "kitt"
         ],
         "xaxis": "x5",
         "y": [
          0.029197163085937502,
          2.293020478515625,
          2.0657670751953123,
          1.1989897119140627,
          0.05642919540405274
         ],
         "yaxis": "y5"
        },
        {
         "alignmentgroup": "True",
         "hovertemplate": "Query=7<br>=%{y}<br>size=100.0<extra></extra>",
         "legendgroup": "7",
         "marker": {
          "color": "#FF6692",
          "line": {
           "width": 0
          },
          "pattern": {
           "shape": ""
          }
         },
         "name": "7",
         "offsetgroup": "7",
         "orientation": "v",
         "showlegend": false,
         "textposition": "auto",
         "type": "bar",
         "x": [
          "neo4j",
          "blazegraph",
          "virtuoso",
          "graphdb",
          "kitt"
         ],
         "xaxis": "x6",
         "y": [
          0.028096562500000002,
          5.2271497656250006,
          6.823150268554688,
          2.3815288720703123,
          0.06565342426300048
         ],
         "yaxis": "y6"
        },
        {
         "alignmentgroup": "True",
         "hovertemplate": "Query=8<br>=%{y}<br>size=2.0<extra></extra>",
         "legendgroup": "8",
         "marker": {
          "color": "#B6E880",
          "line": {
           "width": 0
          },
          "pattern": {
           "shape": ""
          }
         },
         "name": "8",
         "offsetgroup": "8",
         "orientation": "v",
         "showlegend": true,
         "textposition": "auto",
         "type": "bar",
         "x": [
          "neo4j",
          "blazegraph",
          "graphdb",
          "virtuoso",
          "kitt"
         ],
         "xaxis": "x13",
         "y": [
          0.000439775390625,
          0.03708,
          0.006172,
          0.015355,
          0.0036653436639999997
         ],
         "yaxis": "y13"
        },
        {
         "alignmentgroup": "True",
         "hovertemplate": "Query=8<br>=%{y}<br>size=5.0<extra></extra>",
         "legendgroup": "8",
         "marker": {
          "color": "#B6E880",
          "line": {
           "width": 0
          },
          "pattern": {
           "shape": ""
          }
         },
         "name": "8",
         "offsetgroup": "8",
         "orientation": "v",
         "showlegend": false,
         "textposition": "auto",
         "type": "bar",
         "x": [
          "neo4j",
          "blazegraph",
          "graphdb",
          "virtuoso",
          "kitt"
         ],
         "xaxis": "x14",
         "y": [
          0.0005257973632812501,
          0.028208,
          0.009406,
          0.01396,
          0.004802181327000001
         ],
         "yaxis": "y14"
        },
        {
         "alignmentgroup": "True",
         "hovertemplate": "Query=8<br>=%{y}<br>size=10.0<extra></extra>",
         "legendgroup": "8",
         "marker": {
          "color": "#B6E880",
          "line": {
           "width": 0
          },
          "pattern": {
           "shape": ""
          }
         },
         "name": "8",
         "offsetgroup": "8",
         "orientation": "v",
         "showlegend": false,
         "textposition": "auto",
         "type": "bar",
         "x": [
          "neo4j",
          "blazegraph",
          "graphdb",
          "virtuoso",
          "kitt"
         ],
         "xaxis": "x15",
         "y": [
          0.0005838095703125,
          0.029522,
          0.014221,
          0.017472,
          0.006770041658
         ],
         "yaxis": "y15"
        },
        {
         "alignmentgroup": "True",
         "hovertemplate": "Query=8<br>=%{y}<br>size=20.0<extra></extra>",
         "legendgroup": "8",
         "marker": {
          "color": "#B6E880",
          "line": {
           "width": 0
          },
          "pattern": {
           "shape": ""
          }
         },
         "name": "8",
         "offsetgroup": "8",
         "orientation": "v",
         "showlegend": false,
         "textposition": "auto",
         "type": "bar",
         "x": [
          "neo4j",
          "blazegraph",
          "graphdb",
          "virtuoso",
          "kitt"
         ],
         "xaxis": "x16",
         "y": [
          0.00051548095703125,
          0.032169,
          0.020049,
          0.023984,
          0.012015840223
         ],
         "yaxis": "y16"
        },
        {
         "alignmentgroup": "True",
         "hovertemplate": "Query=8<br>=%{y}<br>size=50.0<extra></extra>",
         "legendgroup": "8",
         "marker": {
          "color": "#B6E880",
          "line": {
           "width": 0
          },
          "pattern": {
           "shape": ""
          }
         },
         "name": "8",
         "offsetgroup": "8",
         "orientation": "v",
         "showlegend": false,
         "textposition": "auto",
         "type": "bar",
         "x": [
          "neo4j",
          "blazegraph",
          "graphdb",
          "virtuoso",
          "kitt"
         ],
         "xaxis": "x17",
         "y": [
          0.00055193212890625,
          0.032394,
          0.026214,
          0.021289,
          0.018635539093
         ],
         "yaxis": "y17"
        },
        {
         "alignmentgroup": "True",
         "hovertemplate": "Query=8<br>=%{y}<br>size=100.0<extra></extra>",
         "legendgroup": "8",
         "marker": {
          "color": "#B6E880",
          "line": {
           "width": 0
          },
          "pattern": {
           "shape": ""
          }
         },
         "name": "8",
         "offsetgroup": "8",
         "orientation": "v",
         "showlegend": false,
         "textposition": "auto",
         "type": "bar",
         "x": [
          "neo4j",
          "blazegraph",
          "graphdb",
          "virtuoso",
          "kitt"
         ],
         "xaxis": "x18",
         "y": [
          0.0004070751953125,
          0.034574,
          0.023178,
          0.03047,
          0.000005658057
         ],
         "yaxis": "y18"
        },
        {
         "alignmentgroup": "True",
         "hovertemplate": "Query=8<br>=%{y}<br>size=2.0<extra></extra>",
         "legendgroup": "8",
         "marker": {
          "color": "#B6E880",
          "line": {
           "width": 0
          },
          "pattern": {
           "shape": ""
          }
         },
         "name": "8",
         "offsetgroup": "8",
         "orientation": "v",
         "showlegend": false,
         "textposition": "auto",
         "type": "bar",
         "x": [
          "neo4j",
          "blazegraph",
          "virtuoso",
          "graphdb",
          "kitt"
         ],
         "xaxis": "x7",
         "y": [
          0.09005758935546875,
          0.015009995117187501,
          0.02304861962890625,
          0.014993043945312501,
          0.0109798002243042
         ],
         "yaxis": "y7"
        },
        {
         "alignmentgroup": "True",
         "hovertemplate": "Query=8<br>=%{y}<br>size=5.0<extra></extra>",
         "legendgroup": "8",
         "marker": {
          "color": "#B6E880",
          "line": {
           "width": 0
          },
          "pattern": {
           "shape": ""
          }
         },
         "name": "8",
         "offsetgroup": "8",
         "orientation": "v",
         "showlegend": false,
         "textposition": "auto",
         "type": "bar",
         "x": [
          "neo4j",
          "blazegraph",
          "virtuoso",
          "graphdb",
          "kitt"
         ],
         "xaxis": "x8",
         "y": [
          0.09136579052734375,
          0.01569793212890625,
          0.02262981787109375,
          0.015619986328125,
          0.010890613555908204
         ],
         "yaxis": "y8"
        },
        {
         "alignmentgroup": "True",
         "hovertemplate": "Query=8<br>=%{y}<br>size=10.0<extra></extra>",
         "legendgroup": "8",
         "marker": {
          "color": "#B6E880",
          "line": {
           "width": 0
          },
          "pattern": {
           "shape": ""
          }
         },
         "name": "8",
         "offsetgroup": "8",
         "orientation": "v",
         "showlegend": false,
         "textposition": "auto",
         "type": "bar",
         "x": [
          "neo4j",
          "blazegraph",
          "virtuoso",
          "graphdb",
          "kitt"
         ],
         "xaxis": "x9",
         "y": [
          0.09119689794921876,
          0.01592657958984375,
          0.02275629150390625,
          0.01550540625,
          0.011366172790527344
         ],
         "yaxis": "y9"
        },
        {
         "alignmentgroup": "True",
         "hovertemplate": "Query=8<br>=%{y}<br>size=20.0<extra></extra>",
         "legendgroup": "8",
         "marker": {
          "color": "#B6E880",
          "line": {
           "width": 0
          },
          "pattern": {
           "shape": ""
          }
         },
         "name": "8",
         "offsetgroup": "8",
         "orientation": "v",
         "showlegend": false,
         "textposition": "auto",
         "type": "bar",
         "x": [
          "neo4j",
          "blazegraph",
          "virtuoso",
          "graphdb",
          "kitt"
         ],
         "xaxis": "x10",
         "y": [
          0.09047864990234375,
          0.0153261630859375,
          0.022486357421875,
          0.015075333984375,
          0.01193366813659668
         ],
         "yaxis": "y10"
        },
        {
         "alignmentgroup": "True",
         "hovertemplate": "Query=8<br>=%{y}<br>size=50.0<extra></extra>",
         "legendgroup": "8",
         "marker": {
          "color": "#B6E880",
          "line": {
           "width": 0
          },
          "pattern": {
           "shape": ""
          }
         },
         "name": "8",
         "offsetgroup": "8",
         "orientation": "v",
         "showlegend": false,
         "textposition": "auto",
         "type": "bar",
         "x": [
          "neo4j",
          "blazegraph",
          "virtuoso",
          "graphdb",
          "kitt"
         ],
         "xaxis": "x11",
         "y": [
          0.09262683544921875,
          0.0153372626953125,
          0.02278046484375,
          0.01529805224609375,
          0.012215533256530763
         ],
         "yaxis": "y11"
        },
        {
         "alignmentgroup": "True",
         "hovertemplate": "Query=8<br>=%{y}<br>size=100.0<extra></extra>",
         "legendgroup": "8",
         "marker": {
          "color": "#B6E880",
          "line": {
           "width": 0
          },
          "pattern": {
           "shape": ""
          }
         },
         "name": "8",
         "offsetgroup": "8",
         "orientation": "v",
         "showlegend": false,
         "textposition": "auto",
         "type": "bar",
         "x": [
          "neo4j",
          "blazegraph",
          "virtuoso",
          "graphdb",
          "kitt"
         ],
         "xaxis": "x12",
         "y": [
          0.09201343066406249,
          0.014822759765624999,
          0.0227393271484375,
          0.01568822900390625,
          0.011780798435211182
         ],
         "yaxis": "y12"
        },
        {
         "alignmentgroup": "True",
         "hovertemplate": "Query=8<br>=%{y}<br>size=2.0<extra></extra>",
         "legendgroup": "8",
         "marker": {
          "color": "#B6E880",
          "line": {
           "width": 0
          },
          "pattern": {
           "shape": ""
          }
         },
         "name": "8",
         "offsetgroup": "8",
         "orientation": "v",
         "showlegend": false,
         "textposition": "auto",
         "type": "bar",
         "x": [
          "neo4j",
          "blazegraph",
          "virtuoso",
          "graphdb",
          "kitt"
         ],
         "xaxis": "x",
         "y": [
          0.02480823095703125,
          0.246167353515625,
          0.0389496728515625,
          0.1097410205078125,
          0.030473837852478026
         ],
         "yaxis": "y"
        },
        {
         "alignmentgroup": "True",
         "hovertemplate": "Query=8<br>=%{y}<br>size=5.0<extra></extra>",
         "legendgroup": "8",
         "marker": {
          "color": "#B6E880",
          "line": {
           "width": 0
          },
          "pattern": {
           "shape": ""
          }
         },
         "name": "8",
         "offsetgroup": "8",
         "orientation": "v",
         "showlegend": false,
         "textposition": "auto",
         "type": "bar",
         "x": [
          "neo4j",
          "blazegraph",
          "virtuoso",
          "graphdb",
          "kitt"
         ],
         "xaxis": "x2",
         "y": [
          0.02448820849609375,
          0.4768802734375,
          0.058488041992187496,
          0.256169345703125,
          0.030531301498413085
         ],
         "yaxis": "y2"
        },
        {
         "alignmentgroup": "True",
         "hovertemplate": "Query=8<br>=%{y}<br>size=10.0<extra></extra>",
         "legendgroup": "8",
         "marker": {
          "color": "#B6E880",
          "line": {
           "width": 0
          },
          "pattern": {
           "shape": ""
          }
         },
         "name": "8",
         "offsetgroup": "8",
         "orientation": "v",
         "showlegend": false,
         "textposition": "auto",
         "type": "bar",
         "x": [
          "neo4j",
          "blazegraph",
          "virtuoso",
          "graphdb",
          "kitt"
         ],
         "xaxis": "x3",
         "y": [
          0.024764216796875002,
          0.8521339550781251,
          0.09638214843750001,
          0.4903986376953125,
          0.032290897369384765
         ],
         "yaxis": "y3"
        },
        {
         "alignmentgroup": "True",
         "hovertemplate": "Query=8<br>=%{y}<br>size=20.0<extra></extra>",
         "legendgroup": "8",
         "marker": {
          "color": "#B6E880",
          "line": {
           "width": 0
          },
          "pattern": {
           "shape": ""
          }
         },
         "name": "8",
         "offsetgroup": "8",
         "orientation": "v",
         "showlegend": false,
         "textposition": "auto",
         "type": "bar",
         "x": [
          "neo4j",
          "blazegraph",
          "virtuoso",
          "graphdb",
          "kitt"
         ],
         "xaxis": "x4",
         "y": [
          0.0253486455078125,
          1.5929312451171875,
          0.17310673339843752,
          1.0420071533203124,
          0.032796592712402345
         ],
         "yaxis": "y4"
        },
        {
         "alignmentgroup": "True",
         "hovertemplate": "Query=8<br>=%{y}<br>size=50.0<extra></extra>",
         "legendgroup": "8",
         "marker": {
          "color": "#B6E880",
          "line": {
           "width": 0
          },
          "pattern": {
           "shape": ""
          }
         },
         "name": "8",
         "offsetgroup": "8",
         "orientation": "v",
         "showlegend": false,
         "textposition": "auto",
         "type": "bar",
         "x": [
          "neo4j",
          "blazegraph",
          "virtuoso",
          "graphdb",
          "kitt"
         ],
         "xaxis": "x5",
         "y": [
          0.02722842822265625,
          3.6185332568359376,
          0.150252353515625,
          2.47564609375,
          0.03814999103546143
         ],
         "yaxis": "y5"
        },
        {
         "alignmentgroup": "True",
         "hovertemplate": "Query=8<br>=%{y}<br>size=100.0<extra></extra>",
         "legendgroup": "8",
         "marker": {
          "color": "#B6E880",
          "line": {
           "width": 0
          },
          "pattern": {
           "shape": ""
          }
         },
         "name": "8",
         "offsetgroup": "8",
         "orientation": "v",
         "showlegend": false,
         "textposition": "auto",
         "type": "bar",
         "x": [
          "neo4j",
          "blazegraph",
          "virtuoso",
          "graphdb",
          "kitt"
         ],
         "xaxis": "x6",
         "y": [
          0.026704941406250002,
          7.485180581054688,
          1.9657243896484373,
          4.955689956054687,
          0.04457639694213867
         ],
         "yaxis": "y6"
        },
        {
         "alignmentgroup": "True",
         "hovertemplate": "Query=9<br>=%{y}<br>size=2.0<extra></extra>",
         "legendgroup": "9",
         "marker": {
          "color": "#FF97FF",
          "line": {
           "width": 0
          },
          "pattern": {
           "shape": ""
          }
         },
         "name": "9",
         "offsetgroup": "9",
         "orientation": "v",
         "showlegend": true,
         "textposition": "auto",
         "type": "bar",
         "x": [
          "neo4j",
          "blazegraph",
          "graphdb",
          "virtuoso",
          "kitt"
         ],
         "xaxis": "x13",
         "y": [
          0.0004252861328125,
          0.030421,
          0.005215,
          0.00688,
          0.0030565354195
         ],
         "yaxis": "y13"
        },
        {
         "alignmentgroup": "True",
         "hovertemplate": "Query=9<br>=%{y}<br>size=5.0<extra></extra>",
         "legendgroup": "9",
         "marker": {
          "color": "#FF97FF",
          "line": {
           "width": 0
          },
          "pattern": {
           "shape": ""
          }
         },
         "name": "9",
         "offsetgroup": "9",
         "orientation": "v",
         "showlegend": false,
         "textposition": "auto",
         "type": "bar",
         "x": [
          "neo4j",
          "blazegraph",
          "graphdb",
          "virtuoso",
          "kitt"
         ],
         "xaxis": "x14",
         "y": [
          0.0005592114257812501,
          0.016379,
          0.007484,
          0.00668,
          0.0038182680750000002
         ],
         "yaxis": "y14"
        },
        {
         "alignmentgroup": "True",
         "hovertemplate": "Query=9<br>=%{y}<br>size=10.0<extra></extra>",
         "legendgroup": "9",
         "marker": {
          "color": "#FF97FF",
          "line": {
           "width": 0
          },
          "pattern": {
           "shape": ""
          }
         },
         "name": "9",
         "offsetgroup": "9",
         "orientation": "v",
         "showlegend": false,
         "textposition": "auto",
         "type": "bar",
         "x": [
          "neo4j",
          "blazegraph",
          "graphdb",
          "virtuoso",
          "kitt"
         ],
         "xaxis": "x15",
         "y": [
          0.00058818701171875,
          0.016763,
          0.012102,
          0.007844,
          0.0045696744355
         ],
         "yaxis": "y15"
        },
        {
         "alignmentgroup": "True",
         "hovertemplate": "Query=9<br>=%{y}<br>size=20.0<extra></extra>",
         "legendgroup": "9",
         "marker": {
          "color": "#FF97FF",
          "line": {
           "width": 0
          },
          "pattern": {
           "shape": ""
          }
         },
         "name": "9",
         "offsetgroup": "9",
         "orientation": "v",
         "showlegend": false,
         "textposition": "auto",
         "type": "bar",
         "x": [
          "neo4j",
          "blazegraph",
          "graphdb",
          "virtuoso",
          "kitt"
         ],
         "xaxis": "x16",
         "y": [
          0.00061089599609375,
          0.0192,
          0.016358,
          0.009804,
          0.0077624531125000005
         ],
         "yaxis": "y16"
        },
        {
         "alignmentgroup": "True",
         "hovertemplate": "Query=9<br>=%{y}<br>size=50.0<extra></extra>",
         "legendgroup": "9",
         "marker": {
          "color": "#FF97FF",
          "line": {
           "width": 0
          },
          "pattern": {
           "shape": ""
          }
         },
         "name": "9",
         "offsetgroup": "9",
         "orientation": "v",
         "showlegend": false,
         "textposition": "auto",
         "type": "bar",
         "x": [
          "neo4j",
          "blazegraph",
          "graphdb",
          "virtuoso",
          "kitt"
         ],
         "xaxis": "x17",
         "y": [
          0.00051770068359375,
          0.022338,
          0.019972,
          0.010962,
          0.012659105613
         ],
         "yaxis": "y17"
        },
        {
         "alignmentgroup": "True",
         "hovertemplate": "Query=9<br>=%{y}<br>size=100.0<extra></extra>",
         "legendgroup": "9",
         "marker": {
          "color": "#FF97FF",
          "line": {
           "width": 0
          },
          "pattern": {
           "shape": ""
          }
         },
         "name": "9",
         "offsetgroup": "9",
         "orientation": "v",
         "showlegend": false,
         "textposition": "auto",
         "type": "bar",
         "x": [
          "neo4j",
          "blazegraph",
          "graphdb",
          "virtuoso",
          "kitt"
         ],
         "xaxis": "x18",
         "y": [
          0.0005036015625,
          0.020872,
          0.018109,
          0.015699,
          0.0001202240285
         ],
         "yaxis": "y18"
        },
        {
         "alignmentgroup": "True",
         "hovertemplate": "Query=9<br>=%{y}<br>size=2.0<extra></extra>",
         "legendgroup": "9",
         "marker": {
          "color": "#FF97FF",
          "line": {
           "width": 0
          },
          "pattern": {
           "shape": ""
          }
         },
         "name": "9",
         "offsetgroup": "9",
         "orientation": "v",
         "showlegend": false,
         "textposition": "auto",
         "type": "bar",
         "x": [
          "neo4j",
          "blazegraph",
          "virtuoso",
          "graphdb",
          "kitt"
         ],
         "xaxis": "x7",
         "y": [
          0.09373708447265625,
          0.040849508300781254,
          0.09391793994140625,
          0.027551377929687502,
          0.009754980564117431
         ],
         "yaxis": "y7"
        },
        {
         "alignmentgroup": "True",
         "hovertemplate": "Query=9<br>=%{y}<br>size=5.0<extra></extra>",
         "legendgroup": "9",
         "marker": {
          "color": "#FF97FF",
          "line": {
           "width": 0
          },
          "pattern": {
           "shape": ""
          }
         },
         "name": "9",
         "offsetgroup": "9",
         "orientation": "v",
         "showlegend": false,
         "textposition": "auto",
         "type": "bar",
         "x": [
          "neo4j",
          "blazegraph",
          "virtuoso",
          "graphdb",
          "kitt"
         ],
         "xaxis": "x8",
         "y": [
          0.19509501269531251,
          0.10199876708984375,
          0.16554968847656248,
          0.04468570556640625,
          0.01044476556777954
         ],
         "yaxis": "y8"
        },
        {
         "alignmentgroup": "True",
         "hovertemplate": "Query=9<br>=%{y}<br>size=10.0<extra></extra>",
         "legendgroup": "9",
         "marker": {
          "color": "#FF97FF",
          "line": {
           "width": 0
          },
          "pattern": {
           "shape": ""
          }
         },
         "name": "9",
         "offsetgroup": "9",
         "orientation": "v",
         "showlegend": false,
         "textposition": "auto",
         "type": "bar",
         "x": [
          "neo4j",
          "blazegraph",
          "virtuoso",
          "graphdb",
          "kitt"
         ],
         "xaxis": "x9",
         "y": [
          0.19545162939453123,
          0.10925841210937501,
          0.1403359609375,
          0.06858475537109375,
          0.012382551670074463
         ],
         "yaxis": "y9"
        },
        {
         "alignmentgroup": "True",
         "hovertemplate": "Query=9<br>=%{y}<br>size=20.0<extra></extra>",
         "legendgroup": "9",
         "marker": {
          "color": "#FF97FF",
          "line": {
           "width": 0
          },
          "pattern": {
           "shape": ""
          }
         },
         "name": "9",
         "offsetgroup": "9",
         "orientation": "v",
         "showlegend": false,
         "textposition": "auto",
         "type": "bar",
         "x": [
          "neo4j",
          "blazegraph",
          "virtuoso",
          "graphdb",
          "kitt"
         ],
         "xaxis": "x10",
         "y": [
          0.19384682275390624,
          0.10618833740234375,
          0.17878455712890623,
          0.06930883154296874,
          0.015242101192474366
         ],
         "yaxis": "y10"
        },
        {
         "alignmentgroup": "True",
         "hovertemplate": "Query=9<br>=%{y}<br>size=50.0<extra></extra>",
         "legendgroup": "9",
         "marker": {
          "color": "#FF97FF",
          "line": {
           "width": 0
          },
          "pattern": {
           "shape": ""
          }
         },
         "name": "9",
         "offsetgroup": "9",
         "orientation": "v",
         "showlegend": false,
         "textposition": "auto",
         "type": "bar",
         "x": [
          "neo4j",
          "blazegraph",
          "virtuoso",
          "graphdb",
          "kitt"
         ],
         "xaxis": "x11",
         "y": [
          0.19798203662109376,
          0.10799207666015624,
          0.28034896875,
          0.07326789111328125,
          0.021628630638122558
         ],
         "yaxis": "y11"
        },
        {
         "alignmentgroup": "True",
         "hovertemplate": "Query=9<br>=%{y}<br>size=100.0<extra></extra>",
         "legendgroup": "9",
         "marker": {
          "color": "#FF97FF",
          "line": {
           "width": 0
          },
          "pattern": {
           "shape": ""
          }
         },
         "name": "9",
         "offsetgroup": "9",
         "orientation": "v",
         "showlegend": false,
         "textposition": "auto",
         "type": "bar",
         "x": [
          "neo4j",
          "blazegraph",
          "virtuoso",
          "graphdb",
          "kitt"
         ],
         "xaxis": "x12",
         "y": [
          0.19817098779296877,
          0.11763439794921875,
          0.4870319443359375,
          0.074526568359375,
          0.032471858501434324
         ],
         "yaxis": "y12"
        },
        {
         "alignmentgroup": "True",
         "hovertemplate": "Query=9<br>=%{y}<br>size=2.0<extra></extra>",
         "legendgroup": "9",
         "marker": {
          "color": "#FF97FF",
          "line": {
           "width": 0
          },
          "pattern": {
           "shape": ""
          }
         },
         "name": "9",
         "offsetgroup": "9",
         "orientation": "v",
         "showlegend": false,
         "textposition": "auto",
         "type": "bar",
         "x": [
          "neo4j",
          "blazegraph",
          "virtuoso",
          "graphdb",
          "kitt"
         ],
         "xaxis": "x",
         "y": [
          0.057089667480468745,
          0.1653545361328125,
          0.0862795751953125,
          0.0426369677734375,
          0.025354447364807128
         ],
         "yaxis": "y"
        },
        {
         "alignmentgroup": "True",
         "hovertemplate": "Query=9<br>=%{y}<br>size=5.0<extra></extra>",
         "legendgroup": "9",
         "marker": {
          "color": "#FF97FF",
          "line": {
           "width": 0
          },
          "pattern": {
           "shape": ""
          }
         },
         "name": "9",
         "offsetgroup": "9",
         "orientation": "v",
         "showlegend": false,
         "textposition": "auto",
         "type": "bar",
         "x": [
          "neo4j",
          "blazegraph",
          "virtuoso",
          "graphdb",
          "kitt"
         ],
         "xaxis": "x2",
         "y": [
          0.14000609033203124,
          0.2298763427734375,
          0.1735768701171875,
          0.061343505859375,
          0.05195803642272949
         ],
         "yaxis": "y2"
        },
        {
         "alignmentgroup": "True",
         "hovertemplate": "Query=9<br>=%{y}<br>size=10.0<extra></extra>",
         "legendgroup": "9",
         "marker": {
          "color": "#FF97FF",
          "line": {
           "width": 0
          },
          "pattern": {
           "shape": ""
          }
         },
         "name": "9",
         "offsetgroup": "9",
         "orientation": "v",
         "showlegend": false,
         "textposition": "auto",
         "type": "bar",
         "x": [
          "neo4j",
          "blazegraph",
          "virtuoso",
          "graphdb",
          "kitt"
         ],
         "xaxis": "x3",
         "y": [
          0.33667014404296874,
          0.3061548486328125,
          0.48479837890625,
          0.105924013671875,
          0.09516302585601806
         ],
         "yaxis": "y3"
        },
        {
         "alignmentgroup": "True",
         "hovertemplate": "Query=9<br>=%{y}<br>size=20.0<extra></extra>",
         "legendgroup": "9",
         "marker": {
          "color": "#FF97FF",
          "line": {
           "width": 0
          },
          "pattern": {
           "shape": ""
          }
         },
         "name": "9",
         "offsetgroup": "9",
         "orientation": "v",
         "showlegend": false,
         "textposition": "auto",
         "type": "bar",
         "x": [
          "neo4j",
          "blazegraph",
          "virtuoso",
          "graphdb",
          "kitt"
         ],
         "xaxis": "x4",
         "y": [
          0.5553302958984375,
          0.4687085498046875,
          1.0134654199218749,
          0.20705381835937497,
          0.19059299945831298
         ],
         "yaxis": "y4"
        },
        {
         "alignmentgroup": "True",
         "hovertemplate": "Query=9<br>=%{y}<br>size=50.0<extra></extra>",
         "legendgroup": "9",
         "marker": {
          "color": "#FF97FF",
          "line": {
           "width": 0
          },
          "pattern": {
           "shape": ""
          }
         },
         "name": "9",
         "offsetgroup": "9",
         "orientation": "v",
         "showlegend": false,
         "textposition": "auto",
         "type": "bar",
         "x": [
          "neo4j",
          "blazegraph",
          "virtuoso",
          "graphdb",
          "kitt"
         ],
         "xaxis": "x5",
         "y": [
          1.4461881948242188,
          0.8125494042968749,
          2.6262172900390626,
          0.46901537109374997,
          0.4713496255874634
         ],
         "yaxis": "y5"
        },
        {
         "alignmentgroup": "True",
         "hovertemplate": "Query=9<br>=%{y}<br>size=100.0<extra></extra>",
         "legendgroup": "9",
         "marker": {
          "color": "#FF97FF",
          "line": {
           "width": 0
          },
          "pattern": {
           "shape": ""
          }
         },
         "name": "9",
         "offsetgroup": "9",
         "orientation": "v",
         "showlegend": false,
         "textposition": "auto",
         "type": "bar",
         "x": [
          "neo4j",
          "blazegraph",
          "virtuoso",
          "graphdb",
          "kitt"
         ],
         "xaxis": "x6",
         "y": [
          2.750894541015625,
          1.5125308837890625,
          5.040213110351562,
          0.94241087890625,
          0.9543888235092163
         ],
         "yaxis": "y6"
        },
        {
         "alignmentgroup": "True",
         "hovertemplate": "Query=10<br>=%{y}<br>size=2.0<extra></extra>",
         "legendgroup": "10",
         "marker": {
          "color": "#FECB52",
          "line": {
           "width": 0
          },
          "pattern": {
           "shape": ""
          }
         },
         "name": "10",
         "offsetgroup": "10",
         "orientation": "v",
         "showlegend": true,
         "textposition": "auto",
         "type": "bar",
         "x": [
          "neo4j",
          "blazegraph",
          "graphdb",
          "virtuoso",
          "kitt"
         ],
         "xaxis": "x13",
         "y": [
          0.00108934326171875,
          0.036988,
          0.006001,
          0.028594,
          0.002950705464
         ],
         "yaxis": "y13"
        },
        {
         "alignmentgroup": "True",
         "hovertemplate": "Query=10<br>=%{y}<br>size=5.0<extra></extra>",
         "legendgroup": "10",
         "marker": {
          "color": "#FECB52",
          "line": {
           "width": 0
          },
          "pattern": {
           "shape": ""
          }
         },
         "name": "10",
         "offsetgroup": "10",
         "orientation": "v",
         "showlegend": false,
         "textposition": "auto",
         "type": "bar",
         "x": [
          "neo4j",
          "blazegraph",
          "graphdb",
          "virtuoso",
          "kitt"
         ],
         "xaxis": "x14",
         "y": [
          0.0023183886718750003,
          0.025994,
          0.007514,
          0.024201,
          0.0035386817920000004
         ],
         "yaxis": "y14"
        },
        {
         "alignmentgroup": "True",
         "hovertemplate": "Query=10<br>=%{y}<br>size=10.0<extra></extra>",
         "legendgroup": "10",
         "marker": {
          "color": "#FECB52",
          "line": {
           "width": 0
          },
          "pattern": {
           "shape": ""
          }
         },
         "name": "10",
         "offsetgroup": "10",
         "orientation": "v",
         "showlegend": false,
         "textposition": "auto",
         "type": "bar",
         "x": [
          "neo4j",
          "blazegraph",
          "graphdb",
          "virtuoso",
          "kitt"
         ],
         "xaxis": "x15",
         "y": [
          0.00443209326171875,
          0.027159,
          0.012014,
          0.032265,
          0.003292903163
         ],
         "yaxis": "y15"
        },
        {
         "alignmentgroup": "True",
         "hovertemplate": "Query=10<br>=%{y}<br>size=20.0<extra></extra>",
         "legendgroup": "10",
         "marker": {
          "color": "#FECB52",
          "line": {
           "width": 0
          },
          "pattern": {
           "shape": ""
          }
         },
         "name": "10",
         "offsetgroup": "10",
         "orientation": "v",
         "showlegend": false,
         "textposition": "auto",
         "type": "bar",
         "x": [
          "neo4j",
          "blazegraph",
          "graphdb",
          "virtuoso",
          "kitt"
         ],
         "xaxis": "x16",
         "y": [
          0.00948617041015625,
          0.03017,
          0.01563,
          0.035921,
          0.004883395441
         ],
         "yaxis": "y16"
        },
        {
         "alignmentgroup": "True",
         "hovertemplate": "Query=10<br>=%{y}<br>size=50.0<extra></extra>",
         "legendgroup": "10",
         "marker": {
          "color": "#FECB52",
          "line": {
           "width": 0
          },
          "pattern": {
           "shape": ""
          }
         },
         "name": "10",
         "offsetgroup": "10",
         "orientation": "v",
         "showlegend": false,
         "textposition": "auto",
         "type": "bar",
         "x": [
          "neo4j",
          "blazegraph",
          "graphdb",
          "virtuoso",
          "kitt"
         ],
         "xaxis": "x17",
         "y": [
          0.02619769580078125,
          0.032803,
          0.017033,
          0.044058,
          0.0051626811669999995
         ],
         "yaxis": "y17"
        },
        {
         "alignmentgroup": "True",
         "hovertemplate": "Query=10<br>=%{y}<br>size=100.0<extra></extra>",
         "legendgroup": "10",
         "marker": {
          "color": "#FECB52",
          "line": {
           "width": 0
          },
          "pattern": {
           "shape": ""
          }
         },
         "name": "10",
         "offsetgroup": "10",
         "orientation": "v",
         "showlegend": false,
         "textposition": "auto",
         "type": "bar",
         "x": [
          "neo4j",
          "blazegraph",
          "graphdb",
          "virtuoso",
          "kitt"
         ],
         "xaxis": "x18",
         "y": [
          0.05257647412109375,
          0.035909,
          0.015921,
          0.063996,
          0.0027084347339999997
         ],
         "yaxis": "y18"
        },
        {
         "alignmentgroup": "True",
         "hovertemplate": "Query=10<br>=%{y}<br>size=2.0<extra></extra>",
         "legendgroup": "10",
         "marker": {
          "color": "#FECB52",
          "line": {
           "width": 0
          },
          "pattern": {
           "shape": ""
          }
         },
         "name": "10",
         "offsetgroup": "10",
         "orientation": "v",
         "showlegend": false,
         "textposition": "auto",
         "type": "bar",
         "x": [
          "neo4j",
          "blazegraph",
          "virtuoso",
          "graphdb",
          "kitt"
         ],
         "xaxis": "x7",
         "y": [
          0.03234889453125,
          0.012368669921875,
          0.0013591416015625,
          0.00217083984375,
          0.0009556212425231934
         ],
         "yaxis": "y7"
        },
        {
         "alignmentgroup": "True",
         "hovertemplate": "Query=10<br>=%{y}<br>size=5.0<extra></extra>",
         "legendgroup": "10",
         "marker": {
          "color": "#FECB52",
          "line": {
           "width": 0
          },
          "pattern": {
           "shape": ""
          }
         },
         "name": "10",
         "offsetgroup": "10",
         "orientation": "v",
         "showlegend": false,
         "textposition": "auto",
         "type": "bar",
         "x": [
          "neo4j",
          "blazegraph",
          "virtuoso",
          "graphdb",
          "kitt"
         ],
         "xaxis": "x8",
         "y": [
          0.08497178955078125,
          0.012694324218749999,
          0.0013128369140625001,
          0.00201182080078125,
          0.0010752739906311035
         ],
         "yaxis": "y8"
        },
        {
         "alignmentgroup": "True",
         "hovertemplate": "Query=10<br>=%{y}<br>size=10.0<extra></extra>",
         "legendgroup": "10",
         "marker": {
          "color": "#FECB52",
          "line": {
           "width": 0
          },
          "pattern": {
           "shape": ""
          }
         },
         "name": "10",
         "offsetgroup": "10",
         "orientation": "v",
         "showlegend": false,
         "textposition": "auto",
         "type": "bar",
         "x": [
          "neo4j",
          "blazegraph",
          "virtuoso",
          "graphdb",
          "kitt"
         ],
         "xaxis": "x9",
         "y": [
          0.18351250830078125,
          0.012631639648437502,
          0.00150995751953125,
          0.00209153271484375,
          0.0009802937507629394
         ],
         "yaxis": "y9"
        },
        {
         "alignmentgroup": "True",
         "hovertemplate": "Query=10<br>=%{y}<br>size=20.0<extra></extra>",
         "legendgroup": "10",
         "marker": {
          "color": "#FECB52",
          "line": {
           "width": 0
          },
          "pattern": {
           "shape": ""
          }
         },
         "name": "10",
         "offsetgroup": "10",
         "orientation": "v",
         "showlegend": false,
         "textposition": "auto",
         "type": "bar",
         "x": [
          "neo4j",
          "blazegraph",
          "virtuoso",
          "graphdb",
          "kitt"
         ],
         "xaxis": "x10",
         "y": [
          0.3652303447265625,
          0.012713066406250001,
          0.00132382470703125,
          0.0021332919921875,
          0.0009555778503417969
         ],
         "yaxis": "y10"
        },
        {
         "alignmentgroup": "True",
         "hovertemplate": "Query=10<br>=%{y}<br>size=50.0<extra></extra>",
         "legendgroup": "10",
         "marker": {
          "color": "#FECB52",
          "line": {
           "width": 0
          },
          "pattern": {
           "shape": ""
          }
         },
         "name": "10",
         "offsetgroup": "10",
         "orientation": "v",
         "showlegend": false,
         "textposition": "auto",
         "type": "bar",
         "x": [
          "neo4j",
          "blazegraph",
          "virtuoso",
          "graphdb",
          "kitt"
         ],
         "xaxis": "x11",
         "y": [
          0.9712278359375,
          0.01276344677734375,
          0.00137787109375,
          0.0021316250000000003,
          0.0009155511856079101
         ],
         "yaxis": "y11"
        },
        {
         "alignmentgroup": "True",
         "hovertemplate": "Query=10<br>=%{y}<br>size=100.0<extra></extra>",
         "legendgroup": "10",
         "marker": {
          "color": "#FECB52",
          "line": {
           "width": 0
          },
          "pattern": {
           "shape": ""
          }
         },
         "name": "10",
         "offsetgroup": "10",
         "orientation": "v",
         "showlegend": false,
         "textposition": "auto",
         "type": "bar",
         "x": [
          "neo4j",
          "blazegraph",
          "virtuoso",
          "graphdb",
          "kitt"
         ],
         "xaxis": "x12",
         "y": [
          2.0217374375,
          0.012315197265625001,
          0.00153172021484375,
          0.00206764697265625,
          0.0007764315605163575
         ],
         "yaxis": "y12"
        },
        {
         "alignmentgroup": "True",
         "hovertemplate": "Query=10<br>=%{y}<br>size=2.0<extra></extra>",
         "legendgroup": "10",
         "marker": {
          "color": "#FECB52",
          "line": {
           "width": 0
          },
          "pattern": {
           "shape": ""
          }
         },
         "name": "10",
         "offsetgroup": "10",
         "orientation": "v",
         "showlegend": false,
         "textposition": "auto",
         "type": "bar",
         "x": [
          "neo4j",
          "blazegraph",
          "virtuoso",
          "graphdb",
          "kitt"
         ],
         "xaxis": "x",
         "y": [
          0.0362792041015625,
          0.37241415527343746,
          0.5702774169921875,
          0.11185010253906251,
          0.05064208984375
         ],
         "yaxis": "y"
        },
        {
         "alignmentgroup": "True",
         "hovertemplate": "Query=10<br>=%{y}<br>size=5.0<extra></extra>",
         "legendgroup": "10",
         "marker": {
          "color": "#FECB52",
          "line": {
           "width": 0
          },
          "pattern": {
           "shape": ""
          }
         },
         "name": "10",
         "offsetgroup": "10",
         "orientation": "v",
         "showlegend": false,
         "textposition": "auto",
         "type": "bar",
         "x": [
          "neo4j",
          "blazegraph",
          "virtuoso",
          "graphdb",
          "kitt"
         ],
         "xaxis": "x2",
         "y": [
          0.09011182031250001,
          0.697943857421875,
          1.223346787109375,
          0.25632529296874995,
          0.12310946941375732
         ],
         "yaxis": "y2"
        },
        {
         "alignmentgroup": "True",
         "hovertemplate": "Query=10<br>=%{y}<br>size=10.0<extra></extra>",
         "legendgroup": "10",
         "marker": {
          "color": "#FECB52",
          "line": {
           "width": 0
          },
          "pattern": {
           "shape": ""
          }
         },
         "name": "10",
         "offsetgroup": "10",
         "orientation": "v",
         "showlegend": false,
         "textposition": "auto",
         "type": "bar",
         "x": [
          "neo4j",
          "blazegraph",
          "virtuoso",
          "graphdb",
          "kitt"
         ],
         "xaxis": "x3",
         "y": [
          0.18841846435546875,
          1.2607089013671875,
          2.62812947265625,
          0.487150810546875,
          0.2440137767791748
         ],
         "yaxis": "y3"
        },
        {
         "alignmentgroup": "True",
         "hovertemplate": "Query=10<br>=%{y}<br>size=20.0<extra></extra>",
         "legendgroup": "10",
         "marker": {
          "color": "#FECB52",
          "line": {
           "width": 0
          },
          "pattern": {
           "shape": ""
          }
         },
         "name": "10",
         "offsetgroup": "10",
         "orientation": "v",
         "showlegend": false,
         "textposition": "auto",
         "type": "bar",
         "x": [
          "neo4j",
          "blazegraph",
          "virtuoso",
          "graphdb",
          "kitt"
         ],
         "xaxis": "x4",
         "y": [
          0.5585815717773437,
          2.48047701171875,
          6.918550327148438,
          1.0322960253906248,
          0.48870526790618896
         ],
         "yaxis": "y4"
        },
        {
         "alignmentgroup": "True",
         "hovertemplate": "Query=10<br>=%{y}<br>size=50.0<extra></extra>",
         "legendgroup": "10",
         "marker": {
          "color": "#FECB52",
          "line": {
           "width": 0
          },
          "pattern": {
           "shape": ""
          }
         },
         "name": "10",
         "offsetgroup": "10",
         "orientation": "v",
         "showlegend": false,
         "textposition": "auto",
         "type": "bar",
         "x": [
          "neo4j",
          "blazegraph",
          "virtuoso",
          "graphdb",
          "kitt"
         ],
         "xaxis": "x5",
         "y": [
          1.5428618427734375,
          6.523783286132812,
          21.111778823242187,
          2.443519907226562,
          1.2159829330444336
         ],
         "yaxis": "y5"
        },
        {
         "alignmentgroup": "True",
         "hovertemplate": "Query=10<br>=%{y}<br>size=100.0<extra></extra>",
         "legendgroup": "10",
         "marker": {
          "color": "#FECB52",
          "line": {
           "width": 0
          },
          "pattern": {
           "shape": ""
          }
         },
         "name": "10",
         "offsetgroup": "10",
         "orientation": "v",
         "showlegend": false,
         "textposition": "auto",
         "type": "bar",
         "x": [
          "neo4j",
          "blazegraph",
          "virtuoso",
          "graphdb",
          "kitt"
         ],
         "xaxis": "x6",
         "y": [
          3.0480766162109374,
          13.78299671875,
          33.99585988769531,
          5.069831577148437,
          2.492834186553955
         ],
         "yaxis": "y6"
        },
        {
         "alignmentgroup": "True",
         "hovertemplate": "Query=11<br>=%{y}<br>size=2.0<extra></extra>",
         "legendgroup": "11",
         "marker": {
          "color": "#636efa",
          "line": {
           "width": 0
          },
          "pattern": {
           "shape": ""
          }
         },
         "name": "11",
         "offsetgroup": "11",
         "orientation": "v",
         "showlegend": true,
         "textposition": "auto",
         "type": "bar",
         "x": [
          "neo4j",
          "blazegraph",
          "graphdb",
          "virtuoso",
          "kitt"
         ],
         "xaxis": "x13",
         "y": [
          0.0015974443359375,
          0.029793,
          0.005368,
          0.006057,
          0.002971460738
         ],
         "yaxis": "y13"
        },
        {
         "alignmentgroup": "True",
         "hovertemplate": "Query=11<br>=%{y}<br>size=5.0<extra></extra>",
         "legendgroup": "11",
         "marker": {
          "color": "#636efa",
          "line": {
           "width": 0
          },
          "pattern": {
           "shape": ""
          }
         },
         "name": "11",
         "offsetgroup": "11",
         "orientation": "v",
         "showlegend": false,
         "textposition": "auto",
         "type": "bar",
         "x": [
          "neo4j",
          "blazegraph",
          "graphdb",
          "virtuoso",
          "kitt"
         ],
         "xaxis": "x14",
         "y": [
          0.0016172255859375,
          0.016196,
          0.006703,
          0.005873,
          0.003817727026
         ],
         "yaxis": "y14"
        },
        {
         "alignmentgroup": "True",
         "hovertemplate": "Query=11<br>=%{y}<br>size=10.0<extra></extra>",
         "legendgroup": "11",
         "marker": {
          "color": "#636efa",
          "line": {
           "width": 0
          },
          "pattern": {
           "shape": ""
          }
         },
         "name": "11",
         "offsetgroup": "11",
         "orientation": "v",
         "showlegend": false,
         "textposition": "auto",
         "type": "bar",
         "x": [
          "neo4j",
          "blazegraph",
          "graphdb",
          "virtuoso",
          "kitt"
         ],
         "xaxis": "x15",
         "y": [
          0.0015789565429687499,
          0.016869,
          0.010603,
          0.006354,
          0.00374276522
         ],
         "yaxis": "y15"
        },
        {
         "alignmentgroup": "True",
         "hovertemplate": "Query=11<br>=%{y}<br>size=20.0<extra></extra>",
         "legendgroup": "11",
         "marker": {
          "color": "#636efa",
          "line": {
           "width": 0
          },
          "pattern": {
           "shape": ""
          }
         },
         "name": "11",
         "offsetgroup": "11",
         "orientation": "v",
         "showlegend": false,
         "textposition": "auto",
         "type": "bar",
         "x": [
          "neo4j",
          "blazegraph",
          "graphdb",
          "virtuoso",
          "kitt"
         ],
         "xaxis": "x16",
         "y": [
          0.00149454150390625,
          0.019122,
          0.014554,
          0.007943,
          0.005475979736
         ],
         "yaxis": "y16"
        },
        {
         "alignmentgroup": "True",
         "hovertemplate": "Query=11<br>=%{y}<br>size=50.0<extra></extra>",
         "legendgroup": "11",
         "marker": {
          "color": "#636efa",
          "line": {
           "width": 0
          },
          "pattern": {
           "shape": ""
          }
         },
         "name": "11",
         "offsetgroup": "11",
         "orientation": "v",
         "showlegend": false,
         "textposition": "auto",
         "type": "bar",
         "x": [
          "neo4j",
          "blazegraph",
          "graphdb",
          "virtuoso",
          "kitt"
         ],
         "xaxis": "x17",
         "y": [
          0.0014871406250000002,
          0.022655,
          0.015189,
          0.012613,
          0.00845331959
         ],
         "yaxis": "y17"
        },
        {
         "alignmentgroup": "True",
         "hovertemplate": "Query=11<br>=%{y}<br>size=100.0<extra></extra>",
         "legendgroup": "11",
         "marker": {
          "color": "#636efa",
          "line": {
           "width": 0
          },
          "pattern": {
           "shape": ""
          }
         },
         "name": "11",
         "offsetgroup": "11",
         "orientation": "v",
         "showlegend": false,
         "textposition": "auto",
         "type": "bar",
         "x": [
          "neo4j",
          "blazegraph",
          "graphdb",
          "virtuoso",
          "kitt"
         ],
         "xaxis": "x18",
         "y": [
          0.00163731982421875,
          0.021258,
          0.015306,
          0.020702,
          0.011360786966
         ],
         "yaxis": "y18"
        },
        {
         "alignmentgroup": "True",
         "hovertemplate": "Query=11<br>=%{y}<br>size=2.0<extra></extra>",
         "legendgroup": "11",
         "marker": {
          "color": "#636efa",
          "line": {
           "width": 0
          },
          "pattern": {
           "shape": ""
          }
         },
         "name": "11",
         "offsetgroup": "11",
         "orientation": "v",
         "showlegend": false,
         "textposition": "auto",
         "type": "bar",
         "x": [
          "neo4j",
          "blazegraph",
          "virtuoso",
          "graphdb",
          "kitt"
         ],
         "xaxis": "x7",
         "y": [
          0.01138451513671875,
          0.0043393037109375,
          0.0021957138671875,
          0.0039466904296875,
          0.0019078292846679687
         ],
         "yaxis": "y7"
        },
        {
         "alignmentgroup": "True",
         "hovertemplate": "Query=11<br>=%{y}<br>size=5.0<extra></extra>",
         "legendgroup": "11",
         "marker": {
          "color": "#636efa",
          "line": {
           "width": 0
          },
          "pattern": {
           "shape": ""
          }
         },
         "name": "11",
         "offsetgroup": "11",
         "orientation": "v",
         "showlegend": false,
         "textposition": "auto",
         "type": "bar",
         "x": [
          "neo4j",
          "blazegraph",
          "virtuoso",
          "graphdb",
          "kitt"
         ],
         "xaxis": "x8",
         "y": [
          0.010151517089843751,
          0.00475858154296875,
          0.002360908203125,
          0.0053309384765625,
          0.002098409652709961
         ],
         "yaxis": "y8"
        },
        {
         "alignmentgroup": "True",
         "hovertemplate": "Query=11<br>=%{y}<br>size=10.0<extra></extra>",
         "legendgroup": "11",
         "marker": {
          "color": "#636efa",
          "line": {
           "width": 0
          },
          "pattern": {
           "shape": ""
          }
         },
         "name": "11",
         "offsetgroup": "11",
         "orientation": "v",
         "showlegend": false,
         "textposition": "auto",
         "type": "bar",
         "x": [
          "neo4j",
          "blazegraph",
          "virtuoso",
          "graphdb",
          "kitt"
         ],
         "xaxis": "x9",
         "y": [
          0.0100738076171875,
          0.0045693837890625,
          0.00233320849609375,
          0.0078476572265625,
          0.002379678726196289
         ],
         "yaxis": "y9"
        },
        {
         "alignmentgroup": "True",
         "hovertemplate": "Query=11<br>=%{y}<br>size=20.0<extra></extra>",
         "legendgroup": "11",
         "marker": {
          "color": "#636efa",
          "line": {
           "width": 0
          },
          "pattern": {
           "shape": ""
          }
         },
         "name": "11",
         "offsetgroup": "11",
         "orientation": "v",
         "showlegend": false,
         "textposition": "auto",
         "type": "bar",
         "x": [
          "neo4j",
          "blazegraph",
          "virtuoso",
          "graphdb",
          "kitt"
         ],
         "xaxis": "x10",
         "y": [
          0.010137447265624999,
          0.0043882265625,
          0.002315771484375,
          0.00329136474609375,
          0.0021084208488464356
         ],
         "yaxis": "y10"
        },
        {
         "alignmentgroup": "True",
         "hovertemplate": "Query=11<br>=%{y}<br>size=50.0<extra></extra>",
         "legendgroup": "11",
         "marker": {
          "color": "#636efa",
          "line": {
           "width": 0
          },
          "pattern": {
           "shape": ""
          }
         },
         "name": "11",
         "offsetgroup": "11",
         "orientation": "v",
         "showlegend": false,
         "textposition": "auto",
         "type": "bar",
         "x": [
          "neo4j",
          "blazegraph",
          "virtuoso",
          "graphdb",
          "kitt"
         ],
         "xaxis": "x11",
         "y": [
          0.01040157861328125,
          0.00478116552734375,
          0.002313662109375,
          0.00335644384765625,
          0.0019946050643920897
         ],
         "yaxis": "y11"
        },
        {
         "alignmentgroup": "True",
         "hovertemplate": "Query=11<br>=%{y}<br>size=100.0<extra></extra>",
         "legendgroup": "11",
         "marker": {
          "color": "#636efa",
          "line": {
           "width": 0
          },
          "pattern": {
           "shape": ""
          }
         },
         "name": "11",
         "offsetgroup": "11",
         "orientation": "v",
         "showlegend": false,
         "textposition": "auto",
         "type": "bar",
         "x": [
          "neo4j",
          "blazegraph",
          "virtuoso",
          "graphdb",
          "kitt"
         ],
         "xaxis": "x12",
         "y": [
          0.00991717138671875,
          0.00432633984375,
          0.002201244140625,
          0.00302557861328125,
          0.0020308804512023924
         ],
         "yaxis": "y12"
        },
        {
         "alignmentgroup": "True",
         "hovertemplate": "Query=11<br>=%{y}<br>size=2.0<extra></extra>",
         "legendgroup": "11",
         "marker": {
          "color": "#636efa",
          "line": {
           "width": 0
          },
          "pattern": {
           "shape": ""
          }
         },
         "name": "11",
         "offsetgroup": "11",
         "orientation": "v",
         "showlegend": false,
         "textposition": "auto",
         "type": "bar",
         "x": [
          "neo4j",
          "blazegraph",
          "virtuoso",
          "graphdb",
          "kitt"
         ],
         "xaxis": "x",
         "y": [
          0.02852245263671875,
          0.3740580419921875,
          0.0592233447265625,
          0.11839650390625,
          0.015240111351013184
         ],
         "yaxis": "y"
        },
        {
         "alignmentgroup": "True",
         "hovertemplate": "Query=11<br>=%{y}<br>size=5.0<extra></extra>",
         "legendgroup": "11",
         "marker": {
          "color": "#636efa",
          "line": {
           "width": 0
          },
          "pattern": {
           "shape": ""
          }
         },
         "name": "11",
         "offsetgroup": "11",
         "orientation": "v",
         "showlegend": false,
         "textposition": "auto",
         "type": "bar",
         "x": [
          "neo4j",
          "blazegraph",
          "virtuoso",
          "graphdb",
          "kitt"
         ],
         "xaxis": "x2",
         "y": [
          0.07214077783203125,
          0.64635203125,
          0.166503359375,
          0.2801059912109375,
          0.015619535446166993
         ],
         "yaxis": "y2"
        },
        {
         "alignmentgroup": "True",
         "hovertemplate": "Query=11<br>=%{y}<br>size=10.0<extra></extra>",
         "legendgroup": "11",
         "marker": {
          "color": "#636efa",
          "line": {
           "width": 0
          },
          "pattern": {
           "shape": ""
          }
         },
         "name": "11",
         "offsetgroup": "11",
         "orientation": "v",
         "showlegend": false,
         "textposition": "auto",
         "type": "bar",
         "x": [
          "neo4j",
          "blazegraph",
          "virtuoso",
          "graphdb",
          "kitt"
         ],
         "xaxis": "x3",
         "y": [
          0.14773521923828126,
          1.0786342578124999,
          0.361420693359375,
          0.5422411962890625,
          0.016587767601013183
         ],
         "yaxis": "y3"
        },
        {
         "alignmentgroup": "True",
         "hovertemplate": "Query=11<br>=%{y}<br>size=20.0<extra></extra>",
         "legendgroup": "11",
         "marker": {
          "color": "#636efa",
          "line": {
           "width": 0
          },
          "pattern": {
           "shape": ""
          }
         },
         "name": "11",
         "offsetgroup": "11",
         "orientation": "v",
         "showlegend": false,
         "textposition": "auto",
         "type": "bar",
         "x": [
          "neo4j",
          "blazegraph",
          "virtuoso",
          "graphdb",
          "kitt"
         ],
         "xaxis": "x4",
         "y": [
          0.288483822265625,
          1.7471290527343748,
          0.8118735888671875,
          1.1747374267578126,
          0.01795107364654541
         ],
         "yaxis": "y4"
        },
        {
         "alignmentgroup": "True",
         "hovertemplate": "Query=11<br>=%{y}<br>size=50.0<extra></extra>",
         "legendgroup": "11",
         "marker": {
          "color": "#636efa",
          "line": {
           "width": 0
          },
          "pattern": {
           "shape": ""
          }
         },
         "name": "11",
         "offsetgroup": "11",
         "orientation": "v",
         "showlegend": false,
         "textposition": "auto",
         "type": "bar",
         "x": [
          "neo4j",
          "blazegraph",
          "virtuoso",
          "graphdb",
          "kitt"
         ],
         "xaxis": "x5",
         "y": [
          0.7681767294921875,
          4.215135703125,
          1.9628787011718751,
          2.743919677734375,
          0.023108391761779784
         ],
         "yaxis": "y5"
        },
        {
         "alignmentgroup": "True",
         "hovertemplate": "Query=11<br>=%{y}<br>size=100.0<extra></extra>",
         "legendgroup": "11",
         "marker": {
          "color": "#636efa",
          "line": {
           "width": 0
          },
          "pattern": {
           "shape": ""
          }
         },
         "name": "11",
         "offsetgroup": "11",
         "orientation": "v",
         "showlegend": false,
         "textposition": "auto",
         "type": "bar",
         "x": [
          "neo4j",
          "blazegraph",
          "virtuoso",
          "graphdb",
          "kitt"
         ],
         "xaxis": "x6",
         "y": [
          1.4899823291015626,
          9.070161918945312,
          3.9368251953125,
          5.610664340820312,
          0.03316752910614014
         ],
         "yaxis": "y6"
        },
        {
         "alignmentgroup": "True",
         "hovertemplate": "Query=12<br>=%{y}<br>size=2.0<extra></extra>",
         "legendgroup": "12",
         "marker": {
          "color": "#EF553B",
          "line": {
           "width": 0
          },
          "pattern": {
           "shape": ""
          }
         },
         "name": "12",
         "offsetgroup": "12",
         "orientation": "v",
         "showlegend": true,
         "textposition": "auto",
         "type": "bar",
         "x": [
          "neo4j",
          "blazegraph",
          "graphdb",
          "virtuoso",
          "kitt"
         ],
         "xaxis": "x13",
         "y": [
          0.0106442587890625,
          0.031063,
          0.005939,
          0.01619,
          0.0030281514299999998
         ],
         "yaxis": "y13"
        },
        {
         "alignmentgroup": "True",
         "hovertemplate": "Query=12<br>=%{y}<br>size=5.0<extra></extra>",
         "legendgroup": "12",
         "marker": {
          "color": "#EF553B",
          "line": {
           "width": 0
          },
          "pattern": {
           "shape": ""
          }
         },
         "name": "12",
         "offsetgroup": "12",
         "orientation": "v",
         "showlegend": false,
         "textposition": "auto",
         "type": "bar",
         "x": [
          "neo4j",
          "blazegraph",
          "graphdb",
          "virtuoso",
          "kitt"
         ],
         "xaxis": "x14",
         "y": [
          0.04428638134765625,
          0.019887,
          0.007398,
          0.013635,
          0.003888914338
         ],
         "yaxis": "y14"
        },
        {
         "alignmentgroup": "True",
         "hovertemplate": "Query=12<br>=%{y}<br>size=10.0<extra></extra>",
         "legendgroup": "12",
         "marker": {
          "color": "#EF553B",
          "line": {
           "width": 0
          },
          "pattern": {
           "shape": ""
          }
         },
         "name": "12",
         "offsetgroup": "12",
         "orientation": "v",
         "showlegend": false,
         "textposition": "auto",
         "type": "bar",
         "x": [
          "neo4j",
          "blazegraph",
          "graphdb",
          "virtuoso",
          "kitt"
         ],
         "xaxis": "x15",
         "y": [
          0.09574904931640625,
          0.020323,
          0.010976,
          0.013839,
          0.004183891282
         ],
         "yaxis": "y15"
        },
        {
         "alignmentgroup": "True",
         "hovertemplate": "Query=12<br>=%{y}<br>size=20.0<extra></extra>",
         "legendgroup": "12",
         "marker": {
          "color": "#EF553B",
          "line": {
           "width": 0
          },
          "pattern": {
           "shape": ""
          }
         },
         "name": "12",
         "offsetgroup": "12",
         "orientation": "v",
         "showlegend": false,
         "textposition": "auto",
         "type": "bar",
         "x": [
          "neo4j",
          "blazegraph",
          "graphdb",
          "virtuoso",
          "kitt"
         ],
         "xaxis": "x16",
         "y": [
          0.1963464013671875,
          0.021931,
          0.01581,
          0.016511,
          0.006317575502
         ],
         "yaxis": "y16"
        },
        {
         "alignmentgroup": "True",
         "hovertemplate": "Query=12<br>=%{y}<br>size=50.0<extra></extra>",
         "legendgroup": "12",
         "marker": {
          "color": "#EF553B",
          "line": {
           "width": 0
          },
          "pattern": {
           "shape": ""
          }
         },
         "name": "12",
         "offsetgroup": "12",
         "orientation": "v",
         "showlegend": false,
         "textposition": "auto",
         "type": "bar",
         "x": [
          "neo4j",
          "blazegraph",
          "graphdb",
          "virtuoso",
          "kitt"
         ],
         "xaxis": "x17",
         "y": [
          0.487009296875,
          0.02757,
          0.016077,
          0.016366,
          0.010995135372
         ],
         "yaxis": "y17"
        },
        {
         "alignmentgroup": "True",
         "hovertemplate": "Query=12<br>=%{y}<br>size=100.0<extra></extra>",
         "legendgroup": "12",
         "marker": {
          "color": "#EF553B",
          "line": {
           "width": 0
          },
          "pattern": {
           "shape": ""
          }
         },
         "name": "12",
         "offsetgroup": "12",
         "orientation": "v",
         "showlegend": false,
         "textposition": "auto",
         "type": "bar",
         "x": [
          "neo4j",
          "blazegraph",
          "graphdb",
          "virtuoso",
          "kitt"
         ],
         "xaxis": "x18",
         "y": [
          1.0978873666992188,
          0.026359,
          0.016211,
          0.021186,
          0.023741129588
         ],
         "yaxis": "y18"
        },
        {
         "alignmentgroup": "True",
         "hovertemplate": "Query=12<br>=%{y}<br>size=2.0<extra></extra>",
         "legendgroup": "12",
         "marker": {
          "color": "#EF553B",
          "line": {
           "width": 0
          },
          "pattern": {
           "shape": ""
          }
         },
         "name": "12",
         "offsetgroup": "12",
         "orientation": "v",
         "showlegend": false,
         "textposition": "auto",
         "type": "bar",
         "x": [
          "neo4j",
          "blazegraph",
          "virtuoso",
          "graphdb",
          "kitt"
         ],
         "xaxis": "x7",
         "y": [
          0.0015833320312500002,
          0.012844800292968752,
          0.00230299853515625,
          0.00222753515625,
          0.001250246524810791
         ],
         "yaxis": "y7"
        },
        {
         "alignmentgroup": "True",
         "hovertemplate": "Query=12<br>=%{y}<br>size=5.0<extra></extra>",
         "legendgroup": "12",
         "marker": {
          "color": "#EF553B",
          "line": {
           "width": 0
          },
          "pattern": {
           "shape": ""
          }
         },
         "name": "12",
         "offsetgroup": "12",
         "orientation": "v",
         "showlegend": false,
         "textposition": "auto",
         "type": "bar",
         "x": [
          "neo4j",
          "blazegraph",
          "virtuoso",
          "graphdb",
          "kitt"
         ],
         "xaxis": "x8",
         "y": [
          0.00216731298828125,
          0.013091408203125,
          0.0022922221679687496,
          0.00236466455078125,
          0.00123745059967041
         ],
         "yaxis": "y8"
        },
        {
         "alignmentgroup": "True",
         "hovertemplate": "Query=12<br>=%{y}<br>size=10.0<extra></extra>",
         "legendgroup": "12",
         "marker": {
          "color": "#EF553B",
          "line": {
           "width": 0
          },
          "pattern": {
           "shape": ""
          }
         },
         "name": "12",
         "offsetgroup": "12",
         "orientation": "v",
         "showlegend": false,
         "textposition": "auto",
         "type": "bar",
         "x": [
          "neo4j",
          "blazegraph",
          "virtuoso",
          "graphdb",
          "kitt"
         ],
         "xaxis": "x9",
         "y": [
          0.0029544521484375,
          0.01297122119140625,
          0.00223873291015625,
          0.00249465869140625,
          0.0013017563819885255
         ],
         "yaxis": "y9"
        },
        {
         "alignmentgroup": "True",
         "hovertemplate": "Query=12<br>=%{y}<br>size=20.0<extra></extra>",
         "legendgroup": "12",
         "marker": {
          "color": "#EF553B",
          "line": {
           "width": 0
          },
          "pattern": {
           "shape": ""
          }
         },
         "name": "12",
         "offsetgroup": "12",
         "orientation": "v",
         "showlegend": false,
         "textposition": "auto",
         "type": "bar",
         "x": [
          "neo4j",
          "blazegraph",
          "virtuoso",
          "graphdb",
          "kitt"
         ],
         "xaxis": "x10",
         "y": [
          0.00395521240234375,
          0.01324932666015625,
          0.002317296875,
          0.002448181640625,
          0.0012933549880981446
         ],
         "yaxis": "y10"
        },
        {
         "alignmentgroup": "True",
         "hovertemplate": "Query=12<br>=%{y}<br>size=50.0<extra></extra>",
         "legendgroup": "12",
         "marker": {
          "color": "#EF553B",
          "line": {
           "width": 0
          },
          "pattern": {
           "shape": ""
          }
         },
         "name": "12",
         "offsetgroup": "12",
         "orientation": "v",
         "showlegend": false,
         "textposition": "auto",
         "type": "bar",
         "x": [
          "neo4j",
          "blazegraph",
          "virtuoso",
          "graphdb",
          "kitt"
         ],
         "xaxis": "x11",
         "y": [
          0.00282910888671875,
          0.01330148583984375,
          0.00240716259765625,
          0.00231900537109375,
          0.001485684871673584
         ],
         "yaxis": "y11"
        },
        {
         "alignmentgroup": "True",
         "hovertemplate": "Query=12<br>=%{y}<br>size=100.0<extra></extra>",
         "legendgroup": "12",
         "marker": {
          "color": "#EF553B",
          "line": {
           "width": 0
          },
          "pattern": {
           "shape": ""
          }
         },
         "name": "12",
         "offsetgroup": "12",
         "orientation": "v",
         "showlegend": false,
         "textposition": "auto",
         "type": "bar",
         "x": [
          "neo4j",
          "blazegraph",
          "virtuoso",
          "graphdb",
          "kitt"
         ],
         "xaxis": "x12",
         "y": [
          0.00285056103515625,
          0.01275531640625,
          0.0023232309570312497,
          0.00241843701171875,
          0.0011875672340393066
         ],
         "yaxis": "y12"
        },
        {
         "alignmentgroup": "True",
         "hovertemplate": "Query=12<br>=%{y}<br>size=2.0<extra></extra>",
         "legendgroup": "12",
         "marker": {
          "color": "#EF553B",
          "line": {
           "width": 0
          },
          "pattern": {
           "shape": ""
          }
         },
         "name": "12",
         "offsetgroup": "12",
         "orientation": "v",
         "showlegend": false,
         "textposition": "auto",
         "type": "bar",
         "x": [
          "neo4j",
          "blazegraph",
          "virtuoso",
          "graphdb",
          "kitt"
         ],
         "xaxis": "x",
         "y": [
          0.00114169384765625,
          0.0155751513671875,
          0.0039264990234375,
          0.0032070751953125,
          0.002667121887207031
         ],
         "yaxis": "y"
        },
        {
         "alignmentgroup": "True",
         "hovertemplate": "Query=12<br>=%{y}<br>size=5.0<extra></extra>",
         "legendgroup": "12",
         "marker": {
          "color": "#EF553B",
          "line": {
           "width": 0
          },
          "pattern": {
           "shape": ""
          }
         },
         "name": "12",
         "offsetgroup": "12",
         "orientation": "v",
         "showlegend": false,
         "textposition": "auto",
         "type": "bar",
         "x": [
          "neo4j",
          "blazegraph",
          "virtuoso",
          "graphdb",
          "kitt"
         ],
         "xaxis": "x2",
         "y": [
          0.00120302685546875,
          0.01621060546875,
          0.0053337158203125,
          0.00265189453125,
          0.003144516944885254
         ],
         "yaxis": "y2"
        },
        {
         "alignmentgroup": "True",
         "hovertemplate": "Query=12<br>=%{y}<br>size=10.0<extra></extra>",
         "legendgroup": "12",
         "marker": {
          "color": "#EF553B",
          "line": {
           "width": 0
          },
          "pattern": {
           "shape": ""
          }
         },
         "name": "12",
         "offsetgroup": "12",
         "orientation": "v",
         "showlegend": false,
         "textposition": "auto",
         "type": "bar",
         "x": [
          "neo4j",
          "blazegraph",
          "virtuoso",
          "graphdb",
          "kitt"
         ],
         "xaxis": "x3",
         "y": [
          0.0005225581054687501,
          0.0159367041015625,
          0.0053587939453125,
          0.0030915673828125,
          0.0034101390838623047
         ],
         "yaxis": "y3"
        },
        {
         "alignmentgroup": "True",
         "hovertemplate": "Query=12<br>=%{y}<br>size=20.0<extra></extra>",
         "legendgroup": "12",
         "marker": {
          "color": "#EF553B",
          "line": {
           "width": 0
          },
          "pattern": {
           "shape": ""
          }
         },
         "name": "12",
         "offsetgroup": "12",
         "orientation": "v",
         "showlegend": false,
         "textposition": "auto",
         "type": "bar",
         "x": [
          "neo4j",
          "blazegraph",
          "virtuoso",
          "graphdb",
          "kitt"
         ],
         "xaxis": "x4",
         "y": [
          0.00042449267578124997,
          0.016358930664062497,
          0.0077302294921875,
          0.0033608056640625,
          0.002975301742553711
         ],
         "yaxis": "y4"
        },
        {
         "alignmentgroup": "True",
         "hovertemplate": "Query=12<br>=%{y}<br>size=50.0<extra></extra>",
         "legendgroup": "12",
         "marker": {
          "color": "#EF553B",
          "line": {
           "width": 0
          },
          "pattern": {
           "shape": ""
          }
         },
         "name": "12",
         "offsetgroup": "12",
         "orientation": "v",
         "showlegend": false,
         "textposition": "auto",
         "type": "bar",
         "x": [
          "neo4j",
          "blazegraph",
          "virtuoso",
          "graphdb",
          "kitt"
         ],
         "xaxis": "x5",
         "y": [
          0.0005450595703125,
          0.015155009765625,
          0.0069974072265625,
          0.0032261767578125,
          0.0045973253250122074
         ],
         "yaxis": "y5"
        },
        {
         "alignmentgroup": "True",
         "hovertemplate": "Query=12<br>=%{y}<br>size=100.0<extra></extra>",
         "legendgroup": "12",
         "marker": {
          "color": "#EF553B",
          "line": {
           "width": 0
          },
          "pattern": {
           "shape": ""
          }
         },
         "name": "12",
         "offsetgroup": "12",
         "orientation": "v",
         "showlegend": false,
         "textposition": "auto",
         "type": "bar",
         "x": [
          "neo4j",
          "blazegraph",
          "virtuoso",
          "graphdb",
          "kitt"
         ],
         "xaxis": "x6",
         "y": [
          0.001402060546875,
          0.013077988281250001,
          0.017611376953125,
          0.003512490234375,
          0.008098645210266113
         ],
         "yaxis": "y6"
        },
        {
         "alignmentgroup": "True",
         "hovertemplate": "Query=13<br>=%{y}<br>size=2.0<extra></extra>",
         "legendgroup": "13",
         "marker": {
          "color": "#00cc96",
          "line": {
           "width": 0
          },
          "pattern": {
           "shape": ""
          }
         },
         "name": "13",
         "offsetgroup": "13",
         "orientation": "v",
         "showlegend": true,
         "textposition": "auto",
         "type": "bar",
         "x": [
          "neo4j",
          "blazegraph",
          "virtuoso",
          "graphdb",
          "kitt"
         ],
         "xaxis": "x7",
         "y": [
          0.02323381494140625,
          0.021758365234375,
          0.0061649521484375,
          0.00195515478515625,
          0.0009241552352905274
         ],
         "yaxis": "y7"
        },
        {
         "alignmentgroup": "True",
         "hovertemplate": "Query=13<br>=%{y}<br>size=5.0<extra></extra>",
         "legendgroup": "13",
         "marker": {
          "color": "#00cc96",
          "line": {
           "width": 0
          },
          "pattern": {
           "shape": ""
          }
         },
         "name": "13",
         "offsetgroup": "13",
         "orientation": "v",
         "showlegend": false,
         "textposition": "auto",
         "type": "bar",
         "x": [
          "neo4j",
          "blazegraph",
          "virtuoso",
          "graphdb",
          "kitt"
         ],
         "xaxis": "x8",
         "y": [
          0.05913269677734375,
          0.021656032226562497,
          0.00671582275390625,
          0.0018491762695312499,
          0.0009971656799316407
         ],
         "yaxis": "y8"
        },
        {
         "alignmentgroup": "True",
         "hovertemplate": "Query=13<br>=%{y}<br>size=10.0<extra></extra>",
         "legendgroup": "13",
         "marker": {
          "color": "#00cc96",
          "line": {
           "width": 0
          },
          "pattern": {
           "shape": ""
          }
         },
         "name": "13",
         "offsetgroup": "13",
         "orientation": "v",
         "showlegend": false,
         "textposition": "auto",
         "type": "bar",
         "x": [
          "neo4j",
          "blazegraph",
          "virtuoso",
          "graphdb",
          "kitt"
         ],
         "xaxis": "x9",
         "y": [
          0.12612647802734375,
          0.02041063720703125,
          0.0065472773437500005,
          0.0019375478515625,
          0.0010831704139709472
         ],
         "yaxis": "y9"
        },
        {
         "alignmentgroup": "True",
         "hovertemplate": "Query=13<br>=%{y}<br>size=20.0<extra></extra>",
         "legendgroup": "13",
         "marker": {
          "color": "#00cc96",
          "line": {
           "width": 0
          },
          "pattern": {
           "shape": ""
          }
         },
         "name": "13",
         "offsetgroup": "13",
         "orientation": "v",
         "showlegend": false,
         "textposition": "auto",
         "type": "bar",
         "x": [
          "neo4j",
          "blazegraph",
          "virtuoso",
          "graphdb",
          "kitt"
         ],
         "xaxis": "x10",
         "y": [
          0.26006029345703124,
          0.02203978076171875,
          0.0079936279296875,
          0.0023060361328124997,
          0.0013532962799072267
         ],
         "yaxis": "y10"
        },
        {
         "alignmentgroup": "True",
         "hovertemplate": "Query=13<br>=%{y}<br>size=50.0<extra></extra>",
         "legendgroup": "13",
         "marker": {
          "color": "#00cc96",
          "line": {
           "width": 0
          },
          "pattern": {
           "shape": ""
          }
         },
         "name": "13",
         "offsetgroup": "13",
         "orientation": "v",
         "showlegend": false,
         "textposition": "auto",
         "type": "bar",
         "x": [
          "neo4j",
          "blazegraph",
          "virtuoso",
          "graphdb",
          "kitt"
         ],
         "xaxis": "x11",
         "y": [
          0.671137078125,
          0.021970329101562498,
          0.011815244140625,
          0.0029558789062500003,
          0.0021412615776062014
         ],
         "yaxis": "y11"
        },
        {
         "alignmentgroup": "True",
         "hovertemplate": "Query=13<br>=%{y}<br>size=100.0<extra></extra>",
         "legendgroup": "13",
         "marker": {
          "color": "#00cc96",
          "line": {
           "width": 0
          },
          "pattern": {
           "shape": ""
          }
         },
         "name": "13",
         "offsetgroup": "13",
         "orientation": "v",
         "showlegend": false,
         "textposition": "auto",
         "type": "bar",
         "x": [
          "neo4j",
          "blazegraph",
          "virtuoso",
          "graphdb",
          "kitt"
         ],
         "xaxis": "x12",
         "y": [
          1.3374018632812499,
          0.0210286171875,
          0.012370580078125,
          0.004020521484375,
          0.0047212295532226565
         ],
         "yaxis": "y12"
        },
        {
         "alignmentgroup": "True",
         "hovertemplate": "Query=14<br>=%{y}<br>size=2.0<extra></extra>",
         "legendgroup": "14",
         "marker": {
          "color": "#ab63fa",
          "line": {
           "width": 0
          },
          "pattern": {
           "shape": ""
          }
         },
         "name": "14",
         "offsetgroup": "14",
         "orientation": "v",
         "showlegend": true,
         "textposition": "auto",
         "type": "bar",
         "x": [
          "neo4j",
          "blazegraph",
          "virtuoso",
          "graphdb",
          "kitt"
         ],
         "xaxis": "x7",
         "y": [
          0.05028695068359375,
          0.0048057241210937495,
          0.006359328125,
          0.00626527978515625,
          0.004150991439819336
         ],
         "yaxis": "y7"
        },
        {
         "alignmentgroup": "True",
         "hovertemplate": "Query=14<br>=%{y}<br>size=5.0<extra></extra>",
         "legendgroup": "14",
         "marker": {
          "color": "#ab63fa",
          "line": {
           "width": 0
          },
          "pattern": {
           "shape": ""
          }
         },
         "name": "14",
         "offsetgroup": "14",
         "orientation": "v",
         "showlegend": false,
         "textposition": "auto",
         "type": "bar",
         "x": [
          "neo4j",
          "blazegraph",
          "virtuoso",
          "graphdb",
          "kitt"
         ],
         "xaxis": "x8",
         "y": [
          0.04973188330078125,
          0.00499055224609375,
          0.0060557421875,
          0.00622514794921875,
          0.005913183212280273
         ],
         "yaxis": "y8"
        },
        {
         "alignmentgroup": "True",
         "hovertemplate": "Query=14<br>=%{y}<br>size=10.0<extra></extra>",
         "legendgroup": "14",
         "marker": {
          "color": "#ab63fa",
          "line": {
           "width": 0
          },
          "pattern": {
           "shape": ""
          }
         },
         "name": "14",
         "offsetgroup": "14",
         "orientation": "v",
         "showlegend": false,
         "textposition": "auto",
         "type": "bar",
         "x": [
          "neo4j",
          "blazegraph",
          "virtuoso",
          "graphdb",
          "kitt"
         ],
         "xaxis": "x9",
         "y": [
          0.050754949707031254,
          0.005098916015625,
          0.006391837890625,
          0.0062702705078125,
          0.01082896375656128
         ],
         "yaxis": "y9"
        },
        {
         "alignmentgroup": "True",
         "hovertemplate": "Query=14<br>=%{y}<br>size=20.0<extra></extra>",
         "legendgroup": "14",
         "marker": {
          "color": "#ab63fa",
          "line": {
           "width": 0
          },
          "pattern": {
           "shape": ""
          }
         },
         "name": "14",
         "offsetgroup": "14",
         "orientation": "v",
         "showlegend": false,
         "textposition": "auto",
         "type": "bar",
         "x": [
          "neo4j",
          "blazegraph",
          "virtuoso",
          "graphdb",
          "kitt"
         ],
         "xaxis": "x10",
         "y": [
          0.05031946337890625,
          0.005445750488281251,
          0.00599652685546875,
          0.00582983544921875,
          0.01963018798828125
         ],
         "yaxis": "y10"
        },
        {
         "alignmentgroup": "True",
         "hovertemplate": "Query=14<br>=%{y}<br>size=50.0<extra></extra>",
         "legendgroup": "14",
         "marker": {
          "color": "#ab63fa",
          "line": {
           "width": 0
          },
          "pattern": {
           "shape": ""
          }
         },
         "name": "14",
         "offsetgroup": "14",
         "orientation": "v",
         "showlegend": false,
         "textposition": "auto",
         "type": "bar",
         "x": [
          "neo4j",
          "blazegraph",
          "virtuoso",
          "graphdb",
          "kitt"
         ],
         "xaxis": "x11",
         "y": [
          0.0504821572265625,
          0.00528228857421875,
          0.00636885693359375,
          0.00611714453125,
          0.042324004173278806
         ],
         "yaxis": "y11"
        },
        {
         "alignmentgroup": "True",
         "hovertemplate": "Query=14<br>=%{y}<br>size=100.0<extra></extra>",
         "legendgroup": "14",
         "marker": {
          "color": "#ab63fa",
          "line": {
           "width": 0
          },
          "pattern": {
           "shape": ""
          }
         },
         "name": "14",
         "offsetgroup": "14",
         "orientation": "v",
         "showlegend": false,
         "textposition": "auto",
         "type": "bar",
         "x": [
          "neo4j",
          "blazegraph",
          "virtuoso",
          "graphdb",
          "kitt"
         ],
         "xaxis": "x12",
         "y": [
          0.050316993164062504,
          0.0054394130859375,
          0.0070285029296875,
          0.00620108935546875,
          0.0006041526794433594
         ],
         "yaxis": "y12"
        }
       ],
       "layout": {
        "annotations": [
         {
          "font": {},
          "showarrow": false,
          "text": "2.0",
          "x": 0.065,
          "xanchor": "center",
          "xref": "paper",
          "y": 0.9999999999999999,
          "yanchor": "bottom",
          "yref": "paper"
         },
         {
          "font": {},
          "showarrow": false,
          "text": "5.0",
          "x": 0.23500000000000004,
          "xanchor": "center",
          "xref": "paper",
          "y": 0.9999999999999999,
          "yanchor": "bottom",
          "yref": "paper"
         },
         {
          "font": {},
          "showarrow": false,
          "text": "10.0",
          "x": 0.405,
          "xanchor": "center",
          "xref": "paper",
          "y": 0.9999999999999999,
          "yanchor": "bottom",
          "yref": "paper"
         },
         {
          "font": {},
          "showarrow": false,
          "text": "20.0",
          "x": 0.575,
          "xanchor": "center",
          "xref": "paper",
          "y": 0.9999999999999999,
          "yanchor": "bottom",
          "yref": "paper"
         },
         {
          "font": {},
          "showarrow": false,
          "text": "50.0",
          "x": 0.7450000000000001,
          "xanchor": "center",
          "xref": "paper",
          "y": 0.9999999999999999,
          "yanchor": "bottom",
          "yref": "paper"
         },
         {
          "font": {},
          "showarrow": false,
          "text": "100.0",
          "x": 0.915,
          "xanchor": "center",
          "xref": "paper",
          "y": 0.9999999999999999,
          "yanchor": "bottom",
          "yref": "paper"
         },
         {
          "font": {},
          "showarrow": false,
          "text": "dtbm",
          "textangle": 90,
          "x": 0.9800000000000001,
          "xanchor": "left",
          "xref": "paper",
          "y": 0.15333333333333332,
          "yanchor": "middle",
          "yref": "paper"
         },
         {
          "font": {},
          "showarrow": false,
          "text": "lubm",
          "textangle": 90,
          "x": 0.9800000000000001,
          "xanchor": "left",
          "xref": "paper",
          "y": 0.5,
          "yanchor": "middle",
          "yref": "paper"
         },
         {
          "font": {},
          "showarrow": false,
          "text": "bsbm",
          "textangle": 90,
          "x": 0.9800000000000001,
          "xanchor": "left",
          "xref": "paper",
          "y": 0.8466666666666666,
          "yanchor": "middle",
          "yref": "paper"
         }
        ],
        "barmode": "relative",
        "legend": {
         "orientation": "h",
         "title": {
          "text": "Query"
         },
         "tracegroupgap": 0,
         "x": 1,
         "xanchor": "right",
         "y": 1.05,
         "yanchor": "bottom"
        },
        "margin": {
         "t": 60
        },
        "template": {
         "data": {
          "bar": [
           {
            "error_x": {
             "color": "#2a3f5f"
            },
            "error_y": {
             "color": "#2a3f5f"
            },
            "marker": {
             "line": {
              "color": "white",
              "width": 0.5
             },
             "pattern": {
              "fillmode": "overlay",
              "size": 10,
              "solidity": 0.2
             }
            },
            "type": "bar"
           }
          ],
          "barpolar": [
           {
            "marker": {
             "line": {
              "color": "white",
              "width": 0.5
             },
             "pattern": {
              "fillmode": "overlay",
              "size": 10,
              "solidity": 0.2
             }
            },
            "type": "barpolar"
           }
          ],
          "carpet": [
           {
            "aaxis": {
             "endlinecolor": "#2a3f5f",
             "gridcolor": "#C8D4E3",
             "linecolor": "#C8D4E3",
             "minorgridcolor": "#C8D4E3",
             "startlinecolor": "#2a3f5f"
            },
            "baxis": {
             "endlinecolor": "#2a3f5f",
             "gridcolor": "#C8D4E3",
             "linecolor": "#C8D4E3",
             "minorgridcolor": "#C8D4E3",
             "startlinecolor": "#2a3f5f"
            },
            "type": "carpet"
           }
          ],
          "choropleth": [
           {
            "colorbar": {
             "outlinewidth": 0,
             "ticks": ""
            },
            "type": "choropleth"
           }
          ],
          "contour": [
           {
            "colorbar": {
             "outlinewidth": 0,
             "ticks": ""
            },
            "colorscale": [
             [
              0,
              "#0d0887"
             ],
             [
              0.1111111111111111,
              "#46039f"
             ],
             [
              0.2222222222222222,
              "#7201a8"
             ],
             [
              0.3333333333333333,
              "#9c179e"
             ],
             [
              0.4444444444444444,
              "#bd3786"
             ],
             [
              0.5555555555555556,
              "#d8576b"
             ],
             [
              0.6666666666666666,
              "#ed7953"
             ],
             [
              0.7777777777777778,
              "#fb9f3a"
             ],
             [
              0.8888888888888888,
              "#fdca26"
             ],
             [
              1,
              "#f0f921"
             ]
            ],
            "type": "contour"
           }
          ],
          "contourcarpet": [
           {
            "colorbar": {
             "outlinewidth": 0,
             "ticks": ""
            },
            "type": "contourcarpet"
           }
          ],
          "heatmap": [
           {
            "colorbar": {
             "outlinewidth": 0,
             "ticks": ""
            },
            "colorscale": [
             [
              0,
              "#0d0887"
             ],
             [
              0.1111111111111111,
              "#46039f"
             ],
             [
              0.2222222222222222,
              "#7201a8"
             ],
             [
              0.3333333333333333,
              "#9c179e"
             ],
             [
              0.4444444444444444,
              "#bd3786"
             ],
             [
              0.5555555555555556,
              "#d8576b"
             ],
             [
              0.6666666666666666,
              "#ed7953"
             ],
             [
              0.7777777777777778,
              "#fb9f3a"
             ],
             [
              0.8888888888888888,
              "#fdca26"
             ],
             [
              1,
              "#f0f921"
             ]
            ],
            "type": "heatmap"
           }
          ],
          "heatmapgl": [
           {
            "colorbar": {
             "outlinewidth": 0,
             "ticks": ""
            },
            "colorscale": [
             [
              0,
              "#0d0887"
             ],
             [
              0.1111111111111111,
              "#46039f"
             ],
             [
              0.2222222222222222,
              "#7201a8"
             ],
             [
              0.3333333333333333,
              "#9c179e"
             ],
             [
              0.4444444444444444,
              "#bd3786"
             ],
             [
              0.5555555555555556,
              "#d8576b"
             ],
             [
              0.6666666666666666,
              "#ed7953"
             ],
             [
              0.7777777777777778,
              "#fb9f3a"
             ],
             [
              0.8888888888888888,
              "#fdca26"
             ],
             [
              1,
              "#f0f921"
             ]
            ],
            "type": "heatmapgl"
           }
          ],
          "histogram": [
           {
            "marker": {
             "pattern": {
              "fillmode": "overlay",
              "size": 10,
              "solidity": 0.2
             }
            },
            "type": "histogram"
           }
          ],
          "histogram2d": [
           {
            "colorbar": {
             "outlinewidth": 0,
             "ticks": ""
            },
            "colorscale": [
             [
              0,
              "#0d0887"
             ],
             [
              0.1111111111111111,
              "#46039f"
             ],
             [
              0.2222222222222222,
              "#7201a8"
             ],
             [
              0.3333333333333333,
              "#9c179e"
             ],
             [
              0.4444444444444444,
              "#bd3786"
             ],
             [
              0.5555555555555556,
              "#d8576b"
             ],
             [
              0.6666666666666666,
              "#ed7953"
             ],
             [
              0.7777777777777778,
              "#fb9f3a"
             ],
             [
              0.8888888888888888,
              "#fdca26"
             ],
             [
              1,
              "#f0f921"
             ]
            ],
            "type": "histogram2d"
           }
          ],
          "histogram2dcontour": [
           {
            "colorbar": {
             "outlinewidth": 0,
             "ticks": ""
            },
            "colorscale": [
             [
              0,
              "#0d0887"
             ],
             [
              0.1111111111111111,
              "#46039f"
             ],
             [
              0.2222222222222222,
              "#7201a8"
             ],
             [
              0.3333333333333333,
              "#9c179e"
             ],
             [
              0.4444444444444444,
              "#bd3786"
             ],
             [
              0.5555555555555556,
              "#d8576b"
             ],
             [
              0.6666666666666666,
              "#ed7953"
             ],
             [
              0.7777777777777778,
              "#fb9f3a"
             ],
             [
              0.8888888888888888,
              "#fdca26"
             ],
             [
              1,
              "#f0f921"
             ]
            ],
            "type": "histogram2dcontour"
           }
          ],
          "mesh3d": [
           {
            "colorbar": {
             "outlinewidth": 0,
             "ticks": ""
            },
            "type": "mesh3d"
           }
          ],
          "parcoords": [
           {
            "line": {
             "colorbar": {
              "outlinewidth": 0,
              "ticks": ""
             }
            },
            "type": "parcoords"
           }
          ],
          "pie": [
           {
            "automargin": true,
            "type": "pie"
           }
          ],
          "scatter": [
           {
            "marker": {
             "colorbar": {
              "outlinewidth": 0,
              "ticks": ""
             }
            },
            "type": "scatter"
           }
          ],
          "scatter3d": [
           {
            "line": {
             "colorbar": {
              "outlinewidth": 0,
              "ticks": ""
             }
            },
            "marker": {
             "colorbar": {
              "outlinewidth": 0,
              "ticks": ""
             }
            },
            "type": "scatter3d"
           }
          ],
          "scattercarpet": [
           {
            "marker": {
             "colorbar": {
              "outlinewidth": 0,
              "ticks": ""
             }
            },
            "type": "scattercarpet"
           }
          ],
          "scattergeo": [
           {
            "marker": {
             "colorbar": {
              "outlinewidth": 0,
              "ticks": ""
             }
            },
            "type": "scattergeo"
           }
          ],
          "scattergl": [
           {
            "marker": {
             "colorbar": {
              "outlinewidth": 0,
              "ticks": ""
             }
            },
            "type": "scattergl"
           }
          ],
          "scattermapbox": [
           {
            "marker": {
             "colorbar": {
              "outlinewidth": 0,
              "ticks": ""
             }
            },
            "type": "scattermapbox"
           }
          ],
          "scatterpolar": [
           {
            "marker": {
             "colorbar": {
              "outlinewidth": 0,
              "ticks": ""
             }
            },
            "type": "scatterpolar"
           }
          ],
          "scatterpolargl": [
           {
            "marker": {
             "colorbar": {
              "outlinewidth": 0,
              "ticks": ""
             }
            },
            "type": "scatterpolargl"
           }
          ],
          "scatterternary": [
           {
            "marker": {
             "colorbar": {
              "outlinewidth": 0,
              "ticks": ""
             }
            },
            "type": "scatterternary"
           }
          ],
          "surface": [
           {
            "colorbar": {
             "outlinewidth": 0,
             "ticks": ""
            },
            "colorscale": [
             [
              0,
              "#0d0887"
             ],
             [
              0.1111111111111111,
              "#46039f"
             ],
             [
              0.2222222222222222,
              "#7201a8"
             ],
             [
              0.3333333333333333,
              "#9c179e"
             ],
             [
              0.4444444444444444,
              "#bd3786"
             ],
             [
              0.5555555555555556,
              "#d8576b"
             ],
             [
              0.6666666666666666,
              "#ed7953"
             ],
             [
              0.7777777777777778,
              "#fb9f3a"
             ],
             [
              0.8888888888888888,
              "#fdca26"
             ],
             [
              1,
              "#f0f921"
             ]
            ],
            "type": "surface"
           }
          ],
          "table": [
           {
            "cells": {
             "fill": {
              "color": "#EBF0F8"
             },
             "line": {
              "color": "white"
             }
            },
            "header": {
             "fill": {
              "color": "#C8D4E3"
             },
             "line": {
              "color": "white"
             }
            },
            "type": "table"
           }
          ]
         },
         "layout": {
          "annotationdefaults": {
           "arrowcolor": "#2a3f5f",
           "arrowhead": 0,
           "arrowwidth": 1
          },
          "autotypenumbers": "strict",
          "coloraxis": {
           "colorbar": {
            "outlinewidth": 0,
            "ticks": ""
           }
          },
          "colorscale": {
           "diverging": [
            [
             0,
             "#8e0152"
            ],
            [
             0.1,
             "#c51b7d"
            ],
            [
             0.2,
             "#de77ae"
            ],
            [
             0.3,
             "#f1b6da"
            ],
            [
             0.4,
             "#fde0ef"
            ],
            [
             0.5,
             "#f7f7f7"
            ],
            [
             0.6,
             "#e6f5d0"
            ],
            [
             0.7,
             "#b8e186"
            ],
            [
             0.8,
             "#7fbc41"
            ],
            [
             0.9,
             "#4d9221"
            ],
            [
             1,
             "#276419"
            ]
           ],
           "sequential": [
            [
             0,
             "#0d0887"
            ],
            [
             0.1111111111111111,
             "#46039f"
            ],
            [
             0.2222222222222222,
             "#7201a8"
            ],
            [
             0.3333333333333333,
             "#9c179e"
            ],
            [
             0.4444444444444444,
             "#bd3786"
            ],
            [
             0.5555555555555556,
             "#d8576b"
            ],
            [
             0.6666666666666666,
             "#ed7953"
            ],
            [
             0.7777777777777778,
             "#fb9f3a"
            ],
            [
             0.8888888888888888,
             "#fdca26"
            ],
            [
             1,
             "#f0f921"
            ]
           ],
           "sequentialminus": [
            [
             0,
             "#0d0887"
            ],
            [
             0.1111111111111111,
             "#46039f"
            ],
            [
             0.2222222222222222,
             "#7201a8"
            ],
            [
             0.3333333333333333,
             "#9c179e"
            ],
            [
             0.4444444444444444,
             "#bd3786"
            ],
            [
             0.5555555555555556,
             "#d8576b"
            ],
            [
             0.6666666666666666,
             "#ed7953"
            ],
            [
             0.7777777777777778,
             "#fb9f3a"
            ],
            [
             0.8888888888888888,
             "#fdca26"
            ],
            [
             1,
             "#f0f921"
            ]
           ]
          },
          "colorway": [
           "#636efa",
           "#EF553B",
           "#00cc96",
           "#ab63fa",
           "#FFA15A",
           "#19d3f3",
           "#FF6692",
           "#B6E880",
           "#FF97FF",
           "#FECB52"
          ],
          "font": {
           "color": "#2a3f5f"
          },
          "geo": {
           "bgcolor": "white",
           "lakecolor": "white",
           "landcolor": "white",
           "showlakes": true,
           "showland": true,
           "subunitcolor": "#C8D4E3"
          },
          "hoverlabel": {
           "align": "left"
          },
          "hovermode": "closest",
          "mapbox": {
           "style": "light"
          },
          "paper_bgcolor": "white",
          "plot_bgcolor": "white",
          "polar": {
           "angularaxis": {
            "gridcolor": "#EBF0F8",
            "linecolor": "#EBF0F8",
            "ticks": ""
           },
           "bgcolor": "white",
           "radialaxis": {
            "gridcolor": "#EBF0F8",
            "linecolor": "#EBF0F8",
            "ticks": ""
           }
          },
          "scene": {
           "xaxis": {
            "backgroundcolor": "white",
            "gridcolor": "#DFE8F3",
            "gridwidth": 2,
            "linecolor": "#EBF0F8",
            "showbackground": true,
            "ticks": "",
            "zerolinecolor": "#EBF0F8"
           },
           "yaxis": {
            "backgroundcolor": "white",
            "gridcolor": "#DFE8F3",
            "gridwidth": 2,
            "linecolor": "#EBF0F8",
            "showbackground": true,
            "ticks": "",
            "zerolinecolor": "#EBF0F8"
           },
           "zaxis": {
            "backgroundcolor": "white",
            "gridcolor": "#DFE8F3",
            "gridwidth": 2,
            "linecolor": "#EBF0F8",
            "showbackground": true,
            "ticks": "",
            "zerolinecolor": "#EBF0F8"
           }
          },
          "shapedefaults": {
           "line": {
            "color": "#2a3f5f"
           }
          },
          "ternary": {
           "aaxis": {
            "gridcolor": "#DFE8F3",
            "linecolor": "#A2B1C6",
            "ticks": ""
           },
           "baxis": {
            "gridcolor": "#DFE8F3",
            "linecolor": "#A2B1C6",
            "ticks": ""
           },
           "bgcolor": "white",
           "caxis": {
            "gridcolor": "#DFE8F3",
            "linecolor": "#A2B1C6",
            "ticks": ""
           }
          },
          "title": {
           "x": 0.05
          },
          "xaxis": {
           "automargin": true,
           "gridcolor": "#EBF0F8",
           "linecolor": "#EBF0F8",
           "ticks": "",
           "title": {
            "standoff": 15
           },
           "zerolinecolor": "#EBF0F8",
           "zerolinewidth": 2
          },
          "yaxis": {
           "automargin": true,
           "gridcolor": "#EBF0F8",
           "linecolor": "#EBF0F8",
           "ticks": "",
           "title": {
            "standoff": 15
           },
           "zerolinecolor": "#EBF0F8",
           "zerolinewidth": 2
          }
         }
        },
        "xaxis": {
         "anchor": "y",
         "domain": [
          0,
          0.13
         ],
         "title": {
          "text": ""
         }
        },
        "xaxis10": {
         "anchor": "y10",
         "domain": [
          0.51,
          0.64
         ],
         "matches": "x",
         "showticklabels": false
        },
        "xaxis11": {
         "anchor": "y11",
         "domain": [
          0.68,
          0.81
         ],
         "matches": "x",
         "showticklabels": false
        },
        "xaxis12": {
         "anchor": "y12",
         "domain": [
          0.8500000000000001,
          0.9800000000000001
         ],
         "matches": "x",
         "showticklabels": false
        },
        "xaxis13": {
         "anchor": "y13",
         "domain": [
          0,
          0.13
         ],
         "matches": "x",
         "showticklabels": false
        },
        "xaxis14": {
         "anchor": "y14",
         "domain": [
          0.17,
          0.30000000000000004
         ],
         "matches": "x",
         "showticklabels": false
        },
        "xaxis15": {
         "anchor": "y15",
         "domain": [
          0.34,
          0.47000000000000003
         ],
         "matches": "x",
         "showticklabels": false
        },
        "xaxis16": {
         "anchor": "y16",
         "domain": [
          0.51,
          0.64
         ],
         "matches": "x",
         "showticklabels": false
        },
        "xaxis17": {
         "anchor": "y17",
         "domain": [
          0.68,
          0.81
         ],
         "matches": "x",
         "showticklabels": false
        },
        "xaxis18": {
         "anchor": "y18",
         "domain": [
          0.8500000000000001,
          0.9800000000000001
         ],
         "matches": "x",
         "showticklabels": false
        },
        "xaxis2": {
         "anchor": "y2",
         "domain": [
          0.17,
          0.30000000000000004
         ],
         "matches": "x",
         "title": {
          "text": ""
         }
        },
        "xaxis3": {
         "anchor": "y3",
         "domain": [
          0.34,
          0.47000000000000003
         ],
         "matches": "x",
         "title": {
          "text": "backend type"
         }
        },
        "xaxis4": {
         "anchor": "y4",
         "domain": [
          0.51,
          0.64
         ],
         "matches": "x",
         "title": {
          "text": ""
         }
        },
        "xaxis5": {
         "anchor": "y5",
         "domain": [
          0.68,
          0.81
         ],
         "matches": "x",
         "title": {
          "text": ""
         }
        },
        "xaxis6": {
         "anchor": "y6",
         "domain": [
          0.8500000000000001,
          0.9800000000000001
         ],
         "matches": "x",
         "title": {
          "text": ""
         }
        },
        "xaxis7": {
         "anchor": "y7",
         "domain": [
          0,
          0.13
         ],
         "matches": "x",
         "showticklabels": false
        },
        "xaxis8": {
         "anchor": "y8",
         "domain": [
          0.17,
          0.30000000000000004
         ],
         "matches": "x",
         "showticklabels": false
        },
        "xaxis9": {
         "anchor": "y9",
         "domain": [
          0.34,
          0.47000000000000003
         ],
         "matches": "x",
         "showticklabels": false
        },
        "yaxis": {
         "anchor": "x",
         "domain": [
          0,
          0.30666666666666664
         ],
         "showticklabels": true,
         "title": {
          "text": ""
         },
         "type": "log"
        },
        "yaxis10": {
         "anchor": "x10",
         "domain": [
          0.3466666666666666,
          0.6533333333333333
         ],
         "showticklabels": true,
         "type": "log"
        },
        "yaxis11": {
         "anchor": "x11",
         "domain": [
          0.3466666666666666,
          0.6533333333333333
         ],
         "showticklabels": true,
         "type": "log"
        },
        "yaxis12": {
         "anchor": "x12",
         "domain": [
          0.3466666666666666,
          0.6533333333333333
         ],
         "showticklabels": true,
         "type": "log"
        },
        "yaxis13": {
         "anchor": "x13",
         "domain": [
          0.6933333333333332,
          0.9999999999999999
         ],
         "showticklabels": true,
         "title": {
          "text": ""
         },
         "type": "log"
        },
        "yaxis14": {
         "anchor": "x14",
         "domain": [
          0.6933333333333332,
          0.9999999999999999
         ],
         "showticklabels": true,
         "type": "log"
        },
        "yaxis15": {
         "anchor": "x15",
         "domain": [
          0.6933333333333332,
          0.9999999999999999
         ],
         "showticklabels": true,
         "type": "log"
        },
        "yaxis16": {
         "anchor": "x16",
         "domain": [
          0.6933333333333332,
          0.9999999999999999
         ],
         "showticklabels": true,
         "type": "log"
        },
        "yaxis17": {
         "anchor": "x17",
         "domain": [
          0.6933333333333332,
          0.9999999999999999
         ],
         "showticklabels": true,
         "type": "log"
        },
        "yaxis18": {
         "anchor": "x18",
         "domain": [
          0.6933333333333332,
          0.9999999999999999
         ],
         "showticklabels": true,
         "type": "log"
        },
        "yaxis2": {
         "anchor": "x2",
         "domain": [
          0,
          0.30666666666666664
         ],
         "showticklabels": true,
         "type": "log"
        },
        "yaxis3": {
         "anchor": "x3",
         "domain": [
          0,
          0.30666666666666664
         ],
         "showticklabels": true,
         "type": "log"
        },
        "yaxis4": {
         "anchor": "x4",
         "domain": [
          0,
          0.30666666666666664
         ],
         "showticklabels": true,
         "type": "log"
        },
        "yaxis5": {
         "anchor": "x5",
         "domain": [
          0,
          0.30666666666666664
         ],
         "showticklabels": true,
         "type": "log"
        },
        "yaxis6": {
         "anchor": "x6",
         "domain": [
          0,
          0.30666666666666664
         ],
         "showticklabels": true,
         "type": "log"
        },
        "yaxis7": {
         "anchor": "x7",
         "domain": [
          0.3466666666666666,
          0.6533333333333333
         ],
         "showticklabels": true,
         "title": {
          "text": "response time in seconds"
         },
         "type": "log"
        },
        "yaxis8": {
         "anchor": "x8",
         "domain": [
          0.3466666666666666,
          0.6533333333333333
         ],
         "showticklabels": true,
         "type": "log"
        },
        "yaxis9": {
         "anchor": "x9",
         "domain": [
          0.3466666666666666,
          0.6533333333333333
         ],
         "showticklabels": true,
         "type": "log"
        }
       }
      }
     },
     "metadata": {},
     "output_type": "display_data"
    }
   ],
   "source": [
    "fig=px.bar(data_frame=df, x='database', y='time_avg', color='query_idc', facet_col='size', facet_row='bench',facet_row_spacing=0.04, facet_col_spacing=0.04,\n",
    "    labels = {'database': '', 'time_avg': '', 'query_idc': 'Query', 'bench': ''}, log_y=True, template = 'plotly_white')\n",
    "fig.update_layout(legend=dict(orientation=\"h\", yanchor=\"bottom\", xanchor=\"right\", x=1, y=1.05))\n",
    "fig.for_each_annotation(lambda a: a.update(text=a.text.split(\"=\")[-1]))\n",
    "fig.update_yaxes(matches=None, showticklabels=True)\n",
    "fig.update_traces(marker_line_width=0)\n",
    "fig.layout.yaxis7.title.text = 'response time in seconds'\n",
    "fig.layout.xaxis3.title.text = 'backend type'\n",
    "fig"
   ]
  },
  {
   "cell_type": "code",
   "execution_count": 17,
   "metadata": {},
   "outputs": [],
   "source": [
    "#fig.write_image(\"all_time_avg_log.pdf\", width=1200, height=500)"
   ]
  },
  {
   "cell_type": "code",
   "execution_count": null,
   "metadata": {},
   "outputs": [],
   "source": []
  }
 ],
 "metadata": {
  "interpreter": {
   "hash": "e7370f93d1d0cde622a1f8e1c04877d8463912d04d973331ad4851f04de6915a"
  },
  "kernelspec": {
   "display_name": "Python 3.9.7 64-bit",
   "language": "python",
   "name": "python3"
  },
  "language_info": {
   "codemirror_mode": {
    "name": "ipython",
    "version": 3
   },
   "file_extension": ".py",
   "mimetype": "text/x-python",
   "name": "python",
   "nbconvert_exporter": "python",
   "pygments_lexer": "ipython3",
   "version": "3.8.8"
  },
  "orig_nbformat": 4
 },
 "nbformat": 4,
 "nbformat_minor": 2
}
